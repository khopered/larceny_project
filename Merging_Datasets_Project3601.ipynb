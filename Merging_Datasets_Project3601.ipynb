{
 "cells": [
  {
   "cell_type": "markdown",
   "id": "bb573be0",
   "metadata": {},
   "source": [
    "# Merging Crime Data and US County Data"
   ]
  },
  {
   "cell_type": "code",
   "execution_count": 72,
   "id": "3e52d743",
   "metadata": {},
   "outputs": [],
   "source": [
    "import pandas as pd\n",
    "\n",
    "# Load datasets\n",
    "crime_data = pd.read_csv(\"finalForm_CrimeData.csv\")  # Contains cities and states\n",
    "county_data = pd.read_csv(\"uscities.csv\", dtype={'county_fips': str})  # Contains cities, states, counties, and FIPS"
   ]
  },
  {
   "cell_type": "code",
   "execution_count": 73,
   "id": "4a92850f",
   "metadata": {
    "scrolled": true
   },
   "outputs": [
    {
     "data": {
      "text/html": [
       "<div>\n",
       "<style scoped>\n",
       "    .dataframe tbody tr th:only-of-type {\n",
       "        vertical-align: middle;\n",
       "    }\n",
       "\n",
       "    .dataframe tbody tr th {\n",
       "        vertical-align: top;\n",
       "    }\n",
       "\n",
       "    .dataframe thead th {\n",
       "        text-align: right;\n",
       "    }\n",
       "</style>\n",
       "<table border=\"1\" class=\"dataframe\">\n",
       "  <thead>\n",
       "    <tr style=\"text-align: right;\">\n",
       "      <th></th>\n",
       "      <th>commName</th>\n",
       "      <th>state</th>\n",
       "      <th>fold</th>\n",
       "      <th>population</th>\n",
       "      <th>racepctblack</th>\n",
       "      <th>racePctWhite</th>\n",
       "      <th>racePctAsian</th>\n",
       "      <th>racePctHisp</th>\n",
       "      <th>pctUrban</th>\n",
       "      <th>medIncome</th>\n",
       "      <th>...</th>\n",
       "      <th>PopDens</th>\n",
       "      <th>PctUsePubTrans</th>\n",
       "      <th>larcPerPop</th>\n",
       "      <th>pctMinority</th>\n",
       "      <th>PctLarcPerPop</th>\n",
       "      <th>PctSingleParent</th>\n",
       "      <th>CommTransience</th>\n",
       "      <th>PctVacant</th>\n",
       "      <th>TotalHomeless</th>\n",
       "      <th>PctUnhoused</th>\n",
       "    </tr>\n",
       "  </thead>\n",
       "  <tbody>\n",
       "    <tr>\n",
       "      <th>0</th>\n",
       "      <td>Berkeley Heights</td>\n",
       "      <td>NJ</td>\n",
       "      <td>1</td>\n",
       "      <td>11980</td>\n",
       "      <td>1.37</td>\n",
       "      <td>91.78</td>\n",
       "      <td>6.50</td>\n",
       "      <td>1.88</td>\n",
       "      <td>100.0</td>\n",
       "      <td>75122</td>\n",
       "      <td>...</td>\n",
       "      <td>1845.9</td>\n",
       "      <td>9.63</td>\n",
       "      <td>1132.08</td>\n",
       "      <td>8.22</td>\n",
       "      <td>9.449750</td>\n",
       "      <td>8.57</td>\n",
       "      <td>34.30</td>\n",
       "      <td>1.63</td>\n",
       "      <td>11</td>\n",
       "      <td>0.09</td>\n",
       "    </tr>\n",
       "    <tr>\n",
       "      <th>1</th>\n",
       "      <td>Marple Township</td>\n",
       "      <td>PA</td>\n",
       "      <td>1</td>\n",
       "      <td>23123</td>\n",
       "      <td>0.80</td>\n",
       "      <td>95.57</td>\n",
       "      <td>3.44</td>\n",
       "      <td>0.85</td>\n",
       "      <td>100.0</td>\n",
       "      <td>47917</td>\n",
       "      <td>...</td>\n",
       "      <td>2186.7</td>\n",
       "      <td>3.84</td>\n",
       "      <td>1598.78</td>\n",
       "      <td>4.43</td>\n",
       "      <td>6.914241</td>\n",
       "      <td>13.09</td>\n",
       "      <td>20.45</td>\n",
       "      <td>2.85</td>\n",
       "      <td>0</td>\n",
       "      <td>0.00</td>\n",
       "    </tr>\n",
       "    <tr>\n",
       "      <th>2</th>\n",
       "      <td>Tigard</td>\n",
       "      <td>OR</td>\n",
       "      <td>1</td>\n",
       "      <td>29344</td>\n",
       "      <td>0.74</td>\n",
       "      <td>94.33</td>\n",
       "      <td>3.43</td>\n",
       "      <td>2.35</td>\n",
       "      <td>100.0</td>\n",
       "      <td>35669</td>\n",
       "      <td>...</td>\n",
       "      <td>2780.9</td>\n",
       "      <td>4.37</td>\n",
       "      <td>4972.19</td>\n",
       "      <td>5.67</td>\n",
       "      <td>16.944486</td>\n",
       "      <td>21.46</td>\n",
       "      <td>52.46</td>\n",
       "      <td>4.32</td>\n",
       "      <td>16</td>\n",
       "      <td>0.05</td>\n",
       "    </tr>\n",
       "    <tr>\n",
       "      <th>3</th>\n",
       "      <td>Gloversville</td>\n",
       "      <td>NY</td>\n",
       "      <td>1</td>\n",
       "      <td>16656</td>\n",
       "      <td>1.70</td>\n",
       "      <td>97.35</td>\n",
       "      <td>0.50</td>\n",
       "      <td>0.70</td>\n",
       "      <td>0.0</td>\n",
       "      <td>20580</td>\n",
       "      <td>...</td>\n",
       "      <td>3217.7</td>\n",
       "      <td>3.31</td>\n",
       "      <td>4142.56</td>\n",
       "      <td>2.65</td>\n",
       "      <td>24.871278</td>\n",
       "      <td>35.98</td>\n",
       "      <td>21.47</td>\n",
       "      <td>8.81</td>\n",
       "      <td>0</td>\n",
       "      <td>0.00</td>\n",
       "    </tr>\n",
       "    <tr>\n",
       "      <th>4</th>\n",
       "      <td>Bemidji</td>\n",
       "      <td>MN</td>\n",
       "      <td>1</td>\n",
       "      <td>11245</td>\n",
       "      <td>0.53</td>\n",
       "      <td>89.16</td>\n",
       "      <td>1.17</td>\n",
       "      <td>0.52</td>\n",
       "      <td>0.0</td>\n",
       "      <td>17390</td>\n",
       "      <td>...</td>\n",
       "      <td>974.2</td>\n",
       "      <td>0.38</td>\n",
       "      <td>8490.87</td>\n",
       "      <td>10.84</td>\n",
       "      <td>75.507959</td>\n",
       "      <td>41.41</td>\n",
       "      <td>41.23</td>\n",
       "      <td>7.55</td>\n",
       "      <td>2</td>\n",
       "      <td>0.02</td>\n",
       "    </tr>\n",
       "  </tbody>\n",
       "</table>\n",
       "<p>5 rows × 70 columns</p>\n",
       "</div>"
      ],
      "text/plain": [
       "           commName state  fold  population  racepctblack  racePctWhite  \\\n",
       "0  Berkeley Heights    NJ     1       11980          1.37         91.78   \n",
       "1   Marple Township    PA     1       23123          0.80         95.57   \n",
       "2            Tigard    OR     1       29344          0.74         94.33   \n",
       "3      Gloversville    NY     1       16656          1.70         97.35   \n",
       "4           Bemidji    MN     1       11245          0.53         89.16   \n",
       "\n",
       "   racePctAsian  racePctHisp  pctUrban  medIncome  ...  PopDens  \\\n",
       "0          6.50         1.88     100.0      75122  ...   1845.9   \n",
       "1          3.44         0.85     100.0      47917  ...   2186.7   \n",
       "2          3.43         2.35     100.0      35669  ...   2780.9   \n",
       "3          0.50         0.70       0.0      20580  ...   3217.7   \n",
       "4          1.17         0.52       0.0      17390  ...    974.2   \n",
       "\n",
       "   PctUsePubTrans  larcPerPop  pctMinority  PctLarcPerPop  PctSingleParent  \\\n",
       "0            9.63     1132.08         8.22       9.449750             8.57   \n",
       "1            3.84     1598.78         4.43       6.914241            13.09   \n",
       "2            4.37     4972.19         5.67      16.944486            21.46   \n",
       "3            3.31     4142.56         2.65      24.871278            35.98   \n",
       "4            0.38     8490.87        10.84      75.507959            41.41   \n",
       "\n",
       "   CommTransience  PctVacant  TotalHomeless  PctUnhoused  \n",
       "0           34.30       1.63             11         0.09  \n",
       "1           20.45       2.85              0         0.00  \n",
       "2           52.46       4.32             16         0.05  \n",
       "3           21.47       8.81              0         0.00  \n",
       "4           41.23       7.55              2         0.02  \n",
       "\n",
       "[5 rows x 70 columns]"
      ]
     },
     "execution_count": 73,
     "metadata": {},
     "output_type": "execute_result"
    }
   ],
   "source": [
    "crime_data.head(5)"
   ]
  },
  {
   "cell_type": "code",
   "execution_count": 74,
   "id": "fbdcb823",
   "metadata": {},
   "outputs": [
    {
     "data": {
      "text/html": [
       "<div>\n",
       "<style scoped>\n",
       "    .dataframe tbody tr th:only-of-type {\n",
       "        vertical-align: middle;\n",
       "    }\n",
       "\n",
       "    .dataframe tbody tr th {\n",
       "        vertical-align: top;\n",
       "    }\n",
       "\n",
       "    .dataframe thead th {\n",
       "        text-align: right;\n",
       "    }\n",
       "</style>\n",
       "<table border=\"1\" class=\"dataframe\">\n",
       "  <thead>\n",
       "    <tr style=\"text-align: right;\">\n",
       "      <th></th>\n",
       "      <th>city</th>\n",
       "      <th>city_ascii</th>\n",
       "      <th>state_id</th>\n",
       "      <th>state_name</th>\n",
       "      <th>county_fips</th>\n",
       "      <th>county_name</th>\n",
       "      <th>lat</th>\n",
       "      <th>lng</th>\n",
       "      <th>population</th>\n",
       "      <th>density</th>\n",
       "      <th>source</th>\n",
       "      <th>military</th>\n",
       "      <th>incorporated</th>\n",
       "      <th>timezone</th>\n",
       "      <th>ranking</th>\n",
       "      <th>zips</th>\n",
       "      <th>id</th>\n",
       "    </tr>\n",
       "  </thead>\n",
       "  <tbody>\n",
       "    <tr>\n",
       "      <th>0</th>\n",
       "      <td>New York</td>\n",
       "      <td>New York</td>\n",
       "      <td>NY</td>\n",
       "      <td>New York</td>\n",
       "      <td>36081</td>\n",
       "      <td>Queens</td>\n",
       "      <td>40.6943</td>\n",
       "      <td>-73.9249</td>\n",
       "      <td>18908608</td>\n",
       "      <td>11080.3</td>\n",
       "      <td>shape</td>\n",
       "      <td>False</td>\n",
       "      <td>True</td>\n",
       "      <td>America/New_York</td>\n",
       "      <td>1</td>\n",
       "      <td>11229 11228 11226 11225 11224 11222 11221 1122...</td>\n",
       "      <td>1840034016</td>\n",
       "    </tr>\n",
       "    <tr>\n",
       "      <th>1</th>\n",
       "      <td>Los Angeles</td>\n",
       "      <td>Los Angeles</td>\n",
       "      <td>CA</td>\n",
       "      <td>California</td>\n",
       "      <td>6037</td>\n",
       "      <td>Los Angeles</td>\n",
       "      <td>34.1141</td>\n",
       "      <td>-118.4068</td>\n",
       "      <td>11922389</td>\n",
       "      <td>3184.7</td>\n",
       "      <td>shape</td>\n",
       "      <td>False</td>\n",
       "      <td>True</td>\n",
       "      <td>America/Los_Angeles</td>\n",
       "      <td>1</td>\n",
       "      <td>91367 90291 90293 90292 91316 91311 90035 9003...</td>\n",
       "      <td>1840020491</td>\n",
       "    </tr>\n",
       "    <tr>\n",
       "      <th>2</th>\n",
       "      <td>Chicago</td>\n",
       "      <td>Chicago</td>\n",
       "      <td>IL</td>\n",
       "      <td>Illinois</td>\n",
       "      <td>17031</td>\n",
       "      <td>Cook</td>\n",
       "      <td>41.8375</td>\n",
       "      <td>-87.6866</td>\n",
       "      <td>8497759</td>\n",
       "      <td>4614.5</td>\n",
       "      <td>shape</td>\n",
       "      <td>False</td>\n",
       "      <td>True</td>\n",
       "      <td>America/Chicago</td>\n",
       "      <td>1</td>\n",
       "      <td>60018 60649 60641 60640 60643 60642 60645 6064...</td>\n",
       "      <td>1840000494</td>\n",
       "    </tr>\n",
       "    <tr>\n",
       "      <th>3</th>\n",
       "      <td>Miami</td>\n",
       "      <td>Miami</td>\n",
       "      <td>FL</td>\n",
       "      <td>Florida</td>\n",
       "      <td>12086</td>\n",
       "      <td>Miami-Dade</td>\n",
       "      <td>25.7840</td>\n",
       "      <td>-80.2101</td>\n",
       "      <td>6080145</td>\n",
       "      <td>4758.9</td>\n",
       "      <td>shape</td>\n",
       "      <td>False</td>\n",
       "      <td>True</td>\n",
       "      <td>America/New_York</td>\n",
       "      <td>1</td>\n",
       "      <td>33128 33129 33125 33126 33127 33149 33144 3314...</td>\n",
       "      <td>1840015149</td>\n",
       "    </tr>\n",
       "    <tr>\n",
       "      <th>4</th>\n",
       "      <td>Houston</td>\n",
       "      <td>Houston</td>\n",
       "      <td>TX</td>\n",
       "      <td>Texas</td>\n",
       "      <td>48201</td>\n",
       "      <td>Harris</td>\n",
       "      <td>29.7860</td>\n",
       "      <td>-95.3885</td>\n",
       "      <td>5970127</td>\n",
       "      <td>1384.0</td>\n",
       "      <td>shape</td>\n",
       "      <td>False</td>\n",
       "      <td>True</td>\n",
       "      <td>America/Chicago</td>\n",
       "      <td>1</td>\n",
       "      <td>77069 77068 77061 77060 77063 77062 77065 7706...</td>\n",
       "      <td>1840020925</td>\n",
       "    </tr>\n",
       "  </tbody>\n",
       "</table>\n",
       "</div>"
      ],
      "text/plain": [
       "          city   city_ascii state_id  state_name county_fips  county_name  \\\n",
       "0     New York     New York       NY    New York       36081       Queens   \n",
       "1  Los Angeles  Los Angeles       CA  California        6037  Los Angeles   \n",
       "2      Chicago      Chicago       IL    Illinois       17031         Cook   \n",
       "3        Miami        Miami       FL     Florida       12086   Miami-Dade   \n",
       "4      Houston      Houston       TX       Texas       48201       Harris   \n",
       "\n",
       "       lat       lng  population  density source  military  incorporated  \\\n",
       "0  40.6943  -73.9249    18908608  11080.3  shape     False          True   \n",
       "1  34.1141 -118.4068    11922389   3184.7  shape     False          True   \n",
       "2  41.8375  -87.6866     8497759   4614.5  shape     False          True   \n",
       "3  25.7840  -80.2101     6080145   4758.9  shape     False          True   \n",
       "4  29.7860  -95.3885     5970127   1384.0  shape     False          True   \n",
       "\n",
       "              timezone  ranking  \\\n",
       "0     America/New_York        1   \n",
       "1  America/Los_Angeles        1   \n",
       "2      America/Chicago        1   \n",
       "3     America/New_York        1   \n",
       "4      America/Chicago        1   \n",
       "\n",
       "                                                zips          id  \n",
       "0  11229 11228 11226 11225 11224 11222 11221 1122...  1840034016  \n",
       "1  91367 90291 90293 90292 91316 91311 90035 9003...  1840020491  \n",
       "2  60018 60649 60641 60640 60643 60642 60645 6064...  1840000494  \n",
       "3  33128 33129 33125 33126 33127 33149 33144 3314...  1840015149  \n",
       "4  77069 77068 77061 77060 77063 77062 77065 7706...  1840020925  "
      ]
     },
     "execution_count": 74,
     "metadata": {},
     "output_type": "execute_result"
    }
   ],
   "source": [
    "county_data.head(5)"
   ]
  },
  {
   "cell_type": "code",
   "execution_count": 75,
   "id": "c302ac13",
   "metadata": {},
   "outputs": [],
   "source": [
    "# Standardize column names\n",
    "crime_data['commName'] = crime_data['commName'].str.strip().str.lower()\n",
    "crime_data['state'] = crime_data['state'].str.strip().str.lower()\n",
    "\n",
    "county_data['city'] = county_data['city'].str.strip().str.lower()\n",
    "county_data['county_name'] = county_data['county_name'].str.strip().str.lower()\n",
    "county_data['state_id'] = county_data['state_id'].str.strip().str.lower()"
   ]
  },
  {
   "cell_type": "code",
   "execution_count": 76,
   "id": "f138c6c9",
   "metadata": {},
   "outputs": [],
   "source": [
    "# Merge the datasets\n",
    "merged_data = pd.merge(\n",
    "    crime_data,\n",
    "    county_data[['city', 'state_id', 'county_name', 'county_fips']],\n",
    "    left_on=['commName', 'state'],  # columns from crime data\n",
    "    right_on=['city', 'state_id'],\n",
    "    how='left'  # retain all rows from crime_data\n",
    ")"
   ]
  },
  {
   "cell_type": "markdown",
   "id": "8a1d3dab",
   "metadata": {},
   "source": [
    "## Merged Data Exploration"
   ]
  },
  {
   "cell_type": "code",
   "execution_count": 77,
   "id": "d694e6f9",
   "metadata": {},
   "outputs": [
    {
     "data": {
      "text/plain": [
       "(2213, 74)"
      ]
     },
     "execution_count": 77,
     "metadata": {},
     "output_type": "execute_result"
    }
   ],
   "source": [
    "merged_data.shape"
   ]
  },
  {
   "cell_type": "code",
   "execution_count": 78,
   "id": "768dc296",
   "metadata": {},
   "outputs": [
    {
     "data": {
      "text/plain": [
       "commName         object\n",
       "state            object\n",
       "fold              int64\n",
       "population        int64\n",
       "racepctblack    float64\n",
       "                 ...   \n",
       "PctUnhoused     float64\n",
       "city             object\n",
       "state_id         object\n",
       "county_name      object\n",
       "county_fips      object\n",
       "Length: 74, dtype: object"
      ]
     },
     "execution_count": 78,
     "metadata": {},
     "output_type": "execute_result"
    }
   ],
   "source": [
    "merged_data.dtypes"
   ]
  },
  {
   "cell_type": "code",
   "execution_count": 79,
   "id": "46eb7c49",
   "metadata": {},
   "outputs": [
    {
     "data": {
      "text/html": [
       "<div>\n",
       "<style scoped>\n",
       "    .dataframe tbody tr th:only-of-type {\n",
       "        vertical-align: middle;\n",
       "    }\n",
       "\n",
       "    .dataframe tbody tr th {\n",
       "        vertical-align: top;\n",
       "    }\n",
       "\n",
       "    .dataframe thead th {\n",
       "        text-align: right;\n",
       "    }\n",
       "</style>\n",
       "<table border=\"1\" class=\"dataframe\">\n",
       "  <thead>\n",
       "    <tr style=\"text-align: right;\">\n",
       "      <th></th>\n",
       "      <th>commName</th>\n",
       "      <th>state</th>\n",
       "      <th>fold</th>\n",
       "      <th>population</th>\n",
       "      <th>racepctblack</th>\n",
       "      <th>racePctWhite</th>\n",
       "      <th>racePctAsian</th>\n",
       "      <th>racePctHisp</th>\n",
       "      <th>pctUrban</th>\n",
       "      <th>medIncome</th>\n",
       "      <th>...</th>\n",
       "      <th>PctLarcPerPop</th>\n",
       "      <th>PctSingleParent</th>\n",
       "      <th>CommTransience</th>\n",
       "      <th>PctVacant</th>\n",
       "      <th>TotalHomeless</th>\n",
       "      <th>PctUnhoused</th>\n",
       "      <th>city</th>\n",
       "      <th>state_id</th>\n",
       "      <th>county_name</th>\n",
       "      <th>county_fips</th>\n",
       "    </tr>\n",
       "  </thead>\n",
       "  <tbody>\n",
       "    <tr>\n",
       "      <th>0</th>\n",
       "      <td>berkeley heights</td>\n",
       "      <td>nj</td>\n",
       "      <td>1</td>\n",
       "      <td>11980</td>\n",
       "      <td>1.37</td>\n",
       "      <td>91.78</td>\n",
       "      <td>6.50</td>\n",
       "      <td>1.88</td>\n",
       "      <td>100.00</td>\n",
       "      <td>75122</td>\n",
       "      <td>...</td>\n",
       "      <td>9.449750</td>\n",
       "      <td>8.57</td>\n",
       "      <td>34.30</td>\n",
       "      <td>1.63</td>\n",
       "      <td>11</td>\n",
       "      <td>0.09</td>\n",
       "      <td>NaN</td>\n",
       "      <td>NaN</td>\n",
       "      <td>NaN</td>\n",
       "      <td>NaN</td>\n",
       "    </tr>\n",
       "    <tr>\n",
       "      <th>1</th>\n",
       "      <td>marple township</td>\n",
       "      <td>pa</td>\n",
       "      <td>1</td>\n",
       "      <td>23123</td>\n",
       "      <td>0.80</td>\n",
       "      <td>95.57</td>\n",
       "      <td>3.44</td>\n",
       "      <td>0.85</td>\n",
       "      <td>100.00</td>\n",
       "      <td>47917</td>\n",
       "      <td>...</td>\n",
       "      <td>6.914241</td>\n",
       "      <td>13.09</td>\n",
       "      <td>20.45</td>\n",
       "      <td>2.85</td>\n",
       "      <td>0</td>\n",
       "      <td>0.00</td>\n",
       "      <td>NaN</td>\n",
       "      <td>NaN</td>\n",
       "      <td>NaN</td>\n",
       "      <td>NaN</td>\n",
       "    </tr>\n",
       "    <tr>\n",
       "      <th>2</th>\n",
       "      <td>tigard</td>\n",
       "      <td>or</td>\n",
       "      <td>1</td>\n",
       "      <td>29344</td>\n",
       "      <td>0.74</td>\n",
       "      <td>94.33</td>\n",
       "      <td>3.43</td>\n",
       "      <td>2.35</td>\n",
       "      <td>100.00</td>\n",
       "      <td>35669</td>\n",
       "      <td>...</td>\n",
       "      <td>16.944486</td>\n",
       "      <td>21.46</td>\n",
       "      <td>52.46</td>\n",
       "      <td>4.32</td>\n",
       "      <td>16</td>\n",
       "      <td>0.05</td>\n",
       "      <td>tigard</td>\n",
       "      <td>or</td>\n",
       "      <td>washington</td>\n",
       "      <td>41067</td>\n",
       "    </tr>\n",
       "    <tr>\n",
       "      <th>3</th>\n",
       "      <td>gloversville</td>\n",
       "      <td>ny</td>\n",
       "      <td>1</td>\n",
       "      <td>16656</td>\n",
       "      <td>1.70</td>\n",
       "      <td>97.35</td>\n",
       "      <td>0.50</td>\n",
       "      <td>0.70</td>\n",
       "      <td>0.00</td>\n",
       "      <td>20580</td>\n",
       "      <td>...</td>\n",
       "      <td>24.871278</td>\n",
       "      <td>35.98</td>\n",
       "      <td>21.47</td>\n",
       "      <td>8.81</td>\n",
       "      <td>0</td>\n",
       "      <td>0.00</td>\n",
       "      <td>gloversville</td>\n",
       "      <td>ny</td>\n",
       "      <td>fulton</td>\n",
       "      <td>36035</td>\n",
       "    </tr>\n",
       "    <tr>\n",
       "      <th>4</th>\n",
       "      <td>bemidji</td>\n",
       "      <td>mn</td>\n",
       "      <td>1</td>\n",
       "      <td>11245</td>\n",
       "      <td>0.53</td>\n",
       "      <td>89.16</td>\n",
       "      <td>1.17</td>\n",
       "      <td>0.52</td>\n",
       "      <td>0.00</td>\n",
       "      <td>17390</td>\n",
       "      <td>...</td>\n",
       "      <td>75.507959</td>\n",
       "      <td>41.41</td>\n",
       "      <td>41.23</td>\n",
       "      <td>7.55</td>\n",
       "      <td>2</td>\n",
       "      <td>0.02</td>\n",
       "      <td>bemidji</td>\n",
       "      <td>mn</td>\n",
       "      <td>beltrami</td>\n",
       "      <td>27007</td>\n",
       "    </tr>\n",
       "    <tr>\n",
       "      <th>5</th>\n",
       "      <td>springfield</td>\n",
       "      <td>mo</td>\n",
       "      <td>1</td>\n",
       "      <td>140494</td>\n",
       "      <td>2.51</td>\n",
       "      <td>95.65</td>\n",
       "      <td>0.90</td>\n",
       "      <td>0.95</td>\n",
       "      <td>100.00</td>\n",
       "      <td>21577</td>\n",
       "      <td>...</td>\n",
       "      <td>3.624098</td>\n",
       "      <td>28.06</td>\n",
       "      <td>40.92</td>\n",
       "      <td>8.19</td>\n",
       "      <td>331</td>\n",
       "      <td>0.24</td>\n",
       "      <td>springfield</td>\n",
       "      <td>mo</td>\n",
       "      <td>greene</td>\n",
       "      <td>29077</td>\n",
       "    </tr>\n",
       "    <tr>\n",
       "      <th>6</th>\n",
       "      <td>norwood</td>\n",
       "      <td>ma</td>\n",
       "      <td>1</td>\n",
       "      <td>28700</td>\n",
       "      <td>1.60</td>\n",
       "      <td>96.57</td>\n",
       "      <td>1.47</td>\n",
       "      <td>1.10</td>\n",
       "      <td>100.00</td>\n",
       "      <td>42805</td>\n",
       "      <td>...</td>\n",
       "      <td>3.394390</td>\n",
       "      <td>20.47</td>\n",
       "      <td>25.67</td>\n",
       "      <td>4.89</td>\n",
       "      <td>0</td>\n",
       "      <td>0.00</td>\n",
       "      <td>NaN</td>\n",
       "      <td>NaN</td>\n",
       "      <td>NaN</td>\n",
       "      <td>NaN</td>\n",
       "    </tr>\n",
       "    <tr>\n",
       "      <th>7</th>\n",
       "      <td>anderson</td>\n",
       "      <td>in</td>\n",
       "      <td>1</td>\n",
       "      <td>59459</td>\n",
       "      <td>14.20</td>\n",
       "      <td>84.87</td>\n",
       "      <td>0.40</td>\n",
       "      <td>0.63</td>\n",
       "      <td>100.00</td>\n",
       "      <td>23221</td>\n",
       "      <td>...</td>\n",
       "      <td>6.208968</td>\n",
       "      <td>37.44</td>\n",
       "      <td>28.63</td>\n",
       "      <td>7.78</td>\n",
       "      <td>21</td>\n",
       "      <td>0.04</td>\n",
       "      <td>anderson</td>\n",
       "      <td>in</td>\n",
       "      <td>madison</td>\n",
       "      <td>18095</td>\n",
       "    </tr>\n",
       "    <tr>\n",
       "      <th>8</th>\n",
       "      <td>fargo</td>\n",
       "      <td>nd</td>\n",
       "      <td>1</td>\n",
       "      <td>74111</td>\n",
       "      <td>0.35</td>\n",
       "      <td>97.11</td>\n",
       "      <td>1.25</td>\n",
       "      <td>0.73</td>\n",
       "      <td>100.00</td>\n",
       "      <td>25326</td>\n",
       "      <td>...</td>\n",
       "      <td>5.325404</td>\n",
       "      <td>20.65</td>\n",
       "      <td>44.16</td>\n",
       "      <td>4.93</td>\n",
       "      <td>140</td>\n",
       "      <td>0.19</td>\n",
       "      <td>fargo</td>\n",
       "      <td>nd</td>\n",
       "      <td>cass</td>\n",
       "      <td>38017</td>\n",
       "    </tr>\n",
       "    <tr>\n",
       "      <th>9</th>\n",
       "      <td>waco</td>\n",
       "      <td>tx</td>\n",
       "      <td>1</td>\n",
       "      <td>103590</td>\n",
       "      <td>23.14</td>\n",
       "      <td>67.60</td>\n",
       "      <td>0.92</td>\n",
       "      <td>16.35</td>\n",
       "      <td>100.00</td>\n",
       "      <td>17852</td>\n",
       "      <td>...</td>\n",
       "      <td>5.477006</td>\n",
       "      <td>38.35</td>\n",
       "      <td>36.01</td>\n",
       "      <td>12.43</td>\n",
       "      <td>47</td>\n",
       "      <td>0.05</td>\n",
       "      <td>waco</td>\n",
       "      <td>tx</td>\n",
       "      <td>mclennan</td>\n",
       "      <td>48309</td>\n",
       "    </tr>\n",
       "    <tr>\n",
       "      <th>10</th>\n",
       "      <td>sherman</td>\n",
       "      <td>tx</td>\n",
       "      <td>1</td>\n",
       "      <td>31601</td>\n",
       "      <td>12.63</td>\n",
       "      <td>83.22</td>\n",
       "      <td>0.77</td>\n",
       "      <td>4.39</td>\n",
       "      <td>100.00</td>\n",
       "      <td>24763</td>\n",
       "      <td>...</td>\n",
       "      <td>17.894370</td>\n",
       "      <td>31.59</td>\n",
       "      <td>38.17</td>\n",
       "      <td>12.67</td>\n",
       "      <td>1</td>\n",
       "      <td>0.00</td>\n",
       "      <td>sherman</td>\n",
       "      <td>tx</td>\n",
       "      <td>grayson</td>\n",
       "      <td>48181</td>\n",
       "    </tr>\n",
       "    <tr>\n",
       "      <th>11</th>\n",
       "      <td>san pablo</td>\n",
       "      <td>ca</td>\n",
       "      <td>1</td>\n",
       "      <td>25158</td>\n",
       "      <td>21.34</td>\n",
       "      <td>49.42</td>\n",
       "      <td>17.21</td>\n",
       "      <td>26.78</td>\n",
       "      <td>100.00</td>\n",
       "      <td>25479</td>\n",
       "      <td>...</td>\n",
       "      <td>21.481835</td>\n",
       "      <td>41.94</td>\n",
       "      <td>48.24</td>\n",
       "      <td>7.58</td>\n",
       "      <td>69</td>\n",
       "      <td>0.27</td>\n",
       "      <td>san pablo</td>\n",
       "      <td>ca</td>\n",
       "      <td>contra costa</td>\n",
       "      <td>6013</td>\n",
       "    </tr>\n",
       "    <tr>\n",
       "      <th>12</th>\n",
       "      <td>bowling green</td>\n",
       "      <td>ky</td>\n",
       "      <td>1</td>\n",
       "      <td>40641</td>\n",
       "      <td>12.18</td>\n",
       "      <td>86.39</td>\n",
       "      <td>1.12</td>\n",
       "      <td>0.68</td>\n",
       "      <td>0.00</td>\n",
       "      <td>20043</td>\n",
       "      <td>...</td>\n",
       "      <td>9.586354</td>\n",
       "      <td>35.40</td>\n",
       "      <td>38.43</td>\n",
       "      <td>8.73</td>\n",
       "      <td>30</td>\n",
       "      <td>0.07</td>\n",
       "      <td>bowling green</td>\n",
       "      <td>ky</td>\n",
       "      <td>warren</td>\n",
       "      <td>21227</td>\n",
       "    </tr>\n",
       "    <tr>\n",
       "      <th>13</th>\n",
       "      <td>pine bluff</td>\n",
       "      <td>ar</td>\n",
       "      <td>1</td>\n",
       "      <td>57140</td>\n",
       "      <td>53.52</td>\n",
       "      <td>45.65</td>\n",
       "      <td>0.49</td>\n",
       "      <td>0.43</td>\n",
       "      <td>100.00</td>\n",
       "      <td>19143</td>\n",
       "      <td>...</td>\n",
       "      <td>5.992335</td>\n",
       "      <td>41.35</td>\n",
       "      <td>26.12</td>\n",
       "      <td>10.00</td>\n",
       "      <td>28</td>\n",
       "      <td>0.05</td>\n",
       "      <td>pine bluff</td>\n",
       "      <td>ar</td>\n",
       "      <td>jefferson</td>\n",
       "      <td>5069</td>\n",
       "    </tr>\n",
       "    <tr>\n",
       "      <th>14</th>\n",
       "      <td>new ulm</td>\n",
       "      <td>mn</td>\n",
       "      <td>1</td>\n",
       "      <td>13132</td>\n",
       "      <td>0.06</td>\n",
       "      <td>99.21</td>\n",
       "      <td>0.47</td>\n",
       "      <td>0.59</td>\n",
       "      <td>0.00</td>\n",
       "      <td>25797</td>\n",
       "      <td>...</td>\n",
       "      <td>15.760128</td>\n",
       "      <td>20.01</td>\n",
       "      <td>24.75</td>\n",
       "      <td>3.35</td>\n",
       "      <td>0</td>\n",
       "      <td>0.00</td>\n",
       "      <td>new ulm</td>\n",
       "      <td>mn</td>\n",
       "      <td>brown</td>\n",
       "      <td>27015</td>\n",
       "    </tr>\n",
       "    <tr>\n",
       "      <th>15</th>\n",
       "      <td>maplewood</td>\n",
       "      <td>mn</td>\n",
       "      <td>1</td>\n",
       "      <td>30954</td>\n",
       "      <td>2.52</td>\n",
       "      <td>94.39</td>\n",
       "      <td>2.03</td>\n",
       "      <td>1.55</td>\n",
       "      <td>100.00</td>\n",
       "      <td>37856</td>\n",
       "      <td>...</td>\n",
       "      <td>15.429670</td>\n",
       "      <td>23.32</td>\n",
       "      <td>28.54</td>\n",
       "      <td>5.15</td>\n",
       "      <td>0</td>\n",
       "      <td>0.00</td>\n",
       "      <td>maplewood</td>\n",
       "      <td>mn</td>\n",
       "      <td>ramsey</td>\n",
       "      <td>27123</td>\n",
       "    </tr>\n",
       "    <tr>\n",
       "      <th>16</th>\n",
       "      <td>enfield</td>\n",
       "      <td>ct</td>\n",
       "      <td>1</td>\n",
       "      <td>45532</td>\n",
       "      <td>2.65</td>\n",
       "      <td>95.72</td>\n",
       "      <td>1.04</td>\n",
       "      <td>2.28</td>\n",
       "      <td>96.51</td>\n",
       "      <td>44635</td>\n",
       "      <td>...</td>\n",
       "      <td>4.365062</td>\n",
       "      <td>18.04</td>\n",
       "      <td>36.20</td>\n",
       "      <td>3.79</td>\n",
       "      <td>9</td>\n",
       "      <td>0.02</td>\n",
       "      <td>NaN</td>\n",
       "      <td>NaN</td>\n",
       "      <td>NaN</td>\n",
       "      <td>NaN</td>\n",
       "    </tr>\n",
       "    <tr>\n",
       "      <th>17</th>\n",
       "      <td>glendale</td>\n",
       "      <td>ca</td>\n",
       "      <td>1</td>\n",
       "      <td>180038</td>\n",
       "      <td>1.30</td>\n",
       "      <td>74.02</td>\n",
       "      <td>14.14</td>\n",
       "      <td>20.96</td>\n",
       "      <td>100.00</td>\n",
       "      <td>34372</td>\n",
       "      <td>...</td>\n",
       "      <td>1.393722</td>\n",
       "      <td>22.90</td>\n",
       "      <td>53.11</td>\n",
       "      <td>4.87</td>\n",
       "      <td>99</td>\n",
       "      <td>0.05</td>\n",
       "      <td>glendale</td>\n",
       "      <td>ca</td>\n",
       "      <td>los angeles</td>\n",
       "      <td>6037</td>\n",
       "    </tr>\n",
       "    <tr>\n",
       "      <th>18</th>\n",
       "      <td>worthington</td>\n",
       "      <td>oh</td>\n",
       "      <td>1</td>\n",
       "      <td>14869</td>\n",
       "      <td>2.28</td>\n",
       "      <td>94.74</td>\n",
       "      <td>2.67</td>\n",
       "      <td>0.74</td>\n",
       "      <td>100.00</td>\n",
       "      <td>49851</td>\n",
       "      <td>...</td>\n",
       "      <td>18.425785</td>\n",
       "      <td>17.50</td>\n",
       "      <td>32.08</td>\n",
       "      <td>2.86</td>\n",
       "      <td>10</td>\n",
       "      <td>0.07</td>\n",
       "      <td>worthington</td>\n",
       "      <td>oh</td>\n",
       "      <td>franklin</td>\n",
       "      <td>39049</td>\n",
       "    </tr>\n",
       "    <tr>\n",
       "      <th>19</th>\n",
       "      <td>arlington</td>\n",
       "      <td>tx</td>\n",
       "      <td>1</td>\n",
       "      <td>261721</td>\n",
       "      <td>8.41</td>\n",
       "      <td>82.64</td>\n",
       "      <td>3.92</td>\n",
       "      <td>8.91</td>\n",
       "      <td>100.00</td>\n",
       "      <td>35048</td>\n",
       "      <td>...</td>\n",
       "      <td>1.504954</td>\n",
       "      <td>21.81</td>\n",
       "      <td>48.23</td>\n",
       "      <td>10.74</td>\n",
       "      <td>48</td>\n",
       "      <td>0.02</td>\n",
       "      <td>arlington</td>\n",
       "      <td>tx</td>\n",
       "      <td>tarrant</td>\n",
       "      <td>48439</td>\n",
       "    </tr>\n",
       "  </tbody>\n",
       "</table>\n",
       "<p>20 rows × 74 columns</p>\n",
       "</div>"
      ],
      "text/plain": [
       "            commName state  fold  population  racepctblack  racePctWhite  \\\n",
       "0   berkeley heights    nj     1       11980          1.37         91.78   \n",
       "1    marple township    pa     1       23123          0.80         95.57   \n",
       "2             tigard    or     1       29344          0.74         94.33   \n",
       "3       gloversville    ny     1       16656          1.70         97.35   \n",
       "4            bemidji    mn     1       11245          0.53         89.16   \n",
       "5        springfield    mo     1      140494          2.51         95.65   \n",
       "6            norwood    ma     1       28700          1.60         96.57   \n",
       "7           anderson    in     1       59459         14.20         84.87   \n",
       "8              fargo    nd     1       74111          0.35         97.11   \n",
       "9               waco    tx     1      103590         23.14         67.60   \n",
       "10           sherman    tx     1       31601         12.63         83.22   \n",
       "11         san pablo    ca     1       25158         21.34         49.42   \n",
       "12     bowling green    ky     1       40641         12.18         86.39   \n",
       "13        pine bluff    ar     1       57140         53.52         45.65   \n",
       "14           new ulm    mn     1       13132          0.06         99.21   \n",
       "15         maplewood    mn     1       30954          2.52         94.39   \n",
       "16           enfield    ct     1       45532          2.65         95.72   \n",
       "17          glendale    ca     1      180038          1.30         74.02   \n",
       "18       worthington    oh     1       14869          2.28         94.74   \n",
       "19         arlington    tx     1      261721          8.41         82.64   \n",
       "\n",
       "    racePctAsian  racePctHisp  pctUrban  medIncome  ...  PctLarcPerPop  \\\n",
       "0           6.50         1.88    100.00      75122  ...       9.449750   \n",
       "1           3.44         0.85    100.00      47917  ...       6.914241   \n",
       "2           3.43         2.35    100.00      35669  ...      16.944486   \n",
       "3           0.50         0.70      0.00      20580  ...      24.871278   \n",
       "4           1.17         0.52      0.00      17390  ...      75.507959   \n",
       "5           0.90         0.95    100.00      21577  ...       3.624098   \n",
       "6           1.47         1.10    100.00      42805  ...       3.394390   \n",
       "7           0.40         0.63    100.00      23221  ...       6.208968   \n",
       "8           1.25         0.73    100.00      25326  ...       5.325404   \n",
       "9           0.92        16.35    100.00      17852  ...       5.477006   \n",
       "10          0.77         4.39    100.00      24763  ...      17.894370   \n",
       "11         17.21        26.78    100.00      25479  ...      21.481835   \n",
       "12          1.12         0.68      0.00      20043  ...       9.586354   \n",
       "13          0.49         0.43    100.00      19143  ...       5.992335   \n",
       "14          0.47         0.59      0.00      25797  ...      15.760128   \n",
       "15          2.03         1.55    100.00      37856  ...      15.429670   \n",
       "16          1.04         2.28     96.51      44635  ...       4.365062   \n",
       "17         14.14        20.96    100.00      34372  ...       1.393722   \n",
       "18          2.67         0.74    100.00      49851  ...      18.425785   \n",
       "19          3.92         8.91    100.00      35048  ...       1.504954   \n",
       "\n",
       "    PctSingleParent  CommTransience  PctVacant  TotalHomeless  PctUnhoused  \\\n",
       "0              8.57           34.30       1.63             11         0.09   \n",
       "1             13.09           20.45       2.85              0         0.00   \n",
       "2             21.46           52.46       4.32             16         0.05   \n",
       "3             35.98           21.47       8.81              0         0.00   \n",
       "4             41.41           41.23       7.55              2         0.02   \n",
       "5             28.06           40.92       8.19            331         0.24   \n",
       "6             20.47           25.67       4.89              0         0.00   \n",
       "7             37.44           28.63       7.78             21         0.04   \n",
       "8             20.65           44.16       4.93            140         0.19   \n",
       "9             38.35           36.01      12.43             47         0.05   \n",
       "10            31.59           38.17      12.67              1         0.00   \n",
       "11            41.94           48.24       7.58             69         0.27   \n",
       "12            35.40           38.43       8.73             30         0.07   \n",
       "13            41.35           26.12      10.00             28         0.05   \n",
       "14            20.01           24.75       3.35              0         0.00   \n",
       "15            23.32           28.54       5.15              0         0.00   \n",
       "16            18.04           36.20       3.79              9         0.02   \n",
       "17            22.90           53.11       4.87             99         0.05   \n",
       "18            17.50           32.08       2.86             10         0.07   \n",
       "19            21.81           48.23      10.74             48         0.02   \n",
       "\n",
       "             city  state_id   county_name  county_fips  \n",
       "0             NaN       NaN           NaN          NaN  \n",
       "1             NaN       NaN           NaN          NaN  \n",
       "2          tigard        or    washington        41067  \n",
       "3    gloversville        ny        fulton        36035  \n",
       "4         bemidji        mn      beltrami        27007  \n",
       "5     springfield        mo        greene        29077  \n",
       "6             NaN       NaN           NaN          NaN  \n",
       "7        anderson        in       madison        18095  \n",
       "8           fargo        nd          cass        38017  \n",
       "9            waco        tx      mclennan        48309  \n",
       "10        sherman        tx       grayson        48181  \n",
       "11      san pablo        ca  contra costa         6013  \n",
       "12  bowling green        ky        warren        21227  \n",
       "13     pine bluff        ar     jefferson         5069  \n",
       "14        new ulm        mn         brown        27015  \n",
       "15      maplewood        mn        ramsey        27123  \n",
       "16            NaN       NaN           NaN          NaN  \n",
       "17       glendale        ca   los angeles         6037  \n",
       "18    worthington        oh      franklin        39049  \n",
       "19      arlington        tx       tarrant        48439  \n",
       "\n",
       "[20 rows x 74 columns]"
      ]
     },
     "execution_count": 79,
     "metadata": {},
     "output_type": "execute_result"
    }
   ],
   "source": [
    "merged_data.head(20)"
   ]
  },
  {
   "cell_type": "code",
   "execution_count": 80,
   "id": "990e9f11",
   "metadata": {
    "scrolled": true
   },
   "outputs": [
    {
     "data": {
      "text/plain": [
       "375"
      ]
     },
     "execution_count": 80,
     "metadata": {},
     "output_type": "execute_result"
    }
   ],
   "source": [
    "merged_data['county_name'].isna().sum()"
   ]
  },
  {
   "cell_type": "code",
   "execution_count": 81,
   "id": "7806d424",
   "metadata": {},
   "outputs": [],
   "source": [
    "# Move column 'county_name' to the second column\n",
    "column_to_move = 'county_name'\n",
    "new_position = 1\n",
    "\n",
    "# Pop the column and reinsert it at the new position\n",
    "col = merged_data.pop(column_to_move)\n",
    "merged_data.insert(new_position, column_to_move, col)"
   ]
  },
  {
   "cell_type": "code",
   "execution_count": 82,
   "id": "7d77ad75",
   "metadata": {},
   "outputs": [
    {
     "data": {
      "text/plain": [
       "0       nan\n",
       "1       nan\n",
       "2     41067\n",
       "3     36035\n",
       "4     27007\n",
       "5     29077\n",
       "6       nan\n",
       "7     18095\n",
       "8     38017\n",
       "9     48309\n",
       "10    48181\n",
       "11    06013\n",
       "12    21227\n",
       "13    05069\n",
       "14    27015\n",
       "15    27123\n",
       "16      nan\n",
       "17    06037\n",
       "18    39049\n",
       "19    48439\n",
       "Name: county_fips, dtype: object"
      ]
     },
     "execution_count": 82,
     "metadata": {},
     "output_type": "execute_result"
    }
   ],
   "source": [
    "# Add leading zeros to county_fips strings that are only 4 characters long\n",
    "merged_data['county_fips'] = merged_data['county_fips'].apply(lambda x: x.zfill(5) if len(str(x)) == 4 else str(x))\n",
    "\n",
    "# Verify the changes\n",
    "merged_data['county_fips'].head(20)"
   ]
  },
  {
   "cell_type": "code",
   "execution_count": 83,
   "id": "687a8445",
   "metadata": {},
   "outputs": [],
   "source": [
    "col_fips = merged_data.pop('county_fips')\n",
    "merged_data.insert(2, 'county_fips', col_fips)"
   ]
  },
  {
   "cell_type": "code",
   "execution_count": 84,
   "id": "9fac2ec7",
   "metadata": {
    "scrolled": true
   },
   "outputs": [
    {
     "data": {
      "text/html": [
       "<div>\n",
       "<style scoped>\n",
       "    .dataframe tbody tr th:only-of-type {\n",
       "        vertical-align: middle;\n",
       "    }\n",
       "\n",
       "    .dataframe tbody tr th {\n",
       "        vertical-align: top;\n",
       "    }\n",
       "\n",
       "    .dataframe thead th {\n",
       "        text-align: right;\n",
       "    }\n",
       "</style>\n",
       "<table border=\"1\" class=\"dataframe\">\n",
       "  <thead>\n",
       "    <tr style=\"text-align: right;\">\n",
       "      <th></th>\n",
       "      <th>commName</th>\n",
       "      <th>county_name</th>\n",
       "      <th>county_fips</th>\n",
       "      <th>state</th>\n",
       "      <th>fold</th>\n",
       "      <th>population</th>\n",
       "      <th>racepctblack</th>\n",
       "      <th>racePctWhite</th>\n",
       "      <th>racePctAsian</th>\n",
       "      <th>racePctHisp</th>\n",
       "      <th>...</th>\n",
       "      <th>larcPerPop</th>\n",
       "      <th>pctMinority</th>\n",
       "      <th>PctLarcPerPop</th>\n",
       "      <th>PctSingleParent</th>\n",
       "      <th>CommTransience</th>\n",
       "      <th>PctVacant</th>\n",
       "      <th>TotalHomeless</th>\n",
       "      <th>PctUnhoused</th>\n",
       "      <th>city</th>\n",
       "      <th>state_id</th>\n",
       "    </tr>\n",
       "  </thead>\n",
       "  <tbody>\n",
       "    <tr>\n",
       "      <th>0</th>\n",
       "      <td>berkeley heights</td>\n",
       "      <td>NaN</td>\n",
       "      <td>nan</td>\n",
       "      <td>nj</td>\n",
       "      <td>1</td>\n",
       "      <td>11980</td>\n",
       "      <td>1.37</td>\n",
       "      <td>91.78</td>\n",
       "      <td>6.50</td>\n",
       "      <td>1.88</td>\n",
       "      <td>...</td>\n",
       "      <td>1132.08</td>\n",
       "      <td>8.22</td>\n",
       "      <td>9.449750</td>\n",
       "      <td>8.57</td>\n",
       "      <td>34.30</td>\n",
       "      <td>1.63</td>\n",
       "      <td>11</td>\n",
       "      <td>0.09</td>\n",
       "      <td>NaN</td>\n",
       "      <td>NaN</td>\n",
       "    </tr>\n",
       "    <tr>\n",
       "      <th>1</th>\n",
       "      <td>marple township</td>\n",
       "      <td>NaN</td>\n",
       "      <td>nan</td>\n",
       "      <td>pa</td>\n",
       "      <td>1</td>\n",
       "      <td>23123</td>\n",
       "      <td>0.80</td>\n",
       "      <td>95.57</td>\n",
       "      <td>3.44</td>\n",
       "      <td>0.85</td>\n",
       "      <td>...</td>\n",
       "      <td>1598.78</td>\n",
       "      <td>4.43</td>\n",
       "      <td>6.914241</td>\n",
       "      <td>13.09</td>\n",
       "      <td>20.45</td>\n",
       "      <td>2.85</td>\n",
       "      <td>0</td>\n",
       "      <td>0.00</td>\n",
       "      <td>NaN</td>\n",
       "      <td>NaN</td>\n",
       "    </tr>\n",
       "    <tr>\n",
       "      <th>2</th>\n",
       "      <td>tigard</td>\n",
       "      <td>washington</td>\n",
       "      <td>41067</td>\n",
       "      <td>or</td>\n",
       "      <td>1</td>\n",
       "      <td>29344</td>\n",
       "      <td>0.74</td>\n",
       "      <td>94.33</td>\n",
       "      <td>3.43</td>\n",
       "      <td>2.35</td>\n",
       "      <td>...</td>\n",
       "      <td>4972.19</td>\n",
       "      <td>5.67</td>\n",
       "      <td>16.944486</td>\n",
       "      <td>21.46</td>\n",
       "      <td>52.46</td>\n",
       "      <td>4.32</td>\n",
       "      <td>16</td>\n",
       "      <td>0.05</td>\n",
       "      <td>tigard</td>\n",
       "      <td>or</td>\n",
       "    </tr>\n",
       "    <tr>\n",
       "      <th>3</th>\n",
       "      <td>gloversville</td>\n",
       "      <td>fulton</td>\n",
       "      <td>36035</td>\n",
       "      <td>ny</td>\n",
       "      <td>1</td>\n",
       "      <td>16656</td>\n",
       "      <td>1.70</td>\n",
       "      <td>97.35</td>\n",
       "      <td>0.50</td>\n",
       "      <td>0.70</td>\n",
       "      <td>...</td>\n",
       "      <td>4142.56</td>\n",
       "      <td>2.65</td>\n",
       "      <td>24.871278</td>\n",
       "      <td>35.98</td>\n",
       "      <td>21.47</td>\n",
       "      <td>8.81</td>\n",
       "      <td>0</td>\n",
       "      <td>0.00</td>\n",
       "      <td>gloversville</td>\n",
       "      <td>ny</td>\n",
       "    </tr>\n",
       "    <tr>\n",
       "      <th>4</th>\n",
       "      <td>bemidji</td>\n",
       "      <td>beltrami</td>\n",
       "      <td>27007</td>\n",
       "      <td>mn</td>\n",
       "      <td>1</td>\n",
       "      <td>11245</td>\n",
       "      <td>0.53</td>\n",
       "      <td>89.16</td>\n",
       "      <td>1.17</td>\n",
       "      <td>0.52</td>\n",
       "      <td>...</td>\n",
       "      <td>8490.87</td>\n",
       "      <td>10.84</td>\n",
       "      <td>75.507959</td>\n",
       "      <td>41.41</td>\n",
       "      <td>41.23</td>\n",
       "      <td>7.55</td>\n",
       "      <td>2</td>\n",
       "      <td>0.02</td>\n",
       "      <td>bemidji</td>\n",
       "      <td>mn</td>\n",
       "    </tr>\n",
       "  </tbody>\n",
       "</table>\n",
       "<p>5 rows × 74 columns</p>\n",
       "</div>"
      ],
      "text/plain": [
       "           commName county_name county_fips state  fold  population  \\\n",
       "0  berkeley heights         NaN         nan    nj     1       11980   \n",
       "1   marple township         NaN         nan    pa     1       23123   \n",
       "2            tigard  washington       41067    or     1       29344   \n",
       "3      gloversville      fulton       36035    ny     1       16656   \n",
       "4           bemidji    beltrami       27007    mn     1       11245   \n",
       "\n",
       "   racepctblack  racePctWhite  racePctAsian  racePctHisp  ...  larcPerPop  \\\n",
       "0          1.37         91.78          6.50         1.88  ...     1132.08   \n",
       "1          0.80         95.57          3.44         0.85  ...     1598.78   \n",
       "2          0.74         94.33          3.43         2.35  ...     4972.19   \n",
       "3          1.70         97.35          0.50         0.70  ...     4142.56   \n",
       "4          0.53         89.16          1.17         0.52  ...     8490.87   \n",
       "\n",
       "   pctMinority  PctLarcPerPop  PctSingleParent  CommTransience  PctVacant  \\\n",
       "0         8.22       9.449750             8.57           34.30       1.63   \n",
       "1         4.43       6.914241            13.09           20.45       2.85   \n",
       "2         5.67      16.944486            21.46           52.46       4.32   \n",
       "3         2.65      24.871278            35.98           21.47       8.81   \n",
       "4        10.84      75.507959            41.41           41.23       7.55   \n",
       "\n",
       "   TotalHomeless  PctUnhoused          city  state_id  \n",
       "0             11         0.09           NaN       NaN  \n",
       "1              0         0.00           NaN       NaN  \n",
       "2             16         0.05        tigard        or  \n",
       "3              0         0.00  gloversville        ny  \n",
       "4              2         0.02       bemidji        mn  \n",
       "\n",
       "[5 rows x 74 columns]"
      ]
     },
     "execution_count": 84,
     "metadata": {},
     "output_type": "execute_result"
    }
   ],
   "source": [
    "merged_data.head()"
   ]
  },
  {
   "cell_type": "code",
   "execution_count": 85,
   "id": "52af8cdf",
   "metadata": {},
   "outputs": [],
   "source": [
    "# Drop redundant columns after merge\n",
    "merged_data = merged_data.drop(columns=['city', 'state_id'])"
   ]
  },
  {
   "cell_type": "code",
   "execution_count": 86,
   "id": "85ae3a6a",
   "metadata": {},
   "outputs": [],
   "source": [
    "# Remove rows where 'county_name' has NaN values\n",
    "merged_data = merged_data.dropna(subset=['county_name'])"
   ]
  },
  {
   "cell_type": "code",
   "execution_count": 87,
   "id": "fee6d82b",
   "metadata": {},
   "outputs": [
    {
     "data": {
      "text/html": [
       "<div>\n",
       "<style scoped>\n",
       "    .dataframe tbody tr th:only-of-type {\n",
       "        vertical-align: middle;\n",
       "    }\n",
       "\n",
       "    .dataframe tbody tr th {\n",
       "        vertical-align: top;\n",
       "    }\n",
       "\n",
       "    .dataframe thead th {\n",
       "        text-align: right;\n",
       "    }\n",
       "</style>\n",
       "<table border=\"1\" class=\"dataframe\">\n",
       "  <thead>\n",
       "    <tr style=\"text-align: right;\">\n",
       "      <th></th>\n",
       "      <th>commName</th>\n",
       "      <th>county_name</th>\n",
       "      <th>county_fips</th>\n",
       "      <th>state</th>\n",
       "      <th>fold</th>\n",
       "      <th>population</th>\n",
       "      <th>racepctblack</th>\n",
       "      <th>racePctWhite</th>\n",
       "      <th>racePctAsian</th>\n",
       "      <th>racePctHisp</th>\n",
       "      <th>...</th>\n",
       "      <th>PopDens</th>\n",
       "      <th>PctUsePubTrans</th>\n",
       "      <th>larcPerPop</th>\n",
       "      <th>pctMinority</th>\n",
       "      <th>PctLarcPerPop</th>\n",
       "      <th>PctSingleParent</th>\n",
       "      <th>CommTransience</th>\n",
       "      <th>PctVacant</th>\n",
       "      <th>TotalHomeless</th>\n",
       "      <th>PctUnhoused</th>\n",
       "    </tr>\n",
       "  </thead>\n",
       "  <tbody>\n",
       "    <tr>\n",
       "      <th>2</th>\n",
       "      <td>tigard</td>\n",
       "      <td>washington</td>\n",
       "      <td>41067</td>\n",
       "      <td>or</td>\n",
       "      <td>1</td>\n",
       "      <td>29344</td>\n",
       "      <td>0.74</td>\n",
       "      <td>94.33</td>\n",
       "      <td>3.43</td>\n",
       "      <td>2.35</td>\n",
       "      <td>...</td>\n",
       "      <td>2780.9</td>\n",
       "      <td>4.37</td>\n",
       "      <td>4972.19</td>\n",
       "      <td>5.67</td>\n",
       "      <td>16.944486</td>\n",
       "      <td>21.46</td>\n",
       "      <td>52.46</td>\n",
       "      <td>4.32</td>\n",
       "      <td>16</td>\n",
       "      <td>0.05</td>\n",
       "    </tr>\n",
       "    <tr>\n",
       "      <th>3</th>\n",
       "      <td>gloversville</td>\n",
       "      <td>fulton</td>\n",
       "      <td>36035</td>\n",
       "      <td>ny</td>\n",
       "      <td>1</td>\n",
       "      <td>16656</td>\n",
       "      <td>1.70</td>\n",
       "      <td>97.35</td>\n",
       "      <td>0.50</td>\n",
       "      <td>0.70</td>\n",
       "      <td>...</td>\n",
       "      <td>3217.7</td>\n",
       "      <td>3.31</td>\n",
       "      <td>4142.56</td>\n",
       "      <td>2.65</td>\n",
       "      <td>24.871278</td>\n",
       "      <td>35.98</td>\n",
       "      <td>21.47</td>\n",
       "      <td>8.81</td>\n",
       "      <td>0</td>\n",
       "      <td>0.00</td>\n",
       "    </tr>\n",
       "    <tr>\n",
       "      <th>4</th>\n",
       "      <td>bemidji</td>\n",
       "      <td>beltrami</td>\n",
       "      <td>27007</td>\n",
       "      <td>mn</td>\n",
       "      <td>1</td>\n",
       "      <td>11245</td>\n",
       "      <td>0.53</td>\n",
       "      <td>89.16</td>\n",
       "      <td>1.17</td>\n",
       "      <td>0.52</td>\n",
       "      <td>...</td>\n",
       "      <td>974.2</td>\n",
       "      <td>0.38</td>\n",
       "      <td>8490.87</td>\n",
       "      <td>10.84</td>\n",
       "      <td>75.507959</td>\n",
       "      <td>41.41</td>\n",
       "      <td>41.23</td>\n",
       "      <td>7.55</td>\n",
       "      <td>2</td>\n",
       "      <td>0.02</td>\n",
       "    </tr>\n",
       "    <tr>\n",
       "      <th>5</th>\n",
       "      <td>springfield</td>\n",
       "      <td>greene</td>\n",
       "      <td>29077</td>\n",
       "      <td>mo</td>\n",
       "      <td>1</td>\n",
       "      <td>140494</td>\n",
       "      <td>2.51</td>\n",
       "      <td>95.65</td>\n",
       "      <td>0.90</td>\n",
       "      <td>0.95</td>\n",
       "      <td>...</td>\n",
       "      <td>1995.7</td>\n",
       "      <td>0.97</td>\n",
       "      <td>5091.64</td>\n",
       "      <td>4.35</td>\n",
       "      <td>3.624098</td>\n",
       "      <td>28.06</td>\n",
       "      <td>40.92</td>\n",
       "      <td>8.19</td>\n",
       "      <td>331</td>\n",
       "      <td>0.24</td>\n",
       "    </tr>\n",
       "    <tr>\n",
       "      <th>7</th>\n",
       "      <td>anderson</td>\n",
       "      <td>madison</td>\n",
       "      <td>18095</td>\n",
       "      <td>in</td>\n",
       "      <td>1</td>\n",
       "      <td>59459</td>\n",
       "      <td>14.20</td>\n",
       "      <td>84.87</td>\n",
       "      <td>0.40</td>\n",
       "      <td>0.63</td>\n",
       "      <td>...</td>\n",
       "      <td>1515.3</td>\n",
       "      <td>0.70</td>\n",
       "      <td>3691.79</td>\n",
       "      <td>15.13</td>\n",
       "      <td>6.208968</td>\n",
       "      <td>37.44</td>\n",
       "      <td>28.63</td>\n",
       "      <td>7.78</td>\n",
       "      <td>21</td>\n",
       "      <td>0.04</td>\n",
       "    </tr>\n",
       "    <tr>\n",
       "      <th>8</th>\n",
       "      <td>fargo</td>\n",
       "      <td>cass</td>\n",
       "      <td>38017</td>\n",
       "      <td>nd</td>\n",
       "      <td>1</td>\n",
       "      <td>74111</td>\n",
       "      <td>0.35</td>\n",
       "      <td>97.11</td>\n",
       "      <td>1.25</td>\n",
       "      <td>0.73</td>\n",
       "      <td>...</td>\n",
       "      <td>2399.3</td>\n",
       "      <td>1.41</td>\n",
       "      <td>3946.71</td>\n",
       "      <td>2.89</td>\n",
       "      <td>5.325404</td>\n",
       "      <td>20.65</td>\n",
       "      <td>44.16</td>\n",
       "      <td>4.93</td>\n",
       "      <td>140</td>\n",
       "      <td>0.19</td>\n",
       "    </tr>\n",
       "    <tr>\n",
       "      <th>9</th>\n",
       "      <td>waco</td>\n",
       "      <td>mclennan</td>\n",
       "      <td>48309</td>\n",
       "      <td>tx</td>\n",
       "      <td>1</td>\n",
       "      <td>103590</td>\n",
       "      <td>23.14</td>\n",
       "      <td>67.60</td>\n",
       "      <td>0.92</td>\n",
       "      <td>16.35</td>\n",
       "      <td>...</td>\n",
       "      <td>1319.3</td>\n",
       "      <td>0.76</td>\n",
       "      <td>5673.63</td>\n",
       "      <td>32.40</td>\n",
       "      <td>5.477006</td>\n",
       "      <td>38.35</td>\n",
       "      <td>36.01</td>\n",
       "      <td>12.43</td>\n",
       "      <td>47</td>\n",
       "      <td>0.05</td>\n",
       "    </tr>\n",
       "    <tr>\n",
       "      <th>10</th>\n",
       "      <td>sherman</td>\n",
       "      <td>grayson</td>\n",
       "      <td>48181</td>\n",
       "      <td>tx</td>\n",
       "      <td>1</td>\n",
       "      <td>31601</td>\n",
       "      <td>12.63</td>\n",
       "      <td>83.22</td>\n",
       "      <td>0.77</td>\n",
       "      <td>4.39</td>\n",
       "      <td>...</td>\n",
       "      <td>816.1</td>\n",
       "      <td>0.00</td>\n",
       "      <td>5654.80</td>\n",
       "      <td>16.78</td>\n",
       "      <td>17.894370</td>\n",
       "      <td>31.59</td>\n",
       "      <td>38.17</td>\n",
       "      <td>12.67</td>\n",
       "      <td>1</td>\n",
       "      <td>0.00</td>\n",
       "    </tr>\n",
       "    <tr>\n",
       "      <th>11</th>\n",
       "      <td>san pablo</td>\n",
       "      <td>contra costa</td>\n",
       "      <td>06013</td>\n",
       "      <td>ca</td>\n",
       "      <td>1</td>\n",
       "      <td>25158</td>\n",
       "      <td>21.34</td>\n",
       "      <td>49.42</td>\n",
       "      <td>17.21</td>\n",
       "      <td>26.78</td>\n",
       "      <td>...</td>\n",
       "      <td>9387.3</td>\n",
       "      <td>11.22</td>\n",
       "      <td>5404.40</td>\n",
       "      <td>50.58</td>\n",
       "      <td>21.481835</td>\n",
       "      <td>41.94</td>\n",
       "      <td>48.24</td>\n",
       "      <td>7.58</td>\n",
       "      <td>69</td>\n",
       "      <td>0.27</td>\n",
       "    </tr>\n",
       "    <tr>\n",
       "      <th>12</th>\n",
       "      <td>bowling green</td>\n",
       "      <td>warren</td>\n",
       "      <td>21227</td>\n",
       "      <td>ky</td>\n",
       "      <td>1</td>\n",
       "      <td>40641</td>\n",
       "      <td>12.18</td>\n",
       "      <td>86.39</td>\n",
       "      <td>1.12</td>\n",
       "      <td>0.68</td>\n",
       "      <td>...</td>\n",
       "      <td>1354.2</td>\n",
       "      <td>0.28</td>\n",
       "      <td>3895.99</td>\n",
       "      <td>13.61</td>\n",
       "      <td>9.586354</td>\n",
       "      <td>35.40</td>\n",
       "      <td>38.43</td>\n",
       "      <td>8.73</td>\n",
       "      <td>30</td>\n",
       "      <td>0.07</td>\n",
       "    </tr>\n",
       "  </tbody>\n",
       "</table>\n",
       "<p>10 rows × 72 columns</p>\n",
       "</div>"
      ],
      "text/plain": [
       "         commName   county_name county_fips state  fold  population  \\\n",
       "2          tigard    washington       41067    or     1       29344   \n",
       "3    gloversville        fulton       36035    ny     1       16656   \n",
       "4         bemidji      beltrami       27007    mn     1       11245   \n",
       "5     springfield        greene       29077    mo     1      140494   \n",
       "7        anderson       madison       18095    in     1       59459   \n",
       "8           fargo          cass       38017    nd     1       74111   \n",
       "9            waco      mclennan       48309    tx     1      103590   \n",
       "10        sherman       grayson       48181    tx     1       31601   \n",
       "11      san pablo  contra costa       06013    ca     1       25158   \n",
       "12  bowling green        warren       21227    ky     1       40641   \n",
       "\n",
       "    racepctblack  racePctWhite  racePctAsian  racePctHisp  ...  PopDens  \\\n",
       "2           0.74         94.33          3.43         2.35  ...   2780.9   \n",
       "3           1.70         97.35          0.50         0.70  ...   3217.7   \n",
       "4           0.53         89.16          1.17         0.52  ...    974.2   \n",
       "5           2.51         95.65          0.90         0.95  ...   1995.7   \n",
       "7          14.20         84.87          0.40         0.63  ...   1515.3   \n",
       "8           0.35         97.11          1.25         0.73  ...   2399.3   \n",
       "9          23.14         67.60          0.92        16.35  ...   1319.3   \n",
       "10         12.63         83.22          0.77         4.39  ...    816.1   \n",
       "11         21.34         49.42         17.21        26.78  ...   9387.3   \n",
       "12         12.18         86.39          1.12         0.68  ...   1354.2   \n",
       "\n",
       "    PctUsePubTrans  larcPerPop  pctMinority  PctLarcPerPop  PctSingleParent  \\\n",
       "2             4.37     4972.19         5.67      16.944486            21.46   \n",
       "3             3.31     4142.56         2.65      24.871278            35.98   \n",
       "4             0.38     8490.87        10.84      75.507959            41.41   \n",
       "5             0.97     5091.64         4.35       3.624098            28.06   \n",
       "7             0.70     3691.79        15.13       6.208968            37.44   \n",
       "8             1.41     3946.71         2.89       5.325404            20.65   \n",
       "9             0.76     5673.63        32.40       5.477006            38.35   \n",
       "10            0.00     5654.80        16.78      17.894370            31.59   \n",
       "11           11.22     5404.40        50.58      21.481835            41.94   \n",
       "12            0.28     3895.99        13.61       9.586354            35.40   \n",
       "\n",
       "    CommTransience  PctVacant  TotalHomeless  PctUnhoused  \n",
       "2            52.46       4.32             16         0.05  \n",
       "3            21.47       8.81              0         0.00  \n",
       "4            41.23       7.55              2         0.02  \n",
       "5            40.92       8.19            331         0.24  \n",
       "7            28.63       7.78             21         0.04  \n",
       "8            44.16       4.93            140         0.19  \n",
       "9            36.01      12.43             47         0.05  \n",
       "10           38.17      12.67              1         0.00  \n",
       "11           48.24       7.58             69         0.27  \n",
       "12           38.43       8.73             30         0.07  \n",
       "\n",
       "[10 rows x 72 columns]"
      ]
     },
     "execution_count": 87,
     "metadata": {},
     "output_type": "execute_result"
    }
   ],
   "source": [
    "merged_data.head(10)"
   ]
  },
  {
   "cell_type": "code",
   "execution_count": 88,
   "id": "7ca1aef6",
   "metadata": {},
   "outputs": [
    {
     "data": {
      "text/plain": [
       "(1838, 72)"
      ]
     },
     "execution_count": 88,
     "metadata": {},
     "output_type": "execute_result"
    }
   ],
   "source": [
    "merged_data.shape"
   ]
  },
  {
   "cell_type": "code",
   "execution_count": 89,
   "id": "4aceab91",
   "metadata": {
    "scrolled": true
   },
   "outputs": [
    {
     "data": {
      "text/plain": [
       "691"
      ]
     },
     "execution_count": 89,
     "metadata": {},
     "output_type": "execute_result"
    }
   ],
   "source": [
    "merged_data['county_name'].nunique()"
   ]
  },
  {
   "cell_type": "code",
   "execution_count": 90,
   "id": "c267cbf3",
   "metadata": {
    "scrolled": true
   },
   "outputs": [
    {
     "name": "stdout",
     "output_type": "stream",
     "text": [
      "    state           county_name county_fips  count\n",
      "0      ak             anchorage       02020      1\n",
      "1      ak  fairbanks north star       02090      1\n",
      "2      ak                juneau       02110      1\n",
      "3      al               autauga       01001      1\n",
      "4      al               baldwin       01003      1\n",
      "..    ...                   ...         ...    ...\n",
      "873    wy              campbell       56005      1\n",
      "874    wy               laramie       56021      1\n",
      "875    wy              sheridan       56033      1\n",
      "876    wy            sweetwater       56037      2\n",
      "877    wy                 uinta       56041      1\n",
      "\n",
      "[878 rows x 4 columns]\n"
     ]
    }
   ],
   "source": [
    "# Group data by county name and state\n",
    "unique_counties = merged_data.groupby(['state', 'county_name', 'county_fips']).size().reset_index(name='count')\n",
    "\n",
    "print(unique_counties)"
   ]
  },
  {
   "cell_type": "markdown",
   "id": "bd903b46",
   "metadata": {},
   "source": [
    "Ok so now that we have found all of the unique county-state combinations, we see that we will have 878 counties to work with for modeling. This is less than half of the original entries in the dataset. Hopefully this can work for modeling."
   ]
  },
  {
   "cell_type": "markdown",
   "id": "7d8a806e",
   "metadata": {},
   "source": [
    "## Grouping by County and Aggregating Crime Stats"
   ]
  },
  {
   "cell_type": "code",
   "execution_count": 91,
   "id": "f9aff427",
   "metadata": {},
   "outputs": [],
   "source": [
    "# Group by county and aggregate crime statistics while including population\n",
    "agg_data_county = (\n",
    "    merged_data\n",
    "    .groupby(['county_name', 'county_fips', 'state'])  # Group by county and state\n",
    "    .apply(\n",
    "        lambda x: pd.Series({\n",
    "            'population': x['population'].sum(),\n",
    "            'racepctblack': x['racepctblack'].mean(),\n",
    "            'racePctWhite': x['racePctWhite'].mean(),\n",
    "            'racePctAsian': x['racePctAsian'].mean(),\n",
    "            'racePctHisp': x['racePctHisp'].mean(),\n",
    "            'pctUrban': x['pctUrban'].mean(),\n",
    "            'medIncome': x['medIncome'].median(),\n",
    "            'pctWFarmSelf': x['pctWFarmSelf'].mean(),\n",
    "            'pctWInvInc': x['pctWInvInc'].mean(),\n",
    "            'pctWPubAsst': (x['pctWPubAsst'] * x['PctPopUnderPov']).sum() / x['PctPopUnderPov'].sum(),\n",
    "            'pctWRetire': x['pctWRetire'].mean(),\n",
    "            'perCapInc': x['perCapInc'].mean(),\n",
    "            'PctPopUnderPov': x['PctPopUnderPov'].mean(),\n",
    "            'PctNotHSGrad': x['PctNotHSGrad'].mean(),\n",
    "            'PctBSorMore': x['PctBSorMore'].mean(),\n",
    "            'PctUnemployed': x['PctUnemployed'].mean(),\n",
    "            'PctEmploy': x['PctEmploy'].mean(),\n",
    "            'PctEmplManu': x['PctEmplManu'].mean(),\n",
    "            'PctEmplProfServ': x['PctEmplProfServ'].mean(),\n",
    "            'PctOccupManu': x['PctOccupManu'].mean(),\n",
    "            'FemalePctDiv': x['FemalePctDiv'].mean(),\n",
    "            'PctFam2Par': x['PctFam2Par'].mean(),\n",
    "            'PctWorkMom': x['PctWorkMom'].mean(),\n",
    "            'NumKidsBornNeverMar': x['NumKidsBornNeverMar'].sum(),\n",
    "            'PctKidsBornNeverMar': x['PctKidsBornNeverMar'].mean(),\n",
    "            'PctImmigRec10': x['PctImmigRec10'].mean(),\n",
    "            'PctRecImmig5': x['PctRecImmig5'].mean(),\n",
    "            'PctRecImmig8': x['PctRecImmig8'].mean(),\n",
    "            'PctNotSpeakEnglWell': x['PctNotSpeakEnglWell'].mean(),\n",
    "            'PctLargHouseFam': x['PctLargHouseFam'].mean(),\n",
    "            'PersPerOccupHous': x['PersPerOccupHous'].mean(),\n",
    "            'PersPerRentOccHous': x['PersPerRentOccHous'].mean(),\n",
    "            'PctPersDenseHous': x['PctPersDenseHous'].mean(),\n",
    "            'PctHousLess3BR': x['PctHousLess3BR'].mean(),\n",
    "            'MedNumBR': x['MedNumBR'].median(),\n",
    "            'HousVacant': x['HousVacant'].sum(),\n",
    "            'PctHousOccup': x['PctHousOccup'].mean(),\n",
    "            'PctVacantBoarded': x['PctVacantBoarded'].mean(),\n",
    "            'PctVacMore6Mos': x['PctVacMore6Mos'].mean(),\n",
    "            'MedYrHousBuilt': x['MedYrHousBuilt'].median(),\n",
    "            'PctHousNoPhone': x['PctHousNoPhone'].mean(),\n",
    "            'PctWOFullPlumb': x['PctWOFullPlumb'].mean(),\n",
    "            'OwnOccMedVal': x['OwnOccMedVal'].median(),\n",
    "            'OwnOccQrange': x['OwnOccQrange'].mean(),\n",
    "            'RentQrange': x['RentQrange'].mean(),\n",
    "            'MedRent': x['MedRent'].median(),\n",
    "            'MedRentPctHousInc': x['MedRentPctHousInc'].mean(),\n",
    "            'MedOwnCostPctInc': x['MedOwnCostPctInc'].mean(),\n",
    "            'MedOwnCostPctIncNoMtg': x['MedOwnCostPctIncNoMtg'].mean(),\n",
    "            'NumInShelters': x['NumInShelters'].sum(),\n",
    "            'NumStreet': x['NumStreet'].sum(),\n",
    "            'PctForeignBorn': x['PctForeignBorn'].mean(),\n",
    "            'PctBornSameState': x['PctBornSameState'].mean(),\n",
    "            'PctSameHouse85': x['PctSameHouse85'].mean(),\n",
    "            'PctSameCity85': x['PctSameCity85'].mean(),\n",
    "            'PctSameState85': x['PctSameState85'].mean(),\n",
    "            'LandArea': x['LandArea'].sum(),\n",
    "            'PopDens': x['PopDens'].mean(),\n",
    "            'PctUsePubTrans': x['PctUsePubTrans'].mean(),\n",
    "            'larcPerPop': x['larcPerPop'].mean(),\n",
    "        })\n",
    "    )\n",
    "    .reset_index()  # Convert indices back to a dataframe\n",
    ")"
   ]
  },
  {
   "cell_type": "code",
   "execution_count": 92,
   "id": "354cfb47",
   "metadata": {},
   "outputs": [
    {
     "data": {
      "text/html": [
       "<div>\n",
       "<style scoped>\n",
       "    .dataframe tbody tr th:only-of-type {\n",
       "        vertical-align: middle;\n",
       "    }\n",
       "\n",
       "    .dataframe tbody tr th {\n",
       "        vertical-align: top;\n",
       "    }\n",
       "\n",
       "    .dataframe thead th {\n",
       "        text-align: right;\n",
       "    }\n",
       "</style>\n",
       "<table border=\"1\" class=\"dataframe\">\n",
       "  <thead>\n",
       "    <tr style=\"text-align: right;\">\n",
       "      <th></th>\n",
       "      <th>county_name</th>\n",
       "      <th>county_fips</th>\n",
       "      <th>state</th>\n",
       "      <th>population</th>\n",
       "      <th>racepctblack</th>\n",
       "      <th>racePctWhite</th>\n",
       "      <th>racePctAsian</th>\n",
       "      <th>racePctHisp</th>\n",
       "      <th>pctUrban</th>\n",
       "      <th>medIncome</th>\n",
       "      <th>...</th>\n",
       "      <th>NumStreet</th>\n",
       "      <th>PctForeignBorn</th>\n",
       "      <th>PctBornSameState</th>\n",
       "      <th>PctSameHouse85</th>\n",
       "      <th>PctSameCity85</th>\n",
       "      <th>PctSameState85</th>\n",
       "      <th>LandArea</th>\n",
       "      <th>PopDens</th>\n",
       "      <th>PctUsePubTrans</th>\n",
       "      <th>larcPerPop</th>\n",
       "    </tr>\n",
       "  </thead>\n",
       "  <tbody>\n",
       "    <tr>\n",
       "      <th>0</th>\n",
       "      <td>acadia</td>\n",
       "      <td>22001</td>\n",
       "      <td>la</td>\n",
       "      <td>13983.0</td>\n",
       "      <td>30.680000</td>\n",
       "      <td>68.800000</td>\n",
       "      <td>0.310000</td>\n",
       "      <td>0.420000</td>\n",
       "      <td>0.000000</td>\n",
       "      <td>13804.0</td>\n",
       "      <td>...</td>\n",
       "      <td>0.0</td>\n",
       "      <td>0.290000</td>\n",
       "      <td>93.1400</td>\n",
       "      <td>58.980000</td>\n",
       "      <td>92.190000</td>\n",
       "      <td>97.690000</td>\n",
       "      <td>4.7</td>\n",
       "      <td>2957.500000</td>\n",
       "      <td>0.980000</td>\n",
       "      <td>4726.620000</td>\n",
       "    </tr>\n",
       "    <tr>\n",
       "      <th>1</th>\n",
       "      <td>adams</td>\n",
       "      <td>08001</td>\n",
       "      <td>co</td>\n",
       "      <td>132489.0</td>\n",
       "      <td>1.642500</td>\n",
       "      <td>87.125000</td>\n",
       "      <td>2.067500</td>\n",
       "      <td>24.150000</td>\n",
       "      <td>74.600000</td>\n",
       "      <td>30926.0</td>\n",
       "      <td>...</td>\n",
       "      <td>0.0</td>\n",
       "      <td>4.652500</td>\n",
       "      <td>53.1025</td>\n",
       "      <td>51.372500</td>\n",
       "      <td>74.742500</td>\n",
       "      <td>89.712500</td>\n",
       "      <td>71.2</td>\n",
       "      <td>2040.925000</td>\n",
       "      <td>2.557500</td>\n",
       "      <td>4897.750000</td>\n",
       "    </tr>\n",
       "    <tr>\n",
       "      <th>2</th>\n",
       "      <td>adams</td>\n",
       "      <td>28001</td>\n",
       "      <td>ms</td>\n",
       "      <td>19460.0</td>\n",
       "      <td>50.340000</td>\n",
       "      <td>49.310000</td>\n",
       "      <td>0.230000</td>\n",
       "      <td>0.500000</td>\n",
       "      <td>0.000000</td>\n",
       "      <td>16769.0</td>\n",
       "      <td>...</td>\n",
       "      <td>0.0</td>\n",
       "      <td>0.380000</td>\n",
       "      <td>79.5400</td>\n",
       "      <td>61.250000</td>\n",
       "      <td>87.630000</td>\n",
       "      <td>92.110000</td>\n",
       "      <td>13.7</td>\n",
       "      <td>1422.100000</td>\n",
       "      <td>0.850000</td>\n",
       "      <td>5769.430000</td>\n",
       "    </tr>\n",
       "    <tr>\n",
       "      <th>3</th>\n",
       "      <td>aiken</td>\n",
       "      <td>45003</td>\n",
       "      <td>sc</td>\n",
       "      <td>35223.0</td>\n",
       "      <td>23.225000</td>\n",
       "      <td>75.585000</td>\n",
       "      <td>0.815000</td>\n",
       "      <td>0.765000</td>\n",
       "      <td>100.000000</td>\n",
       "      <td>33075.0</td>\n",
       "      <td>...</td>\n",
       "      <td>0.0</td>\n",
       "      <td>1.480000</td>\n",
       "      <td>34.1900</td>\n",
       "      <td>49.260000</td>\n",
       "      <td>72.760000</td>\n",
       "      <td>77.870000</td>\n",
       "      <td>31.1</td>\n",
       "      <td>1157.150000</td>\n",
       "      <td>0.080000</td>\n",
       "      <td>3194.260000</td>\n",
       "    </tr>\n",
       "    <tr>\n",
       "      <th>4</th>\n",
       "      <td>alachua</td>\n",
       "      <td>12001</td>\n",
       "      <td>fl</td>\n",
       "      <td>84770.0</td>\n",
       "      <td>21.440000</td>\n",
       "      <td>73.360000</td>\n",
       "      <td>3.940000</td>\n",
       "      <td>4.400000</td>\n",
       "      <td>100.000000</td>\n",
       "      <td>21077.0</td>\n",
       "      <td>...</td>\n",
       "      <td>7.0</td>\n",
       "      <td>8.150000</td>\n",
       "      <td>43.1600</td>\n",
       "      <td>34.000000</td>\n",
       "      <td>55.720000</td>\n",
       "      <td>81.040000</td>\n",
       "      <td>36.1</td>\n",
       "      <td>2347.400000</td>\n",
       "      <td>2.700000</td>\n",
       "      <td>6951.520000</td>\n",
       "    </tr>\n",
       "    <tr>\n",
       "      <th>5</th>\n",
       "      <td>alamance</td>\n",
       "      <td>37001</td>\n",
       "      <td>nc</td>\n",
       "      <td>49924.0</td>\n",
       "      <td>19.305000</td>\n",
       "      <td>79.695000</td>\n",
       "      <td>0.580000</td>\n",
       "      <td>0.760000</td>\n",
       "      <td>100.000000</td>\n",
       "      <td>25504.5</td>\n",
       "      <td>...</td>\n",
       "      <td>0.0</td>\n",
       "      <td>1.205000</td>\n",
       "      <td>77.0300</td>\n",
       "      <td>57.090000</td>\n",
       "      <td>84.575000</td>\n",
       "      <td>91.815000</td>\n",
       "      <td>28.4</td>\n",
       "      <td>1649.150000</td>\n",
       "      <td>0.205000</td>\n",
       "      <td>3737.980000</td>\n",
       "    </tr>\n",
       "    <tr>\n",
       "      <th>6</th>\n",
       "      <td>alameda</td>\n",
       "      <td>06001</td>\n",
       "      <td>ca</td>\n",
       "      <td>1153560.0</td>\n",
       "      <td>9.493846</td>\n",
       "      <td>69.035385</td>\n",
       "      <td>15.028462</td>\n",
       "      <td>13.083077</td>\n",
       "      <td>99.994615</td>\n",
       "      <td>46988.0</td>\n",
       "      <td>...</td>\n",
       "      <td>613.0</td>\n",
       "      <td>17.282308</td>\n",
       "      <td>49.4500</td>\n",
       "      <td>47.237692</td>\n",
       "      <td>72.817692</td>\n",
       "      <td>87.469231</td>\n",
       "      <td>301.8</td>\n",
       "      <td>4735.876923</td>\n",
       "      <td>8.760769</td>\n",
       "      <td>3735.738462</td>\n",
       "    </tr>\n",
       "    <tr>\n",
       "      <th>7</th>\n",
       "      <td>albany</td>\n",
       "      <td>36001</td>\n",
       "      <td>ny</td>\n",
       "      <td>117907.0</td>\n",
       "      <td>10.645000</td>\n",
       "      <td>87.115000</td>\n",
       "      <td>1.285000</td>\n",
       "      <td>1.900000</td>\n",
       "      <td>100.000000</td>\n",
       "      <td>24735.5</td>\n",
       "      <td>...</td>\n",
       "      <td>10.0</td>\n",
       "      <td>6.130000</td>\n",
       "      <td>81.5050</td>\n",
       "      <td>49.655000</td>\n",
       "      <td>77.330000</td>\n",
       "      <td>94.125000</td>\n",
       "      <td>26.1</td>\n",
       "      <td>4448.650000</td>\n",
       "      <td>9.780000</td>\n",
       "      <td>2616.820000</td>\n",
       "    </tr>\n",
       "    <tr>\n",
       "      <th>8</th>\n",
       "      <td>albany</td>\n",
       "      <td>56001</td>\n",
       "      <td>wy</td>\n",
       "      <td>26687.0</td>\n",
       "      <td>0.920000</td>\n",
       "      <td>93.140000</td>\n",
       "      <td>2.320000</td>\n",
       "      <td>6.660000</td>\n",
       "      <td>0.000000</td>\n",
       "      <td>19642.0</td>\n",
       "      <td>...</td>\n",
       "      <td>0.0</td>\n",
       "      <td>3.500000</td>\n",
       "      <td>40.3900</td>\n",
       "      <td>33.890000</td>\n",
       "      <td>54.090000</td>\n",
       "      <td>77.110000</td>\n",
       "      <td>11.5</td>\n",
       "      <td>2312.600000</td>\n",
       "      <td>0.300000</td>\n",
       "      <td>3016.280000</td>\n",
       "    </tr>\n",
       "    <tr>\n",
       "      <th>9</th>\n",
       "      <td>alcona</td>\n",
       "      <td>26001</td>\n",
       "      <td>mi</td>\n",
       "      <td>13604.0</td>\n",
       "      <td>0.770000</td>\n",
       "      <td>97.830000</td>\n",
       "      <td>0.990000</td>\n",
       "      <td>1.290000</td>\n",
       "      <td>88.610000</td>\n",
       "      <td>37771.0</td>\n",
       "      <td>...</td>\n",
       "      <td>0.0</td>\n",
       "      <td>3.340000</td>\n",
       "      <td>62.3800</td>\n",
       "      <td>53.980000</td>\n",
       "      <td>82.090000</td>\n",
       "      <td>87.160000</td>\n",
       "      <td>18.6</td>\n",
       "      <td>732.300000</td>\n",
       "      <td>0.000000</td>\n",
       "      <td>2198.200000</td>\n",
       "    </tr>\n",
       "    <tr>\n",
       "      <th>10</th>\n",
       "      <td>alexandria</td>\n",
       "      <td>51510</td>\n",
       "      <td>va</td>\n",
       "      <td>111183.0</td>\n",
       "      <td>21.890000</td>\n",
       "      <td>69.070000</td>\n",
       "      <td>4.170000</td>\n",
       "      <td>9.690000</td>\n",
       "      <td>100.000000</td>\n",
       "      <td>41472.0</td>\n",
       "      <td>...</td>\n",
       "      <td>2.0</td>\n",
       "      <td>16.190000</td>\n",
       "      <td>22.0500</td>\n",
       "      <td>36.800000</td>\n",
       "      <td>54.420000</td>\n",
       "      <td>66.590000</td>\n",
       "      <td>15.8</td>\n",
       "      <td>7028.000000</td>\n",
       "      <td>18.150000</td>\n",
       "      <td>4983.550000</td>\n",
       "    </tr>\n",
       "    <tr>\n",
       "      <th>11</th>\n",
       "      <td>allegany</td>\n",
       "      <td>24001</td>\n",
       "      <td>md</td>\n",
       "      <td>23706.0</td>\n",
       "      <td>4.420000</td>\n",
       "      <td>94.790000</td>\n",
       "      <td>0.540000</td>\n",
       "      <td>0.450000</td>\n",
       "      <td>100.000000</td>\n",
       "      <td>16442.0</td>\n",
       "      <td>...</td>\n",
       "      <td>0.0</td>\n",
       "      <td>1.110000</td>\n",
       "      <td>73.4500</td>\n",
       "      <td>56.310000</td>\n",
       "      <td>88.150000</td>\n",
       "      <td>91.150000</td>\n",
       "      <td>8.6</td>\n",
       "      <td>2763.500000</td>\n",
       "      <td>1.490000</td>\n",
       "      <td>3880.030000</td>\n",
       "    </tr>\n",
       "    <tr>\n",
       "      <th>12</th>\n",
       "      <td>allegheny</td>\n",
       "      <td>42003</td>\n",
       "      <td>pa</td>\n",
       "      <td>469886.0</td>\n",
       "      <td>16.105000</td>\n",
       "      <td>82.913333</td>\n",
       "      <td>0.665000</td>\n",
       "      <td>0.626667</td>\n",
       "      <td>100.000000</td>\n",
       "      <td>25320.0</td>\n",
       "      <td>...</td>\n",
       "      <td>67.0</td>\n",
       "      <td>2.368333</td>\n",
       "      <td>85.5950</td>\n",
       "      <td>65.428333</td>\n",
       "      <td>91.616667</td>\n",
       "      <td>94.680000</td>\n",
       "      <td>89.5</td>\n",
       "      <td>5907.383333</td>\n",
       "      <td>17.650000</td>\n",
       "      <td>1987.981667</td>\n",
       "    </tr>\n",
       "    <tr>\n",
       "      <th>13</th>\n",
       "      <td>allen</td>\n",
       "      <td>18003</td>\n",
       "      <td>in</td>\n",
       "      <td>173072.0</td>\n",
       "      <td>16.750000</td>\n",
       "      <td>80.450000</td>\n",
       "      <td>1.010000</td>\n",
       "      <td>2.700000</td>\n",
       "      <td>100.000000</td>\n",
       "      <td>26344.0</td>\n",
       "      <td>...</td>\n",
       "      <td>14.0</td>\n",
       "      <td>2.210000</td>\n",
       "      <td>67.8200</td>\n",
       "      <td>50.810000</td>\n",
       "      <td>83.370000</td>\n",
       "      <td>89.300000</td>\n",
       "      <td>64.9</td>\n",
       "      <td>2666.300000</td>\n",
       "      <td>2.150000</td>\n",
       "      <td>5414.490000</td>\n",
       "    </tr>\n",
       "    <tr>\n",
       "      <th>14</th>\n",
       "      <td>allen</td>\n",
       "      <td>39003</td>\n",
       "      <td>oh</td>\n",
       "      <td>45549.0</td>\n",
       "      <td>24.040000</td>\n",
       "      <td>74.530000</td>\n",
       "      <td>0.500000</td>\n",
       "      <td>1.500000</td>\n",
       "      <td>100.000000</td>\n",
       "      <td>21061.0</td>\n",
       "      <td>...</td>\n",
       "      <td>0.0</td>\n",
       "      <td>0.830000</td>\n",
       "      <td>77.9300</td>\n",
       "      <td>53.680000</td>\n",
       "      <td>82.880000</td>\n",
       "      <td>92.930000</td>\n",
       "      <td>13.1</td>\n",
       "      <td>3469.800000</td>\n",
       "      <td>1.360000</td>\n",
       "      <td>4895.780000</td>\n",
       "    </tr>\n",
       "    <tr>\n",
       "      <th>15</th>\n",
       "      <td>alpena</td>\n",
       "      <td>26007</td>\n",
       "      <td>mi</td>\n",
       "      <td>11354.0</td>\n",
       "      <td>0.240000</td>\n",
       "      <td>98.740000</td>\n",
       "      <td>0.540000</td>\n",
       "      <td>0.470000</td>\n",
       "      <td>0.000000</td>\n",
       "      <td>20472.0</td>\n",
       "      <td>...</td>\n",
       "      <td>0.0</td>\n",
       "      <td>1.290000</td>\n",
       "      <td>86.8100</td>\n",
       "      <td>56.460000</td>\n",
       "      <td>82.880000</td>\n",
       "      <td>92.360000</td>\n",
       "      <td>8.8</td>\n",
       "      <td>1289.100000</td>\n",
       "      <td>1.070000</td>\n",
       "      <td>4229.820000</td>\n",
       "    </tr>\n",
       "    <tr>\n",
       "      <th>16</th>\n",
       "      <td>anchorage</td>\n",
       "      <td>02020</td>\n",
       "      <td>ak</td>\n",
       "      <td>226338.0</td>\n",
       "      <td>6.430000</td>\n",
       "      <td>80.740000</td>\n",
       "      <td>4.820000</td>\n",
       "      <td>4.090000</td>\n",
       "      <td>97.970000</td>\n",
       "      <td>43946.0</td>\n",
       "      <td>...</td>\n",
       "      <td>34.0</td>\n",
       "      <td>5.900000</td>\n",
       "      <td>26.6200</td>\n",
       "      <td>37.540000</td>\n",
       "      <td>68.860000</td>\n",
       "      <td>75.000000</td>\n",
       "      <td>1758.8</td>\n",
       "      <td>128.700000</td>\n",
       "      <td>2.420000</td>\n",
       "      <td>4205.130000</td>\n",
       "    </tr>\n",
       "    <tr>\n",
       "      <th>17</th>\n",
       "      <td>anderson</td>\n",
       "      <td>45007</td>\n",
       "      <td>sc</td>\n",
       "      <td>26184.0</td>\n",
       "      <td>34.260000</td>\n",
       "      <td>65.090000</td>\n",
       "      <td>0.310000</td>\n",
       "      <td>0.530000</td>\n",
       "      <td>100.000000</td>\n",
       "      <td>19433.0</td>\n",
       "      <td>...</td>\n",
       "      <td>6.0</td>\n",
       "      <td>0.700000</td>\n",
       "      <td>76.1000</td>\n",
       "      <td>50.040000</td>\n",
       "      <td>83.540000</td>\n",
       "      <td>91.100000</td>\n",
       "      <td>12.8</td>\n",
       "      <td>2042.400000</td>\n",
       "      <td>0.880000</td>\n",
       "      <td>4098.000000</td>\n",
       "    </tr>\n",
       "    <tr>\n",
       "      <th>18</th>\n",
       "      <td>anderson</td>\n",
       "      <td>47001</td>\n",
       "      <td>tn</td>\n",
       "      <td>27310.0</td>\n",
       "      <td>7.980000</td>\n",
       "      <td>89.380000</td>\n",
       "      <td>2.060000</td>\n",
       "      <td>0.970000</td>\n",
       "      <td>0.000000</td>\n",
       "      <td>32615.0</td>\n",
       "      <td>...</td>\n",
       "      <td>0.0</td>\n",
       "      <td>3.520000</td>\n",
       "      <td>46.6600</td>\n",
       "      <td>56.620000</td>\n",
       "      <td>74.870000</td>\n",
       "      <td>84.030000</td>\n",
       "      <td>88.6</td>\n",
       "      <td>308.100000</td>\n",
       "      <td>0.030000</td>\n",
       "      <td>4624.780000</td>\n",
       "    </tr>\n",
       "    <tr>\n",
       "      <th>19</th>\n",
       "      <td>anderson</td>\n",
       "      <td>48001</td>\n",
       "      <td>tx</td>\n",
       "      <td>18042.0</td>\n",
       "      <td>23.570000</td>\n",
       "      <td>69.350000</td>\n",
       "      <td>0.390000</td>\n",
       "      <td>9.170000</td>\n",
       "      <td>0.000000</td>\n",
       "      <td>21427.0</td>\n",
       "      <td>...</td>\n",
       "      <td>0.0</td>\n",
       "      <td>3.540000</td>\n",
       "      <td>81.0100</td>\n",
       "      <td>48.750000</td>\n",
       "      <td>78.410000</td>\n",
       "      <td>95.210000</td>\n",
       "      <td>17.9</td>\n",
       "      <td>1005.500000</td>\n",
       "      <td>0.140000</td>\n",
       "      <td>4467.930000</td>\n",
       "    </tr>\n",
       "  </tbody>\n",
       "</table>\n",
       "<p>20 rows × 63 columns</p>\n",
       "</div>"
      ],
      "text/plain": [
       "   county_name county_fips state  population  racepctblack  racePctWhite  \\\n",
       "0       acadia       22001    la     13983.0     30.680000     68.800000   \n",
       "1        adams       08001    co    132489.0      1.642500     87.125000   \n",
       "2        adams       28001    ms     19460.0     50.340000     49.310000   \n",
       "3        aiken       45003    sc     35223.0     23.225000     75.585000   \n",
       "4      alachua       12001    fl     84770.0     21.440000     73.360000   \n",
       "5     alamance       37001    nc     49924.0     19.305000     79.695000   \n",
       "6      alameda       06001    ca   1153560.0      9.493846     69.035385   \n",
       "7       albany       36001    ny    117907.0     10.645000     87.115000   \n",
       "8       albany       56001    wy     26687.0      0.920000     93.140000   \n",
       "9       alcona       26001    mi     13604.0      0.770000     97.830000   \n",
       "10  alexandria       51510    va    111183.0     21.890000     69.070000   \n",
       "11    allegany       24001    md     23706.0      4.420000     94.790000   \n",
       "12   allegheny       42003    pa    469886.0     16.105000     82.913333   \n",
       "13       allen       18003    in    173072.0     16.750000     80.450000   \n",
       "14       allen       39003    oh     45549.0     24.040000     74.530000   \n",
       "15      alpena       26007    mi     11354.0      0.240000     98.740000   \n",
       "16   anchorage       02020    ak    226338.0      6.430000     80.740000   \n",
       "17    anderson       45007    sc     26184.0     34.260000     65.090000   \n",
       "18    anderson       47001    tn     27310.0      7.980000     89.380000   \n",
       "19    anderson       48001    tx     18042.0     23.570000     69.350000   \n",
       "\n",
       "    racePctAsian  racePctHisp    pctUrban  medIncome  ...  NumStreet  \\\n",
       "0       0.310000     0.420000    0.000000    13804.0  ...        0.0   \n",
       "1       2.067500    24.150000   74.600000    30926.0  ...        0.0   \n",
       "2       0.230000     0.500000    0.000000    16769.0  ...        0.0   \n",
       "3       0.815000     0.765000  100.000000    33075.0  ...        0.0   \n",
       "4       3.940000     4.400000  100.000000    21077.0  ...        7.0   \n",
       "5       0.580000     0.760000  100.000000    25504.5  ...        0.0   \n",
       "6      15.028462    13.083077   99.994615    46988.0  ...      613.0   \n",
       "7       1.285000     1.900000  100.000000    24735.5  ...       10.0   \n",
       "8       2.320000     6.660000    0.000000    19642.0  ...        0.0   \n",
       "9       0.990000     1.290000   88.610000    37771.0  ...        0.0   \n",
       "10      4.170000     9.690000  100.000000    41472.0  ...        2.0   \n",
       "11      0.540000     0.450000  100.000000    16442.0  ...        0.0   \n",
       "12      0.665000     0.626667  100.000000    25320.0  ...       67.0   \n",
       "13      1.010000     2.700000  100.000000    26344.0  ...       14.0   \n",
       "14      0.500000     1.500000  100.000000    21061.0  ...        0.0   \n",
       "15      0.540000     0.470000    0.000000    20472.0  ...        0.0   \n",
       "16      4.820000     4.090000   97.970000    43946.0  ...       34.0   \n",
       "17      0.310000     0.530000  100.000000    19433.0  ...        6.0   \n",
       "18      2.060000     0.970000    0.000000    32615.0  ...        0.0   \n",
       "19      0.390000     9.170000    0.000000    21427.0  ...        0.0   \n",
       "\n",
       "    PctForeignBorn  PctBornSameState  PctSameHouse85  PctSameCity85  \\\n",
       "0         0.290000           93.1400       58.980000      92.190000   \n",
       "1         4.652500           53.1025       51.372500      74.742500   \n",
       "2         0.380000           79.5400       61.250000      87.630000   \n",
       "3         1.480000           34.1900       49.260000      72.760000   \n",
       "4         8.150000           43.1600       34.000000      55.720000   \n",
       "5         1.205000           77.0300       57.090000      84.575000   \n",
       "6        17.282308           49.4500       47.237692      72.817692   \n",
       "7         6.130000           81.5050       49.655000      77.330000   \n",
       "8         3.500000           40.3900       33.890000      54.090000   \n",
       "9         3.340000           62.3800       53.980000      82.090000   \n",
       "10       16.190000           22.0500       36.800000      54.420000   \n",
       "11        1.110000           73.4500       56.310000      88.150000   \n",
       "12        2.368333           85.5950       65.428333      91.616667   \n",
       "13        2.210000           67.8200       50.810000      83.370000   \n",
       "14        0.830000           77.9300       53.680000      82.880000   \n",
       "15        1.290000           86.8100       56.460000      82.880000   \n",
       "16        5.900000           26.6200       37.540000      68.860000   \n",
       "17        0.700000           76.1000       50.040000      83.540000   \n",
       "18        3.520000           46.6600       56.620000      74.870000   \n",
       "19        3.540000           81.0100       48.750000      78.410000   \n",
       "\n",
       "    PctSameState85  LandArea      PopDens  PctUsePubTrans   larcPerPop  \n",
       "0        97.690000       4.7  2957.500000        0.980000  4726.620000  \n",
       "1        89.712500      71.2  2040.925000        2.557500  4897.750000  \n",
       "2        92.110000      13.7  1422.100000        0.850000  5769.430000  \n",
       "3        77.870000      31.1  1157.150000        0.080000  3194.260000  \n",
       "4        81.040000      36.1  2347.400000        2.700000  6951.520000  \n",
       "5        91.815000      28.4  1649.150000        0.205000  3737.980000  \n",
       "6        87.469231     301.8  4735.876923        8.760769  3735.738462  \n",
       "7        94.125000      26.1  4448.650000        9.780000  2616.820000  \n",
       "8        77.110000      11.5  2312.600000        0.300000  3016.280000  \n",
       "9        87.160000      18.6   732.300000        0.000000  2198.200000  \n",
       "10       66.590000      15.8  7028.000000       18.150000  4983.550000  \n",
       "11       91.150000       8.6  2763.500000        1.490000  3880.030000  \n",
       "12       94.680000      89.5  5907.383333       17.650000  1987.981667  \n",
       "13       89.300000      64.9  2666.300000        2.150000  5414.490000  \n",
       "14       92.930000      13.1  3469.800000        1.360000  4895.780000  \n",
       "15       92.360000       8.8  1289.100000        1.070000  4229.820000  \n",
       "16       75.000000    1758.8   128.700000        2.420000  4205.130000  \n",
       "17       91.100000      12.8  2042.400000        0.880000  4098.000000  \n",
       "18       84.030000      88.6   308.100000        0.030000  4624.780000  \n",
       "19       95.210000      17.9  1005.500000        0.140000  4467.930000  \n",
       "\n",
       "[20 rows x 63 columns]"
      ]
     },
     "execution_count": 92,
     "metadata": {},
     "output_type": "execute_result"
    }
   ],
   "source": [
    "agg_data_county.head(20)"
   ]
  },
  {
   "cell_type": "code",
   "execution_count": 93,
   "id": "2d342a97",
   "metadata": {
    "scrolled": false
   },
   "outputs": [
    {
     "data": {
      "text/plain": [
       "(878, 63)"
      ]
     },
     "execution_count": 93,
     "metadata": {},
     "output_type": "execute_result"
    }
   ],
   "source": [
    "agg_data_county.shape"
   ]
  },
  {
   "cell_type": "code",
   "execution_count": 94,
   "id": "68e98cef",
   "metadata": {
    "scrolled": true
   },
   "outputs": [
    {
     "data": {
      "text/plain": [
       "county_name        object\n",
       "county_fips        object\n",
       "state              object\n",
       "population        float64\n",
       "racepctblack      float64\n",
       "                   ...   \n",
       "PctSameState85    float64\n",
       "LandArea          float64\n",
       "PopDens           float64\n",
       "PctUsePubTrans    float64\n",
       "larcPerPop        float64\n",
       "Length: 63, dtype: object"
      ]
     },
     "execution_count": 94,
     "metadata": {},
     "output_type": "execute_result"
    }
   ],
   "source": [
    "agg_data_county.dtypes"
   ]
  },
  {
   "cell_type": "code",
   "execution_count": 95,
   "id": "b4225d87",
   "metadata": {},
   "outputs": [
    {
     "data": {
      "text/plain": [
       "county_name       0\n",
       "county_fips       0\n",
       "state             0\n",
       "population        0\n",
       "racepctblack      0\n",
       "                 ..\n",
       "PctSameState85    0\n",
       "LandArea          0\n",
       "PopDens           0\n",
       "PctUsePubTrans    0\n",
       "larcPerPop        0\n",
       "Length: 63, dtype: int64"
      ]
     },
     "execution_count": 95,
     "metadata": {},
     "output_type": "execute_result"
    }
   ],
   "source": [
    "agg_data_county.isna().sum()"
   ]
  },
  {
   "cell_type": "markdown",
   "id": "2bbf2ee2",
   "metadata": {},
   "source": [
    "# Merging Aggregated Crime/County Data to Food Access Data"
   ]
  },
  {
   "cell_type": "code",
   "execution_count": 96,
   "id": "83807c4b",
   "metadata": {},
   "outputs": [],
   "source": [
    "food_access = pd.read_csv('county_food_data.csv')"
   ]
  },
  {
   "cell_type": "code",
   "execution_count": 97,
   "id": "1984578b",
   "metadata": {
    "scrolled": false
   },
   "outputs": [
    {
     "data": {
      "text/html": [
       "<div>\n",
       "<style scoped>\n",
       "    .dataframe tbody tr th:only-of-type {\n",
       "        vertical-align: middle;\n",
       "    }\n",
       "\n",
       "    .dataframe tbody tr th {\n",
       "        vertical-align: top;\n",
       "    }\n",
       "\n",
       "    .dataframe thead th {\n",
       "        text-align: right;\n",
       "    }\n",
       "</style>\n",
       "<table border=\"1\" class=\"dataframe\">\n",
       "  <thead>\n",
       "    <tr style=\"text-align: right;\">\n",
       "      <th></th>\n",
       "      <th>county_fips</th>\n",
       "      <th>CountyName</th>\n",
       "      <th>State</th>\n",
       "      <th>total_population</th>\n",
       "      <th>weighted_low_access</th>\n",
       "      <th>weighted_low_income_access</th>\n",
       "    </tr>\n",
       "  </thead>\n",
       "  <tbody>\n",
       "    <tr>\n",
       "      <th>0</th>\n",
       "      <td>1001</td>\n",
       "      <td>Autauga</td>\n",
       "      <td>AL</td>\n",
       "      <td>4874.0</td>\n",
       "      <td>53.26</td>\n",
       "      <td>11.65</td>\n",
       "    </tr>\n",
       "    <tr>\n",
       "      <th>1</th>\n",
       "      <td>1003</td>\n",
       "      <td>Baldwin</td>\n",
       "      <td>AL</td>\n",
       "      <td>3724.0</td>\n",
       "      <td>44.20</td>\n",
       "      <td>10.30</td>\n",
       "    </tr>\n",
       "    <tr>\n",
       "      <th>2</th>\n",
       "      <td>1005</td>\n",
       "      <td>Barbour</td>\n",
       "      <td>AL</td>\n",
       "      <td>12959.0</td>\n",
       "      <td>21.93</td>\n",
       "      <td>6.24</td>\n",
       "    </tr>\n",
       "    <tr>\n",
       "      <th>3</th>\n",
       "      <td>1011</td>\n",
       "      <td>Bullock</td>\n",
       "      <td>AL</td>\n",
       "      <td>3523.0</td>\n",
       "      <td>61.96</td>\n",
       "      <td>20.86</td>\n",
       "    </tr>\n",
       "    <tr>\n",
       "      <th>4</th>\n",
       "      <td>1013</td>\n",
       "      <td>Butler</td>\n",
       "      <td>AL</td>\n",
       "      <td>1693.0</td>\n",
       "      <td>42.70</td>\n",
       "      <td>10.90</td>\n",
       "    </tr>\n",
       "  </tbody>\n",
       "</table>\n",
       "</div>"
      ],
      "text/plain": [
       "   county_fips CountyName State  total_population  weighted_low_access  \\\n",
       "0         1001    Autauga    AL            4874.0                53.26   \n",
       "1         1003    Baldwin    AL            3724.0                44.20   \n",
       "2         1005    Barbour    AL           12959.0                21.93   \n",
       "3         1011    Bullock    AL            3523.0                61.96   \n",
       "4         1013     Butler    AL            1693.0                42.70   \n",
       "\n",
       "   weighted_low_income_access  \n",
       "0                       11.65  \n",
       "1                       10.30  \n",
       "2                        6.24  \n",
       "3                       20.86  \n",
       "4                       10.90  "
      ]
     },
     "execution_count": 97,
     "metadata": {},
     "output_type": "execute_result"
    }
   ],
   "source": [
    "food_access.head()"
   ]
  },
  {
   "cell_type": "code",
   "execution_count": 98,
   "id": "01890382",
   "metadata": {
    "scrolled": true
   },
   "outputs": [
    {
     "data": {
      "text/plain": [
       "county_fips                   0\n",
       "CountyName                    0\n",
       "State                         0\n",
       "total_population              0\n",
       "weighted_low_access           0\n",
       "weighted_low_income_access    0\n",
       "dtype: int64"
      ]
     },
     "execution_count": 98,
     "metadata": {},
     "output_type": "execute_result"
    }
   ],
   "source": [
    "food_access.isna().sum()"
   ]
  },
  {
   "cell_type": "code",
   "execution_count": 99,
   "id": "880be93e",
   "metadata": {},
   "outputs": [
    {
     "data": {
      "text/plain": [
       "(1851, 6)"
      ]
     },
     "execution_count": 99,
     "metadata": {},
     "output_type": "execute_result"
    }
   ],
   "source": [
    "food_access.shape"
   ]
  },
  {
   "cell_type": "code",
   "execution_count": 100,
   "id": "d505dd80",
   "metadata": {},
   "outputs": [],
   "source": [
    "# fix leading zeros in 'TRACT_FIPS' and ensure it's a string\n",
    "food_access['county_fips'] = food_access['county_fips'].astype(str).str.zfill(5)"
   ]
  },
  {
   "cell_type": "code",
   "execution_count": 101,
   "id": "47ab2682",
   "metadata": {},
   "outputs": [
    {
     "data": {
      "text/plain": [
       "0    01001\n",
       "1    01003\n",
       "2    01005\n",
       "3    01011\n",
       "4    01013\n",
       "Name: county_fips, dtype: object"
      ]
     },
     "execution_count": 101,
     "metadata": {},
     "output_type": "execute_result"
    }
   ],
   "source": [
    "food_access['county_fips'].head()"
   ]
  },
  {
   "cell_type": "code",
   "execution_count": 102,
   "id": "be29b034",
   "metadata": {},
   "outputs": [],
   "source": [
    "df = pd.merge(agg_data_county, food_access, on='county_fips', how='left')"
   ]
  },
  {
   "cell_type": "code",
   "execution_count": 103,
   "id": "21610004",
   "metadata": {
    "scrolled": true
   },
   "outputs": [
    {
     "data": {
      "text/html": [
       "<div>\n",
       "<style scoped>\n",
       "    .dataframe tbody tr th:only-of-type {\n",
       "        vertical-align: middle;\n",
       "    }\n",
       "\n",
       "    .dataframe tbody tr th {\n",
       "        vertical-align: top;\n",
       "    }\n",
       "\n",
       "    .dataframe thead th {\n",
       "        text-align: right;\n",
       "    }\n",
       "</style>\n",
       "<table border=\"1\" class=\"dataframe\">\n",
       "  <thead>\n",
       "    <tr style=\"text-align: right;\">\n",
       "      <th></th>\n",
       "      <th>county_name</th>\n",
       "      <th>county_fips</th>\n",
       "      <th>state</th>\n",
       "      <th>population</th>\n",
       "      <th>racepctblack</th>\n",
       "      <th>racePctWhite</th>\n",
       "      <th>racePctAsian</th>\n",
       "      <th>racePctHisp</th>\n",
       "      <th>pctUrban</th>\n",
       "      <th>medIncome</th>\n",
       "      <th>...</th>\n",
       "      <th>PctSameState85</th>\n",
       "      <th>LandArea</th>\n",
       "      <th>PopDens</th>\n",
       "      <th>PctUsePubTrans</th>\n",
       "      <th>larcPerPop</th>\n",
       "      <th>CountyName</th>\n",
       "      <th>State</th>\n",
       "      <th>total_population</th>\n",
       "      <th>weighted_low_access</th>\n",
       "      <th>weighted_low_income_access</th>\n",
       "    </tr>\n",
       "  </thead>\n",
       "  <tbody>\n",
       "    <tr>\n",
       "      <th>0</th>\n",
       "      <td>acadia</td>\n",
       "      <td>22001</td>\n",
       "      <td>la</td>\n",
       "      <td>13983.0</td>\n",
       "      <td>30.680000</td>\n",
       "      <td>68.800000</td>\n",
       "      <td>0.310000</td>\n",
       "      <td>0.420000</td>\n",
       "      <td>0.000000</td>\n",
       "      <td>13804.0</td>\n",
       "      <td>...</td>\n",
       "      <td>97.690000</td>\n",
       "      <td>4.7</td>\n",
       "      <td>2957.500000</td>\n",
       "      <td>0.980000</td>\n",
       "      <td>4726.620000</td>\n",
       "      <td>Acadia</td>\n",
       "      <td>LA</td>\n",
       "      <td>6188.0</td>\n",
       "      <td>18.50</td>\n",
       "      <td>5.60</td>\n",
       "    </tr>\n",
       "    <tr>\n",
       "      <th>1</th>\n",
       "      <td>adams</td>\n",
       "      <td>08001</td>\n",
       "      <td>co</td>\n",
       "      <td>132489.0</td>\n",
       "      <td>1.642500</td>\n",
       "      <td>87.125000</td>\n",
       "      <td>2.067500</td>\n",
       "      <td>24.150000</td>\n",
       "      <td>74.600000</td>\n",
       "      <td>30926.0</td>\n",
       "      <td>...</td>\n",
       "      <td>89.712500</td>\n",
       "      <td>71.2</td>\n",
       "      <td>2040.925000</td>\n",
       "      <td>2.557500</td>\n",
       "      <td>4897.750000</td>\n",
       "      <td>Adams</td>\n",
       "      <td>CO</td>\n",
       "      <td>59872.0</td>\n",
       "      <td>61.60</td>\n",
       "      <td>5.79</td>\n",
       "    </tr>\n",
       "    <tr>\n",
       "      <th>2</th>\n",
       "      <td>adams</td>\n",
       "      <td>28001</td>\n",
       "      <td>ms</td>\n",
       "      <td>19460.0</td>\n",
       "      <td>50.340000</td>\n",
       "      <td>49.310000</td>\n",
       "      <td>0.230000</td>\n",
       "      <td>0.500000</td>\n",
       "      <td>0.000000</td>\n",
       "      <td>16769.0</td>\n",
       "      <td>...</td>\n",
       "      <td>92.110000</td>\n",
       "      <td>13.7</td>\n",
       "      <td>1422.100000</td>\n",
       "      <td>0.850000</td>\n",
       "      <td>5769.430000</td>\n",
       "      <td>Adams</td>\n",
       "      <td>MS</td>\n",
       "      <td>6797.0</td>\n",
       "      <td>60.85</td>\n",
       "      <td>26.85</td>\n",
       "    </tr>\n",
       "    <tr>\n",
       "      <th>3</th>\n",
       "      <td>aiken</td>\n",
       "      <td>45003</td>\n",
       "      <td>sc</td>\n",
       "      <td>35223.0</td>\n",
       "      <td>23.225000</td>\n",
       "      <td>75.585000</td>\n",
       "      <td>0.815000</td>\n",
       "      <td>0.765000</td>\n",
       "      <td>100.000000</td>\n",
       "      <td>33075.0</td>\n",
       "      <td>...</td>\n",
       "      <td>77.870000</td>\n",
       "      <td>31.1</td>\n",
       "      <td>1157.150000</td>\n",
       "      <td>0.080000</td>\n",
       "      <td>3194.260000</td>\n",
       "      <td>Aiken</td>\n",
       "      <td>SC</td>\n",
       "      <td>13206.0</td>\n",
       "      <td>45.89</td>\n",
       "      <td>8.67</td>\n",
       "    </tr>\n",
       "    <tr>\n",
       "      <th>4</th>\n",
       "      <td>alachua</td>\n",
       "      <td>12001</td>\n",
       "      <td>fl</td>\n",
       "      <td>84770.0</td>\n",
       "      <td>21.440000</td>\n",
       "      <td>73.360000</td>\n",
       "      <td>3.940000</td>\n",
       "      <td>4.400000</td>\n",
       "      <td>100.000000</td>\n",
       "      <td>21077.0</td>\n",
       "      <td>...</td>\n",
       "      <td>81.040000</td>\n",
       "      <td>36.1</td>\n",
       "      <td>2347.400000</td>\n",
       "      <td>2.700000</td>\n",
       "      <td>6951.520000</td>\n",
       "      <td>Alachua</td>\n",
       "      <td>FL</td>\n",
       "      <td>57345.0</td>\n",
       "      <td>44.76</td>\n",
       "      <td>18.71</td>\n",
       "    </tr>\n",
       "    <tr>\n",
       "      <th>5</th>\n",
       "      <td>alamance</td>\n",
       "      <td>37001</td>\n",
       "      <td>nc</td>\n",
       "      <td>49924.0</td>\n",
       "      <td>19.305000</td>\n",
       "      <td>79.695000</td>\n",
       "      <td>0.580000</td>\n",
       "      <td>0.760000</td>\n",
       "      <td>100.000000</td>\n",
       "      <td>25504.5</td>\n",
       "      <td>...</td>\n",
       "      <td>91.815000</td>\n",
       "      <td>28.4</td>\n",
       "      <td>1649.150000</td>\n",
       "      <td>0.205000</td>\n",
       "      <td>3737.980000</td>\n",
       "      <td>Alamance</td>\n",
       "      <td>NC</td>\n",
       "      <td>15145.0</td>\n",
       "      <td>61.16</td>\n",
       "      <td>11.41</td>\n",
       "    </tr>\n",
       "    <tr>\n",
       "      <th>6</th>\n",
       "      <td>alameda</td>\n",
       "      <td>06001</td>\n",
       "      <td>ca</td>\n",
       "      <td>1153560.0</td>\n",
       "      <td>9.493846</td>\n",
       "      <td>69.035385</td>\n",
       "      <td>15.028462</td>\n",
       "      <td>13.083077</td>\n",
       "      <td>99.994615</td>\n",
       "      <td>46988.0</td>\n",
       "      <td>...</td>\n",
       "      <td>87.469231</td>\n",
       "      <td>301.8</td>\n",
       "      <td>4735.876923</td>\n",
       "      <td>8.760769</td>\n",
       "      <td>3735.738462</td>\n",
       "      <td>Alameda</td>\n",
       "      <td>CA</td>\n",
       "      <td>19160.0</td>\n",
       "      <td>84.64</td>\n",
       "      <td>14.50</td>\n",
       "    </tr>\n",
       "    <tr>\n",
       "      <th>7</th>\n",
       "      <td>albany</td>\n",
       "      <td>36001</td>\n",
       "      <td>ny</td>\n",
       "      <td>117907.0</td>\n",
       "      <td>10.645000</td>\n",
       "      <td>87.115000</td>\n",
       "      <td>1.285000</td>\n",
       "      <td>1.900000</td>\n",
       "      <td>100.000000</td>\n",
       "      <td>24735.5</td>\n",
       "      <td>...</td>\n",
       "      <td>94.125000</td>\n",
       "      <td>26.1</td>\n",
       "      <td>4448.650000</td>\n",
       "      <td>9.780000</td>\n",
       "      <td>2616.820000</td>\n",
       "      <td>Albany</td>\n",
       "      <td>NY</td>\n",
       "      <td>40563.0</td>\n",
       "      <td>59.50</td>\n",
       "      <td>16.85</td>\n",
       "    </tr>\n",
       "    <tr>\n",
       "      <th>8</th>\n",
       "      <td>albany</td>\n",
       "      <td>56001</td>\n",
       "      <td>wy</td>\n",
       "      <td>26687.0</td>\n",
       "      <td>0.920000</td>\n",
       "      <td>93.140000</td>\n",
       "      <td>2.320000</td>\n",
       "      <td>6.660000</td>\n",
       "      <td>0.000000</td>\n",
       "      <td>19642.0</td>\n",
       "      <td>...</td>\n",
       "      <td>77.110000</td>\n",
       "      <td>11.5</td>\n",
       "      <td>2312.600000</td>\n",
       "      <td>0.300000</td>\n",
       "      <td>3016.280000</td>\n",
       "      <td>Albany</td>\n",
       "      <td>WY</td>\n",
       "      <td>6688.0</td>\n",
       "      <td>93.30</td>\n",
       "      <td>20.03</td>\n",
       "    </tr>\n",
       "    <tr>\n",
       "      <th>9</th>\n",
       "      <td>alcona</td>\n",
       "      <td>26001</td>\n",
       "      <td>mi</td>\n",
       "      <td>13604.0</td>\n",
       "      <td>0.770000</td>\n",
       "      <td>97.830000</td>\n",
       "      <td>0.990000</td>\n",
       "      <td>1.290000</td>\n",
       "      <td>88.610000</td>\n",
       "      <td>37771.0</td>\n",
       "      <td>...</td>\n",
       "      <td>87.160000</td>\n",
       "      <td>18.6</td>\n",
       "      <td>732.300000</td>\n",
       "      <td>0.000000</td>\n",
       "      <td>2198.200000</td>\n",
       "      <td>Alcona</td>\n",
       "      <td>MI</td>\n",
       "      <td>1679.0</td>\n",
       "      <td>71.40</td>\n",
       "      <td>7.10</td>\n",
       "    </tr>\n",
       "    <tr>\n",
       "      <th>10</th>\n",
       "      <td>alexandria</td>\n",
       "      <td>51510</td>\n",
       "      <td>va</td>\n",
       "      <td>111183.0</td>\n",
       "      <td>21.890000</td>\n",
       "      <td>69.070000</td>\n",
       "      <td>4.170000</td>\n",
       "      <td>9.690000</td>\n",
       "      <td>100.000000</td>\n",
       "      <td>41472.0</td>\n",
       "      <td>...</td>\n",
       "      <td>66.590000</td>\n",
       "      <td>15.8</td>\n",
       "      <td>7028.000000</td>\n",
       "      <td>18.150000</td>\n",
       "      <td>4983.550000</td>\n",
       "      <td>NaN</td>\n",
       "      <td>NaN</td>\n",
       "      <td>NaN</td>\n",
       "      <td>NaN</td>\n",
       "      <td>NaN</td>\n",
       "    </tr>\n",
       "    <tr>\n",
       "      <th>11</th>\n",
       "      <td>allegany</td>\n",
       "      <td>24001</td>\n",
       "      <td>md</td>\n",
       "      <td>23706.0</td>\n",
       "      <td>4.420000</td>\n",
       "      <td>94.790000</td>\n",
       "      <td>0.540000</td>\n",
       "      <td>0.450000</td>\n",
       "      <td>100.000000</td>\n",
       "      <td>16442.0</td>\n",
       "      <td>...</td>\n",
       "      <td>91.150000</td>\n",
       "      <td>8.6</td>\n",
       "      <td>2763.500000</td>\n",
       "      <td>1.490000</td>\n",
       "      <td>3880.030000</td>\n",
       "      <td>Allegany</td>\n",
       "      <td>MD</td>\n",
       "      <td>18970.0</td>\n",
       "      <td>55.99</td>\n",
       "      <td>4.82</td>\n",
       "    </tr>\n",
       "    <tr>\n",
       "      <th>12</th>\n",
       "      <td>allegheny</td>\n",
       "      <td>42003</td>\n",
       "      <td>pa</td>\n",
       "      <td>469886.0</td>\n",
       "      <td>16.105000</td>\n",
       "      <td>82.913333</td>\n",
       "      <td>0.665000</td>\n",
       "      <td>0.626667</td>\n",
       "      <td>100.000000</td>\n",
       "      <td>25320.0</td>\n",
       "      <td>...</td>\n",
       "      <td>94.680000</td>\n",
       "      <td>89.5</td>\n",
       "      <td>5907.383333</td>\n",
       "      <td>17.650000</td>\n",
       "      <td>1987.981667</td>\n",
       "      <td>Allegheny</td>\n",
       "      <td>PA</td>\n",
       "      <td>56528.0</td>\n",
       "      <td>62.88</td>\n",
       "      <td>11.25</td>\n",
       "    </tr>\n",
       "    <tr>\n",
       "      <th>13</th>\n",
       "      <td>allen</td>\n",
       "      <td>18003</td>\n",
       "      <td>in</td>\n",
       "      <td>173072.0</td>\n",
       "      <td>16.750000</td>\n",
       "      <td>80.450000</td>\n",
       "      <td>1.010000</td>\n",
       "      <td>2.700000</td>\n",
       "      <td>100.000000</td>\n",
       "      <td>26344.0</td>\n",
       "      <td>...</td>\n",
       "      <td>89.300000</td>\n",
       "      <td>64.9</td>\n",
       "      <td>2666.300000</td>\n",
       "      <td>2.150000</td>\n",
       "      <td>5414.490000</td>\n",
       "      <td>Allen</td>\n",
       "      <td>IN</td>\n",
       "      <td>29124.0</td>\n",
       "      <td>70.52</td>\n",
       "      <td>18.69</td>\n",
       "    </tr>\n",
       "    <tr>\n",
       "      <th>14</th>\n",
       "      <td>allen</td>\n",
       "      <td>39003</td>\n",
       "      <td>oh</td>\n",
       "      <td>45549.0</td>\n",
       "      <td>24.040000</td>\n",
       "      <td>74.530000</td>\n",
       "      <td>0.500000</td>\n",
       "      <td>1.500000</td>\n",
       "      <td>100.000000</td>\n",
       "      <td>21061.0</td>\n",
       "      <td>...</td>\n",
       "      <td>92.930000</td>\n",
       "      <td>13.1</td>\n",
       "      <td>3469.800000</td>\n",
       "      <td>1.360000</td>\n",
       "      <td>4895.780000</td>\n",
       "      <td>Allen</td>\n",
       "      <td>OH</td>\n",
       "      <td>18403.0</td>\n",
       "      <td>65.91</td>\n",
       "      <td>14.23</td>\n",
       "    </tr>\n",
       "    <tr>\n",
       "      <th>15</th>\n",
       "      <td>alpena</td>\n",
       "      <td>26007</td>\n",
       "      <td>mi</td>\n",
       "      <td>11354.0</td>\n",
       "      <td>0.240000</td>\n",
       "      <td>98.740000</td>\n",
       "      <td>0.540000</td>\n",
       "      <td>0.470000</td>\n",
       "      <td>0.000000</td>\n",
       "      <td>20472.0</td>\n",
       "      <td>...</td>\n",
       "      <td>92.360000</td>\n",
       "      <td>8.8</td>\n",
       "      <td>1289.100000</td>\n",
       "      <td>1.070000</td>\n",
       "      <td>4229.820000</td>\n",
       "      <td>Alpena</td>\n",
       "      <td>MI</td>\n",
       "      <td>9146.0</td>\n",
       "      <td>34.03</td>\n",
       "      <td>2.74</td>\n",
       "    </tr>\n",
       "    <tr>\n",
       "      <th>16</th>\n",
       "      <td>anchorage</td>\n",
       "      <td>02020</td>\n",
       "      <td>ak</td>\n",
       "      <td>226338.0</td>\n",
       "      <td>6.430000</td>\n",
       "      <td>80.740000</td>\n",
       "      <td>4.820000</td>\n",
       "      <td>4.090000</td>\n",
       "      <td>97.970000</td>\n",
       "      <td>43946.0</td>\n",
       "      <td>...</td>\n",
       "      <td>75.000000</td>\n",
       "      <td>1758.8</td>\n",
       "      <td>128.700000</td>\n",
       "      <td>2.420000</td>\n",
       "      <td>4205.130000</td>\n",
       "      <td>NaN</td>\n",
       "      <td>NaN</td>\n",
       "      <td>NaN</td>\n",
       "      <td>NaN</td>\n",
       "      <td>NaN</td>\n",
       "    </tr>\n",
       "    <tr>\n",
       "      <th>17</th>\n",
       "      <td>anderson</td>\n",
       "      <td>45007</td>\n",
       "      <td>sc</td>\n",
       "      <td>26184.0</td>\n",
       "      <td>34.260000</td>\n",
       "      <td>65.090000</td>\n",
       "      <td>0.310000</td>\n",
       "      <td>0.530000</td>\n",
       "      <td>100.000000</td>\n",
       "      <td>19433.0</td>\n",
       "      <td>...</td>\n",
       "      <td>91.100000</td>\n",
       "      <td>12.8</td>\n",
       "      <td>2042.400000</td>\n",
       "      <td>0.880000</td>\n",
       "      <td>4098.000000</td>\n",
       "      <td>Anderson</td>\n",
       "      <td>SC</td>\n",
       "      <td>18694.0</td>\n",
       "      <td>40.68</td>\n",
       "      <td>7.58</td>\n",
       "    </tr>\n",
       "    <tr>\n",
       "      <th>18</th>\n",
       "      <td>anderson</td>\n",
       "      <td>47001</td>\n",
       "      <td>tn</td>\n",
       "      <td>27310.0</td>\n",
       "      <td>7.980000</td>\n",
       "      <td>89.380000</td>\n",
       "      <td>2.060000</td>\n",
       "      <td>0.970000</td>\n",
       "      <td>0.000000</td>\n",
       "      <td>32615.0</td>\n",
       "      <td>...</td>\n",
       "      <td>84.030000</td>\n",
       "      <td>88.6</td>\n",
       "      <td>308.100000</td>\n",
       "      <td>0.030000</td>\n",
       "      <td>4624.780000</td>\n",
       "      <td>Anderson</td>\n",
       "      <td>TN</td>\n",
       "      <td>6544.0</td>\n",
       "      <td>74.30</td>\n",
       "      <td>13.10</td>\n",
       "    </tr>\n",
       "    <tr>\n",
       "      <th>19</th>\n",
       "      <td>anderson</td>\n",
       "      <td>48001</td>\n",
       "      <td>tx</td>\n",
       "      <td>18042.0</td>\n",
       "      <td>23.570000</td>\n",
       "      <td>69.350000</td>\n",
       "      <td>0.390000</td>\n",
       "      <td>9.170000</td>\n",
       "      <td>0.000000</td>\n",
       "      <td>21427.0</td>\n",
       "      <td>...</td>\n",
       "      <td>95.210000</td>\n",
       "      <td>17.9</td>\n",
       "      <td>1005.500000</td>\n",
       "      <td>0.140000</td>\n",
       "      <td>4467.930000</td>\n",
       "      <td>Anderson</td>\n",
       "      <td>TX</td>\n",
       "      <td>2353.0</td>\n",
       "      <td>22.60</td>\n",
       "      <td>7.20</td>\n",
       "    </tr>\n",
       "    <tr>\n",
       "      <th>20</th>\n",
       "      <td>andrews</td>\n",
       "      <td>48003</td>\n",
       "      <td>tx</td>\n",
       "      <td>10678.0</td>\n",
       "      <td>2.400000</td>\n",
       "      <td>73.970000</td>\n",
       "      <td>1.130000</td>\n",
       "      <td>34.190000</td>\n",
       "      <td>0.000000</td>\n",
       "      <td>26136.0</td>\n",
       "      <td>...</td>\n",
       "      <td>95.040000</td>\n",
       "      <td>4.9</td>\n",
       "      <td>2163.300000</td>\n",
       "      <td>0.000000</td>\n",
       "      <td>2249.860000</td>\n",
       "      <td>Andrews</td>\n",
       "      <td>TX</td>\n",
       "      <td>3519.0</td>\n",
       "      <td>83.20</td>\n",
       "      <td>18.50</td>\n",
       "    </tr>\n",
       "    <tr>\n",
       "      <th>21</th>\n",
       "      <td>androscoggin</td>\n",
       "      <td>23001</td>\n",
       "      <td>me</td>\n",
       "      <td>64066.0</td>\n",
       "      <td>0.575000</td>\n",
       "      <td>98.310000</td>\n",
       "      <td>0.680000</td>\n",
       "      <td>0.625000</td>\n",
       "      <td>98.640000</td>\n",
       "      <td>25772.0</td>\n",
       "      <td>...</td>\n",
       "      <td>91.030000</td>\n",
       "      <td>97.2</td>\n",
       "      <td>759.000000</td>\n",
       "      <td>0.775000</td>\n",
       "      <td>3575.960000</td>\n",
       "      <td>NaN</td>\n",
       "      <td>NaN</td>\n",
       "      <td>NaN</td>\n",
       "      <td>NaN</td>\n",
       "      <td>NaN</td>\n",
       "    </tr>\n",
       "    <tr>\n",
       "      <th>22</th>\n",
       "      <td>angelina</td>\n",
       "      <td>48005</td>\n",
       "      <td>tx</td>\n",
       "      <td>30206.0</td>\n",
       "      <td>27.220000</td>\n",
       "      <td>65.220000</td>\n",
       "      <td>0.790000</td>\n",
       "      <td>9.640000</td>\n",
       "      <td>0.000000</td>\n",
       "      <td>22357.0</td>\n",
       "      <td>...</td>\n",
       "      <td>94.940000</td>\n",
       "      <td>24.4</td>\n",
       "      <td>1236.100000</td>\n",
       "      <td>0.410000</td>\n",
       "      <td>4396.080000</td>\n",
       "      <td>Angelina</td>\n",
       "      <td>TX</td>\n",
       "      <td>12369.0</td>\n",
       "      <td>58.56</td>\n",
       "      <td>15.34</td>\n",
       "    </tr>\n",
       "    <tr>\n",
       "      <th>23</th>\n",
       "      <td>anne arundel</td>\n",
       "      <td>24003</td>\n",
       "      <td>md</td>\n",
       "      <td>33187.0</td>\n",
       "      <td>33.040000</td>\n",
       "      <td>64.940000</td>\n",
       "      <td>1.340000</td>\n",
       "      <td>1.460000</td>\n",
       "      <td>100.000000</td>\n",
       "      <td>35516.0</td>\n",
       "      <td>...</td>\n",
       "      <td>83.770000</td>\n",
       "      <td>6.6</td>\n",
       "      <td>5063.600000</td>\n",
       "      <td>5.050000</td>\n",
       "      <td>4401.340000</td>\n",
       "      <td>Anne Arundel</td>\n",
       "      <td>MD</td>\n",
       "      <td>12304.0</td>\n",
       "      <td>50.89</td>\n",
       "      <td>9.57</td>\n",
       "    </tr>\n",
       "    <tr>\n",
       "      <th>24</th>\n",
       "      <td>anoka</td>\n",
       "      <td>27003</td>\n",
       "      <td>mn</td>\n",
       "      <td>131036.0</td>\n",
       "      <td>0.590000</td>\n",
       "      <td>97.056667</td>\n",
       "      <td>1.255000</td>\n",
       "      <td>0.973333</td>\n",
       "      <td>99.856667</td>\n",
       "      <td>38629.5</td>\n",
       "      <td>...</td>\n",
       "      <td>93.975000</td>\n",
       "      <td>121.1</td>\n",
       "      <td>2078.533333</td>\n",
       "      <td>3.246667</td>\n",
       "      <td>3693.458333</td>\n",
       "      <td>Anoka</td>\n",
       "      <td>MN</td>\n",
       "      <td>18810.0</td>\n",
       "      <td>50.39</td>\n",
       "      <td>3.01</td>\n",
       "    </tr>\n",
       "    <tr>\n",
       "      <th>25</th>\n",
       "      <td>arapahoe</td>\n",
       "      <td>08005</td>\n",
       "      <td>co</td>\n",
       "      <td>285175.0</td>\n",
       "      <td>4.506667</td>\n",
       "      <td>90.776667</td>\n",
       "      <td>2.230000</td>\n",
       "      <td>6.616667</td>\n",
       "      <td>99.923333</td>\n",
       "      <td>33214.0</td>\n",
       "      <td>...</td>\n",
       "      <td>83.623333</td>\n",
       "      <td>156.9</td>\n",
       "      <td>2866.266667</td>\n",
       "      <td>3.666667</td>\n",
       "      <td>3981.640000</td>\n",
       "      <td>Arapahoe</td>\n",
       "      <td>CO</td>\n",
       "      <td>12751.0</td>\n",
       "      <td>69.30</td>\n",
       "      <td>8.20</td>\n",
       "    </tr>\n",
       "    <tr>\n",
       "      <th>26</th>\n",
       "      <td>arkansas</td>\n",
       "      <td>05001</td>\n",
       "      <td>ar</td>\n",
       "      <td>10420.0</td>\n",
       "      <td>30.120000</td>\n",
       "      <td>69.310000</td>\n",
       "      <td>0.210000</td>\n",
       "      <td>0.350000</td>\n",
       "      <td>0.000000</td>\n",
       "      <td>20618.0</td>\n",
       "      <td>...</td>\n",
       "      <td>93.200000</td>\n",
       "      <td>5.8</td>\n",
       "      <td>1790.400000</td>\n",
       "      <td>0.210000</td>\n",
       "      <td>4529.680000</td>\n",
       "      <td>NaN</td>\n",
       "      <td>NaN</td>\n",
       "      <td>NaN</td>\n",
       "      <td>NaN</td>\n",
       "      <td>NaN</td>\n",
       "    </tr>\n",
       "    <tr>\n",
       "      <th>27</th>\n",
       "      <td>aroostook</td>\n",
       "      <td>23003</td>\n",
       "      <td>me</td>\n",
       "      <td>10550.0</td>\n",
       "      <td>0.550000</td>\n",
       "      <td>97.940000</td>\n",
       "      <td>0.560000</td>\n",
       "      <td>0.630000</td>\n",
       "      <td>0.000000</td>\n",
       "      <td>23053.0</td>\n",
       "      <td>...</td>\n",
       "      <td>89.980000</td>\n",
       "      <td>78.5</td>\n",
       "      <td>134.400000</td>\n",
       "      <td>0.130000</td>\n",
       "      <td>2967.540000</td>\n",
       "      <td>Aroostook</td>\n",
       "      <td>ME</td>\n",
       "      <td>11229.0</td>\n",
       "      <td>50.78</td>\n",
       "      <td>8.24</td>\n",
       "    </tr>\n",
       "    <tr>\n",
       "      <th>28</th>\n",
       "      <td>ashland</td>\n",
       "      <td>39005</td>\n",
       "      <td>oh</td>\n",
       "      <td>20079.0</td>\n",
       "      <td>1.570000</td>\n",
       "      <td>97.150000</td>\n",
       "      <td>1.000000</td>\n",
       "      <td>0.630000</td>\n",
       "      <td>0.000000</td>\n",
       "      <td>24536.0</td>\n",
       "      <td>...</td>\n",
       "      <td>92.480000</td>\n",
       "      <td>9.8</td>\n",
       "      <td>2044.000000</td>\n",
       "      <td>0.160000</td>\n",
       "      <td>1796.750000</td>\n",
       "      <td>NaN</td>\n",
       "      <td>NaN</td>\n",
       "      <td>NaN</td>\n",
       "      <td>NaN</td>\n",
       "      <td>NaN</td>\n",
       "    </tr>\n",
       "    <tr>\n",
       "      <th>29</th>\n",
       "      <td>ashtabula</td>\n",
       "      <td>39007</td>\n",
       "      <td>oh</td>\n",
       "      <td>13241.0</td>\n",
       "      <td>1.230000</td>\n",
       "      <td>98.130000</td>\n",
       "      <td>0.290000</td>\n",
       "      <td>0.850000</td>\n",
       "      <td>0.000000</td>\n",
       "      <td>21144.0</td>\n",
       "      <td>...</td>\n",
       "      <td>92.220000</td>\n",
       "      <td>27.3</td>\n",
       "      <td>484.700000</td>\n",
       "      <td>0.650000</td>\n",
       "      <td>1808.590000</td>\n",
       "      <td>Ashtabula</td>\n",
       "      <td>OH</td>\n",
       "      <td>12411.0</td>\n",
       "      <td>46.74</td>\n",
       "      <td>8.19</td>\n",
       "    </tr>\n",
       "    <tr>\n",
       "      <th>30</th>\n",
       "      <td>athens</td>\n",
       "      <td>39009</td>\n",
       "      <td>oh</td>\n",
       "      <td>21265.0</td>\n",
       "      <td>4.630000</td>\n",
       "      <td>88.930000</td>\n",
       "      <td>5.840000</td>\n",
       "      <td>1.190000</td>\n",
       "      <td>0.000000</td>\n",
       "      <td>14350.0</td>\n",
       "      <td>...</td>\n",
       "      <td>79.510000</td>\n",
       "      <td>7.0</td>\n",
       "      <td>3029.000000</td>\n",
       "      <td>0.860000</td>\n",
       "      <td>2406.920000</td>\n",
       "      <td>Athens</td>\n",
       "      <td>OH</td>\n",
       "      <td>16911.0</td>\n",
       "      <td>72.22</td>\n",
       "      <td>44.37</td>\n",
       "    </tr>\n",
       "    <tr>\n",
       "      <th>31</th>\n",
       "      <td>atlantic</td>\n",
       "      <td>34001</td>\n",
       "      <td>nj</td>\n",
       "      <td>99796.0</td>\n",
       "      <td>19.365000</td>\n",
       "      <td>74.716667</td>\n",
       "      <td>1.946667</td>\n",
       "      <td>7.820000</td>\n",
       "      <td>83.333333</td>\n",
       "      <td>32456.5</td>\n",
       "      <td>...</td>\n",
       "      <td>88.885000</td>\n",
       "      <td>73.6</td>\n",
       "      <td>2587.700000</td>\n",
       "      <td>10.701667</td>\n",
       "      <td>6197.838333</td>\n",
       "      <td>Atlantic</td>\n",
       "      <td>NJ</td>\n",
       "      <td>53636.0</td>\n",
       "      <td>70.18</td>\n",
       "      <td>14.57</td>\n",
       "    </tr>\n",
       "    <tr>\n",
       "      <th>32</th>\n",
       "      <td>audrain</td>\n",
       "      <td>29007</td>\n",
       "      <td>mo</td>\n",
       "      <td>11290.0</td>\n",
       "      <td>9.400000</td>\n",
       "      <td>89.790000</td>\n",
       "      <td>0.460000</td>\n",
       "      <td>0.420000</td>\n",
       "      <td>0.000000</td>\n",
       "      <td>23744.0</td>\n",
       "      <td>...</td>\n",
       "      <td>93.140000</td>\n",
       "      <td>10.3</td>\n",
       "      <td>1098.700000</td>\n",
       "      <td>0.630000</td>\n",
       "      <td>1588.700000</td>\n",
       "      <td>NaN</td>\n",
       "      <td>NaN</td>\n",
       "      <td>NaN</td>\n",
       "      <td>NaN</td>\n",
       "      <td>NaN</td>\n",
       "    </tr>\n",
       "    <tr>\n",
       "      <th>33</th>\n",
       "      <td>autauga</td>\n",
       "      <td>01001</td>\n",
       "      <td>al</td>\n",
       "      <td>19587.0</td>\n",
       "      <td>13.940000</td>\n",
       "      <td>85.030000</td>\n",
       "      <td>0.600000</td>\n",
       "      <td>0.780000</td>\n",
       "      <td>100.000000</td>\n",
       "      <td>32493.0</td>\n",
       "      <td>...</td>\n",
       "      <td>83.490000</td>\n",
       "      <td>19.1</td>\n",
       "      <td>1027.600000</td>\n",
       "      <td>0.150000</td>\n",
       "      <td>3611.390000</td>\n",
       "      <td>Autauga</td>\n",
       "      <td>AL</td>\n",
       "      <td>4874.0</td>\n",
       "      <td>53.26</td>\n",
       "      <td>11.65</td>\n",
       "    </tr>\n",
       "    <tr>\n",
       "      <th>34</th>\n",
       "      <td>baldwin</td>\n",
       "      <td>01003</td>\n",
       "      <td>al</td>\n",
       "      <td>11290.0</td>\n",
       "      <td>15.890000</td>\n",
       "      <td>83.310000</td>\n",
       "      <td>0.420000</td>\n",
       "      <td>0.950000</td>\n",
       "      <td>0.000000</td>\n",
       "      <td>38017.0</td>\n",
       "      <td>...</td>\n",
       "      <td>83.940000</td>\n",
       "      <td>11.4</td>\n",
       "      <td>987.900000</td>\n",
       "      <td>0.090000</td>\n",
       "      <td>2295.310000</td>\n",
       "      <td>Baldwin</td>\n",
       "      <td>AL</td>\n",
       "      <td>3724.0</td>\n",
       "      <td>44.20</td>\n",
       "      <td>10.30</td>\n",
       "    </tr>\n",
       "    <tr>\n",
       "      <th>35</th>\n",
       "      <td>baltimore</td>\n",
       "      <td>24510</td>\n",
       "      <td>md</td>\n",
       "      <td>736014.0</td>\n",
       "      <td>59.210000</td>\n",
       "      <td>39.100000</td>\n",
       "      <td>1.080000</td>\n",
       "      <td>1.030000</td>\n",
       "      <td>100.000000</td>\n",
       "      <td>24045.0</td>\n",
       "      <td>...</td>\n",
       "      <td>93.300000</td>\n",
       "      <td>83.7</td>\n",
       "      <td>8791.500000</td>\n",
       "      <td>22.190000</td>\n",
       "      <td>5820.060000</td>\n",
       "      <td>Baltimore City</td>\n",
       "      <td>MD</td>\n",
       "      <td>27510.0</td>\n",
       "      <td>55.32</td>\n",
       "      <td>9.59</td>\n",
       "    </tr>\n",
       "    <tr>\n",
       "      <th>36</th>\n",
       "      <td>bannock</td>\n",
       "      <td>16005</td>\n",
       "      <td>id</td>\n",
       "      <td>46080.0</td>\n",
       "      <td>0.860000</td>\n",
       "      <td>94.070000</td>\n",
       "      <td>1.270000</td>\n",
       "      <td>4.530000</td>\n",
       "      <td>100.000000</td>\n",
       "      <td>24955.0</td>\n",
       "      <td>...</td>\n",
       "      <td>85.900000</td>\n",
       "      <td>28.6</td>\n",
       "      <td>1610.300000</td>\n",
       "      <td>3.050000</td>\n",
       "      <td>3218.970000</td>\n",
       "      <td>Bannock</td>\n",
       "      <td>ID</td>\n",
       "      <td>2414.0</td>\n",
       "      <td>25.00</td>\n",
       "      <td>8.80</td>\n",
       "    </tr>\n",
       "    <tr>\n",
       "      <th>37</th>\n",
       "      <td>barbour</td>\n",
       "      <td>01005</td>\n",
       "      <td>al</td>\n",
       "      <td>13220.0</td>\n",
       "      <td>34.460000</td>\n",
       "      <td>64.940000</td>\n",
       "      <td>0.320000</td>\n",
       "      <td>0.560000</td>\n",
       "      <td>0.000000</td>\n",
       "      <td>21920.0</td>\n",
       "      <td>...</td>\n",
       "      <td>86.160000</td>\n",
       "      <td>61.6</td>\n",
       "      <td>214.700000</td>\n",
       "      <td>0.150000</td>\n",
       "      <td>3382.970000</td>\n",
       "      <td>Barbour</td>\n",
       "      <td>AL</td>\n",
       "      <td>12959.0</td>\n",
       "      <td>21.93</td>\n",
       "      <td>6.24</td>\n",
       "    </tr>\n",
       "    <tr>\n",
       "      <th>38</th>\n",
       "      <td>barren</td>\n",
       "      <td>21009</td>\n",
       "      <td>ky</td>\n",
       "      <td>12351.0</td>\n",
       "      <td>8.690000</td>\n",
       "      <td>90.790000</td>\n",
       "      <td>0.320000</td>\n",
       "      <td>0.280000</td>\n",
       "      <td>0.000000</td>\n",
       "      <td>17805.0</td>\n",
       "      <td>...</td>\n",
       "      <td>95.530000</td>\n",
       "      <td>10.9</td>\n",
       "      <td>1131.900000</td>\n",
       "      <td>0.180000</td>\n",
       "      <td>419.420000</td>\n",
       "      <td>NaN</td>\n",
       "      <td>NaN</td>\n",
       "      <td>NaN</td>\n",
       "      <td>NaN</td>\n",
       "      <td>NaN</td>\n",
       "    </tr>\n",
       "    <tr>\n",
       "      <th>39</th>\n",
       "      <td>bartow</td>\n",
       "      <td>13015</td>\n",
       "      <td>ga</td>\n",
       "      <td>12035.0</td>\n",
       "      <td>17.630000</td>\n",
       "      <td>81.330000</td>\n",
       "      <td>0.420000</td>\n",
       "      <td>1.090000</td>\n",
       "      <td>0.000000</td>\n",
       "      <td>25384.0</td>\n",
       "      <td>...</td>\n",
       "      <td>91.700000</td>\n",
       "      <td>24.6</td>\n",
       "      <td>488.700000</td>\n",
       "      <td>0.240000</td>\n",
       "      <td>3435.170000</td>\n",
       "      <td>Bartow</td>\n",
       "      <td>GA</td>\n",
       "      <td>2911.0</td>\n",
       "      <td>97.60</td>\n",
       "      <td>11.20</td>\n",
       "    </tr>\n",
       "  </tbody>\n",
       "</table>\n",
       "<p>40 rows × 68 columns</p>\n",
       "</div>"
      ],
      "text/plain": [
       "     county_name county_fips state  population  racepctblack  racePctWhite  \\\n",
       "0         acadia       22001    la     13983.0     30.680000     68.800000   \n",
       "1          adams       08001    co    132489.0      1.642500     87.125000   \n",
       "2          adams       28001    ms     19460.0     50.340000     49.310000   \n",
       "3          aiken       45003    sc     35223.0     23.225000     75.585000   \n",
       "4        alachua       12001    fl     84770.0     21.440000     73.360000   \n",
       "5       alamance       37001    nc     49924.0     19.305000     79.695000   \n",
       "6        alameda       06001    ca   1153560.0      9.493846     69.035385   \n",
       "7         albany       36001    ny    117907.0     10.645000     87.115000   \n",
       "8         albany       56001    wy     26687.0      0.920000     93.140000   \n",
       "9         alcona       26001    mi     13604.0      0.770000     97.830000   \n",
       "10    alexandria       51510    va    111183.0     21.890000     69.070000   \n",
       "11      allegany       24001    md     23706.0      4.420000     94.790000   \n",
       "12     allegheny       42003    pa    469886.0     16.105000     82.913333   \n",
       "13         allen       18003    in    173072.0     16.750000     80.450000   \n",
       "14         allen       39003    oh     45549.0     24.040000     74.530000   \n",
       "15        alpena       26007    mi     11354.0      0.240000     98.740000   \n",
       "16     anchorage       02020    ak    226338.0      6.430000     80.740000   \n",
       "17      anderson       45007    sc     26184.0     34.260000     65.090000   \n",
       "18      anderson       47001    tn     27310.0      7.980000     89.380000   \n",
       "19      anderson       48001    tx     18042.0     23.570000     69.350000   \n",
       "20       andrews       48003    tx     10678.0      2.400000     73.970000   \n",
       "21  androscoggin       23001    me     64066.0      0.575000     98.310000   \n",
       "22      angelina       48005    tx     30206.0     27.220000     65.220000   \n",
       "23  anne arundel       24003    md     33187.0     33.040000     64.940000   \n",
       "24         anoka       27003    mn    131036.0      0.590000     97.056667   \n",
       "25      arapahoe       08005    co    285175.0      4.506667     90.776667   \n",
       "26      arkansas       05001    ar     10420.0     30.120000     69.310000   \n",
       "27     aroostook       23003    me     10550.0      0.550000     97.940000   \n",
       "28       ashland       39005    oh     20079.0      1.570000     97.150000   \n",
       "29     ashtabula       39007    oh     13241.0      1.230000     98.130000   \n",
       "30        athens       39009    oh     21265.0      4.630000     88.930000   \n",
       "31      atlantic       34001    nj     99796.0     19.365000     74.716667   \n",
       "32       audrain       29007    mo     11290.0      9.400000     89.790000   \n",
       "33       autauga       01001    al     19587.0     13.940000     85.030000   \n",
       "34       baldwin       01003    al     11290.0     15.890000     83.310000   \n",
       "35     baltimore       24510    md    736014.0     59.210000     39.100000   \n",
       "36       bannock       16005    id     46080.0      0.860000     94.070000   \n",
       "37       barbour       01005    al     13220.0     34.460000     64.940000   \n",
       "38        barren       21009    ky     12351.0      8.690000     90.790000   \n",
       "39        bartow       13015    ga     12035.0     17.630000     81.330000   \n",
       "\n",
       "    racePctAsian  racePctHisp    pctUrban  medIncome  ...  PctSameState85  \\\n",
       "0       0.310000     0.420000    0.000000    13804.0  ...       97.690000   \n",
       "1       2.067500    24.150000   74.600000    30926.0  ...       89.712500   \n",
       "2       0.230000     0.500000    0.000000    16769.0  ...       92.110000   \n",
       "3       0.815000     0.765000  100.000000    33075.0  ...       77.870000   \n",
       "4       3.940000     4.400000  100.000000    21077.0  ...       81.040000   \n",
       "5       0.580000     0.760000  100.000000    25504.5  ...       91.815000   \n",
       "6      15.028462    13.083077   99.994615    46988.0  ...       87.469231   \n",
       "7       1.285000     1.900000  100.000000    24735.5  ...       94.125000   \n",
       "8       2.320000     6.660000    0.000000    19642.0  ...       77.110000   \n",
       "9       0.990000     1.290000   88.610000    37771.0  ...       87.160000   \n",
       "10      4.170000     9.690000  100.000000    41472.0  ...       66.590000   \n",
       "11      0.540000     0.450000  100.000000    16442.0  ...       91.150000   \n",
       "12      0.665000     0.626667  100.000000    25320.0  ...       94.680000   \n",
       "13      1.010000     2.700000  100.000000    26344.0  ...       89.300000   \n",
       "14      0.500000     1.500000  100.000000    21061.0  ...       92.930000   \n",
       "15      0.540000     0.470000    0.000000    20472.0  ...       92.360000   \n",
       "16      4.820000     4.090000   97.970000    43946.0  ...       75.000000   \n",
       "17      0.310000     0.530000  100.000000    19433.0  ...       91.100000   \n",
       "18      2.060000     0.970000    0.000000    32615.0  ...       84.030000   \n",
       "19      0.390000     9.170000    0.000000    21427.0  ...       95.210000   \n",
       "20      1.130000    34.190000    0.000000    26136.0  ...       95.040000   \n",
       "21      0.680000     0.625000   98.640000    25772.0  ...       91.030000   \n",
       "22      0.790000     9.640000    0.000000    22357.0  ...       94.940000   \n",
       "23      1.340000     1.460000  100.000000    35516.0  ...       83.770000   \n",
       "24      1.255000     0.973333   99.856667    38629.5  ...       93.975000   \n",
       "25      2.230000     6.616667   99.923333    33214.0  ...       83.623333   \n",
       "26      0.210000     0.350000    0.000000    20618.0  ...       93.200000   \n",
       "27      0.560000     0.630000    0.000000    23053.0  ...       89.980000   \n",
       "28      1.000000     0.630000    0.000000    24536.0  ...       92.480000   \n",
       "29      0.290000     0.850000    0.000000    21144.0  ...       92.220000   \n",
       "30      5.840000     1.190000    0.000000    14350.0  ...       79.510000   \n",
       "31      1.946667     7.820000   83.333333    32456.5  ...       88.885000   \n",
       "32      0.460000     0.420000    0.000000    23744.0  ...       93.140000   \n",
       "33      0.600000     0.780000  100.000000    32493.0  ...       83.490000   \n",
       "34      0.420000     0.950000    0.000000    38017.0  ...       83.940000   \n",
       "35      1.080000     1.030000  100.000000    24045.0  ...       93.300000   \n",
       "36      1.270000     4.530000  100.000000    24955.0  ...       85.900000   \n",
       "37      0.320000     0.560000    0.000000    21920.0  ...       86.160000   \n",
       "38      0.320000     0.280000    0.000000    17805.0  ...       95.530000   \n",
       "39      0.420000     1.090000    0.000000    25384.0  ...       91.700000   \n",
       "\n",
       "    LandArea      PopDens  PctUsePubTrans   larcPerPop      CountyName  State  \\\n",
       "0        4.7  2957.500000        0.980000  4726.620000          Acadia     LA   \n",
       "1       71.2  2040.925000        2.557500  4897.750000           Adams     CO   \n",
       "2       13.7  1422.100000        0.850000  5769.430000           Adams     MS   \n",
       "3       31.1  1157.150000        0.080000  3194.260000           Aiken     SC   \n",
       "4       36.1  2347.400000        2.700000  6951.520000         Alachua     FL   \n",
       "5       28.4  1649.150000        0.205000  3737.980000        Alamance     NC   \n",
       "6      301.8  4735.876923        8.760769  3735.738462         Alameda     CA   \n",
       "7       26.1  4448.650000        9.780000  2616.820000          Albany     NY   \n",
       "8       11.5  2312.600000        0.300000  3016.280000          Albany     WY   \n",
       "9       18.6   732.300000        0.000000  2198.200000          Alcona     MI   \n",
       "10      15.8  7028.000000       18.150000  4983.550000             NaN    NaN   \n",
       "11       8.6  2763.500000        1.490000  3880.030000        Allegany     MD   \n",
       "12      89.5  5907.383333       17.650000  1987.981667       Allegheny     PA   \n",
       "13      64.9  2666.300000        2.150000  5414.490000           Allen     IN   \n",
       "14      13.1  3469.800000        1.360000  4895.780000           Allen     OH   \n",
       "15       8.8  1289.100000        1.070000  4229.820000          Alpena     MI   \n",
       "16    1758.8   128.700000        2.420000  4205.130000             NaN    NaN   \n",
       "17      12.8  2042.400000        0.880000  4098.000000        Anderson     SC   \n",
       "18      88.6   308.100000        0.030000  4624.780000        Anderson     TN   \n",
       "19      17.9  1005.500000        0.140000  4467.930000        Anderson     TX   \n",
       "20       4.9  2163.300000        0.000000  2249.860000         Andrews     TX   \n",
       "21      97.2   759.000000        0.775000  3575.960000             NaN    NaN   \n",
       "22      24.4  1236.100000        0.410000  4396.080000        Angelina     TX   \n",
       "23       6.6  5063.600000        5.050000  4401.340000    Anne Arundel     MD   \n",
       "24     121.1  2078.533333        3.246667  3693.458333           Anoka     MN   \n",
       "25     156.9  2866.266667        3.666667  3981.640000        Arapahoe     CO   \n",
       "26       5.8  1790.400000        0.210000  4529.680000             NaN    NaN   \n",
       "27      78.5   134.400000        0.130000  2967.540000       Aroostook     ME   \n",
       "28       9.8  2044.000000        0.160000  1796.750000             NaN    NaN   \n",
       "29      27.3   484.700000        0.650000  1808.590000       Ashtabula     OH   \n",
       "30       7.0  3029.000000        0.860000  2406.920000          Athens     OH   \n",
       "31      73.6  2587.700000       10.701667  6197.838333        Atlantic     NJ   \n",
       "32      10.3  1098.700000        0.630000  1588.700000             NaN    NaN   \n",
       "33      19.1  1027.600000        0.150000  3611.390000         Autauga     AL   \n",
       "34      11.4   987.900000        0.090000  2295.310000         Baldwin     AL   \n",
       "35      83.7  8791.500000       22.190000  5820.060000  Baltimore City     MD   \n",
       "36      28.6  1610.300000        3.050000  3218.970000         Bannock     ID   \n",
       "37      61.6   214.700000        0.150000  3382.970000         Barbour     AL   \n",
       "38      10.9  1131.900000        0.180000   419.420000             NaN    NaN   \n",
       "39      24.6   488.700000        0.240000  3435.170000          Bartow     GA   \n",
       "\n",
       "    total_population  weighted_low_access  weighted_low_income_access  \n",
       "0             6188.0                18.50                        5.60  \n",
       "1            59872.0                61.60                        5.79  \n",
       "2             6797.0                60.85                       26.85  \n",
       "3            13206.0                45.89                        8.67  \n",
       "4            57345.0                44.76                       18.71  \n",
       "5            15145.0                61.16                       11.41  \n",
       "6            19160.0                84.64                       14.50  \n",
       "7            40563.0                59.50                       16.85  \n",
       "8             6688.0                93.30                       20.03  \n",
       "9             1679.0                71.40                        7.10  \n",
       "10               NaN                  NaN                         NaN  \n",
       "11           18970.0                55.99                        4.82  \n",
       "12           56528.0                62.88                       11.25  \n",
       "13           29124.0                70.52                       18.69  \n",
       "14           18403.0                65.91                       14.23  \n",
       "15            9146.0                34.03                        2.74  \n",
       "16               NaN                  NaN                         NaN  \n",
       "17           18694.0                40.68                        7.58  \n",
       "18            6544.0                74.30                       13.10  \n",
       "19            2353.0                22.60                        7.20  \n",
       "20            3519.0                83.20                       18.50  \n",
       "21               NaN                  NaN                         NaN  \n",
       "22           12369.0                58.56                       15.34  \n",
       "23           12304.0                50.89                        9.57  \n",
       "24           18810.0                50.39                        3.01  \n",
       "25           12751.0                69.30                        8.20  \n",
       "26               NaN                  NaN                         NaN  \n",
       "27           11229.0                50.78                        8.24  \n",
       "28               NaN                  NaN                         NaN  \n",
       "29           12411.0                46.74                        8.19  \n",
       "30           16911.0                72.22                       44.37  \n",
       "31           53636.0                70.18                       14.57  \n",
       "32               NaN                  NaN                         NaN  \n",
       "33            4874.0                53.26                       11.65  \n",
       "34            3724.0                44.20                       10.30  \n",
       "35           27510.0                55.32                        9.59  \n",
       "36            2414.0                25.00                        8.80  \n",
       "37           12959.0                21.93                        6.24  \n",
       "38               NaN                  NaN                         NaN  \n",
       "39            2911.0                97.60                       11.20  \n",
       "\n",
       "[40 rows x 68 columns]"
      ]
     },
     "execution_count": 103,
     "metadata": {},
     "output_type": "execute_result"
    }
   ],
   "source": [
    "df.head(40)"
   ]
  },
  {
   "cell_type": "code",
   "execution_count": 104,
   "id": "e0ea968e",
   "metadata": {},
   "outputs": [],
   "source": [
    "# Drop redundant columns after merge\n",
    "df = df.drop(columns=['CountyName', 'State', 'total_population'])"
   ]
  },
  {
   "cell_type": "code",
   "execution_count": 105,
   "id": "0c420813",
   "metadata": {
    "scrolled": true
   },
   "outputs": [
    {
     "data": {
      "text/html": [
       "<div>\n",
       "<style scoped>\n",
       "    .dataframe tbody tr th:only-of-type {\n",
       "        vertical-align: middle;\n",
       "    }\n",
       "\n",
       "    .dataframe tbody tr th {\n",
       "        vertical-align: top;\n",
       "    }\n",
       "\n",
       "    .dataframe thead th {\n",
       "        text-align: right;\n",
       "    }\n",
       "</style>\n",
       "<table border=\"1\" class=\"dataframe\">\n",
       "  <thead>\n",
       "    <tr style=\"text-align: right;\">\n",
       "      <th></th>\n",
       "      <th>county_name</th>\n",
       "      <th>county_fips</th>\n",
       "      <th>state</th>\n",
       "      <th>population</th>\n",
       "      <th>racepctblack</th>\n",
       "      <th>racePctWhite</th>\n",
       "      <th>racePctAsian</th>\n",
       "      <th>racePctHisp</th>\n",
       "      <th>pctUrban</th>\n",
       "      <th>medIncome</th>\n",
       "      <th>...</th>\n",
       "      <th>PctBornSameState</th>\n",
       "      <th>PctSameHouse85</th>\n",
       "      <th>PctSameCity85</th>\n",
       "      <th>PctSameState85</th>\n",
       "      <th>LandArea</th>\n",
       "      <th>PopDens</th>\n",
       "      <th>PctUsePubTrans</th>\n",
       "      <th>larcPerPop</th>\n",
       "      <th>weighted_low_access</th>\n",
       "      <th>weighted_low_income_access</th>\n",
       "    </tr>\n",
       "  </thead>\n",
       "  <tbody>\n",
       "    <tr>\n",
       "      <th>0</th>\n",
       "      <td>acadia</td>\n",
       "      <td>22001</td>\n",
       "      <td>la</td>\n",
       "      <td>13983.0</td>\n",
       "      <td>30.6800</td>\n",
       "      <td>68.800</td>\n",
       "      <td>0.3100</td>\n",
       "      <td>0.420</td>\n",
       "      <td>0.0</td>\n",
       "      <td>13804.0</td>\n",
       "      <td>...</td>\n",
       "      <td>93.1400</td>\n",
       "      <td>58.9800</td>\n",
       "      <td>92.1900</td>\n",
       "      <td>97.6900</td>\n",
       "      <td>4.7</td>\n",
       "      <td>2957.500</td>\n",
       "      <td>0.9800</td>\n",
       "      <td>4726.62</td>\n",
       "      <td>18.50</td>\n",
       "      <td>5.60</td>\n",
       "    </tr>\n",
       "    <tr>\n",
       "      <th>1</th>\n",
       "      <td>adams</td>\n",
       "      <td>08001</td>\n",
       "      <td>co</td>\n",
       "      <td>132489.0</td>\n",
       "      <td>1.6425</td>\n",
       "      <td>87.125</td>\n",
       "      <td>2.0675</td>\n",
       "      <td>24.150</td>\n",
       "      <td>74.6</td>\n",
       "      <td>30926.0</td>\n",
       "      <td>...</td>\n",
       "      <td>53.1025</td>\n",
       "      <td>51.3725</td>\n",
       "      <td>74.7425</td>\n",
       "      <td>89.7125</td>\n",
       "      <td>71.2</td>\n",
       "      <td>2040.925</td>\n",
       "      <td>2.5575</td>\n",
       "      <td>4897.75</td>\n",
       "      <td>61.60</td>\n",
       "      <td>5.79</td>\n",
       "    </tr>\n",
       "    <tr>\n",
       "      <th>2</th>\n",
       "      <td>adams</td>\n",
       "      <td>28001</td>\n",
       "      <td>ms</td>\n",
       "      <td>19460.0</td>\n",
       "      <td>50.3400</td>\n",
       "      <td>49.310</td>\n",
       "      <td>0.2300</td>\n",
       "      <td>0.500</td>\n",
       "      <td>0.0</td>\n",
       "      <td>16769.0</td>\n",
       "      <td>...</td>\n",
       "      <td>79.5400</td>\n",
       "      <td>61.2500</td>\n",
       "      <td>87.6300</td>\n",
       "      <td>92.1100</td>\n",
       "      <td>13.7</td>\n",
       "      <td>1422.100</td>\n",
       "      <td>0.8500</td>\n",
       "      <td>5769.43</td>\n",
       "      <td>60.85</td>\n",
       "      <td>26.85</td>\n",
       "    </tr>\n",
       "    <tr>\n",
       "      <th>3</th>\n",
       "      <td>aiken</td>\n",
       "      <td>45003</td>\n",
       "      <td>sc</td>\n",
       "      <td>35223.0</td>\n",
       "      <td>23.2250</td>\n",
       "      <td>75.585</td>\n",
       "      <td>0.8150</td>\n",
       "      <td>0.765</td>\n",
       "      <td>100.0</td>\n",
       "      <td>33075.0</td>\n",
       "      <td>...</td>\n",
       "      <td>34.1900</td>\n",
       "      <td>49.2600</td>\n",
       "      <td>72.7600</td>\n",
       "      <td>77.8700</td>\n",
       "      <td>31.1</td>\n",
       "      <td>1157.150</td>\n",
       "      <td>0.0800</td>\n",
       "      <td>3194.26</td>\n",
       "      <td>45.89</td>\n",
       "      <td>8.67</td>\n",
       "    </tr>\n",
       "    <tr>\n",
       "      <th>4</th>\n",
       "      <td>alachua</td>\n",
       "      <td>12001</td>\n",
       "      <td>fl</td>\n",
       "      <td>84770.0</td>\n",
       "      <td>21.4400</td>\n",
       "      <td>73.360</td>\n",
       "      <td>3.9400</td>\n",
       "      <td>4.400</td>\n",
       "      <td>100.0</td>\n",
       "      <td>21077.0</td>\n",
       "      <td>...</td>\n",
       "      <td>43.1600</td>\n",
       "      <td>34.0000</td>\n",
       "      <td>55.7200</td>\n",
       "      <td>81.0400</td>\n",
       "      <td>36.1</td>\n",
       "      <td>2347.400</td>\n",
       "      <td>2.7000</td>\n",
       "      <td>6951.52</td>\n",
       "      <td>44.76</td>\n",
       "      <td>18.71</td>\n",
       "    </tr>\n",
       "  </tbody>\n",
       "</table>\n",
       "<p>5 rows × 65 columns</p>\n",
       "</div>"
      ],
      "text/plain": [
       "  county_name county_fips state  population  racepctblack  racePctWhite  \\\n",
       "0      acadia       22001    la     13983.0       30.6800        68.800   \n",
       "1       adams       08001    co    132489.0        1.6425        87.125   \n",
       "2       adams       28001    ms     19460.0       50.3400        49.310   \n",
       "3       aiken       45003    sc     35223.0       23.2250        75.585   \n",
       "4     alachua       12001    fl     84770.0       21.4400        73.360   \n",
       "\n",
       "   racePctAsian  racePctHisp  pctUrban  medIncome  ...  PctBornSameState  \\\n",
       "0        0.3100        0.420       0.0    13804.0  ...           93.1400   \n",
       "1        2.0675       24.150      74.6    30926.0  ...           53.1025   \n",
       "2        0.2300        0.500       0.0    16769.0  ...           79.5400   \n",
       "3        0.8150        0.765     100.0    33075.0  ...           34.1900   \n",
       "4        3.9400        4.400     100.0    21077.0  ...           43.1600   \n",
       "\n",
       "   PctSameHouse85  PctSameCity85  PctSameState85  LandArea   PopDens  \\\n",
       "0         58.9800        92.1900         97.6900       4.7  2957.500   \n",
       "1         51.3725        74.7425         89.7125      71.2  2040.925   \n",
       "2         61.2500        87.6300         92.1100      13.7  1422.100   \n",
       "3         49.2600        72.7600         77.8700      31.1  1157.150   \n",
       "4         34.0000        55.7200         81.0400      36.1  2347.400   \n",
       "\n",
       "   PctUsePubTrans  larcPerPop  weighted_low_access  weighted_low_income_access  \n",
       "0          0.9800     4726.62                18.50                        5.60  \n",
       "1          2.5575     4897.75                61.60                        5.79  \n",
       "2          0.8500     5769.43                60.85                       26.85  \n",
       "3          0.0800     3194.26                45.89                        8.67  \n",
       "4          2.7000     6951.52                44.76                       18.71  \n",
       "\n",
       "[5 rows x 65 columns]"
      ]
     },
     "execution_count": 105,
     "metadata": {},
     "output_type": "execute_result"
    }
   ],
   "source": [
    "df.head()"
   ]
  },
  {
   "cell_type": "code",
   "execution_count": 106,
   "id": "4993dbdc",
   "metadata": {},
   "outputs": [
    {
     "data": {
      "text/plain": [
       "(878, 65)"
      ]
     },
     "execution_count": 106,
     "metadata": {},
     "output_type": "execute_result"
    }
   ],
   "source": [
    "df.shape"
   ]
  },
  {
   "cell_type": "code",
   "execution_count": 107,
   "id": "786ba9d6",
   "metadata": {
    "scrolled": true
   },
   "outputs": [
    {
     "data": {
      "text/plain": [
       "county_name                     0\n",
       "county_fips                     0\n",
       "state                           0\n",
       "population                      0\n",
       "racepctblack                    0\n",
       "                             ... \n",
       "PopDens                         0\n",
       "PctUsePubTrans                  0\n",
       "larcPerPop                      0\n",
       "weighted_low_access           184\n",
       "weighted_low_income_access    184\n",
       "Length: 65, dtype: int64"
      ]
     },
     "execution_count": 107,
     "metadata": {},
     "output_type": "execute_result"
    }
   ],
   "source": [
    "df.isna().sum()"
   ]
  },
  {
   "cell_type": "markdown",
   "id": "95c45e2b",
   "metadata": {},
   "source": [
    "Ok it seems like some of the food_access dataset could not find the FIPS values for 184 rows. Lets try to impute the data using similar counties with similar statistics in order to calculate the food access with as little bias as possible."
   ]
  },
  {
   "cell_type": "markdown",
   "id": "21290347",
   "metadata": {},
   "source": [
    "## Dealing with Missing Food Access Statistics"
   ]
  },
  {
   "cell_type": "code",
   "execution_count": 108,
   "id": "7fbdeb94",
   "metadata": {
    "scrolled": true
   },
   "outputs": [
    {
     "name": "stdout",
     "output_type": "stream",
     "text": [
      "      county_name state  population  medIncome  pctUrban\n",
      "10     alexandria    va    111183.0    41472.0    100.00\n",
      "16      anchorage    ak    226338.0    43946.0     97.97\n",
      "21   androscoggin    me     64066.0    25772.0     98.64\n",
      "26       arkansas    ar     10420.0    20618.0      0.00\n",
      "28        ashland    oh     20079.0    24536.0      0.00\n",
      "..            ...   ...         ...        ...       ...\n",
      "859    winchester    va     21947.0    26086.0      0.00\n",
      "862        winona    mn     25399.0    22497.0      0.00\n",
      "864          wood    wv     44724.0    26037.0    100.00\n",
      "865          wood    wi     37104.0    26265.0      0.00\n",
      "867      woodward    ok     12340.0    23296.0      0.00\n",
      "\n",
      "[184 rows x 5 columns]\n"
     ]
    }
   ],
   "source": [
    "missing_rows = df[df['weighted_low_access'].isnull()]\n",
    "print(missing_rows[['county_name', 'state', 'population', 'medIncome', 'pctUrban']])"
   ]
  },
  {
   "cell_type": "markdown",
   "id": "6673a5e9",
   "metadata": {},
   "source": [
    "OK, lets find counties with similar characteristics and caluculate the mean/median of the weighted_low_access and weighted_low_income_access"
   ]
  },
  {
   "cell_type": "code",
   "execution_count": 109,
   "id": "6469aa8b",
   "metadata": {},
   "outputs": [],
   "source": [
    "# Define features to match on\n",
    "features_to_match = ['population', 'medIncome', 'pctUrban']\n",
    "\n",
    "# Fill missing values based on the mean of similar counties\n",
    "for col in ['weighted_low_access', 'weighted_low_income_access']:\n",
    "    df[col] = df.groupby(features_to_match)[col].transform(\n",
    "        lambda group: group.fillna(group.mean())\n",
    "    )"
   ]
  },
  {
   "cell_type": "code",
   "execution_count": 110,
   "id": "29e73c67",
   "metadata": {},
   "outputs": [],
   "source": [
    "for col in ['weighted_low_access', 'weighted_low_income_access']:\n",
    "    df[col] = df.groupby('state')[col].transform(\n",
    "        lambda group: group.fillna(group.mean())\n",
    "    )"
   ]
  },
  {
   "cell_type": "code",
   "execution_count": 111,
   "id": "1f6eb51c",
   "metadata": {},
   "outputs": [
    {
     "data": {
      "text/plain": [
       "weighted_low_access           11\n",
       "weighted_low_income_access    11\n",
       "dtype: int64"
      ]
     },
     "execution_count": 111,
     "metadata": {},
     "output_type": "execute_result"
    }
   ],
   "source": [
    "df[['weighted_low_access', 'weighted_low_income_access']].isnull().sum()"
   ]
  },
  {
   "cell_type": "code",
   "execution_count": 112,
   "id": "67f34d9b",
   "metadata": {},
   "outputs": [
    {
     "name": "stdout",
     "output_type": "stream",
     "text": [
      "                        county_name state\n",
      "16                        anchorage    ak\n",
      "117                         capitol    ct\n",
      "259            fairbanks north star    ak\n",
      "299              greater bridgeport    ct\n",
      "388                          juneau    ak\n",
      "458  lower connecticut river valley    ct\n",
      "556                naugatuck valley    ct\n",
      "571                 northwest hills    ct\n",
      "725       south central connecticut    ct\n",
      "726        southeastern connecticut    ct\n",
      "842             western connecticut    ct\n"
     ]
    }
   ],
   "source": [
    "missing_rows = df[df['weighted_low_access'].isnull()]\n",
    "print(missing_rows[['county_name', 'state']])"
   ]
  },
  {
   "cell_type": "code",
   "execution_count": 113,
   "id": "4e301f6d",
   "metadata": {},
   "outputs": [
    {
     "data": {
      "text/plain": [
       "county_name                    0\n",
       "county_fips                    0\n",
       "state                          0\n",
       "population                     0\n",
       "racepctblack                   0\n",
       "                              ..\n",
       "PopDens                        0\n",
       "PctUsePubTrans                 0\n",
       "larcPerPop                     0\n",
       "weighted_low_access           11\n",
       "weighted_low_income_access    11\n",
       "Length: 65, dtype: int64"
      ]
     },
     "execution_count": 113,
     "metadata": {},
     "output_type": "execute_result"
    }
   ],
   "source": [
    "df.isna().sum()"
   ]
  },
  {
   "cell_type": "code",
   "execution_count": 114,
   "id": "ba7bef75",
   "metadata": {},
   "outputs": [],
   "source": [
    "df = df.dropna()"
   ]
  },
  {
   "cell_type": "code",
   "execution_count": 115,
   "id": "2708cc5f",
   "metadata": {},
   "outputs": [
    {
     "data": {
      "text/plain": [
       "county_name                   0\n",
       "county_fips                   0\n",
       "state                         0\n",
       "population                    0\n",
       "racepctblack                  0\n",
       "                             ..\n",
       "PopDens                       0\n",
       "PctUsePubTrans                0\n",
       "larcPerPop                    0\n",
       "weighted_low_access           0\n",
       "weighted_low_income_access    0\n",
       "Length: 65, dtype: int64"
      ]
     },
     "execution_count": 115,
     "metadata": {},
     "output_type": "execute_result"
    }
   ],
   "source": [
    "df.isna().sum()"
   ]
  },
  {
   "cell_type": "code",
   "execution_count": 116,
   "id": "4bc63aed",
   "metadata": {},
   "outputs": [
    {
     "data": {
      "text/plain": [
       "(867, 65)"
      ]
     },
     "execution_count": 116,
     "metadata": {},
     "output_type": "execute_result"
    }
   ],
   "source": [
    "df.shape"
   ]
  },
  {
   "cell_type": "code",
   "execution_count": 117,
   "id": "0e873aac",
   "metadata": {},
   "outputs": [
    {
     "data": {
      "text/plain": [
       "Index(['county_name', 'county_fips', 'state', 'population', 'racepctblack',\n",
       "       'racePctWhite', 'racePctAsian', 'racePctHisp', 'pctUrban', 'medIncome',\n",
       "       'pctWFarmSelf', 'pctWInvInc', 'pctWPubAsst', 'pctWRetire', 'perCapInc',\n",
       "       'PctPopUnderPov', 'PctNotHSGrad', 'PctBSorMore', 'PctUnemployed',\n",
       "       'PctEmploy', 'PctEmplManu', 'PctEmplProfServ', 'PctOccupManu',\n",
       "       'FemalePctDiv', 'PctFam2Par', 'PctWorkMom', 'NumKidsBornNeverMar',\n",
       "       'PctKidsBornNeverMar', 'PctImmigRec10', 'PctRecImmig5', 'PctRecImmig8',\n",
       "       'PctNotSpeakEnglWell', 'PctLargHouseFam', 'PersPerOccupHous',\n",
       "       'PersPerRentOccHous', 'PctPersDenseHous', 'PctHousLess3BR', 'MedNumBR',\n",
       "       'HousVacant', 'PctHousOccup', 'PctVacantBoarded', 'PctVacMore6Mos',\n",
       "       'MedYrHousBuilt', 'PctHousNoPhone', 'PctWOFullPlumb', 'OwnOccMedVal',\n",
       "       'OwnOccQrange', 'RentQrange', 'MedRent', 'MedRentPctHousInc',\n",
       "       'MedOwnCostPctInc', 'MedOwnCostPctIncNoMtg', 'NumInShelters',\n",
       "       'NumStreet', 'PctForeignBorn', 'PctBornSameState', 'PctSameHouse85',\n",
       "       'PctSameCity85', 'PctSameState85', 'LandArea', 'PopDens',\n",
       "       'PctUsePubTrans', 'larcPerPop', 'weighted_low_access',\n",
       "       'weighted_low_income_access'],\n",
       "      dtype='object')"
      ]
     },
     "execution_count": 117,
     "metadata": {},
     "output_type": "execute_result"
    }
   ],
   "source": [
    "df.columns"
   ]
  },
  {
   "cell_type": "markdown",
   "id": "8fc72c4d",
   "metadata": {},
   "source": [
    "## Creating Community Indicators on Agg&Merged Data"
   ]
  },
  {
   "cell_type": "markdown",
   "id": "99bfabb8",
   "metadata": {},
   "source": [
    "### pctMinority"
   ]
  },
  {
   "cell_type": "code",
   "execution_count": 121,
   "id": "bdfc90a2",
   "metadata": {},
   "outputs": [],
   "source": [
    "import seaborn as sns"
   ]
  },
  {
   "cell_type": "code",
   "execution_count": 122,
   "id": "74e923a9",
   "metadata": {},
   "outputs": [],
   "source": [
    "# Create the pctMinority variable\n",
    "df['pctMinority'] = 100 - df['racePctWhite']"
   ]
  },
  {
   "cell_type": "code",
   "execution_count": 123,
   "id": "be2b0419",
   "metadata": {},
   "outputs": [
    {
     "data": {
      "text/plain": [
       "<Axes: xlabel='pctMinority'>"
      ]
     },
     "execution_count": 123,
     "metadata": {},
     "output_type": "execute_result"
    },
    {
     "data": {
      "image/png": "[encoded data removed]",
      "text/plain": [
       "<Figure size 640x480 with 1 Axes>"
      ]
     },
     "metadata": {},
     "output_type": "display_data"
    }
   ],
   "source": [
    "sns.boxplot(data=df, x=\"pctMinority\")"
   ]
  },
  {
   "cell_type": "markdown",
   "id": "94e018e3",
   "metadata": {},
   "source": [
    "### pctLarcPerPop"
   ]
  },
  {
   "cell_type": "code",
   "execution_count": 124,
   "id": "5d2f14fa",
   "metadata": {},
   "outputs": [],
   "source": [
    "df['PctLarcPerPop'] = (df['larcPerPop'] / df['population']) * 100 #Creates a new column that divides larcPerPop by Population"
   ]
  },
  {
   "cell_type": "code",
   "execution_count": 125,
   "id": "b98668fb",
   "metadata": {},
   "outputs": [
    {
     "data": {
      "text/plain": [
       "<Axes: xlabel='PctLarcPerPop'>"
      ]
     },
     "execution_count": 125,
     "metadata": {},
     "output_type": "execute_result"
    },
    {
     "data": {
      "image/png": "[encoded data removed]",
      "text/plain": [
       "<Figure size 640x480 with 1 Axes>"
      ]
     },
     "metadata": {},
     "output_type": "display_data"
    }
   ],
   "source": [
    "sns.boxplot(data=df, x=\"PctLarcPerPop\")"
   ]
  },
  {
   "cell_type": "markdown",
   "id": "9e184e8c",
   "metadata": {},
   "source": [
    "### PctSinglePar"
   ]
  },
  {
   "cell_type": "code",
   "execution_count": 126,
   "id": "7d0c0662",
   "metadata": {},
   "outputs": [],
   "source": [
    "df['PctSingleParent'] = 100 - df['PctFam2Par'] # subtracts the amount of 2 parent households from the whole, leaving the percent of single parent household"
   ]
  },
  {
   "cell_type": "code",
   "execution_count": 127,
   "id": "3ad868e4",
   "metadata": {},
   "outputs": [
    {
     "data": {
      "text/plain": [
       "<Axes: xlabel='PctSingleParent'>"
      ]
     },
     "execution_count": 127,
     "metadata": {},
     "output_type": "execute_result"
    },
    {
     "data": {
      "image/png": "[encoded data removed]",
      "text/plain": [
       "<Figure size 640x480 with 1 Axes>"
      ]
     },
     "metadata": {},
     "output_type": "display_data"
    }
   ],
   "source": [
    "sns.boxplot(data=df, x=\"PctSingleParent\")"
   ]
  },
  {
   "cell_type": "markdown",
   "id": "5bf01e24",
   "metadata": {},
   "source": [
    "### FemalePctDiv"
   ]
  },
  {
   "cell_type": "code",
   "execution_count": 128,
   "id": "708f2a57",
   "metadata": {},
   "outputs": [
    {
     "data": {
      "text/plain": [
       "0      14.480000\n",
       "1      15.722500\n",
       "2      14.890000\n",
       "3      13.680000\n",
       "4      12.540000\n",
       "         ...    \n",
       "873    14.766667\n",
       "874    11.896667\n",
       "875    10.365000\n",
       "876    12.610000\n",
       "877    19.780000\n",
       "Name: FemalePctDiv, Length: 867, dtype: float64"
      ]
     },
     "execution_count": 128,
     "metadata": {},
     "output_type": "execute_result"
    }
   ],
   "source": [
    "df['FemalePctDiv']"
   ]
  },
  {
   "cell_type": "code",
   "execution_count": 129,
   "id": "4cccfa91",
   "metadata": {},
   "outputs": [
    {
     "data": {
      "text/plain": [
       "<Axes: xlabel='FemalePctDiv'>"
      ]
     },
     "execution_count": 129,
     "metadata": {},
     "output_type": "execute_result"
    },
    {
     "data": {
      "image/png": "[encoded data removed]",
      "text/plain": [
       "<Figure size 640x480 with 1 Axes>"
      ]
     },
     "metadata": {},
     "output_type": "display_data"
    }
   ],
   "source": [
    "sns.boxplot(data=df, x=\"FemalePctDiv\")"
   ]
  },
  {
   "cell_type": "markdown",
   "id": "a8882495",
   "metadata": {},
   "source": [
    "### PctVacant"
   ]
  },
  {
   "cell_type": "code",
   "execution_count": 130,
   "id": "26e85339",
   "metadata": {},
   "outputs": [],
   "source": [
    "df['PctVacant'] = 100 - df['PctHousOccup']"
   ]
  },
  {
   "cell_type": "code",
   "execution_count": 131,
   "id": "29961443",
   "metadata": {},
   "outputs": [
    {
     "data": {
      "text/plain": [
       "<Axes: xlabel='PctVacant'>"
      ]
     },
     "execution_count": 131,
     "metadata": {},
     "output_type": "execute_result"
    },
    {
     "data": {
      "image/png": "[encoded data removed]",
      "text/plain": [
       "<Figure size 640x480 with 1 Axes>"
      ]
     },
     "metadata": {},
     "output_type": "display_data"
    }
   ],
   "source": [
    "sns.boxplot(data=df, x=\"PctVacant\")"
   ]
  },
  {
   "cell_type": "markdown",
   "id": "6ae5f51d",
   "metadata": {},
   "source": [
    "### PctPersDenseHous"
   ]
  },
  {
   "cell_type": "code",
   "execution_count": 132,
   "id": "bfc47753",
   "metadata": {},
   "outputs": [
    {
     "data": {
      "text/plain": [
       "0      6.270000\n",
       "1      4.650000\n",
       "2      3.710000\n",
       "3      2.330000\n",
       "4      4.910000\n",
       "         ...   \n",
       "873    8.843333\n",
       "874    1.493333\n",
       "875    0.630000\n",
       "876    5.360000\n",
       "877    5.920000\n",
       "Name: PctPersDenseHous, Length: 867, dtype: float64"
      ]
     },
     "execution_count": 132,
     "metadata": {},
     "output_type": "execute_result"
    }
   ],
   "source": [
    "df['PctPersDenseHous']"
   ]
  },
  {
   "cell_type": "code",
   "execution_count": 133,
   "id": "957bbc85",
   "metadata": {},
   "outputs": [
    {
     "data": {
      "text/plain": [
       "<Axes: xlabel='PctPersDenseHous'>"
      ]
     },
     "execution_count": 133,
     "metadata": {},
     "output_type": "execute_result"
    },
    {
     "data": {
      "image/png": "[encoded data removed]",
      "text/plain": [
       "<Figure size 640x480 with 1 Axes>"
      ]
     },
     "metadata": {},
     "output_type": "display_data"
    }
   ],
   "source": [
    "sns.boxplot(data=df, x=\"PctPersDenseHous\")"
   ]
  },
  {
   "cell_type": "markdown",
   "id": "adffe21b",
   "metadata": {},
   "source": [
    "### PctUnhoused"
   ]
  },
  {
   "cell_type": "code",
   "execution_count": 134,
   "id": "67263fec",
   "metadata": {},
   "outputs": [],
   "source": [
    "df['TotalHomeless'] = df['NumInShelters'] + df['NumStreet']"
   ]
  },
  {
   "cell_type": "code",
   "execution_count": 137,
   "id": "de1080b2",
   "metadata": {},
   "outputs": [],
   "source": [
    "df['PctUnhoused'] = ((df['TotalHomeless'] / df['population']) * 100).round(5)"
   ]
  },
  {
   "cell_type": "code",
   "execution_count": 138,
   "id": "46c6cd8d",
   "metadata": {},
   "outputs": [
    {
     "data": {
      "text/plain": [
       "0      0.00000\n",
       "1      0.06038\n",
       "2      0.00000\n",
       "3      0.10788\n",
       "4      0.04955\n",
       "        ...   \n",
       "873    0.06440\n",
       "874    0.01597\n",
       "875    0.00000\n",
       "876    0.10326\n",
       "877    2.10970\n",
       "Name: PctUnhoused, Length: 867, dtype: float64"
      ]
     },
     "execution_count": 138,
     "metadata": {},
     "output_type": "execute_result"
    }
   ],
   "source": [
    "df['PctUnhoused']"
   ]
  },
  {
   "cell_type": "code",
   "execution_count": 139,
   "id": "f84f9f41",
   "metadata": {},
   "outputs": [
    {
     "data": {
      "text/plain": [
       "<Axes: xlabel='PctUnhoused'>"
      ]
     },
     "execution_count": 139,
     "metadata": {},
     "output_type": "execute_result"
    },
    {
     "data": {
      "image/png": "[encoded data removed]",
      "text/plain": [
       "<Figure size 640x480 with 1 Axes>"
      ]
     },
     "metadata": {},
     "output_type": "display_data"
    }
   ],
   "source": [
    "sns.boxplot(data=df, x=\"PctUnhoused\")"
   ]
  },
  {
   "cell_type": "markdown",
   "id": "17f35130",
   "metadata": {},
   "source": [
    "## Creating Model Dataframe with Indicators"
   ]
  },
  {
   "cell_type": "markdown",
   "id": "1be58ff8",
   "metadata": {},
   "source": [
    "#### After listing all of our columns out, we can choose which ones will be represented in the model dataframe. Make sure that none of the features used for feature engineering are present alongside engineered columns, as they will bleed information into eachother and make any models obselete. "
   ]
  },
  {
   "cell_type": "code",
   "execution_count": 140,
   "id": "2e686c86",
   "metadata": {},
   "outputs": [
    {
     "data": {
      "text/html": [
       "<div>\n",
       "<style scoped>\n",
       "    .dataframe tbody tr th:only-of-type {\n",
       "        vertical-align: middle;\n",
       "    }\n",
       "\n",
       "    .dataframe tbody tr th {\n",
       "        vertical-align: top;\n",
       "    }\n",
       "\n",
       "    .dataframe thead th {\n",
       "        text-align: right;\n",
       "    }\n",
       "</style>\n",
       "<table border=\"1\" class=\"dataframe\">\n",
       "  <thead>\n",
       "    <tr style=\"text-align: right;\">\n",
       "      <th></th>\n",
       "      <th>county_name</th>\n",
       "      <th>county_fips</th>\n",
       "      <th>state</th>\n",
       "      <th>population</th>\n",
       "      <th>racepctblack</th>\n",
       "      <th>racePctWhite</th>\n",
       "      <th>racePctAsian</th>\n",
       "      <th>racePctHisp</th>\n",
       "      <th>pctUrban</th>\n",
       "      <th>medIncome</th>\n",
       "      <th>...</th>\n",
       "      <th>PctUsePubTrans</th>\n",
       "      <th>larcPerPop</th>\n",
       "      <th>weighted_low_access</th>\n",
       "      <th>weighted_low_income_access</th>\n",
       "      <th>pctMinority</th>\n",
       "      <th>PctLarcPerPop</th>\n",
       "      <th>PctSingleParent</th>\n",
       "      <th>PctVacant</th>\n",
       "      <th>TotalHomeless</th>\n",
       "      <th>PctUnhoused</th>\n",
       "    </tr>\n",
       "  </thead>\n",
       "  <tbody>\n",
       "    <tr>\n",
       "      <th>0</th>\n",
       "      <td>acadia</td>\n",
       "      <td>22001</td>\n",
       "      <td>la</td>\n",
       "      <td>13983.0</td>\n",
       "      <td>30.6800</td>\n",
       "      <td>68.800</td>\n",
       "      <td>0.3100</td>\n",
       "      <td>0.420</td>\n",
       "      <td>0.0</td>\n",
       "      <td>13804.0</td>\n",
       "      <td>...</td>\n",
       "      <td>0.9800</td>\n",
       "      <td>4726.62</td>\n",
       "      <td>18.50</td>\n",
       "      <td>5.60</td>\n",
       "      <td>31.200</td>\n",
       "      <td>33.802617</td>\n",
       "      <td>39.770</td>\n",
       "      <td>11.9900</td>\n",
       "      <td>0.0</td>\n",
       "      <td>0.00000</td>\n",
       "    </tr>\n",
       "    <tr>\n",
       "      <th>1</th>\n",
       "      <td>adams</td>\n",
       "      <td>08001</td>\n",
       "      <td>co</td>\n",
       "      <td>132489.0</td>\n",
       "      <td>1.6425</td>\n",
       "      <td>87.125</td>\n",
       "      <td>2.0675</td>\n",
       "      <td>24.150</td>\n",
       "      <td>74.6</td>\n",
       "      <td>30926.0</td>\n",
       "      <td>...</td>\n",
       "      <td>2.5575</td>\n",
       "      <td>4897.75</td>\n",
       "      <td>61.60</td>\n",
       "      <td>5.79</td>\n",
       "      <td>12.875</td>\n",
       "      <td>3.696722</td>\n",
       "      <td>28.000</td>\n",
       "      <td>8.3425</td>\n",
       "      <td>80.0</td>\n",
       "      <td>0.06038</td>\n",
       "    </tr>\n",
       "    <tr>\n",
       "      <th>2</th>\n",
       "      <td>adams</td>\n",
       "      <td>28001</td>\n",
       "      <td>ms</td>\n",
       "      <td>19460.0</td>\n",
       "      <td>50.3400</td>\n",
       "      <td>49.310</td>\n",
       "      <td>0.2300</td>\n",
       "      <td>0.500</td>\n",
       "      <td>0.0</td>\n",
       "      <td>16769.0</td>\n",
       "      <td>...</td>\n",
       "      <td>0.8500</td>\n",
       "      <td>5769.43</td>\n",
       "      <td>60.85</td>\n",
       "      <td>26.85</td>\n",
       "      <td>50.690</td>\n",
       "      <td>29.647636</td>\n",
       "      <td>46.730</td>\n",
       "      <td>11.5500</td>\n",
       "      <td>0.0</td>\n",
       "      <td>0.00000</td>\n",
       "    </tr>\n",
       "    <tr>\n",
       "      <th>3</th>\n",
       "      <td>aiken</td>\n",
       "      <td>45003</td>\n",
       "      <td>sc</td>\n",
       "      <td>35223.0</td>\n",
       "      <td>23.2250</td>\n",
       "      <td>75.585</td>\n",
       "      <td>0.8150</td>\n",
       "      <td>0.765</td>\n",
       "      <td>100.0</td>\n",
       "      <td>33075.0</td>\n",
       "      <td>...</td>\n",
       "      <td>0.0800</td>\n",
       "      <td>3194.26</td>\n",
       "      <td>45.89</td>\n",
       "      <td>8.67</td>\n",
       "      <td>24.415</td>\n",
       "      <td>9.068677</td>\n",
       "      <td>28.735</td>\n",
       "      <td>8.5800</td>\n",
       "      <td>38.0</td>\n",
       "      <td>0.10788</td>\n",
       "    </tr>\n",
       "    <tr>\n",
       "      <th>4</th>\n",
       "      <td>alachua</td>\n",
       "      <td>12001</td>\n",
       "      <td>fl</td>\n",
       "      <td>84770.0</td>\n",
       "      <td>21.4400</td>\n",
       "      <td>73.360</td>\n",
       "      <td>3.9400</td>\n",
       "      <td>4.400</td>\n",
       "      <td>100.0</td>\n",
       "      <td>21077.0</td>\n",
       "      <td>...</td>\n",
       "      <td>2.7000</td>\n",
       "      <td>6951.52</td>\n",
       "      <td>44.76</td>\n",
       "      <td>18.71</td>\n",
       "      <td>26.640</td>\n",
       "      <td>8.200448</td>\n",
       "      <td>35.810</td>\n",
       "      <td>7.7600</td>\n",
       "      <td>42.0</td>\n",
       "      <td>0.04955</td>\n",
       "    </tr>\n",
       "  </tbody>\n",
       "</table>\n",
       "<p>5 rows × 71 columns</p>\n",
       "</div>"
      ],
      "text/plain": [
       "  county_name county_fips state  population  racepctblack  racePctWhite  \\\n",
       "0      acadia       22001    la     13983.0       30.6800        68.800   \n",
       "1       adams       08001    co    132489.0        1.6425        87.125   \n",
       "2       adams       28001    ms     19460.0       50.3400        49.310   \n",
       "3       aiken       45003    sc     35223.0       23.2250        75.585   \n",
       "4     alachua       12001    fl     84770.0       21.4400        73.360   \n",
       "\n",
       "   racePctAsian  racePctHisp  pctUrban  medIncome  ...  PctUsePubTrans  \\\n",
       "0        0.3100        0.420       0.0    13804.0  ...          0.9800   \n",
       "1        2.0675       24.150      74.6    30926.0  ...          2.5575   \n",
       "2        0.2300        0.500       0.0    16769.0  ...          0.8500   \n",
       "3        0.8150        0.765     100.0    33075.0  ...          0.0800   \n",
       "4        3.9400        4.400     100.0    21077.0  ...          2.7000   \n",
       "\n",
       "   larcPerPop  weighted_low_access  weighted_low_income_access  pctMinority  \\\n",
       "0     4726.62                18.50                        5.60       31.200   \n",
       "1     4897.75                61.60                        5.79       12.875   \n",
       "2     5769.43                60.85                       26.85       50.690   \n",
       "3     3194.26                45.89                        8.67       24.415   \n",
       "4     6951.52                44.76                       18.71       26.640   \n",
       "\n",
       "   PctLarcPerPop  PctSingleParent  PctVacant  TotalHomeless  PctUnhoused  \n",
       "0      33.802617           39.770    11.9900            0.0      0.00000  \n",
       "1       3.696722           28.000     8.3425           80.0      0.06038  \n",
       "2      29.647636           46.730    11.5500            0.0      0.00000  \n",
       "3       9.068677           28.735     8.5800           38.0      0.10788  \n",
       "4       8.200448           35.810     7.7600           42.0      0.04955  \n",
       "\n",
       "[5 rows x 71 columns]"
      ]
     },
     "execution_count": 140,
     "metadata": {},
     "output_type": "execute_result"
    }
   ],
   "source": [
    "df.head()"
   ]
  },
  {
   "cell_type": "code",
   "execution_count": 141,
   "id": "7d2c476e",
   "metadata": {},
   "outputs": [
    {
     "data": {
      "text/plain": [
       "Index(['county_name', 'county_fips', 'state', 'population', 'racepctblack',\n",
       "       'racePctWhite', 'racePctAsian', 'racePctHisp', 'pctUrban', 'medIncome',\n",
       "       'pctWFarmSelf', 'pctWInvInc', 'pctWPubAsst', 'pctWRetire', 'perCapInc',\n",
       "       'PctPopUnderPov', 'PctNotHSGrad', 'PctBSorMore', 'PctUnemployed',\n",
       "       'PctEmploy', 'PctEmplManu', 'PctEmplProfServ', 'PctOccupManu',\n",
       "       'FemalePctDiv', 'PctFam2Par', 'PctWorkMom', 'NumKidsBornNeverMar',\n",
       "       'PctKidsBornNeverMar', 'PctImmigRec10', 'PctRecImmig5', 'PctRecImmig8',\n",
       "       'PctNotSpeakEnglWell', 'PctLargHouseFam', 'PersPerOccupHous',\n",
       "       'PersPerRentOccHous', 'PctPersDenseHous', 'PctHousLess3BR', 'MedNumBR',\n",
       "       'HousVacant', 'PctHousOccup', 'PctVacantBoarded', 'PctVacMore6Mos',\n",
       "       'MedYrHousBuilt', 'PctHousNoPhone', 'PctWOFullPlumb', 'OwnOccMedVal',\n",
       "       'OwnOccQrange', 'RentQrange', 'MedRent', 'MedRentPctHousInc',\n",
       "       'MedOwnCostPctInc', 'MedOwnCostPctIncNoMtg', 'NumInShelters',\n",
       "       'NumStreet', 'PctForeignBorn', 'PctBornSameState', 'PctSameHouse85',\n",
       "       'PctSameCity85', 'PctSameState85', 'LandArea', 'PopDens',\n",
       "       'PctUsePubTrans', 'larcPerPop', 'weighted_low_access',\n",
       "       'weighted_low_income_access', 'pctMinority', 'PctLarcPerPop',\n",
       "       'PctSingleParent', 'PctVacant', 'TotalHomeless', 'PctUnhoused'],\n",
       "      dtype='object')"
      ]
     },
     "execution_count": 141,
     "metadata": {},
     "output_type": "execute_result"
    }
   ],
   "source": [
    "df.columns"
   ]
  },
  {
   "cell_type": "markdown",
   "id": "9d98851f",
   "metadata": {},
   "source": [
    "### Without Food Access"
   ]
  },
  {
   "cell_type": "code",
   "execution_count": 142,
   "id": "82e91077",
   "metadata": {},
   "outputs": [],
   "source": [
    "model_df = df[['medIncome', 'pctWPubAsst', 'PctPopUnderPov',\n",
    "                       'PctUnemployed', 'FemalePctDiv', 'PctPersDenseHous',\n",
    "                       'PctVacantBoarded', 'PctHousNoPhone', 'MedRent',\n",
    "                       'PctUsePubTrans', 'pctMinority', 'PctLarcPerPop',\n",
    "                       'PctVacant', 'PctSingleParent', 'PctUnhoused']]"
   ]
  },
  {
   "cell_type": "code",
   "execution_count": 143,
   "id": "0b65108a",
   "metadata": {},
   "outputs": [
    {
     "data": {
      "text/html": [
       "<div>\n",
       "<style scoped>\n",
       "    .dataframe tbody tr th:only-of-type {\n",
       "        vertical-align: middle;\n",
       "    }\n",
       "\n",
       "    .dataframe tbody tr th {\n",
       "        vertical-align: top;\n",
       "    }\n",
       "\n",
       "    .dataframe thead th {\n",
       "        text-align: right;\n",
       "    }\n",
       "</style>\n",
       "<table border=\"1\" class=\"dataframe\">\n",
       "  <thead>\n",
       "    <tr style=\"text-align: right;\">\n",
       "      <th></th>\n",
       "      <th>medIncome</th>\n",
       "      <th>pctWPubAsst</th>\n",
       "      <th>PctPopUnderPov</th>\n",
       "      <th>PctUnemployed</th>\n",
       "      <th>FemalePctDiv</th>\n",
       "      <th>PctPersDenseHous</th>\n",
       "      <th>PctVacantBoarded</th>\n",
       "      <th>PctHousNoPhone</th>\n",
       "      <th>MedRent</th>\n",
       "      <th>PctUsePubTrans</th>\n",
       "      <th>pctMinority</th>\n",
       "      <th>PctLarcPerPop</th>\n",
       "      <th>PctVacant</th>\n",
       "      <th>PctSingleParent</th>\n",
       "      <th>PctUnhoused</th>\n",
       "    </tr>\n",
       "  </thead>\n",
       "  <tbody>\n",
       "    <tr>\n",
       "      <th>0</th>\n",
       "      <td>13804.0</td>\n",
       "      <td>18.710000</td>\n",
       "      <td>34.580000</td>\n",
       "      <td>11.140000</td>\n",
       "      <td>14.480000</td>\n",
       "      <td>6.270000</td>\n",
       "      <td>3.740000</td>\n",
       "      <td>13.300000</td>\n",
       "      <td>244.0</td>\n",
       "      <td>0.980000</td>\n",
       "      <td>31.200000</td>\n",
       "      <td>33.802617</td>\n",
       "      <td>11.990000</td>\n",
       "      <td>39.770000</td>\n",
       "      <td>0.00000</td>\n",
       "    </tr>\n",
       "    <tr>\n",
       "      <th>1</th>\n",
       "      <td>30926.0</td>\n",
       "      <td>9.900147</td>\n",
       "      <td>12.075000</td>\n",
       "      <td>7.072500</td>\n",
       "      <td>15.722500</td>\n",
       "      <td>4.650000</td>\n",
       "      <td>1.802500</td>\n",
       "      <td>5.047500</td>\n",
       "      <td>426.5</td>\n",
       "      <td>2.557500</td>\n",
       "      <td>12.875000</td>\n",
       "      <td>3.696722</td>\n",
       "      <td>8.342500</td>\n",
       "      <td>28.000000</td>\n",
       "      <td>0.06038</td>\n",
       "    </tr>\n",
       "    <tr>\n",
       "      <th>2</th>\n",
       "      <td>16769.0</td>\n",
       "      <td>15.810000</td>\n",
       "      <td>31.790000</td>\n",
       "      <td>12.380000</td>\n",
       "      <td>14.890000</td>\n",
       "      <td>3.710000</td>\n",
       "      <td>4.000000</td>\n",
       "      <td>8.540000</td>\n",
       "      <td>277.0</td>\n",
       "      <td>0.850000</td>\n",
       "      <td>50.690000</td>\n",
       "      <td>29.647636</td>\n",
       "      <td>11.550000</td>\n",
       "      <td>46.730000</td>\n",
       "      <td>0.00000</td>\n",
       "    </tr>\n",
       "    <tr>\n",
       "      <th>3</th>\n",
       "      <td>33075.0</td>\n",
       "      <td>6.774145</td>\n",
       "      <td>12.485000</td>\n",
       "      <td>4.290000</td>\n",
       "      <td>13.680000</td>\n",
       "      <td>2.330000</td>\n",
       "      <td>2.815000</td>\n",
       "      <td>4.695000</td>\n",
       "      <td>420.0</td>\n",
       "      <td>0.080000</td>\n",
       "      <td>24.415000</td>\n",
       "      <td>9.068677</td>\n",
       "      <td>8.580000</td>\n",
       "      <td>28.735000</td>\n",
       "      <td>0.10788</td>\n",
       "    </tr>\n",
       "    <tr>\n",
       "      <th>4</th>\n",
       "      <td>21077.0</td>\n",
       "      <td>6.550000</td>\n",
       "      <td>26.330000</td>\n",
       "      <td>6.590000</td>\n",
       "      <td>12.540000</td>\n",
       "      <td>4.910000</td>\n",
       "      <td>5.550000</td>\n",
       "      <td>5.890000</td>\n",
       "      <td>383.0</td>\n",
       "      <td>2.700000</td>\n",
       "      <td>26.640000</td>\n",
       "      <td>8.200448</td>\n",
       "      <td>7.760000</td>\n",
       "      <td>35.810000</td>\n",
       "      <td>0.04955</td>\n",
       "    </tr>\n",
       "    <tr>\n",
       "      <th>5</th>\n",
       "      <td>25504.5</td>\n",
       "      <td>5.959885</td>\n",
       "      <td>10.865000</td>\n",
       "      <td>3.305000</td>\n",
       "      <td>14.760000</td>\n",
       "      <td>1.795000</td>\n",
       "      <td>0.830000</td>\n",
       "      <td>5.220000</td>\n",
       "      <td>377.5</td>\n",
       "      <td>0.205000</td>\n",
       "      <td>20.305000</td>\n",
       "      <td>7.487341</td>\n",
       "      <td>5.535000</td>\n",
       "      <td>32.600000</td>\n",
       "      <td>0.01803</td>\n",
       "    </tr>\n",
       "    <tr>\n",
       "      <th>6</th>\n",
       "      <td>46988.0</td>\n",
       "      <td>8.769379</td>\n",
       "      <td>7.447692</td>\n",
       "      <td>4.557692</td>\n",
       "      <td>13.876154</td>\n",
       "      <td>6.553846</td>\n",
       "      <td>1.773846</td>\n",
       "      <td>1.283077</td>\n",
       "      <td>762.0</td>\n",
       "      <td>8.760769</td>\n",
       "      <td>30.964615</td>\n",
       "      <td>0.323844</td>\n",
       "      <td>3.940769</td>\n",
       "      <td>25.563846</td>\n",
       "      <td>0.16271</td>\n",
       "    </tr>\n",
       "    <tr>\n",
       "      <th>7</th>\n",
       "      <td>24735.5</td>\n",
       "      <td>8.270273</td>\n",
       "      <td>15.725000</td>\n",
       "      <td>6.600000</td>\n",
       "      <td>12.055000</td>\n",
       "      <td>1.675000</td>\n",
       "      <td>7.570000</td>\n",
       "      <td>5.845000</td>\n",
       "      <td>418.0</td>\n",
       "      <td>9.780000</td>\n",
       "      <td>12.885000</td>\n",
       "      <td>2.219393</td>\n",
       "      <td>7.725000</td>\n",
       "      <td>41.935000</td>\n",
       "      <td>0.34349</td>\n",
       "    </tr>\n",
       "    <tr>\n",
       "      <th>8</th>\n",
       "      <td>19642.0</td>\n",
       "      <td>4.500000</td>\n",
       "      <td>21.030000</td>\n",
       "      <td>4.790000</td>\n",
       "      <td>10.970000</td>\n",
       "      <td>3.170000</td>\n",
       "      <td>0.590000</td>\n",
       "      <td>4.330000</td>\n",
       "      <td>343.0</td>\n",
       "      <td>0.300000</td>\n",
       "      <td>6.860000</td>\n",
       "      <td>11.302432</td>\n",
       "      <td>6.100000</td>\n",
       "      <td>25.230000</td>\n",
       "      <td>0.03747</td>\n",
       "    </tr>\n",
       "    <tr>\n",
       "      <th>9</th>\n",
       "      <td>37771.0</td>\n",
       "      <td>2.300000</td>\n",
       "      <td>3.480000</td>\n",
       "      <td>3.600000</td>\n",
       "      <td>10.010000</td>\n",
       "      <td>1.090000</td>\n",
       "      <td>0.320000</td>\n",
       "      <td>0.310000</td>\n",
       "      <td>456.0</td>\n",
       "      <td>0.000000</td>\n",
       "      <td>2.170000</td>\n",
       "      <td>16.158483</td>\n",
       "      <td>5.560000</td>\n",
       "      <td>14.350000</td>\n",
       "      <td>0.00000</td>\n",
       "    </tr>\n",
       "  </tbody>\n",
       "</table>\n",
       "</div>"
      ],
      "text/plain": [
       "   medIncome  pctWPubAsst  PctPopUnderPov  PctUnemployed  FemalePctDiv  \\\n",
       "0    13804.0    18.710000       34.580000      11.140000     14.480000   \n",
       "1    30926.0     9.900147       12.075000       7.072500     15.722500   \n",
       "2    16769.0    15.810000       31.790000      12.380000     14.890000   \n",
       "3    33075.0     6.774145       12.485000       4.290000     13.680000   \n",
       "4    21077.0     6.550000       26.330000       6.590000     12.540000   \n",
       "5    25504.5     5.959885       10.865000       3.305000     14.760000   \n",
       "6    46988.0     8.769379        7.447692       4.557692     13.876154   \n",
       "7    24735.5     8.270273       15.725000       6.600000     12.055000   \n",
       "8    19642.0     4.500000       21.030000       4.790000     10.970000   \n",
       "9    37771.0     2.300000        3.480000       3.600000     10.010000   \n",
       "\n",
       "   PctPersDenseHous  PctVacantBoarded  PctHousNoPhone  MedRent  \\\n",
       "0          6.270000          3.740000       13.300000    244.0   \n",
       "1          4.650000          1.802500        5.047500    426.5   \n",
       "2          3.710000          4.000000        8.540000    277.0   \n",
       "3          2.330000          2.815000        4.695000    420.0   \n",
       "4          4.910000          5.550000        5.890000    383.0   \n",
       "5          1.795000          0.830000        5.220000    377.5   \n",
       "6          6.553846          1.773846        1.283077    762.0   \n",
       "7          1.675000          7.570000        5.845000    418.0   \n",
       "8          3.170000          0.590000        4.330000    343.0   \n",
       "9          1.090000          0.320000        0.310000    456.0   \n",
       "\n",
       "   PctUsePubTrans  pctMinority  PctLarcPerPop  PctVacant  PctSingleParent  \\\n",
       "0        0.980000    31.200000      33.802617  11.990000        39.770000   \n",
       "1        2.557500    12.875000       3.696722   8.342500        28.000000   \n",
       "2        0.850000    50.690000      29.647636  11.550000        46.730000   \n",
       "3        0.080000    24.415000       9.068677   8.580000        28.735000   \n",
       "4        2.700000    26.640000       8.200448   7.760000        35.810000   \n",
       "5        0.205000    20.305000       7.487341   5.535000        32.600000   \n",
       "6        8.760769    30.964615       0.323844   3.940769        25.563846   \n",
       "7        9.780000    12.885000       2.219393   7.725000        41.935000   \n",
       "8        0.300000     6.860000      11.302432   6.100000        25.230000   \n",
       "9        0.000000     2.170000      16.158483   5.560000        14.350000   \n",
       "\n",
       "   PctUnhoused  \n",
       "0      0.00000  \n",
       "1      0.06038  \n",
       "2      0.00000  \n",
       "3      0.10788  \n",
       "4      0.04955  \n",
       "5      0.01803  \n",
       "6      0.16271  \n",
       "7      0.34349  \n",
       "8      0.03747  \n",
       "9      0.00000  "
      ]
     },
     "execution_count": 143,
     "metadata": {},
     "output_type": "execute_result"
    }
   ],
   "source": [
    "model_df.head(10)"
   ]
  },
  {
   "cell_type": "markdown",
   "id": "06d3e0b1",
   "metadata": {},
   "source": [
    "### With Food Access Added"
   ]
  },
  {
   "cell_type": "code",
   "execution_count": 144,
   "id": "8e7071a5",
   "metadata": {},
   "outputs": [],
   "source": [
    "model_fa = df[['medIncome', 'pctWPubAsst', 'PctPopUnderPov',\n",
    "                       'PctUnemployed', 'FemalePctDiv', 'PctPersDenseHous',\n",
    "                       'PctVacantBoarded', 'PctHousNoPhone', 'MedRent',\n",
    "                       'PctUsePubTrans', 'pctMinority', 'PctLarcPerPop',\n",
    "                       'PctVacant', 'PctSingleParent', 'PctUnhoused',\n",
    "                       'weighted_low_access']]"
   ]
  },
  {
   "cell_type": "code",
   "execution_count": 145,
   "id": "485b7b54",
   "metadata": {},
   "outputs": [
    {
     "data": {
      "text/html": [
       "<div>\n",
       "<style scoped>\n",
       "    .dataframe tbody tr th:only-of-type {\n",
       "        vertical-align: middle;\n",
       "    }\n",
       "\n",
       "    .dataframe tbody tr th {\n",
       "        vertical-align: top;\n",
       "    }\n",
       "\n",
       "    .dataframe thead th {\n",
       "        text-align: right;\n",
       "    }\n",
       "</style>\n",
       "<table border=\"1\" class=\"dataframe\">\n",
       "  <thead>\n",
       "    <tr style=\"text-align: right;\">\n",
       "      <th></th>\n",
       "      <th>medIncome</th>\n",
       "      <th>pctWPubAsst</th>\n",
       "      <th>PctPopUnderPov</th>\n",
       "      <th>PctUnemployed</th>\n",
       "      <th>FemalePctDiv</th>\n",
       "      <th>PctPersDenseHous</th>\n",
       "      <th>PctVacantBoarded</th>\n",
       "      <th>PctHousNoPhone</th>\n",
       "      <th>MedRent</th>\n",
       "      <th>PctUsePubTrans</th>\n",
       "      <th>pctMinority</th>\n",
       "      <th>PctLarcPerPop</th>\n",
       "      <th>PctVacant</th>\n",
       "      <th>PctSingleParent</th>\n",
       "      <th>PctUnhoused</th>\n",
       "      <th>weighted_low_access</th>\n",
       "    </tr>\n",
       "  </thead>\n",
       "  <tbody>\n",
       "    <tr>\n",
       "      <th>0</th>\n",
       "      <td>13804.0</td>\n",
       "      <td>18.710000</td>\n",
       "      <td>34.580000</td>\n",
       "      <td>11.140000</td>\n",
       "      <td>14.480000</td>\n",
       "      <td>6.270000</td>\n",
       "      <td>3.740000</td>\n",
       "      <td>13.300000</td>\n",
       "      <td>244.0</td>\n",
       "      <td>0.980000</td>\n",
       "      <td>31.200000</td>\n",
       "      <td>33.802617</td>\n",
       "      <td>11.990000</td>\n",
       "      <td>39.770000</td>\n",
       "      <td>0.00000</td>\n",
       "      <td>18.50</td>\n",
       "    </tr>\n",
       "    <tr>\n",
       "      <th>1</th>\n",
       "      <td>30926.0</td>\n",
       "      <td>9.900147</td>\n",
       "      <td>12.075000</td>\n",
       "      <td>7.072500</td>\n",
       "      <td>15.722500</td>\n",
       "      <td>4.650000</td>\n",
       "      <td>1.802500</td>\n",
       "      <td>5.047500</td>\n",
       "      <td>426.5</td>\n",
       "      <td>2.557500</td>\n",
       "      <td>12.875000</td>\n",
       "      <td>3.696722</td>\n",
       "      <td>8.342500</td>\n",
       "      <td>28.000000</td>\n",
       "      <td>0.06038</td>\n",
       "      <td>61.60</td>\n",
       "    </tr>\n",
       "    <tr>\n",
       "      <th>2</th>\n",
       "      <td>16769.0</td>\n",
       "      <td>15.810000</td>\n",
       "      <td>31.790000</td>\n",
       "      <td>12.380000</td>\n",
       "      <td>14.890000</td>\n",
       "      <td>3.710000</td>\n",
       "      <td>4.000000</td>\n",
       "      <td>8.540000</td>\n",
       "      <td>277.0</td>\n",
       "      <td>0.850000</td>\n",
       "      <td>50.690000</td>\n",
       "      <td>29.647636</td>\n",
       "      <td>11.550000</td>\n",
       "      <td>46.730000</td>\n",
       "      <td>0.00000</td>\n",
       "      <td>60.85</td>\n",
       "    </tr>\n",
       "    <tr>\n",
       "      <th>3</th>\n",
       "      <td>33075.0</td>\n",
       "      <td>6.774145</td>\n",
       "      <td>12.485000</td>\n",
       "      <td>4.290000</td>\n",
       "      <td>13.680000</td>\n",
       "      <td>2.330000</td>\n",
       "      <td>2.815000</td>\n",
       "      <td>4.695000</td>\n",
       "      <td>420.0</td>\n",
       "      <td>0.080000</td>\n",
       "      <td>24.415000</td>\n",
       "      <td>9.068677</td>\n",
       "      <td>8.580000</td>\n",
       "      <td>28.735000</td>\n",
       "      <td>0.10788</td>\n",
       "      <td>45.89</td>\n",
       "    </tr>\n",
       "    <tr>\n",
       "      <th>4</th>\n",
       "      <td>21077.0</td>\n",
       "      <td>6.550000</td>\n",
       "      <td>26.330000</td>\n",
       "      <td>6.590000</td>\n",
       "      <td>12.540000</td>\n",
       "      <td>4.910000</td>\n",
       "      <td>5.550000</td>\n",
       "      <td>5.890000</td>\n",
       "      <td>383.0</td>\n",
       "      <td>2.700000</td>\n",
       "      <td>26.640000</td>\n",
       "      <td>8.200448</td>\n",
       "      <td>7.760000</td>\n",
       "      <td>35.810000</td>\n",
       "      <td>0.04955</td>\n",
       "      <td>44.76</td>\n",
       "    </tr>\n",
       "    <tr>\n",
       "      <th>5</th>\n",
       "      <td>25504.5</td>\n",
       "      <td>5.959885</td>\n",
       "      <td>10.865000</td>\n",
       "      <td>3.305000</td>\n",
       "      <td>14.760000</td>\n",
       "      <td>1.795000</td>\n",
       "      <td>0.830000</td>\n",
       "      <td>5.220000</td>\n",
       "      <td>377.5</td>\n",
       "      <td>0.205000</td>\n",
       "      <td>20.305000</td>\n",
       "      <td>7.487341</td>\n",
       "      <td>5.535000</td>\n",
       "      <td>32.600000</td>\n",
       "      <td>0.01803</td>\n",
       "      <td>61.16</td>\n",
       "    </tr>\n",
       "    <tr>\n",
       "      <th>6</th>\n",
       "      <td>46988.0</td>\n",
       "      <td>8.769379</td>\n",
       "      <td>7.447692</td>\n",
       "      <td>4.557692</td>\n",
       "      <td>13.876154</td>\n",
       "      <td>6.553846</td>\n",
       "      <td>1.773846</td>\n",
       "      <td>1.283077</td>\n",
       "      <td>762.0</td>\n",
       "      <td>8.760769</td>\n",
       "      <td>30.964615</td>\n",
       "      <td>0.323844</td>\n",
       "      <td>3.940769</td>\n",
       "      <td>25.563846</td>\n",
       "      <td>0.16271</td>\n",
       "      <td>84.64</td>\n",
       "    </tr>\n",
       "    <tr>\n",
       "      <th>7</th>\n",
       "      <td>24735.5</td>\n",
       "      <td>8.270273</td>\n",
       "      <td>15.725000</td>\n",
       "      <td>6.600000</td>\n",
       "      <td>12.055000</td>\n",
       "      <td>1.675000</td>\n",
       "      <td>7.570000</td>\n",
       "      <td>5.845000</td>\n",
       "      <td>418.0</td>\n",
       "      <td>9.780000</td>\n",
       "      <td>12.885000</td>\n",
       "      <td>2.219393</td>\n",
       "      <td>7.725000</td>\n",
       "      <td>41.935000</td>\n",
       "      <td>0.34349</td>\n",
       "      <td>59.50</td>\n",
       "    </tr>\n",
       "    <tr>\n",
       "      <th>8</th>\n",
       "      <td>19642.0</td>\n",
       "      <td>4.500000</td>\n",
       "      <td>21.030000</td>\n",
       "      <td>4.790000</td>\n",
       "      <td>10.970000</td>\n",
       "      <td>3.170000</td>\n",
       "      <td>0.590000</td>\n",
       "      <td>4.330000</td>\n",
       "      <td>343.0</td>\n",
       "      <td>0.300000</td>\n",
       "      <td>6.860000</td>\n",
       "      <td>11.302432</td>\n",
       "      <td>6.100000</td>\n",
       "      <td>25.230000</td>\n",
       "      <td>0.03747</td>\n",
       "      <td>93.30</td>\n",
       "    </tr>\n",
       "    <tr>\n",
       "      <th>9</th>\n",
       "      <td>37771.0</td>\n",
       "      <td>2.300000</td>\n",
       "      <td>3.480000</td>\n",
       "      <td>3.600000</td>\n",
       "      <td>10.010000</td>\n",
       "      <td>1.090000</td>\n",
       "      <td>0.320000</td>\n",
       "      <td>0.310000</td>\n",
       "      <td>456.0</td>\n",
       "      <td>0.000000</td>\n",
       "      <td>2.170000</td>\n",
       "      <td>16.158483</td>\n",
       "      <td>5.560000</td>\n",
       "      <td>14.350000</td>\n",
       "      <td>0.00000</td>\n",
       "      <td>71.40</td>\n",
       "    </tr>\n",
       "  </tbody>\n",
       "</table>\n",
       "</div>"
      ],
      "text/plain": [
       "   medIncome  pctWPubAsst  PctPopUnderPov  PctUnemployed  FemalePctDiv  \\\n",
       "0    13804.0    18.710000       34.580000      11.140000     14.480000   \n",
       "1    30926.0     9.900147       12.075000       7.072500     15.722500   \n",
       "2    16769.0    15.810000       31.790000      12.380000     14.890000   \n",
       "3    33075.0     6.774145       12.485000       4.290000     13.680000   \n",
       "4    21077.0     6.550000       26.330000       6.590000     12.540000   \n",
       "5    25504.5     5.959885       10.865000       3.305000     14.760000   \n",
       "6    46988.0     8.769379        7.447692       4.557692     13.876154   \n",
       "7    24735.5     8.270273       15.725000       6.600000     12.055000   \n",
       "8    19642.0     4.500000       21.030000       4.790000     10.970000   \n",
       "9    37771.0     2.300000        3.480000       3.600000     10.010000   \n",
       "\n",
       "   PctPersDenseHous  PctVacantBoarded  PctHousNoPhone  MedRent  \\\n",
       "0          6.270000          3.740000       13.300000    244.0   \n",
       "1          4.650000          1.802500        5.047500    426.5   \n",
       "2          3.710000          4.000000        8.540000    277.0   \n",
       "3          2.330000          2.815000        4.695000    420.0   \n",
       "4          4.910000          5.550000        5.890000    383.0   \n",
       "5          1.795000          0.830000        5.220000    377.5   \n",
       "6          6.553846          1.773846        1.283077    762.0   \n",
       "7          1.675000          7.570000        5.845000    418.0   \n",
       "8          3.170000          0.590000        4.330000    343.0   \n",
       "9          1.090000          0.320000        0.310000    456.0   \n",
       "\n",
       "   PctUsePubTrans  pctMinority  PctLarcPerPop  PctVacant  PctSingleParent  \\\n",
       "0        0.980000    31.200000      33.802617  11.990000        39.770000   \n",
       "1        2.557500    12.875000       3.696722   8.342500        28.000000   \n",
       "2        0.850000    50.690000      29.647636  11.550000        46.730000   \n",
       "3        0.080000    24.415000       9.068677   8.580000        28.735000   \n",
       "4        2.700000    26.640000       8.200448   7.760000        35.810000   \n",
       "5        0.205000    20.305000       7.487341   5.535000        32.600000   \n",
       "6        8.760769    30.964615       0.323844   3.940769        25.563846   \n",
       "7        9.780000    12.885000       2.219393   7.725000        41.935000   \n",
       "8        0.300000     6.860000      11.302432   6.100000        25.230000   \n",
       "9        0.000000     2.170000      16.158483   5.560000        14.350000   \n",
       "\n",
       "   PctUnhoused  weighted_low_access  \n",
       "0      0.00000                18.50  \n",
       "1      0.06038                61.60  \n",
       "2      0.00000                60.85  \n",
       "3      0.10788                45.89  \n",
       "4      0.04955                44.76  \n",
       "5      0.01803                61.16  \n",
       "6      0.16271                84.64  \n",
       "7      0.34349                59.50  \n",
       "8      0.03747                93.30  \n",
       "9      0.00000                71.40  "
      ]
     },
     "execution_count": 145,
     "metadata": {},
     "output_type": "execute_result"
    }
   ],
   "source": [
    "model_fa.head(10)"
   ]
  },
  {
   "cell_type": "markdown",
   "id": "bc28cabb",
   "metadata": {},
   "source": [
    "## Larceny Risk Classification"
   ]
  },
  {
   "cell_type": "markdown",
   "id": "0a88fdb9",
   "metadata": {},
   "source": [
    "#### This risk factor variable is determined by the distribution of the data. 75% of the data falls below 20.24%, so anything over that will be considered High-Risk and in need of intervention. Anything below 5.90% is considered low risk and not of concern. Medium-Risk categories are communities that potentially need more interventions before they become High-Risk. This will be a categorical variable that is taken out in modeling, and used to test our model on how well it can predict the risk factor for each community, based on the features in that community. "
   ]
  },
  {
   "cell_type": "code",
   "execution_count": 147,
   "id": "da11761c",
   "metadata": {},
   "outputs": [
    {
     "data": {
      "text/plain": [
       "count    867.000000\n",
       "mean      15.450484\n",
       "std       14.143237\n",
       "min        0.029817\n",
       "25%        4.142412\n",
       "50%       11.686306\n",
       "75%       22.628070\n",
       "max      109.029409\n",
       "Name: PctLarcPerPop, dtype: float64"
      ]
     },
     "execution_count": 147,
     "metadata": {},
     "output_type": "execute_result"
    }
   ],
   "source": [
    "model_df['PctLarcPerPop'].describe()"
   ]
  },
  {
   "cell_type": "markdown",
   "id": "7b04fe6f",
   "metadata": {},
   "source": [
    "### Data Without Food Access"
   ]
  },
  {
   "cell_type": "code",
   "execution_count": 149,
   "id": "e1e2ab3b",
   "metadata": {},
   "outputs": [],
   "source": [
    "# Over 20.24% larc per pop is considered high risk since 75% of data falls below\n",
    "category = pd.cut(model_df.PctLarcPerPop,bins=[0,5.90,20.06,115],labels=['Low-Risk','Medium-Risk','High-Risk'])"
   ]
  },
  {
   "cell_type": "code",
   "execution_count": 150,
   "id": "8f42ca05",
   "metadata": {},
   "outputs": [],
   "source": [
    "model_df.insert(len(model_df.columns),'LarcRisk',category) # inserting new column into model df\n",
    "model_df = model_df.drop(columns='PctLarcPerPop', axis=1) # dropping the column used to create risk column, to avoid data leakage"
   ]
  },
  {
   "cell_type": "code",
   "execution_count": 151,
   "id": "d95ff21d",
   "metadata": {},
   "outputs": [
    {
     "data": {
      "text/html": [
       "<div>\n",
       "<style scoped>\n",
       "    .dataframe tbody tr th:only-of-type {\n",
       "        vertical-align: middle;\n",
       "    }\n",
       "\n",
       "    .dataframe tbody tr th {\n",
       "        vertical-align: top;\n",
       "    }\n",
       "\n",
       "    .dataframe thead th {\n",
       "        text-align: right;\n",
       "    }\n",
       "</style>\n",
       "<table border=\"1\" class=\"dataframe\">\n",
       "  <thead>\n",
       "    <tr style=\"text-align: right;\">\n",
       "      <th></th>\n",
       "      <th>medIncome</th>\n",
       "      <th>pctWPubAsst</th>\n",
       "      <th>PctPopUnderPov</th>\n",
       "      <th>PctUnemployed</th>\n",
       "      <th>FemalePctDiv</th>\n",
       "      <th>PctPersDenseHous</th>\n",
       "      <th>PctVacantBoarded</th>\n",
       "      <th>PctHousNoPhone</th>\n",
       "      <th>MedRent</th>\n",
       "      <th>PctUsePubTrans</th>\n",
       "      <th>pctMinority</th>\n",
       "      <th>PctVacant</th>\n",
       "      <th>PctSingleParent</th>\n",
       "      <th>PctUnhoused</th>\n",
       "      <th>LarcRisk</th>\n",
       "    </tr>\n",
       "  </thead>\n",
       "  <tbody>\n",
       "    <tr>\n",
       "      <th>0</th>\n",
       "      <td>13804.0</td>\n",
       "      <td>18.710000</td>\n",
       "      <td>34.580000</td>\n",
       "      <td>11.140000</td>\n",
       "      <td>14.480000</td>\n",
       "      <td>6.270000</td>\n",
       "      <td>3.740000</td>\n",
       "      <td>13.300000</td>\n",
       "      <td>244.0</td>\n",
       "      <td>0.980000</td>\n",
       "      <td>31.200000</td>\n",
       "      <td>11.990000</td>\n",
       "      <td>39.770000</td>\n",
       "      <td>0.00000</td>\n",
       "      <td>High-Risk</td>\n",
       "    </tr>\n",
       "    <tr>\n",
       "      <th>1</th>\n",
       "      <td>30926.0</td>\n",
       "      <td>9.900147</td>\n",
       "      <td>12.075000</td>\n",
       "      <td>7.072500</td>\n",
       "      <td>15.722500</td>\n",
       "      <td>4.650000</td>\n",
       "      <td>1.802500</td>\n",
       "      <td>5.047500</td>\n",
       "      <td>426.5</td>\n",
       "      <td>2.557500</td>\n",
       "      <td>12.875000</td>\n",
       "      <td>8.342500</td>\n",
       "      <td>28.000000</td>\n",
       "      <td>0.06038</td>\n",
       "      <td>Low-Risk</td>\n",
       "    </tr>\n",
       "    <tr>\n",
       "      <th>2</th>\n",
       "      <td>16769.0</td>\n",
       "      <td>15.810000</td>\n",
       "      <td>31.790000</td>\n",
       "      <td>12.380000</td>\n",
       "      <td>14.890000</td>\n",
       "      <td>3.710000</td>\n",
       "      <td>4.000000</td>\n",
       "      <td>8.540000</td>\n",
       "      <td>277.0</td>\n",
       "      <td>0.850000</td>\n",
       "      <td>50.690000</td>\n",
       "      <td>11.550000</td>\n",
       "      <td>46.730000</td>\n",
       "      <td>0.00000</td>\n",
       "      <td>High-Risk</td>\n",
       "    </tr>\n",
       "    <tr>\n",
       "      <th>3</th>\n",
       "      <td>33075.0</td>\n",
       "      <td>6.774145</td>\n",
       "      <td>12.485000</td>\n",
       "      <td>4.290000</td>\n",
       "      <td>13.680000</td>\n",
       "      <td>2.330000</td>\n",
       "      <td>2.815000</td>\n",
       "      <td>4.695000</td>\n",
       "      <td>420.0</td>\n",
       "      <td>0.080000</td>\n",
       "      <td>24.415000</td>\n",
       "      <td>8.580000</td>\n",
       "      <td>28.735000</td>\n",
       "      <td>0.10788</td>\n",
       "      <td>Medium-Risk</td>\n",
       "    </tr>\n",
       "    <tr>\n",
       "      <th>4</th>\n",
       "      <td>21077.0</td>\n",
       "      <td>6.550000</td>\n",
       "      <td>26.330000</td>\n",
       "      <td>6.590000</td>\n",
       "      <td>12.540000</td>\n",
       "      <td>4.910000</td>\n",
       "      <td>5.550000</td>\n",
       "      <td>5.890000</td>\n",
       "      <td>383.0</td>\n",
       "      <td>2.700000</td>\n",
       "      <td>26.640000</td>\n",
       "      <td>7.760000</td>\n",
       "      <td>35.810000</td>\n",
       "      <td>0.04955</td>\n",
       "      <td>Medium-Risk</td>\n",
       "    </tr>\n",
       "    <tr>\n",
       "      <th>5</th>\n",
       "      <td>25504.5</td>\n",
       "      <td>5.959885</td>\n",
       "      <td>10.865000</td>\n",
       "      <td>3.305000</td>\n",
       "      <td>14.760000</td>\n",
       "      <td>1.795000</td>\n",
       "      <td>0.830000</td>\n",
       "      <td>5.220000</td>\n",
       "      <td>377.5</td>\n",
       "      <td>0.205000</td>\n",
       "      <td>20.305000</td>\n",
       "      <td>5.535000</td>\n",
       "      <td>32.600000</td>\n",
       "      <td>0.01803</td>\n",
       "      <td>Medium-Risk</td>\n",
       "    </tr>\n",
       "    <tr>\n",
       "      <th>6</th>\n",
       "      <td>46988.0</td>\n",
       "      <td>8.769379</td>\n",
       "      <td>7.447692</td>\n",
       "      <td>4.557692</td>\n",
       "      <td>13.876154</td>\n",
       "      <td>6.553846</td>\n",
       "      <td>1.773846</td>\n",
       "      <td>1.283077</td>\n",
       "      <td>762.0</td>\n",
       "      <td>8.760769</td>\n",
       "      <td>30.964615</td>\n",
       "      <td>3.940769</td>\n",
       "      <td>25.563846</td>\n",
       "      <td>0.16271</td>\n",
       "      <td>Low-Risk</td>\n",
       "    </tr>\n",
       "    <tr>\n",
       "      <th>7</th>\n",
       "      <td>24735.5</td>\n",
       "      <td>8.270273</td>\n",
       "      <td>15.725000</td>\n",
       "      <td>6.600000</td>\n",
       "      <td>12.055000</td>\n",
       "      <td>1.675000</td>\n",
       "      <td>7.570000</td>\n",
       "      <td>5.845000</td>\n",
       "      <td>418.0</td>\n",
       "      <td>9.780000</td>\n",
       "      <td>12.885000</td>\n",
       "      <td>7.725000</td>\n",
       "      <td>41.935000</td>\n",
       "      <td>0.34349</td>\n",
       "      <td>Low-Risk</td>\n",
       "    </tr>\n",
       "    <tr>\n",
       "      <th>8</th>\n",
       "      <td>19642.0</td>\n",
       "      <td>4.500000</td>\n",
       "      <td>21.030000</td>\n",
       "      <td>4.790000</td>\n",
       "      <td>10.970000</td>\n",
       "      <td>3.170000</td>\n",
       "      <td>0.590000</td>\n",
       "      <td>4.330000</td>\n",
       "      <td>343.0</td>\n",
       "      <td>0.300000</td>\n",
       "      <td>6.860000</td>\n",
       "      <td>6.100000</td>\n",
       "      <td>25.230000</td>\n",
       "      <td>0.03747</td>\n",
       "      <td>Medium-Risk</td>\n",
       "    </tr>\n",
       "    <tr>\n",
       "      <th>9</th>\n",
       "      <td>37771.0</td>\n",
       "      <td>2.300000</td>\n",
       "      <td>3.480000</td>\n",
       "      <td>3.600000</td>\n",
       "      <td>10.010000</td>\n",
       "      <td>1.090000</td>\n",
       "      <td>0.320000</td>\n",
       "      <td>0.310000</td>\n",
       "      <td>456.0</td>\n",
       "      <td>0.000000</td>\n",
       "      <td>2.170000</td>\n",
       "      <td>5.560000</td>\n",
       "      <td>14.350000</td>\n",
       "      <td>0.00000</td>\n",
       "      <td>Medium-Risk</td>\n",
       "    </tr>\n",
       "  </tbody>\n",
       "</table>\n",
       "</div>"
      ],
      "text/plain": [
       "   medIncome  pctWPubAsst  PctPopUnderPov  PctUnemployed  FemalePctDiv  \\\n",
       "0    13804.0    18.710000       34.580000      11.140000     14.480000   \n",
       "1    30926.0     9.900147       12.075000       7.072500     15.722500   \n",
       "2    16769.0    15.810000       31.790000      12.380000     14.890000   \n",
       "3    33075.0     6.774145       12.485000       4.290000     13.680000   \n",
       "4    21077.0     6.550000       26.330000       6.590000     12.540000   \n",
       "5    25504.5     5.959885       10.865000       3.305000     14.760000   \n",
       "6    46988.0     8.769379        7.447692       4.557692     13.876154   \n",
       "7    24735.5     8.270273       15.725000       6.600000     12.055000   \n",
       "8    19642.0     4.500000       21.030000       4.790000     10.970000   \n",
       "9    37771.0     2.300000        3.480000       3.600000     10.010000   \n",
       "\n",
       "   PctPersDenseHous  PctVacantBoarded  PctHousNoPhone  MedRent  \\\n",
       "0          6.270000          3.740000       13.300000    244.0   \n",
       "1          4.650000          1.802500        5.047500    426.5   \n",
       "2          3.710000          4.000000        8.540000    277.0   \n",
       "3          2.330000          2.815000        4.695000    420.0   \n",
       "4          4.910000          5.550000        5.890000    383.0   \n",
       "5          1.795000          0.830000        5.220000    377.5   \n",
       "6          6.553846          1.773846        1.283077    762.0   \n",
       "7          1.675000          7.570000        5.845000    418.0   \n",
       "8          3.170000          0.590000        4.330000    343.0   \n",
       "9          1.090000          0.320000        0.310000    456.0   \n",
       "\n",
       "   PctUsePubTrans  pctMinority  PctVacant  PctSingleParent  PctUnhoused  \\\n",
       "0        0.980000    31.200000  11.990000        39.770000      0.00000   \n",
       "1        2.557500    12.875000   8.342500        28.000000      0.06038   \n",
       "2        0.850000    50.690000  11.550000        46.730000      0.00000   \n",
       "3        0.080000    24.415000   8.580000        28.735000      0.10788   \n",
       "4        2.700000    26.640000   7.760000        35.810000      0.04955   \n",
       "5        0.205000    20.305000   5.535000        32.600000      0.01803   \n",
       "6        8.760769    30.964615   3.940769        25.563846      0.16271   \n",
       "7        9.780000    12.885000   7.725000        41.935000      0.34349   \n",
       "8        0.300000     6.860000   6.100000        25.230000      0.03747   \n",
       "9        0.000000     2.170000   5.560000        14.350000      0.00000   \n",
       "\n",
       "      LarcRisk  \n",
       "0    High-Risk  \n",
       "1     Low-Risk  \n",
       "2    High-Risk  \n",
       "3  Medium-Risk  \n",
       "4  Medium-Risk  \n",
       "5  Medium-Risk  \n",
       "6     Low-Risk  \n",
       "7     Low-Risk  \n",
       "8  Medium-Risk  \n",
       "9  Medium-Risk  "
      ]
     },
     "execution_count": 151,
     "metadata": {},
     "output_type": "execute_result"
    }
   ],
   "source": [
    "model_df.head(10)"
   ]
  },
  {
   "cell_type": "code",
   "execution_count": 152,
   "id": "de26a433",
   "metadata": {},
   "outputs": [
    {
     "data": {
      "text/plain": [
       "Medium-Risk    342\n",
       "High-Risk      263\n",
       "Low-Risk       262\n",
       "Name: LarcRisk, dtype: int64"
      ]
     },
     "execution_count": 152,
     "metadata": {},
     "output_type": "execute_result"
    }
   ],
   "source": [
    "model_df['LarcRisk'].value_counts()"
   ]
  },
  {
   "cell_type": "code",
   "execution_count": 153,
   "id": "6c5db8c0",
   "metadata": {},
   "outputs": [],
   "source": [
    "# Convert the 'LarcRisk' column to string\n",
    "model_df['LarcRisk'] = model_df['LarcRisk'].astype(str)"
   ]
  },
  {
   "cell_type": "code",
   "execution_count": 154,
   "id": "4a2422db",
   "metadata": {},
   "outputs": [
    {
     "data": {
      "text/plain": [
       "medIncome           float64\n",
       "pctWPubAsst         float64\n",
       "PctPopUnderPov      float64\n",
       "PctUnemployed       float64\n",
       "FemalePctDiv        float64\n",
       "PctPersDenseHous    float64\n",
       "PctVacantBoarded    float64\n",
       "PctHousNoPhone      float64\n",
       "MedRent             float64\n",
       "PctUsePubTrans      float64\n",
       "pctMinority         float64\n",
       "PctVacant           float64\n",
       "PctSingleParent     float64\n",
       "PctUnhoused         float64\n",
       "LarcRisk             object\n",
       "dtype: object"
      ]
     },
     "execution_count": 154,
     "metadata": {},
     "output_type": "execute_result"
    }
   ],
   "source": [
    "model_df.dtypes"
   ]
  },
  {
   "cell_type": "code",
   "execution_count": 155,
   "id": "2a47eb78",
   "metadata": {},
   "outputs": [
    {
     "data": {
      "text/plain": [
       "medIncome           0\n",
       "pctWPubAsst         0\n",
       "PctPopUnderPov      0\n",
       "PctUnemployed       0\n",
       "FemalePctDiv        0\n",
       "PctPersDenseHous    0\n",
       "PctVacantBoarded    0\n",
       "PctHousNoPhone      0\n",
       "MedRent             0\n",
       "PctUsePubTrans      0\n",
       "pctMinority         0\n",
       "PctVacant           0\n",
       "PctSingleParent     0\n",
       "PctUnhoused         0\n",
       "LarcRisk            0\n",
       "dtype: int64"
      ]
     },
     "execution_count": 155,
     "metadata": {},
     "output_type": "execute_result"
    }
   ],
   "source": [
    "model_df.isna().sum()"
   ]
  },
  {
   "cell_type": "markdown",
   "id": "7634532b",
   "metadata": {},
   "source": [
    "### Data WITH Food Access"
   ]
  },
  {
   "cell_type": "code",
   "execution_count": 156,
   "id": "6f9c6988",
   "metadata": {},
   "outputs": [
    {
     "data": {
      "text/plain": [
       "count    867.000000\n",
       "mean      15.450484\n",
       "std       14.143237\n",
       "min        0.029817\n",
       "25%        4.142412\n",
       "50%       11.686306\n",
       "75%       22.628070\n",
       "max      109.029409\n",
       "Name: PctLarcPerPop, dtype: float64"
      ]
     },
     "execution_count": 156,
     "metadata": {},
     "output_type": "execute_result"
    }
   ],
   "source": [
    "model_fa['PctLarcPerPop'].describe()"
   ]
  },
  {
   "cell_type": "code",
   "execution_count": 157,
   "id": "6c3db33e",
   "metadata": {},
   "outputs": [],
   "source": [
    "# Over 20.24% larc per pop is considered high risk since 75% of data falls below\n",
    "category = pd.cut(model_fa.PctLarcPerPop,bins=[0,5.90,20.06,115],labels=['Low-Risk','Medium-Risk','High-Risk'])"
   ]
  },
  {
   "cell_type": "code",
   "execution_count": 158,
   "id": "48b0aaa5",
   "metadata": {},
   "outputs": [],
   "source": [
    "model_fa.insert(len(model_fa.columns),'LarcRisk',category) # inserting new column into model food access\n",
    "model_fa = model_fa.drop(columns='PctLarcPerPop', axis=1) # dropping the column used to create risk column, to avoid data leakage"
   ]
  },
  {
   "cell_type": "code",
   "execution_count": 159,
   "id": "a8710666",
   "metadata": {},
   "outputs": [
    {
     "data": {
      "text/html": [
       "<div>\n",
       "<style scoped>\n",
       "    .dataframe tbody tr th:only-of-type {\n",
       "        vertical-align: middle;\n",
       "    }\n",
       "\n",
       "    .dataframe tbody tr th {\n",
       "        vertical-align: top;\n",
       "    }\n",
       "\n",
       "    .dataframe thead th {\n",
       "        text-align: right;\n",
       "    }\n",
       "</style>\n",
       "<table border=\"1\" class=\"dataframe\">\n",
       "  <thead>\n",
       "    <tr style=\"text-align: right;\">\n",
       "      <th></th>\n",
       "      <th>medIncome</th>\n",
       "      <th>pctWPubAsst</th>\n",
       "      <th>PctPopUnderPov</th>\n",
       "      <th>PctUnemployed</th>\n",
       "      <th>FemalePctDiv</th>\n",
       "      <th>PctPersDenseHous</th>\n",
       "      <th>PctVacantBoarded</th>\n",
       "      <th>PctHousNoPhone</th>\n",
       "      <th>MedRent</th>\n",
       "      <th>PctUsePubTrans</th>\n",
       "      <th>pctMinority</th>\n",
       "      <th>PctVacant</th>\n",
       "      <th>PctSingleParent</th>\n",
       "      <th>PctUnhoused</th>\n",
       "      <th>weighted_low_access</th>\n",
       "      <th>LarcRisk</th>\n",
       "    </tr>\n",
       "  </thead>\n",
       "  <tbody>\n",
       "    <tr>\n",
       "      <th>0</th>\n",
       "      <td>13804.0</td>\n",
       "      <td>18.710000</td>\n",
       "      <td>34.580000</td>\n",
       "      <td>11.140000</td>\n",
       "      <td>14.480000</td>\n",
       "      <td>6.270000</td>\n",
       "      <td>3.740000</td>\n",
       "      <td>13.300000</td>\n",
       "      <td>244.0</td>\n",
       "      <td>0.980000</td>\n",
       "      <td>31.200000</td>\n",
       "      <td>11.990000</td>\n",
       "      <td>39.770000</td>\n",
       "      <td>0.00000</td>\n",
       "      <td>18.50</td>\n",
       "      <td>High-Risk</td>\n",
       "    </tr>\n",
       "    <tr>\n",
       "      <th>1</th>\n",
       "      <td>30926.0</td>\n",
       "      <td>9.900147</td>\n",
       "      <td>12.075000</td>\n",
       "      <td>7.072500</td>\n",
       "      <td>15.722500</td>\n",
       "      <td>4.650000</td>\n",
       "      <td>1.802500</td>\n",
       "      <td>5.047500</td>\n",
       "      <td>426.5</td>\n",
       "      <td>2.557500</td>\n",
       "      <td>12.875000</td>\n",
       "      <td>8.342500</td>\n",
       "      <td>28.000000</td>\n",
       "      <td>0.06038</td>\n",
       "      <td>61.60</td>\n",
       "      <td>Low-Risk</td>\n",
       "    </tr>\n",
       "    <tr>\n",
       "      <th>2</th>\n",
       "      <td>16769.0</td>\n",
       "      <td>15.810000</td>\n",
       "      <td>31.790000</td>\n",
       "      <td>12.380000</td>\n",
       "      <td>14.890000</td>\n",
       "      <td>3.710000</td>\n",
       "      <td>4.000000</td>\n",
       "      <td>8.540000</td>\n",
       "      <td>277.0</td>\n",
       "      <td>0.850000</td>\n",
       "      <td>50.690000</td>\n",
       "      <td>11.550000</td>\n",
       "      <td>46.730000</td>\n",
       "      <td>0.00000</td>\n",
       "      <td>60.85</td>\n",
       "      <td>High-Risk</td>\n",
       "    </tr>\n",
       "    <tr>\n",
       "      <th>3</th>\n",
       "      <td>33075.0</td>\n",
       "      <td>6.774145</td>\n",
       "      <td>12.485000</td>\n",
       "      <td>4.290000</td>\n",
       "      <td>13.680000</td>\n",
       "      <td>2.330000</td>\n",
       "      <td>2.815000</td>\n",
       "      <td>4.695000</td>\n",
       "      <td>420.0</td>\n",
       "      <td>0.080000</td>\n",
       "      <td>24.415000</td>\n",
       "      <td>8.580000</td>\n",
       "      <td>28.735000</td>\n",
       "      <td>0.10788</td>\n",
       "      <td>45.89</td>\n",
       "      <td>Medium-Risk</td>\n",
       "    </tr>\n",
       "    <tr>\n",
       "      <th>4</th>\n",
       "      <td>21077.0</td>\n",
       "      <td>6.550000</td>\n",
       "      <td>26.330000</td>\n",
       "      <td>6.590000</td>\n",
       "      <td>12.540000</td>\n",
       "      <td>4.910000</td>\n",
       "      <td>5.550000</td>\n",
       "      <td>5.890000</td>\n",
       "      <td>383.0</td>\n",
       "      <td>2.700000</td>\n",
       "      <td>26.640000</td>\n",
       "      <td>7.760000</td>\n",
       "      <td>35.810000</td>\n",
       "      <td>0.04955</td>\n",
       "      <td>44.76</td>\n",
       "      <td>Medium-Risk</td>\n",
       "    </tr>\n",
       "    <tr>\n",
       "      <th>5</th>\n",
       "      <td>25504.5</td>\n",
       "      <td>5.959885</td>\n",
       "      <td>10.865000</td>\n",
       "      <td>3.305000</td>\n",
       "      <td>14.760000</td>\n",
       "      <td>1.795000</td>\n",
       "      <td>0.830000</td>\n",
       "      <td>5.220000</td>\n",
       "      <td>377.5</td>\n",
       "      <td>0.205000</td>\n",
       "      <td>20.305000</td>\n",
       "      <td>5.535000</td>\n",
       "      <td>32.600000</td>\n",
       "      <td>0.01803</td>\n",
       "      <td>61.16</td>\n",
       "      <td>Medium-Risk</td>\n",
       "    </tr>\n",
       "    <tr>\n",
       "      <th>6</th>\n",
       "      <td>46988.0</td>\n",
       "      <td>8.769379</td>\n",
       "      <td>7.447692</td>\n",
       "      <td>4.557692</td>\n",
       "      <td>13.876154</td>\n",
       "      <td>6.553846</td>\n",
       "      <td>1.773846</td>\n",
       "      <td>1.283077</td>\n",
       "      <td>762.0</td>\n",
       "      <td>8.760769</td>\n",
       "      <td>30.964615</td>\n",
       "      <td>3.940769</td>\n",
       "      <td>25.563846</td>\n",
       "      <td>0.16271</td>\n",
       "      <td>84.64</td>\n",
       "      <td>Low-Risk</td>\n",
       "    </tr>\n",
       "    <tr>\n",
       "      <th>7</th>\n",
       "      <td>24735.5</td>\n",
       "      <td>8.270273</td>\n",
       "      <td>15.725000</td>\n",
       "      <td>6.600000</td>\n",
       "      <td>12.055000</td>\n",
       "      <td>1.675000</td>\n",
       "      <td>7.570000</td>\n",
       "      <td>5.845000</td>\n",
       "      <td>418.0</td>\n",
       "      <td>9.780000</td>\n",
       "      <td>12.885000</td>\n",
       "      <td>7.725000</td>\n",
       "      <td>41.935000</td>\n",
       "      <td>0.34349</td>\n",
       "      <td>59.50</td>\n",
       "      <td>Low-Risk</td>\n",
       "    </tr>\n",
       "    <tr>\n",
       "      <th>8</th>\n",
       "      <td>19642.0</td>\n",
       "      <td>4.500000</td>\n",
       "      <td>21.030000</td>\n",
       "      <td>4.790000</td>\n",
       "      <td>10.970000</td>\n",
       "      <td>3.170000</td>\n",
       "      <td>0.590000</td>\n",
       "      <td>4.330000</td>\n",
       "      <td>343.0</td>\n",
       "      <td>0.300000</td>\n",
       "      <td>6.860000</td>\n",
       "      <td>6.100000</td>\n",
       "      <td>25.230000</td>\n",
       "      <td>0.03747</td>\n",
       "      <td>93.30</td>\n",
       "      <td>Medium-Risk</td>\n",
       "    </tr>\n",
       "    <tr>\n",
       "      <th>9</th>\n",
       "      <td>37771.0</td>\n",
       "      <td>2.300000</td>\n",
       "      <td>3.480000</td>\n",
       "      <td>3.600000</td>\n",
       "      <td>10.010000</td>\n",
       "      <td>1.090000</td>\n",
       "      <td>0.320000</td>\n",
       "      <td>0.310000</td>\n",
       "      <td>456.0</td>\n",
       "      <td>0.000000</td>\n",
       "      <td>2.170000</td>\n",
       "      <td>5.560000</td>\n",
       "      <td>14.350000</td>\n",
       "      <td>0.00000</td>\n",
       "      <td>71.40</td>\n",
       "      <td>Medium-Risk</td>\n",
       "    </tr>\n",
       "  </tbody>\n",
       "</table>\n",
       "</div>"
      ],
      "text/plain": [
       "   medIncome  pctWPubAsst  PctPopUnderPov  PctUnemployed  FemalePctDiv  \\\n",
       "0    13804.0    18.710000       34.580000      11.140000     14.480000   \n",
       "1    30926.0     9.900147       12.075000       7.072500     15.722500   \n",
       "2    16769.0    15.810000       31.790000      12.380000     14.890000   \n",
       "3    33075.0     6.774145       12.485000       4.290000     13.680000   \n",
       "4    21077.0     6.550000       26.330000       6.590000     12.540000   \n",
       "5    25504.5     5.959885       10.865000       3.305000     14.760000   \n",
       "6    46988.0     8.769379        7.447692       4.557692     13.876154   \n",
       "7    24735.5     8.270273       15.725000       6.600000     12.055000   \n",
       "8    19642.0     4.500000       21.030000       4.790000     10.970000   \n",
       "9    37771.0     2.300000        3.480000       3.600000     10.010000   \n",
       "\n",
       "   PctPersDenseHous  PctVacantBoarded  PctHousNoPhone  MedRent  \\\n",
       "0          6.270000          3.740000       13.300000    244.0   \n",
       "1          4.650000          1.802500        5.047500    426.5   \n",
       "2          3.710000          4.000000        8.540000    277.0   \n",
       "3          2.330000          2.815000        4.695000    420.0   \n",
       "4          4.910000          5.550000        5.890000    383.0   \n",
       "5          1.795000          0.830000        5.220000    377.5   \n",
       "6          6.553846          1.773846        1.283077    762.0   \n",
       "7          1.675000          7.570000        5.845000    418.0   \n",
       "8          3.170000          0.590000        4.330000    343.0   \n",
       "9          1.090000          0.320000        0.310000    456.0   \n",
       "\n",
       "   PctUsePubTrans  pctMinority  PctVacant  PctSingleParent  PctUnhoused  \\\n",
       "0        0.980000    31.200000  11.990000        39.770000      0.00000   \n",
       "1        2.557500    12.875000   8.342500        28.000000      0.06038   \n",
       "2        0.850000    50.690000  11.550000        46.730000      0.00000   \n",
       "3        0.080000    24.415000   8.580000        28.735000      0.10788   \n",
       "4        2.700000    26.640000   7.760000        35.810000      0.04955   \n",
       "5        0.205000    20.305000   5.535000        32.600000      0.01803   \n",
       "6        8.760769    30.964615   3.940769        25.563846      0.16271   \n",
       "7        9.780000    12.885000   7.725000        41.935000      0.34349   \n",
       "8        0.300000     6.860000   6.100000        25.230000      0.03747   \n",
       "9        0.000000     2.170000   5.560000        14.350000      0.00000   \n",
       "\n",
       "   weighted_low_access     LarcRisk  \n",
       "0                18.50    High-Risk  \n",
       "1                61.60     Low-Risk  \n",
       "2                60.85    High-Risk  \n",
       "3                45.89  Medium-Risk  \n",
       "4                44.76  Medium-Risk  \n",
       "5                61.16  Medium-Risk  \n",
       "6                84.64     Low-Risk  \n",
       "7                59.50     Low-Risk  \n",
       "8                93.30  Medium-Risk  \n",
       "9                71.40  Medium-Risk  "
      ]
     },
     "execution_count": 159,
     "metadata": {},
     "output_type": "execute_result"
    }
   ],
   "source": [
    "model_fa.head(10)"
   ]
  },
  {
   "cell_type": "code",
   "execution_count": 160,
   "id": "ce3f4cb3",
   "metadata": {},
   "outputs": [
    {
     "data": {
      "text/plain": [
       "Medium-Risk    342\n",
       "High-Risk      263\n",
       "Low-Risk       262\n",
       "Name: LarcRisk, dtype: int64"
      ]
     },
     "execution_count": 160,
     "metadata": {},
     "output_type": "execute_result"
    }
   ],
   "source": [
    "model_fa['LarcRisk'].value_counts()"
   ]
  },
  {
   "cell_type": "code",
   "execution_count": 161,
   "id": "37c55a50",
   "metadata": {},
   "outputs": [],
   "source": [
    "# Convert the 'LarcRisk' column to string\n",
    "model_fa['LarcRisk'] = model_fa['LarcRisk'].astype(str)"
   ]
  },
  {
   "cell_type": "code",
   "execution_count": 162,
   "id": "dafd7db1",
   "metadata": {},
   "outputs": [
    {
     "data": {
      "text/plain": [
       "medIncome              float64\n",
       "pctWPubAsst            float64\n",
       "PctPopUnderPov         float64\n",
       "PctUnemployed          float64\n",
       "FemalePctDiv           float64\n",
       "PctPersDenseHous       float64\n",
       "PctVacantBoarded       float64\n",
       "PctHousNoPhone         float64\n",
       "MedRent                float64\n",
       "PctUsePubTrans         float64\n",
       "pctMinority            float64\n",
       "PctVacant              float64\n",
       "PctSingleParent        float64\n",
       "PctUnhoused            float64\n",
       "weighted_low_access    float64\n",
       "LarcRisk                object\n",
       "dtype: object"
      ]
     },
     "execution_count": 162,
     "metadata": {},
     "output_type": "execute_result"
    }
   ],
   "source": [
    "model_fa.dtypes"
   ]
  },
  {
   "cell_type": "code",
   "execution_count": 163,
   "id": "ca828405",
   "metadata": {},
   "outputs": [
    {
     "data": {
      "text/plain": [
       "medIncome              0\n",
       "pctWPubAsst            0\n",
       "PctPopUnderPov         0\n",
       "PctUnemployed          0\n",
       "FemalePctDiv           0\n",
       "PctPersDenseHous       0\n",
       "PctVacantBoarded       0\n",
       "PctHousNoPhone         0\n",
       "MedRent                0\n",
       "PctUsePubTrans         0\n",
       "pctMinority            0\n",
       "PctVacant              0\n",
       "PctSingleParent        0\n",
       "PctUnhoused            0\n",
       "weighted_low_access    0\n",
       "LarcRisk               0\n",
       "dtype: int64"
      ]
     },
     "execution_count": 163,
     "metadata": {},
     "output_type": "execute_result"
    }
   ],
   "source": [
    "model_fa.isna().sum()"
   ]
  },
  {
   "cell_type": "markdown",
   "id": "6a35bf55",
   "metadata": {},
   "source": [
    "## Splitting the Data: Test/Train"
   ]
  },
  {
   "cell_type": "markdown",
   "id": "f91f1f15",
   "metadata": {},
   "source": [
    "#### To avoid data leakage, splitting first ensures that there is no contamination of the test set. The test set remains a proxy for unseen data and evaluates how well your model generalizes. I also ensures reproducible results. The feature selection process reflects the variability in the training data and avoids bias from including test set information."
   ]
  },
  {
   "cell_type": "code",
   "execution_count": 164,
   "id": "126c9206",
   "metadata": {},
   "outputs": [],
   "source": [
    "from sklearn.model_selection import train_test_split"
   ]
  },
  {
   "cell_type": "markdown",
   "id": "28e64755",
   "metadata": {},
   "source": [
    "### Data Without Food Access"
   ]
  },
  {
   "cell_type": "code",
   "execution_count": 165,
   "id": "874d29c5",
   "metadata": {},
   "outputs": [],
   "source": [
    "# Split your dataset into features (X) and target (y)\n",
    "X_df = model_df.drop(columns=['LarcRisk'])  # Drop target variables\n",
    "y_df = model_df['LarcRisk']  # Target variable\n",
    "\n",
    "# Perform the split\n",
    "X_train_df, X_test_df, y_train_df, y_test_df = train_test_split(X_df, y_df, test_size=0.3, random_state=42)"
   ]
  },
  {
   "cell_type": "code",
   "execution_count": 166,
   "id": "93843fae",
   "metadata": {},
   "outputs": [
    {
     "data": {
      "text/plain": [
       "((606, 14), (261, 14), (606,), (261,))"
      ]
     },
     "execution_count": 166,
     "metadata": {},
     "output_type": "execute_result"
    }
   ],
   "source": [
    "X_train_df.shape, X_test_df.shape, y_train_df.shape, y_test_df.shape"
   ]
  },
  {
   "cell_type": "markdown",
   "id": "4c71a506",
   "metadata": {},
   "source": [
    "### Data WITH Food Access"
   ]
  },
  {
   "cell_type": "code",
   "execution_count": 167,
   "id": "fdf2b7a8",
   "metadata": {},
   "outputs": [],
   "source": [
    "# Split your dataset into features (X) and target (y)\n",
    "X_fa = model_fa.drop(columns=['LarcRisk'])  # Drop target variables\n",
    "y_fa = model_fa['LarcRisk']  # Target variable\n",
    "\n",
    "# Perform the split\n",
    "X_train_fa, X_test_fa, y_train_fa, y_test_fa = train_test_split(X_fa, y_fa, test_size=0.3, random_state=42)"
   ]
  },
  {
   "cell_type": "code",
   "execution_count": 168,
   "id": "8498593d",
   "metadata": {},
   "outputs": [
    {
     "data": {
      "text/plain": [
       "((606, 15), (261, 15), (606,), (261,))"
      ]
     },
     "execution_count": 168,
     "metadata": {},
     "output_type": "execute_result"
    }
   ],
   "source": [
    "X_train_fa.shape, X_test_fa.shape, y_train_fa.shape, y_test_fa.shape"
   ]
  },
  {
   "cell_type": "markdown",
   "id": "df56cd85",
   "metadata": {},
   "source": [
    "# Modeling With & Without Food Access for Comparability"
   ]
  },
  {
   "cell_type": "markdown",
   "id": "7a7ec2dd",
   "metadata": {},
   "source": [
    "## Dummy Model (Baseline)"
   ]
  },
  {
   "cell_type": "code",
   "execution_count": 169,
   "id": "2f7f8321",
   "metadata": {},
   "outputs": [],
   "source": [
    "import numpy as np\n",
    "from sklearn.dummy import DummyClassifier"
   ]
  },
  {
   "cell_type": "markdown",
   "id": "fbdcda57",
   "metadata": {},
   "source": [
    "### Control"
   ]
  },
  {
   "cell_type": "code",
   "execution_count": 170,
   "id": "7cce22d3",
   "metadata": {},
   "outputs": [
    {
     "data": {
      "text/html": [
       "<style>#sk-container-id-1 {color: black;}#sk-container-id-1 pre{padding: 0;}#sk-container-id-1 div.sk-toggleable {background-color: white;}#sk-container-id-1 label.sk-toggleable__label {cursor: pointer;display: block;width: 100%;margin-bottom: 0;padding: 0.3em;box-sizing: border-box;text-align: center;}#sk-container-id-1 label.sk-toggleable__label-arrow:before {content: \"▸\";float: left;margin-right: 0.25em;color: #696969;}#sk-container-id-1 label.sk-toggleable__label-arrow:hover:before {color: black;}#sk-container-id-1 div.sk-estimator:hover label.sk-toggleable__label-arrow:before {color: black;}#sk-container-id-1 div.sk-toggleable__content {max-height: 0;max-width: 0;overflow: hidden;text-align: left;background-color: #f0f8ff;}#sk-container-id-1 div.sk-toggleable__content pre {margin: 0.2em;color: black;border-radius: 0.25em;background-color: #f0f8ff;}#sk-container-id-1 input.sk-toggleable__control:checked~div.sk-toggleable__content {max-height: 200px;max-width: 100%;overflow: auto;}#sk-container-id-1 input.sk-toggleable__control:checked~label.sk-toggleable__label-arrow:before {content: \"▾\";}#sk-container-id-1 div.sk-estimator input.sk-toggleable__control:checked~label.sk-toggleable__label {background-color: #d4ebff;}#sk-container-id-1 div.sk-label input.sk-toggleable__control:checked~label.sk-toggleable__label {background-color: #d4ebff;}#sk-container-id-1 input.sk-hidden--visually {border: 0;clip: rect(1px 1px 1px 1px);clip: rect(1px, 1px, 1px, 1px);height: 1px;margin: -1px;overflow: hidden;padding: 0;position: absolute;width: 1px;}#sk-container-id-1 div.sk-estimator {font-family: monospace;background-color: #f0f8ff;border: 1px dotted black;border-radius: 0.25em;box-sizing: border-box;margin-bottom: 0.5em;}#sk-container-id-1 div.sk-estimator:hover {background-color: #d4ebff;}#sk-container-id-1 div.sk-parallel-item::after {content: \"\";width: 100%;border-bottom: 1px solid gray;flex-grow: 1;}#sk-container-id-1 div.sk-label:hover label.sk-toggleable__label {background-color: #d4ebff;}#sk-container-id-1 div.sk-serial::before {content: \"\";position: absolute;border-left: 1px solid gray;box-sizing: border-box;top: 0;bottom: 0;left: 50%;z-index: 0;}#sk-container-id-1 div.sk-serial {display: flex;flex-direction: column;align-items: center;background-color: white;padding-right: 0.2em;padding-left: 0.2em;position: relative;}#sk-container-id-1 div.sk-item {position: relative;z-index: 1;}#sk-container-id-1 div.sk-parallel {display: flex;align-items: stretch;justify-content: center;background-color: white;position: relative;}#sk-container-id-1 div.sk-item::before, #sk-container-id-1 div.sk-parallel-item::before {content: \"\";position: absolute;border-left: 1px solid gray;box-sizing: border-box;top: 0;bottom: 0;left: 50%;z-index: -1;}#sk-container-id-1 div.sk-parallel-item {display: flex;flex-direction: column;z-index: 1;position: relative;background-color: white;}#sk-container-id-1 div.sk-parallel-item:first-child::after {align-self: flex-end;width: 50%;}#sk-container-id-1 div.sk-parallel-item:last-child::after {align-self: flex-start;width: 50%;}#sk-container-id-1 div.sk-parallel-item:only-child::after {width: 0;}#sk-container-id-1 div.sk-dashed-wrapped {border: 1px dashed gray;margin: 0 0.4em 0.5em 0.4em;box-sizing: border-box;padding-bottom: 0.4em;background-color: white;}#sk-container-id-1 div.sk-label label {font-family: monospace;font-weight: bold;display: inline-block;line-height: 1.2em;}#sk-container-id-1 div.sk-label-container {text-align: center;}#sk-container-id-1 div.sk-container {/* jupyter's `normalize.less` sets `[hidden] { display: none; }` but bootstrap.min.css set `[hidden] { display: none !important; }` so we also need the `!important` here to be able to override the default hidden behavior on the sphinx rendered scikit-learn.org. See: https://github.com/scikit-learn/scikit-learn/issues/21755 */display: inline-block !important;position: relative;}#sk-container-id-1 div.sk-text-repr-fallback {display: none;}</style><div id=\"sk-container-id-1\" class=\"sk-top-container\"><div class=\"sk-text-repr-fallback\"><pre>DummyClassifier(strategy=&#x27;most_frequent&#x27;)</pre><b>In a Jupyter environment, please rerun this cell to show the HTML representation or trust the notebook. <br />On GitHub, the HTML representation is unable to render, please try loading this page with nbviewer.org.</b></div><div class=\"sk-container\" hidden><div class=\"sk-item\"><div class=\"sk-estimator sk-toggleable\"><input class=\"sk-toggleable__control sk-hidden--visually\" id=\"sk-estimator-id-1\" type=\"checkbox\" checked><label for=\"sk-estimator-id-1\" class=\"sk-toggleable__label sk-toggleable__label-arrow\">DummyClassifier</label><div class=\"sk-toggleable__content\"><pre>DummyClassifier(strategy=&#x27;most_frequent&#x27;)</pre></div></div></div></div></div>"
      ],
      "text/plain": [
       "DummyClassifier(strategy='most_frequent')"
      ]
     },
     "execution_count": 170,
     "metadata": {},
     "output_type": "execute_result"
    }
   ],
   "source": [
    "dummy_clf_df = DummyClassifier(strategy=\"most_frequent\")\n",
    "dummy_clf_df.fit(X_df, y_df)"
   ]
  },
  {
   "cell_type": "code",
   "execution_count": 172,
   "id": "5ec89c15",
   "metadata": {},
   "outputs": [
    {
     "data": {
      "text/plain": [
       "array(['Medium-Risk', 'Medium-Risk', 'Medium-Risk', 'Medium-Risk',\n",
       "       'Medium-Risk', 'Medium-Risk', 'Medium-Risk', 'Medium-Risk',\n",
       "       'Medium-Risk', 'Medium-Risk', 'Medium-Risk', 'Medium-Risk',\n",
       "       'Medium-Risk', 'Medium-Risk', 'Medium-Risk', 'Medium-Risk',\n",
       "       'Medium-Risk', 'Medium-Risk', 'Medium-Risk', 'Medium-Risk',\n",
       "       'Medium-Risk', 'Medium-Risk', 'Medium-Risk', 'Medium-Risk',\n",
       "       'Medium-Risk', 'Medium-Risk', 'Medium-Risk', 'Medium-Risk',\n",
       "       'Medium-Risk', 'Medium-Risk', 'Medium-Risk', 'Medium-Risk',\n",
       "       'Medium-Risk', 'Medium-Risk', 'Medium-Risk', 'Medium-Risk',\n",
       "       'Medium-Risk', 'Medium-Risk', 'Medium-Risk', 'Medium-Risk',\n",
       "       'Medium-Risk', 'Medium-Risk', 'Medium-Risk', 'Medium-Risk',\n",
       "       'Medium-Risk', 'Medium-Risk', 'Medium-Risk', 'Medium-Risk',\n",
       "       'Medium-Risk', 'Medium-Risk', 'Medium-Risk', 'Medium-Risk',\n",
       "       'Medium-Risk', 'Medium-Risk', 'Medium-Risk', 'Medium-Risk',\n",
       "       'Medium-Risk', 'Medium-Risk', 'Medium-Risk', 'Medium-Risk',\n",
       "       'Medium-Risk', 'Medium-Risk', 'Medium-Risk', 'Medium-Risk',\n",
       "       'Medium-Risk', 'Medium-Risk', 'Medium-Risk', 'Medium-Risk',\n",
       "       'Medium-Risk', 'Medium-Risk', 'Medium-Risk', 'Medium-Risk',\n",
       "       'Medium-Risk', 'Medium-Risk', 'Medium-Risk', 'Medium-Risk',\n",
       "       'Medium-Risk', 'Medium-Risk', 'Medium-Risk', 'Medium-Risk',\n",
       "       'Medium-Risk', 'Medium-Risk', 'Medium-Risk', 'Medium-Risk',\n",
       "       'Medium-Risk', 'Medium-Risk', 'Medium-Risk', 'Medium-Risk',\n",
       "       'Medium-Risk', 'Medium-Risk', 'Medium-Risk', 'Medium-Risk',\n",
       "       'Medium-Risk', 'Medium-Risk', 'Medium-Risk', 'Medium-Risk',\n",
       "       'Medium-Risk', 'Medium-Risk', 'Medium-Risk', 'Medium-Risk',\n",
       "       'Medium-Risk', 'Medium-Risk', 'Medium-Risk', 'Medium-Risk',\n",
       "       'Medium-Risk', 'Medium-Risk', 'Medium-Risk', 'Medium-Risk',\n",
       "       'Medium-Risk', 'Medium-Risk', 'Medium-Risk', 'Medium-Risk',\n",
       "       'Medium-Risk', 'Medium-Risk', 'Medium-Risk', 'Medium-Risk',\n",
       "       'Medium-Risk', 'Medium-Risk', 'Medium-Risk', 'Medium-Risk',\n",
       "       'Medium-Risk', 'Medium-Risk', 'Medium-Risk', 'Medium-Risk',\n",
       "       'Medium-Risk', 'Medium-Risk', 'Medium-Risk', 'Medium-Risk',\n",
       "       'Medium-Risk', 'Medium-Risk', 'Medium-Risk', 'Medium-Risk',\n",
       "       'Medium-Risk', 'Medium-Risk', 'Medium-Risk', 'Medium-Risk',\n",
       "       'Medium-Risk', 'Medium-Risk', 'Medium-Risk', 'Medium-Risk',\n",
       "       'Medium-Risk', 'Medium-Risk', 'Medium-Risk', 'Medium-Risk',\n",
       "       'Medium-Risk', 'Medium-Risk', 'Medium-Risk', 'Medium-Risk',\n",
       "       'Medium-Risk', 'Medium-Risk', 'Medium-Risk', 'Medium-Risk',\n",
       "       'Medium-Risk', 'Medium-Risk', 'Medium-Risk', 'Medium-Risk',\n",
       "       'Medium-Risk', 'Medium-Risk', 'Medium-Risk', 'Medium-Risk',\n",
       "       'Medium-Risk', 'Medium-Risk', 'Medium-Risk', 'Medium-Risk',\n",
       "       'Medium-Risk', 'Medium-Risk', 'Medium-Risk', 'Medium-Risk',\n",
       "       'Medium-Risk', 'Medium-Risk', 'Medium-Risk', 'Medium-Risk',\n",
       "       'Medium-Risk', 'Medium-Risk', 'Medium-Risk', 'Medium-Risk',\n",
       "       'Medium-Risk', 'Medium-Risk', 'Medium-Risk', 'Medium-Risk',\n",
       "       'Medium-Risk', 'Medium-Risk', 'Medium-Risk', 'Medium-Risk',\n",
       "       'Medium-Risk', 'Medium-Risk', 'Medium-Risk', 'Medium-Risk',\n",
       "       'Medium-Risk', 'Medium-Risk', 'Medium-Risk', 'Medium-Risk',\n",
       "       'Medium-Risk', 'Medium-Risk', 'Medium-Risk', 'Medium-Risk',\n",
       "       'Medium-Risk', 'Medium-Risk', 'Medium-Risk', 'Medium-Risk',\n",
       "       'Medium-Risk', 'Medium-Risk', 'Medium-Risk', 'Medium-Risk',\n",
       "       'Medium-Risk', 'Medium-Risk', 'Medium-Risk', 'Medium-Risk',\n",
       "       'Medium-Risk', 'Medium-Risk', 'Medium-Risk', 'Medium-Risk',\n",
       "       'Medium-Risk', 'Medium-Risk', 'Medium-Risk', 'Medium-Risk',\n",
       "       'Medium-Risk', 'Medium-Risk', 'Medium-Risk', 'Medium-Risk',\n",
       "       'Medium-Risk', 'Medium-Risk', 'Medium-Risk', 'Medium-Risk',\n",
       "       'Medium-Risk', 'Medium-Risk', 'Medium-Risk', 'Medium-Risk',\n",
       "       'Medium-Risk', 'Medium-Risk', 'Medium-Risk', 'Medium-Risk',\n",
       "       'Medium-Risk', 'Medium-Risk', 'Medium-Risk', 'Medium-Risk',\n",
       "       'Medium-Risk', 'Medium-Risk', 'Medium-Risk', 'Medium-Risk',\n",
       "       'Medium-Risk', 'Medium-Risk', 'Medium-Risk', 'Medium-Risk',\n",
       "       'Medium-Risk', 'Medium-Risk', 'Medium-Risk', 'Medium-Risk',\n",
       "       'Medium-Risk', 'Medium-Risk', 'Medium-Risk', 'Medium-Risk',\n",
       "       'Medium-Risk', 'Medium-Risk', 'Medium-Risk', 'Medium-Risk',\n",
       "       'Medium-Risk', 'Medium-Risk', 'Medium-Risk', 'Medium-Risk',\n",
       "       'Medium-Risk', 'Medium-Risk', 'Medium-Risk', 'Medium-Risk',\n",
       "       'Medium-Risk', 'Medium-Risk', 'Medium-Risk', 'Medium-Risk',\n",
       "       'Medium-Risk', 'Medium-Risk', 'Medium-Risk', 'Medium-Risk',\n",
       "       'Medium-Risk', 'Medium-Risk', 'Medium-Risk', 'Medium-Risk',\n",
       "       'Medium-Risk', 'Medium-Risk', 'Medium-Risk', 'Medium-Risk',\n",
       "       'Medium-Risk', 'Medium-Risk', 'Medium-Risk', 'Medium-Risk',\n",
       "       'Medium-Risk', 'Medium-Risk', 'Medium-Risk', 'Medium-Risk',\n",
       "       'Medium-Risk', 'Medium-Risk', 'Medium-Risk', 'Medium-Risk',\n",
       "       'Medium-Risk', 'Medium-Risk', 'Medium-Risk', 'Medium-Risk',\n",
       "       'Medium-Risk', 'Medium-Risk', 'Medium-Risk', 'Medium-Risk',\n",
       "       'Medium-Risk', 'Medium-Risk', 'Medium-Risk', 'Medium-Risk',\n",
       "       'Medium-Risk', 'Medium-Risk', 'Medium-Risk', 'Medium-Risk',\n",
       "       'Medium-Risk', 'Medium-Risk', 'Medium-Risk', 'Medium-Risk',\n",
       "       'Medium-Risk', 'Medium-Risk', 'Medium-Risk', 'Medium-Risk',\n",
       "       'Medium-Risk', 'Medium-Risk', 'Medium-Risk', 'Medium-Risk',\n",
       "       'Medium-Risk', 'Medium-Risk', 'Medium-Risk', 'Medium-Risk',\n",
       "       'Medium-Risk', 'Medium-Risk', 'Medium-Risk', 'Medium-Risk',\n",
       "       'Medium-Risk', 'Medium-Risk', 'Medium-Risk', 'Medium-Risk',\n",
       "       'Medium-Risk', 'Medium-Risk', 'Medium-Risk', 'Medium-Risk',\n",
       "       'Medium-Risk', 'Medium-Risk', 'Medium-Risk', 'Medium-Risk',\n",
       "       'Medium-Risk', 'Medium-Risk', 'Medium-Risk', 'Medium-Risk',\n",
       "       'Medium-Risk', 'Medium-Risk', 'Medium-Risk', 'Medium-Risk',\n",
       "       'Medium-Risk', 'Medium-Risk', 'Medium-Risk', 'Medium-Risk',\n",
       "       'Medium-Risk', 'Medium-Risk', 'Medium-Risk', 'Medium-Risk',\n",
       "       'Medium-Risk', 'Medium-Risk', 'Medium-Risk', 'Medium-Risk',\n",
       "       'Medium-Risk', 'Medium-Risk', 'Medium-Risk', 'Medium-Risk',\n",
       "       'Medium-Risk', 'Medium-Risk', 'Medium-Risk', 'Medium-Risk',\n",
       "       'Medium-Risk', 'Medium-Risk', 'Medium-Risk', 'Medium-Risk',\n",
       "       'Medium-Risk', 'Medium-Risk', 'Medium-Risk', 'Medium-Risk',\n",
       "       'Medium-Risk', 'Medium-Risk', 'Medium-Risk', 'Medium-Risk',\n",
       "       'Medium-Risk', 'Medium-Risk', 'Medium-Risk', 'Medium-Risk',\n",
       "       'Medium-Risk', 'Medium-Risk', 'Medium-Risk', 'Medium-Risk',\n",
       "       'Medium-Risk', 'Medium-Risk', 'Medium-Risk', 'Medium-Risk',\n",
       "       'Medium-Risk', 'Medium-Risk', 'Medium-Risk', 'Medium-Risk',\n",
       "       'Medium-Risk', 'Medium-Risk', 'Medium-Risk', 'Medium-Risk',\n",
       "       'Medium-Risk', 'Medium-Risk', 'Medium-Risk', 'Medium-Risk',\n",
       "       'Medium-Risk', 'Medium-Risk', 'Medium-Risk', 'Medium-Risk',\n",
       "       'Medium-Risk', 'Medium-Risk', 'Medium-Risk', 'Medium-Risk',\n",
       "       'Medium-Risk', 'Medium-Risk', 'Medium-Risk', 'Medium-Risk',\n",
       "       'Medium-Risk', 'Medium-Risk', 'Medium-Risk', 'Medium-Risk',\n",
       "       'Medium-Risk', 'Medium-Risk', 'Medium-Risk', 'Medium-Risk',\n",
       "       'Medium-Risk', 'Medium-Risk', 'Medium-Risk', 'Medium-Risk',\n",
       "       'Medium-Risk', 'Medium-Risk', 'Medium-Risk', 'Medium-Risk',\n",
       "       'Medium-Risk', 'Medium-Risk', 'Medium-Risk', 'Medium-Risk',\n",
       "       'Medium-Risk', 'Medium-Risk', 'Medium-Risk', 'Medium-Risk',\n",
       "       'Medium-Risk', 'Medium-Risk', 'Medium-Risk', 'Medium-Risk',\n",
       "       'Medium-Risk', 'Medium-Risk', 'Medium-Risk', 'Medium-Risk',\n",
       "       'Medium-Risk', 'Medium-Risk', 'Medium-Risk', 'Medium-Risk',\n",
       "       'Medium-Risk', 'Medium-Risk', 'Medium-Risk', 'Medium-Risk',\n",
       "       'Medium-Risk', 'Medium-Risk', 'Medium-Risk', 'Medium-Risk',\n",
       "       'Medium-Risk', 'Medium-Risk', 'Medium-Risk', 'Medium-Risk',\n",
       "       'Medium-Risk', 'Medium-Risk', 'Medium-Risk', 'Medium-Risk',\n",
       "       'Medium-Risk', 'Medium-Risk', 'Medium-Risk', 'Medium-Risk',\n",
       "       'Medium-Risk', 'Medium-Risk', 'Medium-Risk', 'Medium-Risk',\n",
       "       'Medium-Risk', 'Medium-Risk', 'Medium-Risk', 'Medium-Risk',\n",
       "       'Medium-Risk', 'Medium-Risk', 'Medium-Risk', 'Medium-Risk',\n",
       "       'Medium-Risk', 'Medium-Risk', 'Medium-Risk', 'Medium-Risk',\n",
       "       'Medium-Risk', 'Medium-Risk', 'Medium-Risk', 'Medium-Risk',\n",
       "       'Medium-Risk', 'Medium-Risk', 'Medium-Risk', 'Medium-Risk',\n",
       "       'Medium-Risk', 'Medium-Risk', 'Medium-Risk', 'Medium-Risk',\n",
       "       'Medium-Risk', 'Medium-Risk', 'Medium-Risk', 'Medium-Risk',\n",
       "       'Medium-Risk', 'Medium-Risk', 'Medium-Risk', 'Medium-Risk',\n",
       "       'Medium-Risk', 'Medium-Risk', 'Medium-Risk', 'Medium-Risk',\n",
       "       'Medium-Risk', 'Medium-Risk', 'Medium-Risk', 'Medium-Risk',\n",
       "       'Medium-Risk', 'Medium-Risk', 'Medium-Risk', 'Medium-Risk',\n",
       "       'Medium-Risk', 'Medium-Risk', 'Medium-Risk', 'Medium-Risk',\n",
       "       'Medium-Risk', 'Medium-Risk', 'Medium-Risk', 'Medium-Risk',\n",
       "       'Medium-Risk', 'Medium-Risk', 'Medium-Risk', 'Medium-Risk',\n",
       "       'Medium-Risk', 'Medium-Risk', 'Medium-Risk', 'Medium-Risk',\n",
       "       'Medium-Risk', 'Medium-Risk', 'Medium-Risk', 'Medium-Risk',\n",
       "       'Medium-Risk', 'Medium-Risk', 'Medium-Risk', 'Medium-Risk',\n",
       "       'Medium-Risk', 'Medium-Risk', 'Medium-Risk', 'Medium-Risk',\n",
       "       'Medium-Risk', 'Medium-Risk', 'Medium-Risk', 'Medium-Risk',\n",
       "       'Medium-Risk', 'Medium-Risk', 'Medium-Risk', 'Medium-Risk',\n",
       "       'Medium-Risk', 'Medium-Risk', 'Medium-Risk', 'Medium-Risk',\n",
       "       'Medium-Risk', 'Medium-Risk', 'Medium-Risk', 'Medium-Risk',\n",
       "       'Medium-Risk', 'Medium-Risk', 'Medium-Risk', 'Medium-Risk',\n",
       "       'Medium-Risk', 'Medium-Risk', 'Medium-Risk', 'Medium-Risk',\n",
       "       'Medium-Risk', 'Medium-Risk', 'Medium-Risk', 'Medium-Risk',\n",
       "       'Medium-Risk', 'Medium-Risk', 'Medium-Risk', 'Medium-Risk',\n",
       "       'Medium-Risk', 'Medium-Risk', 'Medium-Risk', 'Medium-Risk',\n",
       "       'Medium-Risk', 'Medium-Risk', 'Medium-Risk', 'Medium-Risk',\n",
       "       'Medium-Risk', 'Medium-Risk', 'Medium-Risk', 'Medium-Risk',\n",
       "       'Medium-Risk', 'Medium-Risk', 'Medium-Risk', 'Medium-Risk',\n",
       "       'Medium-Risk', 'Medium-Risk', 'Medium-Risk', 'Medium-Risk',\n",
       "       'Medium-Risk', 'Medium-Risk', 'Medium-Risk', 'Medium-Risk',\n",
       "       'Medium-Risk', 'Medium-Risk', 'Medium-Risk', 'Medium-Risk',\n",
       "       'Medium-Risk', 'Medium-Risk', 'Medium-Risk', 'Medium-Risk',\n",
       "       'Medium-Risk', 'Medium-Risk', 'Medium-Risk', 'Medium-Risk',\n",
       "       'Medium-Risk', 'Medium-Risk', 'Medium-Risk', 'Medium-Risk',\n",
       "       'Medium-Risk', 'Medium-Risk', 'Medium-Risk', 'Medium-Risk',\n",
       "       'Medium-Risk', 'Medium-Risk', 'Medium-Risk', 'Medium-Risk',\n",
       "       'Medium-Risk', 'Medium-Risk', 'Medium-Risk', 'Medium-Risk',\n",
       "       'Medium-Risk', 'Medium-Risk', 'Medium-Risk', 'Medium-Risk',\n",
       "       'Medium-Risk', 'Medium-Risk', 'Medium-Risk', 'Medium-Risk',\n",
       "       'Medium-Risk', 'Medium-Risk', 'Medium-Risk', 'Medium-Risk',\n",
       "       'Medium-Risk', 'Medium-Risk', 'Medium-Risk', 'Medium-Risk',\n",
       "       'Medium-Risk', 'Medium-Risk', 'Medium-Risk', 'Medium-Risk',\n",
       "       'Medium-Risk', 'Medium-Risk', 'Medium-Risk', 'Medium-Risk',\n",
       "       'Medium-Risk', 'Medium-Risk', 'Medium-Risk', 'Medium-Risk',\n",
       "       'Medium-Risk', 'Medium-Risk', 'Medium-Risk', 'Medium-Risk',\n",
       "       'Medium-Risk', 'Medium-Risk', 'Medium-Risk', 'Medium-Risk',\n",
       "       'Medium-Risk', 'Medium-Risk', 'Medium-Risk', 'Medium-Risk',\n",
       "       'Medium-Risk', 'Medium-Risk', 'Medium-Risk', 'Medium-Risk',\n",
       "       'Medium-Risk', 'Medium-Risk', 'Medium-Risk', 'Medium-Risk',\n",
       "       'Medium-Risk', 'Medium-Risk', 'Medium-Risk', 'Medium-Risk',\n",
       "       'Medium-Risk', 'Medium-Risk', 'Medium-Risk', 'Medium-Risk',\n",
       "       'Medium-Risk', 'Medium-Risk', 'Medium-Risk', 'Medium-Risk',\n",
       "       'Medium-Risk', 'Medium-Risk', 'Medium-Risk', 'Medium-Risk',\n",
       "       'Medium-Risk', 'Medium-Risk', 'Medium-Risk', 'Medium-Risk',\n",
       "       'Medium-Risk', 'Medium-Risk', 'Medium-Risk', 'Medium-Risk',\n",
       "       'Medium-Risk', 'Medium-Risk', 'Medium-Risk', 'Medium-Risk',\n",
       "       'Medium-Risk', 'Medium-Risk', 'Medium-Risk', 'Medium-Risk',\n",
       "       'Medium-Risk', 'Medium-Risk', 'Medium-Risk', 'Medium-Risk',\n",
       "       'Medium-Risk', 'Medium-Risk', 'Medium-Risk', 'Medium-Risk',\n",
       "       'Medium-Risk', 'Medium-Risk', 'Medium-Risk', 'Medium-Risk',\n",
       "       'Medium-Risk', 'Medium-Risk', 'Medium-Risk', 'Medium-Risk',\n",
       "       'Medium-Risk', 'Medium-Risk', 'Medium-Risk', 'Medium-Risk',\n",
       "       'Medium-Risk', 'Medium-Risk', 'Medium-Risk', 'Medium-Risk',\n",
       "       'Medium-Risk', 'Medium-Risk', 'Medium-Risk', 'Medium-Risk',\n",
       "       'Medium-Risk', 'Medium-Risk', 'Medium-Risk', 'Medium-Risk',\n",
       "       'Medium-Risk', 'Medium-Risk', 'Medium-Risk', 'Medium-Risk',\n",
       "       'Medium-Risk', 'Medium-Risk', 'Medium-Risk', 'Medium-Risk',\n",
       "       'Medium-Risk', 'Medium-Risk', 'Medium-Risk', 'Medium-Risk',\n",
       "       'Medium-Risk', 'Medium-Risk', 'Medium-Risk', 'Medium-Risk',\n",
       "       'Medium-Risk', 'Medium-Risk', 'Medium-Risk', 'Medium-Risk',\n",
       "       'Medium-Risk', 'Medium-Risk', 'Medium-Risk', 'Medium-Risk',\n",
       "       'Medium-Risk', 'Medium-Risk', 'Medium-Risk', 'Medium-Risk',\n",
       "       'Medium-Risk', 'Medium-Risk', 'Medium-Risk', 'Medium-Risk',\n",
       "       'Medium-Risk', 'Medium-Risk', 'Medium-Risk', 'Medium-Risk',\n",
       "       'Medium-Risk', 'Medium-Risk', 'Medium-Risk', 'Medium-Risk',\n",
       "       'Medium-Risk', 'Medium-Risk', 'Medium-Risk', 'Medium-Risk',\n",
       "       'Medium-Risk', 'Medium-Risk', 'Medium-Risk', 'Medium-Risk',\n",
       "       'Medium-Risk', 'Medium-Risk', 'Medium-Risk', 'Medium-Risk',\n",
       "       'Medium-Risk', 'Medium-Risk', 'Medium-Risk', 'Medium-Risk',\n",
       "       'Medium-Risk', 'Medium-Risk', 'Medium-Risk', 'Medium-Risk',\n",
       "       'Medium-Risk', 'Medium-Risk', 'Medium-Risk', 'Medium-Risk',\n",
       "       'Medium-Risk', 'Medium-Risk', 'Medium-Risk', 'Medium-Risk',\n",
       "       'Medium-Risk', 'Medium-Risk', 'Medium-Risk', 'Medium-Risk',\n",
       "       'Medium-Risk', 'Medium-Risk', 'Medium-Risk', 'Medium-Risk',\n",
       "       'Medium-Risk', 'Medium-Risk', 'Medium-Risk', 'Medium-Risk',\n",
       "       'Medium-Risk', 'Medium-Risk', 'Medium-Risk', 'Medium-Risk',\n",
       "       'Medium-Risk', 'Medium-Risk', 'Medium-Risk', 'Medium-Risk',\n",
       "       'Medium-Risk', 'Medium-Risk', 'Medium-Risk', 'Medium-Risk',\n",
       "       'Medium-Risk', 'Medium-Risk', 'Medium-Risk', 'Medium-Risk',\n",
       "       'Medium-Risk', 'Medium-Risk', 'Medium-Risk', 'Medium-Risk',\n",
       "       'Medium-Risk', 'Medium-Risk', 'Medium-Risk', 'Medium-Risk',\n",
       "       'Medium-Risk', 'Medium-Risk', 'Medium-Risk', 'Medium-Risk',\n",
       "       'Medium-Risk', 'Medium-Risk', 'Medium-Risk', 'Medium-Risk',\n",
       "       'Medium-Risk', 'Medium-Risk', 'Medium-Risk', 'Medium-Risk',\n",
       "       'Medium-Risk', 'Medium-Risk', 'Medium-Risk', 'Medium-Risk',\n",
       "       'Medium-Risk', 'Medium-Risk', 'Medium-Risk'], dtype='<U11')"
      ]
     },
     "execution_count": 172,
     "metadata": {},
     "output_type": "execute_result"
    }
   ],
   "source": [
    "dummy_clf_df.predict(X_df)"
   ]
  },
  {
   "cell_type": "code",
   "execution_count": 173,
   "id": "e74f9399",
   "metadata": {},
   "outputs": [
    {
     "data": {
      "text/plain": [
       "0.3944636678200692"
      ]
     },
     "execution_count": 173,
     "metadata": {},
     "output_type": "execute_result"
    }
   ],
   "source": [
    "dummy_clf_df.score(X_df, y_df)"
   ]
  },
  {
   "cell_type": "markdown",
   "id": "156a93ed",
   "metadata": {},
   "source": [
    "### With Food Access"
   ]
  },
  {
   "cell_type": "code",
   "execution_count": 174,
   "id": "f874fe9b",
   "metadata": {},
   "outputs": [
    {
     "data": {
      "text/html": [
       "<style>#sk-container-id-2 {color: black;}#sk-container-id-2 pre{padding: 0;}#sk-container-id-2 div.sk-toggleable {background-color: white;}#sk-container-id-2 label.sk-toggleable__label {cursor: pointer;display: block;width: 100%;margin-bottom: 0;padding: 0.3em;box-sizing: border-box;text-align: center;}#sk-container-id-2 label.sk-toggleable__label-arrow:before {content: \"▸\";float: left;margin-right: 0.25em;color: #696969;}#sk-container-id-2 label.sk-toggleable__label-arrow:hover:before {color: black;}#sk-container-id-2 div.sk-estimator:hover label.sk-toggleable__label-arrow:before {color: black;}#sk-container-id-2 div.sk-toggleable__content {max-height: 0;max-width: 0;overflow: hidden;text-align: left;background-color: #f0f8ff;}#sk-container-id-2 div.sk-toggleable__content pre {margin: 0.2em;color: black;border-radius: 0.25em;background-color: #f0f8ff;}#sk-container-id-2 input.sk-toggleable__control:checked~div.sk-toggleable__content {max-height: 200px;max-width: 100%;overflow: auto;}#sk-container-id-2 input.sk-toggleable__control:checked~label.sk-toggleable__label-arrow:before {content: \"▾\";}#sk-container-id-2 div.sk-estimator input.sk-toggleable__control:checked~label.sk-toggleable__label {background-color: #d4ebff;}#sk-container-id-2 div.sk-label input.sk-toggleable__control:checked~label.sk-toggleable__label {background-color: #d4ebff;}#sk-container-id-2 input.sk-hidden--visually {border: 0;clip: rect(1px 1px 1px 1px);clip: rect(1px, 1px, 1px, 1px);height: 1px;margin: -1px;overflow: hidden;padding: 0;position: absolute;width: 1px;}#sk-container-id-2 div.sk-estimator {font-family: monospace;background-color: #f0f8ff;border: 1px dotted black;border-radius: 0.25em;box-sizing: border-box;margin-bottom: 0.5em;}#sk-container-id-2 div.sk-estimator:hover {background-color: #d4ebff;}#sk-container-id-2 div.sk-parallel-item::after {content: \"\";width: 100%;border-bottom: 1px solid gray;flex-grow: 1;}#sk-container-id-2 div.sk-label:hover label.sk-toggleable__label {background-color: #d4ebff;}#sk-container-id-2 div.sk-serial::before {content: \"\";position: absolute;border-left: 1px solid gray;box-sizing: border-box;top: 0;bottom: 0;left: 50%;z-index: 0;}#sk-container-id-2 div.sk-serial {display: flex;flex-direction: column;align-items: center;background-color: white;padding-right: 0.2em;padding-left: 0.2em;position: relative;}#sk-container-id-2 div.sk-item {position: relative;z-index: 1;}#sk-container-id-2 div.sk-parallel {display: flex;align-items: stretch;justify-content: center;background-color: white;position: relative;}#sk-container-id-2 div.sk-item::before, #sk-container-id-2 div.sk-parallel-item::before {content: \"\";position: absolute;border-left: 1px solid gray;box-sizing: border-box;top: 0;bottom: 0;left: 50%;z-index: -1;}#sk-container-id-2 div.sk-parallel-item {display: flex;flex-direction: column;z-index: 1;position: relative;background-color: white;}#sk-container-id-2 div.sk-parallel-item:first-child::after {align-self: flex-end;width: 50%;}#sk-container-id-2 div.sk-parallel-item:last-child::after {align-self: flex-start;width: 50%;}#sk-container-id-2 div.sk-parallel-item:only-child::after {width: 0;}#sk-container-id-2 div.sk-dashed-wrapped {border: 1px dashed gray;margin: 0 0.4em 0.5em 0.4em;box-sizing: border-box;padding-bottom: 0.4em;background-color: white;}#sk-container-id-2 div.sk-label label {font-family: monospace;font-weight: bold;display: inline-block;line-height: 1.2em;}#sk-container-id-2 div.sk-label-container {text-align: center;}#sk-container-id-2 div.sk-container {/* jupyter's `normalize.less` sets `[hidden] { display: none; }` but bootstrap.min.css set `[hidden] { display: none !important; }` so we also need the `!important` here to be able to override the default hidden behavior on the sphinx rendered scikit-learn.org. See: https://github.com/scikit-learn/scikit-learn/issues/21755 */display: inline-block !important;position: relative;}#sk-container-id-2 div.sk-text-repr-fallback {display: none;}</style><div id=\"sk-container-id-2\" class=\"sk-top-container\"><div class=\"sk-text-repr-fallback\"><pre>DummyClassifier(strategy=&#x27;most_frequent&#x27;)</pre><b>In a Jupyter environment, please rerun this cell to show the HTML representation or trust the notebook. <br />On GitHub, the HTML representation is unable to render, please try loading this page with nbviewer.org.</b></div><div class=\"sk-container\" hidden><div class=\"sk-item\"><div class=\"sk-estimator sk-toggleable\"><input class=\"sk-toggleable__control sk-hidden--visually\" id=\"sk-estimator-id-2\" type=\"checkbox\" checked><label for=\"sk-estimator-id-2\" class=\"sk-toggleable__label sk-toggleable__label-arrow\">DummyClassifier</label><div class=\"sk-toggleable__content\"><pre>DummyClassifier(strategy=&#x27;most_frequent&#x27;)</pre></div></div></div></div></div>"
      ],
      "text/plain": [
       "DummyClassifier(strategy='most_frequent')"
      ]
     },
     "execution_count": 174,
     "metadata": {},
     "output_type": "execute_result"
    }
   ],
   "source": [
    "dummy_clf_fa = DummyClassifier(strategy=\"most_frequent\")\n",
    "dummy_clf_fa.fit(X_fa, y_fa)"
   ]
  },
  {
   "cell_type": "code",
   "execution_count": null,
   "id": "38437cc4",
   "metadata": {},
   "outputs": [],
   "source": [
    "dummy_clf_fa.predict(X_fa)"
   ]
  },
  {
   "cell_type": "code",
   "execution_count": 175,
   "id": "df8a93a8",
   "metadata": {},
   "outputs": [
    {
     "data": {
      "text/plain": [
       "0.3944636678200692"
      ]
     },
     "execution_count": 175,
     "metadata": {},
     "output_type": "execute_result"
    }
   ],
   "source": [
    "dummy_clf_fa.score(X_fa, y_fa)"
   ]
  },
  {
   "cell_type": "markdown",
   "id": "f040254b",
   "metadata": {},
   "source": [
    "## Model 1- Decision Tree Classifier"
   ]
  },
  {
   "cell_type": "markdown",
   "id": "0619f145",
   "metadata": {},
   "source": [
    "### Control"
   ]
  },
  {
   "cell_type": "code",
   "execution_count": 176,
   "id": "ca7acab7",
   "metadata": {},
   "outputs": [],
   "source": [
    "from sklearn import tree\n",
    "\n",
    "clf_df = tree.DecisionTreeClassifier() #instantiate Decision Tree class\n",
    "\n",
    "clf_df = clf_df.fit(X_train_df, y_train_df) #fit training data to the model"
   ]
  },
  {
   "cell_type": "code",
   "execution_count": 177,
   "id": "91b14a42",
   "metadata": {},
   "outputs": [
    {
     "name": "stdout",
     "output_type": "stream",
     "text": [
      "              precision    recall  f1-score   support\n",
      "\n",
      "   High-Risk       0.44      0.47      0.46        72\n",
      "    Low-Risk       0.62      0.59      0.60        82\n",
      " Medium-Risk       0.47      0.47      0.47       107\n",
      "\n",
      "    accuracy                           0.51       261\n",
      "   macro avg       0.51      0.51      0.51       261\n",
      "weighted avg       0.51      0.51      0.51       261\n",
      "\n"
     ]
    }
   ],
   "source": [
    "from sklearn import metrics\n",
    "import numpy as np\n",
    "\n",
    "#predict values from X_test\n",
    "predicted_df = clf_df.predict(X_test_df)\n",
    "\n",
    "clf_df.score(X_test_df, y_test_df)\n",
    "\n",
    "print(metrics.classification_report(y_test_df, predicted_df))"
   ]
  },
  {
   "cell_type": "markdown",
   "id": "14b294ab",
   "metadata": {},
   "source": [
    "### Control Model Improvement- GridSearch and CV"
   ]
  },
  {
   "cell_type": "code",
   "execution_count": 178,
   "id": "042ec02f",
   "metadata": {},
   "outputs": [
    {
     "name": "stdout",
     "output_type": "stream",
     "text": [
      "Fitting 5 folds for each of 90 candidates, totalling 450 fits\n",
      "Best Parameters: {'criterion': 'gini', 'max_depth': 5, 'min_samples_leaf': 2, 'min_samples_split': 5}\n",
      "Best Cross-Validation Accuracy: 0.557661563473784\n",
      "              precision    recall  f1-score   support\n",
      "\n",
      "   High-Risk       0.54      0.53      0.53        72\n",
      "    Low-Risk       0.70      0.60      0.64        82\n",
      " Medium-Risk       0.53      0.60      0.56       107\n",
      "\n",
      "    accuracy                           0.58       261\n",
      "   macro avg       0.59      0.57      0.58       261\n",
      "weighted avg       0.59      0.58      0.58       261\n",
      "\n"
     ]
    },
    {
     "data": {
      "text/plain": [
       "<sklearn.metrics._plot.confusion_matrix.ConfusionMatrixDisplay at 0x189bffdadd0>"
      ]
     },
     "execution_count": 178,
     "metadata": {},
     "output_type": "execute_result"
    },
    {
     "data": {
      "image/png": "[encoded data removed]",
      "text/plain": [
       "<Figure size 640x480 with 2 Axes>"
      ]
     },
     "metadata": {},
     "output_type": "display_data"
    }
   ],
   "source": [
    "from sklearn.model_selection import GridSearchCV, cross_val_score\n",
    "from sklearn.tree import DecisionTreeClassifier\n",
    "from sklearn import metrics\n",
    "\n",
    "# define parameters to cycle through\n",
    "param_grid_df = {\n",
    "    'criterion': ['gini', 'entropy'],  # Impurity metrics\n",
    "    'max_depth': [None, 5, 10, 15, 20],  # Maximum depth of the tree\n",
    "    'min_samples_split': [2, 5, 10],  # Minimum samples required to split a node\n",
    "    'min_samples_leaf': [1, 2, 5]  # Minimum samples required in a leaf\n",
    "}\n",
    "\n",
    "#initialize GridSearch\n",
    "grid_search_df = GridSearchCV(\n",
    "    estimator=clf_df,  # Base model\n",
    "    param_grid=param_grid_df,  # Grid of hyperparameters\n",
    "    scoring='accuracy',  # Evaluation metric\n",
    "    cv=5,  # Number of cross-validation folds\n",
    "    verbose=1,  # Verbosity (optional, for monitoring progress)\n",
    "    n_jobs=-1  # Use all available CPUs\n",
    ")\n",
    "\n",
    "# fit the GridSearch to training data\n",
    "grid_search_df.fit(X_train_df, y_train_df)\n",
    "\n",
    "# Print best parameters\n",
    "print(\"Best Parameters:\", grid_search_df.best_params_)\n",
    "print(\"Best Cross-Validation Accuracy:\", grid_search_df.best_score_)\n",
    "\n",
    "# Evaluate performance on test data\n",
    "best_clf_df = grid_search_df.best_estimator_  # Best model\n",
    "y_pred_df = best_clf_df.predict(X_test_df)\n",
    "\n",
    "# Classification report\n",
    "print(metrics.classification_report(y_test_df, y_pred_df))\n",
    "\n",
    "# Confusion Matrix\n",
    "from sklearn.metrics import ConfusionMatrixDisplay\n",
    "\n",
    "ConfusionMatrixDisplay.from_estimator(best_clf_df, X_test_df, y_test_df)"
   ]
  },
  {
   "cell_type": "markdown",
   "id": "40888a45",
   "metadata": {},
   "source": [
    "### With Food Access"
   ]
  },
  {
   "cell_type": "code",
   "execution_count": 179,
   "id": "1647ed85",
   "metadata": {},
   "outputs": [],
   "source": [
    "from sklearn import tree\n",
    "\n",
    "clf_fa = tree.DecisionTreeClassifier() #instantiate Decision Tree class\n",
    "\n",
    "clf_fa = clf_fa.fit(X_train_fa, y_train_fa) #fit training data to the model"
   ]
  },
  {
   "cell_type": "code",
   "execution_count": 180,
   "id": "1bcef39c",
   "metadata": {},
   "outputs": [
    {
     "name": "stdout",
     "output_type": "stream",
     "text": [
      "              precision    recall  f1-score   support\n",
      "\n",
      "   High-Risk       0.40      0.47      0.43        72\n",
      "    Low-Risk       0.68      0.62      0.65        82\n",
      " Medium-Risk       0.46      0.43      0.44       107\n",
      "\n",
      "    accuracy                           0.50       261\n",
      "   macro avg       0.51      0.51      0.51       261\n",
      "weighted avg       0.51      0.50      0.51       261\n",
      "\n"
     ]
    }
   ],
   "source": [
    "from sklearn import metrics\n",
    "import numpy as np\n",
    "\n",
    "#predict values from X_test\n",
    "predicted_fa = clf_fa.predict(X_test_fa)\n",
    "\n",
    "clf_fa.score(X_test_fa, y_test_fa)\n",
    "\n",
    "print(metrics.classification_report(y_test_fa, predicted_fa))"
   ]
  },
  {
   "cell_type": "markdown",
   "id": "0a312dab",
   "metadata": {},
   "source": [
    "### Food Access Model Improvement- GridSearch and CV"
   ]
  },
  {
   "cell_type": "code",
   "execution_count": 181,
   "id": "8bcd675c",
   "metadata": {},
   "outputs": [
    {
     "name": "stdout",
     "output_type": "stream",
     "text": [
      "Fitting 5 folds for each of 90 candidates, totalling 450 fits\n",
      "Best Parameters: {'criterion': 'gini', 'max_depth': 5, 'min_samples_leaf': 2, 'min_samples_split': 5}\n",
      "Best Cross-Validation Accuracy: 0.564273133721718\n",
      "              precision    recall  f1-score   support\n",
      "\n",
      "   High-Risk       0.55      0.53      0.54        72\n",
      "    Low-Risk       0.68      0.61      0.64        82\n",
      " Medium-Risk       0.51      0.56      0.53       107\n",
      "\n",
      "    accuracy                           0.57       261\n",
      "   macro avg       0.58      0.57      0.57       261\n",
      "weighted avg       0.57      0.57      0.57       261\n",
      "\n"
     ]
    },
    {
     "data": {
      "text/plain": [
       "<sklearn.metrics._plot.confusion_matrix.ConfusionMatrixDisplay at 0x189c02caf90>"
      ]
     },
     "execution_count": 181,
     "metadata": {},
     "output_type": "execute_result"
    },
    {
     "data": {
      "image/png": "[encoded data removed]",
      "text/plain": [
       "<Figure size 640x480 with 2 Axes>"
      ]
     },
     "metadata": {},
     "output_type": "display_data"
    }
   ],
   "source": [
    "from sklearn.model_selection import GridSearchCV, cross_val_score\n",
    "from sklearn.tree import DecisionTreeClassifier\n",
    "from sklearn import metrics\n",
    "\n",
    "# define parameters to cycle through\n",
    "param_grid_fa = {\n",
    "    'criterion': ['gini', 'entropy'],  # Impurity metrics\n",
    "    'max_depth': [None, 5, 10, 15, 20],  # Maximum depth of the tree\n",
    "    'min_samples_split': [2, 5, 10],  # Minimum samples required to split a node\n",
    "    'min_samples_leaf': [1, 2, 5]  # Minimum samples required in a leaf\n",
    "}\n",
    "\n",
    "#initialize GridSearch\n",
    "grid_search_fa = GridSearchCV(\n",
    "    estimator=clf_fa,  # Base model\n",
    "    param_grid=param_grid_fa,  # Grid of hyperparameters\n",
    "    scoring='accuracy',  # Evaluation metric\n",
    "    cv=5,  # Number of cross-validation folds\n",
    "    verbose=1,  # Verbosity (optional, for monitoring progress)\n",
    "    n_jobs=-1  # Use all available CPUs\n",
    ")\n",
    "\n",
    "# fit the GridSearch to training data\n",
    "grid_search_fa.fit(X_train_fa, y_train_fa)\n",
    "\n",
    "# Print best parameters\n",
    "print(\"Best Parameters:\", grid_search_fa.best_params_)\n",
    "print(\"Best Cross-Validation Accuracy:\", grid_search_fa.best_score_)\n",
    "\n",
    "# Evaluate performance on test data\n",
    "best_clf_fa = grid_search_fa.best_estimator_  # Best model\n",
    "y_pred_fa = best_clf_fa.predict(X_test_fa)\n",
    "\n",
    "# Classification report\n",
    "print(metrics.classification_report(y_test_fa, y_pred_fa))\n",
    "\n",
    "# Confusion Matrix\n",
    "from sklearn.metrics import ConfusionMatrixDisplay\n",
    "\n",
    "ConfusionMatrixDisplay.from_estimator(best_clf_fa, X_test_fa, y_test_fa)"
   ]
  },
  {
   "cell_type": "markdown",
   "id": "6bfbb5d8",
   "metadata": {},
   "source": [
    "## Model 2- Decision Tree C5.0"
   ]
  },
  {
   "cell_type": "markdown",
   "id": "3559ad4a",
   "metadata": {},
   "source": [
    "### iterating through max_leaf_nodes and evaluating different parameters"
   ]
  },
  {
   "cell_type": "code",
   "execution_count": 182,
   "id": "14f730a5",
   "metadata": {},
   "outputs": [],
   "source": [
    "from sklearn.tree import DecisionTreeClassifier\n",
    "from sklearn.metrics import classification_report, accuracy_score"
   ]
  },
  {
   "cell_type": "markdown",
   "id": "75ce7098",
   "metadata": {},
   "source": [
    "### Control"
   ]
  },
  {
   "cell_type": "code",
   "execution_count": 183,
   "id": "71d12fe4",
   "metadata": {},
   "outputs": [],
   "source": [
    "# iterate through different max_leaf_nodes values (from 5 to 20)\n",
    "best_leaf_nodes_df = None\n",
    "best_accuracy_df = 0\n",
    "best_model_manual_df = None\n",
    "\n",
    "for leaf_nodes in range(5, 21): \n",
    "    # initialize and train model with current max_leaf_nodes variable\n",
    "    clf50_df = DecisionTreeClassifier(criterion=\"entropy\", max_leaf_nodes=leaf_nodes)\n",
    "    clf50_df.fit(X_train_df, y_train_df)\n",
    "    \n",
    "    # make predictions on test set\n",
    "    pred_clf50_df = clf50_df.predict(X_test_df)\n",
    "    \n",
    "    # calculate accuracy\n",
    "    accuracy_df = accuracy_score(y_test_df, pred_clf50_df)\n",
    "    \n",
    "    # Update the best model if the current one has higher accuracy\n",
    "    if accuracy_df > best_accuracy_df:\n",
    "        best_accuracy_df = accuracy_df\n",
    "        best_leaf_nodes_df = leaf_nodes\n",
    "        best_model_manual_df = clf50_df  # Save the best model\n",
    "        "
   ]
  },
  {
   "cell_type": "code",
   "execution_count": 184,
   "id": "316008a5",
   "metadata": {},
   "outputs": [
    {
     "name": "stdout",
     "output_type": "stream",
     "text": [
      "Best max_leaf_nodes from manual iteration: 5\n",
      "Accuracy of best model: 0.6015\n",
      "\n",
      "Classification Report for Best Manual Model:\n",
      "\n",
      "              precision    recall  f1-score   support\n",
      "\n",
      "   High-Risk       0.65      0.44      0.53        72\n",
      "    Low-Risk       0.67      0.66      0.66        82\n",
      " Medium-Risk       0.54      0.66      0.60       107\n",
      "\n",
      "    accuracy                           0.60       261\n",
      "   macro avg       0.62      0.59      0.60       261\n",
      "weighted avg       0.61      0.60      0.60       261\n",
      "\n"
     ]
    }
   ],
   "source": [
    "# Print the best model from manual iteration\n",
    "print(f\"Best max_leaf_nodes from manual iteration: {best_leaf_nodes_df}\")\n",
    "print(f\"Accuracy of best model: {best_accuracy_df:.4f}\\n\")\n",
    "    \n",
    "# Classification report for the best manual model\n",
    "pred_best_manual_df = best_model_manual_df.predict(X_test_df)\n",
    "print(\"Classification Report for Best Manual Model:\\n\")\n",
    "print(classification_report(y_test_df, pred_best_manual_df))"
   ]
  },
  {
   "cell_type": "markdown",
   "id": "362d33b9",
   "metadata": {},
   "source": [
    "### Control Model Improvement- GridSearch and CV"
   ]
  },
  {
   "cell_type": "code",
   "execution_count": 185,
   "id": "e8532697",
   "metadata": {},
   "outputs": [
    {
     "name": "stdout",
     "output_type": "stream",
     "text": [
      "Performing GridSearchCV with Cross-Validation...\n",
      "Fitting 5 folds for each of 2 candidates, totalling 10 fits\n",
      "\n",
      "GridSearchCV Results:\n",
      "Best Parameters: {'criterion': 'entropy', 'max_leaf_nodes': 5}\n",
      "Best Cross-Validation Accuracy: 0.5545\n",
      "\n",
      "Classification Report for GridSearchCV Best Model:\n",
      "              precision    recall  f1-score   support\n",
      "\n",
      "   High-Risk       0.65      0.44      0.53        72\n",
      "    Low-Risk       0.67      0.66      0.66        82\n",
      " Medium-Risk       0.54      0.66      0.60       107\n",
      "\n",
      "    accuracy                           0.60       261\n",
      "   macro avg       0.62      0.59      0.60       261\n",
      "weighted avg       0.61      0.60      0.60       261\n",
      "\n"
     ]
    }
   ],
   "source": [
    "# Add GridSearchCV with Cross-Validation for further improvement\n",
    "print(\"Performing GridSearchCV with Cross-Validation...\")\n",
    "\n",
    "# Define the parameter grid\n",
    "param_grid_df = {'max_leaf_nodes': [best_leaf_nodes_df], 'criterion': ['entropy', 'gini']}\n",
    "\n",
    "# Initialize GridSearchCV\n",
    "grid_search_df = GridSearchCV(\n",
    "    estimator=DecisionTreeClassifier(random_state=42),\n",
    "    param_grid=param_grid_df,\n",
    "    scoring='accuracy',\n",
    "    cv=5,  # 5-fold cross-validation\n",
    "    verbose=1,\n",
    "    n_jobs=-1  # Use all available CPU cores\n",
    ")\n",
    "\n",
    "# Fit GridSearchCV to the training data\n",
    "grid_search_df.fit(X_train_df, y_train_df)\n",
    "\n",
    "# Retrieve the best model and parameters\n",
    "best_model_grid_df = grid_search_df.best_estimator_\n",
    "best_params_df = grid_search_df.best_params_\n",
    "best_score_df = grid_search_df.best_score_\n",
    "\n",
    "# Print the best model from GridSearchCV\n",
    "print(\"\\nGridSearchCV Results:\")\n",
    "print(f\"Best Parameters: {best_params_df}\")\n",
    "print(f\"Best Cross-Validation Accuracy: {best_score_df:.4f}\")\n",
    "\n",
    "# Make predictions with the GridSearchCV best model\n",
    "pred_best_model_df = best_model_grid_df.predict(X_test_df)\n",
    "\n",
    "# Print classification report for GridSearchCV best model\n",
    "print(\"\\nClassification Report for GridSearchCV Best Model:\")\n",
    "print(classification_report(y_test_df, pred_best_model_df))"
   ]
  },
  {
   "cell_type": "markdown",
   "id": "e1b1133c",
   "metadata": {},
   "source": [
    "### With Food Access"
   ]
  },
  {
   "cell_type": "code",
   "execution_count": 186,
   "id": "9fb82a8a",
   "metadata": {},
   "outputs": [],
   "source": [
    "# iterate through different max_leaf_nodes values (from 5 to 20)\n",
    "best_leaf_nodes_fa = None\n",
    "best_accuracy_fa = 0\n",
    "best_model_manual_fa = None\n",
    "\n",
    "for leaf_nodes in range(5, 21): \n",
    "    # initialize and train model with current max_leaf_nodes variable\n",
    "    clf50_fa = DecisionTreeClassifier(criterion=\"entropy\", max_leaf_nodes=leaf_nodes)\n",
    "    clf50_fa.fit(X_train_fa, y_train_fa)\n",
    "    \n",
    "    # make predictions on test set\n",
    "    pred_clf50_fa = clf50_fa.predict(X_test_fa)\n",
    "    \n",
    "    # calculate accuracy\n",
    "    accuracy_fa = accuracy_score(y_test_fa, pred_clf50_fa)\n",
    "    \n",
    "    # Update the best model if the current one has higher accuracy\n",
    "    if accuracy_fa > best_accuracy_fa:\n",
    "        best_accuracy_fa = accuracy_fa\n",
    "        best_leaf_nodes_fa = leaf_nodes\n",
    "        best_model_manual_fa = clf50_fa  # Save the best model\n",
    "        "
   ]
  },
  {
   "cell_type": "code",
   "execution_count": 187,
   "id": "b6876ed7",
   "metadata": {},
   "outputs": [
    {
     "name": "stdout",
     "output_type": "stream",
     "text": [
      "Best max_leaf_nodes from manual iteration: 5\n",
      "Accuracy of best model: 0.6015\n",
      "\n",
      "Classification Report for Best Manual Model:\n",
      "\n",
      "              precision    recall  f1-score   support\n",
      "\n",
      "   High-Risk       0.65      0.44      0.53        72\n",
      "    Low-Risk       0.67      0.66      0.66        82\n",
      " Medium-Risk       0.54      0.66      0.60       107\n",
      "\n",
      "    accuracy                           0.60       261\n",
      "   macro avg       0.62      0.59      0.60       261\n",
      "weighted avg       0.61      0.60      0.60       261\n",
      "\n"
     ]
    }
   ],
   "source": [
    "# Print the best model from manual iteration\n",
    "print(f\"Best max_leaf_nodes from manual iteration: {best_leaf_nodes_fa}\")\n",
    "print(f\"Accuracy of best model: {best_accuracy_fa:.4f}\\n\")\n",
    "    \n",
    "# Classification report for the best manual model\n",
    "pred_best_manual_fa = best_model_manual_fa.predict(X_test_fa)\n",
    "print(\"Classification Report for Best Manual Model:\\n\")\n",
    "print(classification_report(y_test_fa, pred_best_manual_fa))"
   ]
  },
  {
   "cell_type": "markdown",
   "id": "2277e1b3",
   "metadata": {},
   "source": [
    "### Food Access Model Improvment- GridSearch and CV"
   ]
  },
  {
   "cell_type": "code",
   "execution_count": 188,
   "id": "27ea2e77",
   "metadata": {},
   "outputs": [
    {
     "name": "stdout",
     "output_type": "stream",
     "text": [
      "Performing GridSearchCV with Cross-Validation...\n",
      "Fitting 5 folds for each of 2 candidates, totalling 10 fits\n",
      "\n",
      "GridSearchCV Results:\n",
      "Best Parameters: {'criterion': 'entropy', 'max_leaf_nodes': 5}\n",
      "Best Cross-Validation Accuracy: 0.5545\n",
      "\n",
      "Classification Report for GridSearchCV Best Model:\n",
      "              precision    recall  f1-score   support\n",
      "\n",
      "   High-Risk       0.65      0.44      0.53        72\n",
      "    Low-Risk       0.67      0.66      0.66        82\n",
      " Medium-Risk       0.54      0.66      0.60       107\n",
      "\n",
      "    accuracy                           0.60       261\n",
      "   macro avg       0.62      0.59      0.60       261\n",
      "weighted avg       0.61      0.60      0.60       261\n",
      "\n"
     ]
    }
   ],
   "source": [
    "# Add GridSearchCV with Cross-Validation for further improvement\n",
    "print(\"Performing GridSearchCV with Cross-Validation...\")\n",
    "\n",
    "# Define the parameter grid\n",
    "param_grid_fa = {'max_leaf_nodes': [best_leaf_nodes_fa], 'criterion': ['entropy', 'gini']}\n",
    "\n",
    "# Initialize GridSearchCV\n",
    "grid_search_fa = GridSearchCV(\n",
    "    estimator=DecisionTreeClassifier(random_state=42),\n",
    "    param_grid=param_grid_fa,\n",
    "    scoring='accuracy',\n",
    "    cv=5,  # 5-fold cross-validation\n",
    "    verbose=1,\n",
    "    n_jobs=-1  # Use all available CPU cores\n",
    ")\n",
    "\n",
    "# Fit GridSearchCV to the training data\n",
    "grid_search_fa.fit(X_train_fa, y_train_fa)\n",
    "\n",
    "# Retrieve the best model and parameters\n",
    "best_model_grid_fa = grid_search_fa.best_estimator_\n",
    "best_params_fa = grid_search_fa.best_params_\n",
    "best_score_fa = grid_search_fa.best_score_\n",
    "\n",
    "# Print the best model from GridSearchCV\n",
    "print(\"\\nGridSearchCV Results:\")\n",
    "print(f\"Best Parameters: {best_params_fa}\")\n",
    "print(f\"Best Cross-Validation Accuracy: {best_score_fa:.4f}\")\n",
    "\n",
    "# Make predictions with the GridSearchCV best model\n",
    "pred_best_model_fa = best_model_grid_fa.predict(X_test_fa)\n",
    "\n",
    "# Print classification report for GridSearchCV best model\n",
    "print(\"\\nClassification Report for GridSearchCV Best Model:\")\n",
    "print(classification_report(y_test_fa, pred_best_model_fa))"
   ]
  },
  {
   "cell_type": "markdown",
   "id": "01bf59bc",
   "metadata": {},
   "source": [
    "## Model 3- Decision Tree CART"
   ]
  },
  {
   "cell_type": "markdown",
   "id": "9482fe11",
   "metadata": {},
   "source": [
    "### Control"
   ]
  },
  {
   "cell_type": "code",
   "execution_count": 189,
   "id": "98048042",
   "metadata": {},
   "outputs": [],
   "source": [
    "cart01_df =DecisionTreeClassifier(criterion=\"entropy\", max_leaf_nodes=5)"
   ]
  },
  {
   "cell_type": "code",
   "execution_count": 190,
   "id": "513f9dca",
   "metadata": {},
   "outputs": [
    {
     "data": {
      "text/html": [
       "<style>#sk-container-id-3 {color: black;}#sk-container-id-3 pre{padding: 0;}#sk-container-id-3 div.sk-toggleable {background-color: white;}#sk-container-id-3 label.sk-toggleable__label {cursor: pointer;display: block;width: 100%;margin-bottom: 0;padding: 0.3em;box-sizing: border-box;text-align: center;}#sk-container-id-3 label.sk-toggleable__label-arrow:before {content: \"▸\";float: left;margin-right: 0.25em;color: #696969;}#sk-container-id-3 label.sk-toggleable__label-arrow:hover:before {color: black;}#sk-container-id-3 div.sk-estimator:hover label.sk-toggleable__label-arrow:before {color: black;}#sk-container-id-3 div.sk-toggleable__content {max-height: 0;max-width: 0;overflow: hidden;text-align: left;background-color: #f0f8ff;}#sk-container-id-3 div.sk-toggleable__content pre {margin: 0.2em;color: black;border-radius: 0.25em;background-color: #f0f8ff;}#sk-container-id-3 input.sk-toggleable__control:checked~div.sk-toggleable__content {max-height: 200px;max-width: 100%;overflow: auto;}#sk-container-id-3 input.sk-toggleable__control:checked~label.sk-toggleable__label-arrow:before {content: \"▾\";}#sk-container-id-3 div.sk-estimator input.sk-toggleable__control:checked~label.sk-toggleable__label {background-color: #d4ebff;}#sk-container-id-3 div.sk-label input.sk-toggleable__control:checked~label.sk-toggleable__label {background-color: #d4ebff;}#sk-container-id-3 input.sk-hidden--visually {border: 0;clip: rect(1px 1px 1px 1px);clip: rect(1px, 1px, 1px, 1px);height: 1px;margin: -1px;overflow: hidden;padding: 0;position: absolute;width: 1px;}#sk-container-id-3 div.sk-estimator {font-family: monospace;background-color: #f0f8ff;border: 1px dotted black;border-radius: 0.25em;box-sizing: border-box;margin-bottom: 0.5em;}#sk-container-id-3 div.sk-estimator:hover {background-color: #d4ebff;}#sk-container-id-3 div.sk-parallel-item::after {content: \"\";width: 100%;border-bottom: 1px solid gray;flex-grow: 1;}#sk-container-id-3 div.sk-label:hover label.sk-toggleable__label {background-color: #d4ebff;}#sk-container-id-3 div.sk-serial::before {content: \"\";position: absolute;border-left: 1px solid gray;box-sizing: border-box;top: 0;bottom: 0;left: 50%;z-index: 0;}#sk-container-id-3 div.sk-serial {display: flex;flex-direction: column;align-items: center;background-color: white;padding-right: 0.2em;padding-left: 0.2em;position: relative;}#sk-container-id-3 div.sk-item {position: relative;z-index: 1;}#sk-container-id-3 div.sk-parallel {display: flex;align-items: stretch;justify-content: center;background-color: white;position: relative;}#sk-container-id-3 div.sk-item::before, #sk-container-id-3 div.sk-parallel-item::before {content: \"\";position: absolute;border-left: 1px solid gray;box-sizing: border-box;top: 0;bottom: 0;left: 50%;z-index: -1;}#sk-container-id-3 div.sk-parallel-item {display: flex;flex-direction: column;z-index: 1;position: relative;background-color: white;}#sk-container-id-3 div.sk-parallel-item:first-child::after {align-self: flex-end;width: 50%;}#sk-container-id-3 div.sk-parallel-item:last-child::after {align-self: flex-start;width: 50%;}#sk-container-id-3 div.sk-parallel-item:only-child::after {width: 0;}#sk-container-id-3 div.sk-dashed-wrapped {border: 1px dashed gray;margin: 0 0.4em 0.5em 0.4em;box-sizing: border-box;padding-bottom: 0.4em;background-color: white;}#sk-container-id-3 div.sk-label label {font-family: monospace;font-weight: bold;display: inline-block;line-height: 1.2em;}#sk-container-id-3 div.sk-label-container {text-align: center;}#sk-container-id-3 div.sk-container {/* jupyter's `normalize.less` sets `[hidden] { display: none; }` but bootstrap.min.css set `[hidden] { display: none !important; }` so we also need the `!important` here to be able to override the default hidden behavior on the sphinx rendered scikit-learn.org. See: https://github.com/scikit-learn/scikit-learn/issues/21755 */display: inline-block !important;position: relative;}#sk-container-id-3 div.sk-text-repr-fallback {display: none;}</style><div id=\"sk-container-id-3\" class=\"sk-top-container\"><div class=\"sk-text-repr-fallback\"><pre>DecisionTreeClassifier(criterion=&#x27;entropy&#x27;, max_leaf_nodes=5)</pre><b>In a Jupyter environment, please rerun this cell to show the HTML representation or trust the notebook. <br />On GitHub, the HTML representation is unable to render, please try loading this page with nbviewer.org.</b></div><div class=\"sk-container\" hidden><div class=\"sk-item\"><div class=\"sk-estimator sk-toggleable\"><input class=\"sk-toggleable__control sk-hidden--visually\" id=\"sk-estimator-id-3\" type=\"checkbox\" checked><label for=\"sk-estimator-id-3\" class=\"sk-toggleable__label sk-toggleable__label-arrow\">DecisionTreeClassifier</label><div class=\"sk-toggleable__content\"><pre>DecisionTreeClassifier(criterion=&#x27;entropy&#x27;, max_leaf_nodes=5)</pre></div></div></div></div></div>"
      ],
      "text/plain": [
       "DecisionTreeClassifier(criterion='entropy', max_leaf_nodes=5)"
      ]
     },
     "execution_count": 190,
     "metadata": {},
     "output_type": "execute_result"
    }
   ],
   "source": [
    "cart01_df.fit(X_train_df, y_train_df)"
   ]
  },
  {
   "cell_type": "code",
   "execution_count": 191,
   "id": "85628c46",
   "metadata": {},
   "outputs": [
    {
     "name": "stdout",
     "output_type": "stream",
     "text": [
      "              precision    recall  f1-score   support\n",
      "\n",
      "   High-Risk       0.65      0.44      0.53        72\n",
      "    Low-Risk       0.67      0.66      0.66        82\n",
      " Medium-Risk       0.54      0.66      0.60       107\n",
      "\n",
      "    accuracy                           0.60       261\n",
      "   macro avg       0.62      0.59      0.60       261\n",
      "weighted avg       0.61      0.60      0.60       261\n",
      "\n"
     ]
    }
   ],
   "source": [
    "pred_df =cart01_df.predict(X_test_df) \n",
    "\n",
    "print(classification_report(y_test_df, pred_df))"
   ]
  },
  {
   "cell_type": "markdown",
   "id": "a08ea50e",
   "metadata": {},
   "source": [
    "### Control Model Improvement- GridSearch and CV"
   ]
  },
  {
   "cell_type": "code",
   "execution_count": 192,
   "id": "abe6446f",
   "metadata": {},
   "outputs": [
    {
     "name": "stdout",
     "output_type": "stream",
     "text": [
      "Fitting 5 folds for each of 1368 candidates, totalling 6840 fits\n",
      "\n",
      "GridSearchCV Results:\n",
      "Best Parameters: {'criterion': 'gini', 'max_depth': None, 'max_leaf_nodes': 10, 'min_samples_leaf': 1, 'min_samples_split': 2}\n",
      "Best Cross-Validation Accuracy: 0.5791\n",
      "\n",
      "Classification Report for Best Model from GridSearchCV:\n",
      "              precision    recall  f1-score   support\n",
      "\n",
      "   High-Risk       0.62      0.47      0.54        72\n",
      "    Low-Risk       0.70      0.62      0.66        82\n",
      " Medium-Risk       0.54      0.67      0.60       107\n",
      "\n",
      "    accuracy                           0.60       261\n",
      "   macro avg       0.62      0.59      0.60       261\n",
      "weighted avg       0.61      0.60      0.60       261\n",
      "\n"
     ]
    }
   ],
   "source": [
    "from sklearn.model_selection import GridSearchCV\n",
    "from sklearn.metrics import classification_report\n",
    "\n",
    "# Define the parameter grid for GridSearchCV\n",
    "param_grid_df = {\n",
    "    'criterion': ['entropy', 'gini'],            # Test both criteria\n",
    "    'max_leaf_nodes': range(2, 21),             # Test max_leaf_nodes from 2 to 20\n",
    "    'min_samples_split': [2, 5, 10],            # Minimum samples to split\n",
    "    'min_samples_leaf': [1, 2, 5],              # Minimum samples in leaf\n",
    "    'max_depth': [None, 5, 10, 15]              # Maximum tree depth\n",
    "}\n",
    "\n",
    "# Initialize GridSearchCV\n",
    "grid_search_df = GridSearchCV(\n",
    "    estimator=DecisionTreeClassifier(random_state=42), \n",
    "    param_grid=param_grid_df, \n",
    "    scoring='accuracy', \n",
    "    cv=5,  # 5-fold cross-validation\n",
    "    verbose=1, \n",
    "    n_jobs=-1  # Use all available processors\n",
    ")\n",
    "\n",
    "# Fit GridSearchCV to the training data\n",
    "grid_search_df.fit(X_train_df, y_train_df)\n",
    "\n",
    "# Retrieve the best model and parameters\n",
    "best_model_df = grid_search_df.best_estimator_\n",
    "best_params_df = grid_search_df.best_params_\n",
    "best_score_df = grid_search_df.best_score_\n",
    "\n",
    "# Print the results of GridSearchCV\n",
    "print(\"\\nGridSearchCV Results:\")\n",
    "print(f\"Best Parameters: {best_params_df}\")\n",
    "print(f\"Best Cross-Validation Accuracy: {best_score_df:.4f}\")\n",
    "\n",
    "# Make predictions with the GridSearchCV best model\n",
    "best_pred_df = best_model_df.predict(X_test_df)\n",
    "\n",
    "# Print the classification report for the GridSearchCV best model\n",
    "print(\"\\nClassification Report for Best Model from GridSearchCV:\")\n",
    "print(classification_report(y_test_df, best_pred_df))"
   ]
  },
  {
   "cell_type": "markdown",
   "id": "d20153a3",
   "metadata": {},
   "source": [
    "### Food Access"
   ]
  },
  {
   "cell_type": "code",
   "execution_count": 193,
   "id": "44748d5a",
   "metadata": {},
   "outputs": [],
   "source": [
    "cart01_fa =DecisionTreeClassifier(criterion=\"entropy\", max_leaf_nodes=5)"
   ]
  },
  {
   "cell_type": "code",
   "execution_count": 194,
   "id": "d63c08c3",
   "metadata": {},
   "outputs": [
    {
     "data": {
      "text/html": [
       "<style>#sk-container-id-4 {color: black;}#sk-container-id-4 pre{padding: 0;}#sk-container-id-4 div.sk-toggleable {background-color: white;}#sk-container-id-4 label.sk-toggleable__label {cursor: pointer;display: block;width: 100%;margin-bottom: 0;padding: 0.3em;box-sizing: border-box;text-align: center;}#sk-container-id-4 label.sk-toggleable__label-arrow:before {content: \"▸\";float: left;margin-right: 0.25em;color: #696969;}#sk-container-id-4 label.sk-toggleable__label-arrow:hover:before {color: black;}#sk-container-id-4 div.sk-estimator:hover label.sk-toggleable__label-arrow:before {color: black;}#sk-container-id-4 div.sk-toggleable__content {max-height: 0;max-width: 0;overflow: hidden;text-align: left;background-color: #f0f8ff;}#sk-container-id-4 div.sk-toggleable__content pre {margin: 0.2em;color: black;border-radius: 0.25em;background-color: #f0f8ff;}#sk-container-id-4 input.sk-toggleable__control:checked~div.sk-toggleable__content {max-height: 200px;max-width: 100%;overflow: auto;}#sk-container-id-4 input.sk-toggleable__control:checked~label.sk-toggleable__label-arrow:before {content: \"▾\";}#sk-container-id-4 div.sk-estimator input.sk-toggleable__control:checked~label.sk-toggleable__label {background-color: #d4ebff;}#sk-container-id-4 div.sk-label input.sk-toggleable__control:checked~label.sk-toggleable__label {background-color: #d4ebff;}#sk-container-id-4 input.sk-hidden--visually {border: 0;clip: rect(1px 1px 1px 1px);clip: rect(1px, 1px, 1px, 1px);height: 1px;margin: -1px;overflow: hidden;padding: 0;position: absolute;width: 1px;}#sk-container-id-4 div.sk-estimator {font-family: monospace;background-color: #f0f8ff;border: 1px dotted black;border-radius: 0.25em;box-sizing: border-box;margin-bottom: 0.5em;}#sk-container-id-4 div.sk-estimator:hover {background-color: #d4ebff;}#sk-container-id-4 div.sk-parallel-item::after {content: \"\";width: 100%;border-bottom: 1px solid gray;flex-grow: 1;}#sk-container-id-4 div.sk-label:hover label.sk-toggleable__label {background-color: #d4ebff;}#sk-container-id-4 div.sk-serial::before {content: \"\";position: absolute;border-left: 1px solid gray;box-sizing: border-box;top: 0;bottom: 0;left: 50%;z-index: 0;}#sk-container-id-4 div.sk-serial {display: flex;flex-direction: column;align-items: center;background-color: white;padding-right: 0.2em;padding-left: 0.2em;position: relative;}#sk-container-id-4 div.sk-item {position: relative;z-index: 1;}#sk-container-id-4 div.sk-parallel {display: flex;align-items: stretch;justify-content: center;background-color: white;position: relative;}#sk-container-id-4 div.sk-item::before, #sk-container-id-4 div.sk-parallel-item::before {content: \"\";position: absolute;border-left: 1px solid gray;box-sizing: border-box;top: 0;bottom: 0;left: 50%;z-index: -1;}#sk-container-id-4 div.sk-parallel-item {display: flex;flex-direction: column;z-index: 1;position: relative;background-color: white;}#sk-container-id-4 div.sk-parallel-item:first-child::after {align-self: flex-end;width: 50%;}#sk-container-id-4 div.sk-parallel-item:last-child::after {align-self: flex-start;width: 50%;}#sk-container-id-4 div.sk-parallel-item:only-child::after {width: 0;}#sk-container-id-4 div.sk-dashed-wrapped {border: 1px dashed gray;margin: 0 0.4em 0.5em 0.4em;box-sizing: border-box;padding-bottom: 0.4em;background-color: white;}#sk-container-id-4 div.sk-label label {font-family: monospace;font-weight: bold;display: inline-block;line-height: 1.2em;}#sk-container-id-4 div.sk-label-container {text-align: center;}#sk-container-id-4 div.sk-container {/* jupyter's `normalize.less` sets `[hidden] { display: none; }` but bootstrap.min.css set `[hidden] { display: none !important; }` so we also need the `!important` here to be able to override the default hidden behavior on the sphinx rendered scikit-learn.org. See: https://github.com/scikit-learn/scikit-learn/issues/21755 */display: inline-block !important;position: relative;}#sk-container-id-4 div.sk-text-repr-fallback {display: none;}</style><div id=\"sk-container-id-4\" class=\"sk-top-container\"><div class=\"sk-text-repr-fallback\"><pre>DecisionTreeClassifier(criterion=&#x27;entropy&#x27;, max_leaf_nodes=5)</pre><b>In a Jupyter environment, please rerun this cell to show the HTML representation or trust the notebook. <br />On GitHub, the HTML representation is unable to render, please try loading this page with nbviewer.org.</b></div><div class=\"sk-container\" hidden><div class=\"sk-item\"><div class=\"sk-estimator sk-toggleable\"><input class=\"sk-toggleable__control sk-hidden--visually\" id=\"sk-estimator-id-4\" type=\"checkbox\" checked><label for=\"sk-estimator-id-4\" class=\"sk-toggleable__label sk-toggleable__label-arrow\">DecisionTreeClassifier</label><div class=\"sk-toggleable__content\"><pre>DecisionTreeClassifier(criterion=&#x27;entropy&#x27;, max_leaf_nodes=5)</pre></div></div></div></div></div>"
      ],
      "text/plain": [
       "DecisionTreeClassifier(criterion='entropy', max_leaf_nodes=5)"
      ]
     },
     "execution_count": 194,
     "metadata": {},
     "output_type": "execute_result"
    }
   ],
   "source": [
    "cart01_fa.fit(X_train_fa, y_train_fa)"
   ]
  },
  {
   "cell_type": "code",
   "execution_count": 195,
   "id": "ada8db82",
   "metadata": {},
   "outputs": [
    {
     "name": "stdout",
     "output_type": "stream",
     "text": [
      "              precision    recall  f1-score   support\n",
      "\n",
      "   High-Risk       0.65      0.44      0.53        72\n",
      "    Low-Risk       0.67      0.66      0.66        82\n",
      " Medium-Risk       0.54      0.66      0.60       107\n",
      "\n",
      "    accuracy                           0.60       261\n",
      "   macro avg       0.62      0.59      0.60       261\n",
      "weighted avg       0.61      0.60      0.60       261\n",
      "\n"
     ]
    }
   ],
   "source": [
    "pred_fa =cart01_fa.predict(X_test_fa) \n",
    "\n",
    "print(classification_report(y_test_fa, pred_fa))"
   ]
  },
  {
   "cell_type": "markdown",
   "id": "b1ca8f5d",
   "metadata": {},
   "source": [
    "### Food Access Improvement"
   ]
  },
  {
   "cell_type": "code",
   "execution_count": 196,
   "id": "34830102",
   "metadata": {},
   "outputs": [
    {
     "name": "stdout",
     "output_type": "stream",
     "text": [
      "Fitting 5 folds for each of 1368 candidates, totalling 6840 fits\n",
      "\n",
      "GridSearchCV Results:\n",
      "Best Parameters: {'criterion': 'gini', 'max_depth': None, 'max_leaf_nodes': 20, 'min_samples_leaf': 1, 'min_samples_split': 2}\n",
      "Best Cross-Validation Accuracy: 0.5807\n",
      "\n",
      "Classification Report for Best Model from GridSearchCV:\n",
      "              precision    recall  f1-score   support\n",
      "\n",
      "   High-Risk       0.56      0.68      0.61        72\n",
      "    Low-Risk       0.69      0.55      0.61        82\n",
      " Medium-Risk       0.52      0.52      0.52       107\n",
      "\n",
      "    accuracy                           0.57       261\n",
      "   macro avg       0.59      0.58      0.58       261\n",
      "weighted avg       0.58      0.57      0.57       261\n",
      "\n"
     ]
    }
   ],
   "source": [
    "from sklearn.model_selection import GridSearchCV\n",
    "from sklearn.metrics import classification_report\n",
    "\n",
    "# Define the parameter grid for GridSearchCV\n",
    "param_grid_fa = {\n",
    "    'criterion': ['entropy', 'gini'],            # Test both criteria\n",
    "    'max_leaf_nodes': range(2, 21),             # Test max_leaf_nodes from 2 to 20\n",
    "    'min_samples_split': [2, 5, 10],            # Minimum samples to split\n",
    "    'min_samples_leaf': [1, 2, 5],              # Minimum samples in leaf\n",
    "    'max_depth': [None, 5, 10, 15]              # Maximum tree depth\n",
    "}\n",
    "\n",
    "# Initialize GridSearchCV\n",
    "grid_search_fa = GridSearchCV(\n",
    "    estimator=DecisionTreeClassifier(random_state=42), \n",
    "    param_grid=param_grid_fa, \n",
    "    scoring='accuracy', \n",
    "    cv=5,  # 5-fold cross-validation\n",
    "    verbose=1, \n",
    "    n_jobs=-1  # Use all available processors\n",
    ")\n",
    "\n",
    "# Fit GridSearchCV to the training data\n",
    "grid_search_fa.fit(X_train_fa, y_train_fa)\n",
    "\n",
    "# Retrieve the best model and parameters\n",
    "best_model_fa = grid_search_fa.best_estimator_\n",
    "best_params_fa = grid_search_fa.best_params_\n",
    "best_score_fa = grid_search_fa.best_score_\n",
    "\n",
    "# Print the results of GridSearchCV\n",
    "print(\"\\nGridSearchCV Results:\")\n",
    "print(f\"Best Parameters: {best_params_fa}\")\n",
    "print(f\"Best Cross-Validation Accuracy: {best_score_fa:.4f}\")\n",
    "\n",
    "# Make predictions with the GridSearchCV best model\n",
    "best_pred_fa = best_model_fa.predict(X_test_fa)\n",
    "\n",
    "# Print the classification report for the GridSearchCV best model\n",
    "print(\"\\nClassification Report for Best Model from GridSearchCV:\")\n",
    "print(classification_report(y_test_fa, best_pred_fa))"
   ]
  },
  {
   "cell_type": "markdown",
   "id": "bf3b467d",
   "metadata": {},
   "source": [
    "## Model 4- Random Forest"
   ]
  },
  {
   "cell_type": "code",
   "execution_count": 197,
   "id": "a19f54bb",
   "metadata": {},
   "outputs": [],
   "source": [
    "from sklearn.ensemble import RandomForestClassifier\n",
    "from sklearn.metrics import accuracy_score, classification_report, roc_auc_score\n",
    "import numpy as np"
   ]
  },
  {
   "cell_type": "markdown",
   "id": "83517255",
   "metadata": {},
   "source": [
    "### Control"
   ]
  },
  {
   "cell_type": "code",
   "execution_count": 198,
   "id": "05ab40aa",
   "metadata": {},
   "outputs": [],
   "source": [
    "best_criterion_df = None\n",
    "best_n_estimators_df = 1\n",
    "best_accuracy_df = 0\n",
    "best_auc_df = 0\n",
    "best_pred_rf_df = None\n",
    "best_proba_rf_df = None\n",
    "\n",
    "# Iterate over both Gini and Entropy criteria\n",
    "for criterion in ['gini', 'entropy']:\n",
    "    for n_estimators in range(1, 101):\n",
    "        # Initialize and train model with current criterion and n_estimators\n",
    "        rf_df = RandomForestClassifier(n_estimators=n_estimators, criterion=criterion, random_state=42).fit(X_train_df, y_train_df)\n",
    "        \n",
    "        # Make predictions and calculate probabilities\n",
    "        pred_rf_df = rf_df.predict(X_test_df)\n",
    "        proba_rf_df = rf_df.predict_proba(X_test_df)\n",
    "        \n",
    "        # Calculate accuracy\n",
    "        accuracy_rf_test_df = accuracy_score(y_test_df, pred_rf_df)\n",
    "        \n",
    "        # Calculate ROC-AUC (multiclass or binary)\n",
    "        if len(y_test_df.unique()) > 2:  # Multiclass scenario\n",
    "            auc_rf_test_df = roc_auc_score(y_test_df, proba_rf_df, multi_class='ovr')\n",
    "        else:  # Binary classification\n",
    "            auc_rf_test_df = roc_auc_score(y_test_df, proba_rf_df[:, 1])\n",
    "        \n",
    "        # Update best model if current iteration performs better\n",
    "        if accuracy_rf_test_df > best_accuracy_df or auc_rf_test_df > best_auc_df:\n",
    "            best_criterion_df = criterion\n",
    "            best_n_estimators_df = n_estimators\n",
    "            best_accuracy_df = accuracy_rf_test_df\n",
    "            best_auc_df = auc_rf_test_df\n",
    "            best_pred_rf_df = pred_rf_df\n",
    "            best_proba_rf_df = proba_rf_df\n"
   ]
  },
  {
   "cell_type": "code",
   "execution_count": 199,
   "id": "03237412",
   "metadata": {},
   "outputs": [
    {
     "name": "stdout",
     "output_type": "stream",
     "text": [
      "Best Model: Criterion = entropy, n_estimators = 99\n",
      "Best Accuracy: 0.6513, Best AUC: 0.8378\n",
      "\n",
      "Classification Report for Best Model:\n",
      "              precision    recall  f1-score   support\n",
      "\n",
      "   High-Risk       0.63      0.61      0.62        72\n",
      "    Low-Risk       0.74      0.71      0.72        82\n",
      " Medium-Risk       0.60      0.64      0.62       107\n",
      "\n",
      "    accuracy                           0.65       261\n",
      "   macro avg       0.66      0.65      0.65       261\n",
      "weighted avg       0.65      0.65      0.65       261\n",
      "\n"
     ]
    }
   ],
   "source": [
    "# Print the results of the best model\n",
    "print(f\"Best Model: Criterion = {best_criterion_df}, n_estimators = {best_n_estimators_df}\")\n",
    "print(f\"Best Accuracy: {best_accuracy_df:.4f}, Best AUC: {best_auc_df:.4f}\")\n",
    "\n",
    "# Print classification report for the best model\n",
    "print(\"\\nClassification Report for Best Model:\")\n",
    "print(classification_report(y_test_df, best_pred_rf_df))"
   ]
  },
  {
   "cell_type": "markdown",
   "id": "881042f6",
   "metadata": {},
   "source": [
    "#### Control Model Improvement- GridSearch and CV"
   ]
  },
  {
   "cell_type": "code",
   "execution_count": 200,
   "id": "a44adf5a",
   "metadata": {},
   "outputs": [
    {
     "name": "stdout",
     "output_type": "stream",
     "text": [
      "\n",
      "Performing GridSearch and Cross-Validation...\n",
      "Fitting 5 folds for each of 945 candidates, totalling 4725 fits\n",
      "\n",
      "Best Parameters from GridSearch:\n",
      "{'criterion': 'entropy', 'max_depth': 10, 'min_samples_leaf': 4, 'min_samples_split': 2, 'n_estimators': 95}\n",
      "\n",
      "Cross-Validation Scores for Best Model:\n",
      "[0.6557377  0.62809917 0.66115702 0.62809917 0.65289256]\n",
      "Mean CV Accuracy: 0.6452\n",
      "\n",
      "Classification Report for Best Model from GridSearch:\n",
      "              precision    recall  f1-score   support\n",
      "\n",
      "   High-Risk       0.64      0.64      0.64        72\n",
      "    Low-Risk       0.76      0.68      0.72        82\n",
      " Medium-Risk       0.58      0.63      0.60       107\n",
      "\n",
      "    accuracy                           0.65       261\n",
      "   macro avg       0.66      0.65      0.65       261\n",
      "weighted avg       0.65      0.65      0.65       261\n",
      "\n"
     ]
    }
   ],
   "source": [
    "# --- GridSearchCV and Cross-Validation Implementation ---\n",
    "print(\"\\nPerforming GridSearch and Cross-Validation...\")\n",
    "\n",
    "# Define the parameter grid\n",
    "param_grid_df = {\n",
    "    'n_estimators': range(max(1, best_n_estimators_df - 10), best_n_estimators_df + 11),  # Narrow range around best_n_estimators\n",
    "    'criterion': [best_criterion_df],  # Use only the best criterion\n",
    "    'max_depth': [None, 5, 10, 15, 20],  # Test different tree depths\n",
    "    'min_samples_split': [2, 5, 10],  # Test varying minimum samples to split\n",
    "    'min_samples_leaf': [1, 2, 4]  # Test varying minimum samples per leaf\n",
    "}\n",
    "\n",
    "# Instantiate the model with the best criterion\n",
    "rf_df = RandomForestClassifier(random_state=42)\n",
    "\n",
    "# Set up GridSearchCV\n",
    "grid_search_df = GridSearchCV(\n",
    "    estimator=rf_df,\n",
    "    param_grid=param_grid_df,\n",
    "    scoring='accuracy',  # You can also use 'roc_auc' or 'f1_weighted' based on your metric\n",
    "    cv=5,  # 5-fold cross-validation\n",
    "    verbose=1,\n",
    "    n_jobs=-1\n",
    ")\n",
    "\n",
    "# Perform GridSearch\n",
    "grid_search_df.fit(X_train_df, y_train_df)\n",
    "\n",
    "# Get the best model from GridSearchCV\n",
    "best_model_df = grid_search_df.best_estimator_\n",
    "\n",
    "# Cross-validation score for the best model\n",
    "cv_scores_df = cross_val_score(best_model_df, X_train_df, y_train_df, cv=5, scoring='accuracy')\n",
    "\n",
    "# Print the results\n",
    "print(\"\\nBest Parameters from GridSearch:\")\n",
    "print(grid_search_df.best_params_)\n",
    "\n",
    "print(\"\\nCross-Validation Scores for Best Model:\")\n",
    "print(cv_scores_df)\n",
    "print(f\"Mean CV Accuracy: {np.mean(cv_scores_df):.4f}\")\n",
    "\n",
    "# Evaluate the best model on the test set\n",
    "best_model_pred_df = best_model_df.predict(X_test_df)\n",
    "print(\"\\nClassification Report for Best Model from GridSearch:\")\n",
    "print(classification_report(y_test_df, best_model_pred_df))"
   ]
  },
  {
   "cell_type": "markdown",
   "id": "c96fa5dc",
   "metadata": {},
   "source": [
    "#### ROC Curve"
   ]
  },
  {
   "cell_type": "code",
   "execution_count": 202,
   "id": "e16ba84d",
   "metadata": {},
   "outputs": [
    {
     "data": {
      "image/png": "[encoded data removed]",
      "text/plain": [
       "<Figure size 800x600 with 1 Axes>"
      ]
     },
     "metadata": {},
     "output_type": "display_data"
    }
   ],
   "source": [
    "from sklearn.metrics import roc_curve, auc\n",
    "import matplotlib.pyplot as plt\n",
    "\n",
    "# Plot ROC curves for multiclass\n",
    "if len(y_test_df.unique()) > 2:\n",
    "    plt.figure(figsize=(8, 6))\n",
    "\n",
    "    # Reference the best trained model\n",
    "    for i, class_label in enumerate(best_model_df.classes_):\n",
    "        fpr, tpr, _ = roc_curve(y_test_df == class_label, best_model_df.predict_proba(X_test_df)[:, i])\n",
    "        plt.plot(fpr, tpr, label=f\"Class {class_label} (AUC = {auc(fpr, tpr):.4f})\")\n",
    "\n",
    "    plt.title(\"ROC Curve (Multiclass)\")\n",
    "\n",
    "else:\n",
    "    # Plot ROC curve for binary classification\n",
    "    fpr, tpr, thresholds = roc_curve(y_test_df, best_model_df.predict_proba(X_test_df)[:, 1])\n",
    "    plt.figure(figsize=(8, 6))\n",
    "    plt.plot(fpr, tpr, color='green', label=f\"ROC Curve (AUC = {best_auc:.4f})\")\n",
    "    plt.plot([0, 1], [0, 1], color='red', linestyle='--')\n",
    "\n",
    "plt.xlabel(\"False Positive Rate\")\n",
    "plt.ylabel(\"True Positive Rate\")\n",
    "plt.legend(loc=\"lower right\")\n",
    "plt.grid(True)\n",
    "plt.show()"
   ]
  },
  {
   "cell_type": "markdown",
   "id": "c0edf307",
   "metadata": {},
   "source": [
    "#### Confusion Matrix"
   ]
  },
  {
   "cell_type": "code",
   "execution_count": 203,
   "id": "fc07f18d",
   "metadata": {},
   "outputs": [
    {
     "data": {
      "image/png": "[encoded data removed]",
      "text/plain": [
       "<Figure size 640x480 with 2 Axes>"
      ]
     },
     "metadata": {},
     "output_type": "display_data"
    }
   ],
   "source": [
    "from sklearn.metrics import confusion_matrix, ConfusionMatrixDisplay\n",
    "# Generate confusion matrix for the best predictions\n",
    "conf_matrix_df = confusion_matrix(y_test_df, best_pred_rf_df)\n",
    "\n",
    "# Display the confusion matrix\n",
    "disp_df = ConfusionMatrixDisplay(confusion_matrix=conf_matrix_df, display_labels=best_model_df.classes_)\n",
    "disp_df.plot(cmap=plt.cm.Greens)\n",
    "plt.title(\"Confusion Matrix for Best Random Forest Model\")\n",
    "plt.show()"
   ]
  },
  {
   "cell_type": "markdown",
   "id": "1d2dd0aa",
   "metadata": {},
   "source": [
    "### Food Access"
   ]
  },
  {
   "cell_type": "code",
   "execution_count": 204,
   "id": "7e6c5543",
   "metadata": {},
   "outputs": [],
   "source": [
    "best_criterion_fa = None\n",
    "best_n_estimators_fa = 1\n",
    "best_accuracy_fa = 0\n",
    "best_auc_fa = 0\n",
    "best_pred_rf_fa = None\n",
    "best_proba_rf_fa = None\n",
    "\n",
    "# Iterate over both Gini and Entropy criteria\n",
    "for criterion in ['gini', 'entropy']:\n",
    "    for n_estimators in range(1, 101):\n",
    "        # Initialize and train model with current criterion and n_estimators\n",
    "        rf_fa = RandomForestClassifier(n_estimators=n_estimators, criterion=criterion, random_state=42).fit(X_train_fa, y_train_fa)\n",
    "        \n",
    "        # Make predictions and calculate probabilities\n",
    "        pred_rf_fa = rf_fa.predict(X_test_fa)\n",
    "        proba_rf_fa = rf_fa.predict_proba(X_test_fa)\n",
    "        \n",
    "        # Calculate accuracy\n",
    "        accuracy_rf_test_fa = accuracy_score(y_test_fa, pred_rf_fa)\n",
    "        \n",
    "        # Calculate ROC-AUC (multiclass or binary)\n",
    "        if len(y_test_fa.unique()) > 2:  # Multiclass scenario\n",
    "            auc_rf_test_fa = roc_auc_score(y_test_fa, proba_rf_fa, multi_class='ovr')\n",
    "        else:  # Binary classification\n",
    "            auc_rf_test_fa = roc_auc_score(y_test_fa, proba_rf_fa[:, 1])\n",
    "        \n",
    "        # Update best model if current iteration performs better\n",
    "        if accuracy_rf_test_fa > best_accuracy_fa or auc_rf_test_fa > best_auc_fa:\n",
    "            best_criterion_fa = criterion\n",
    "            best_n_estimators_fa = n_estimators\n",
    "            best_accuracy_fa = accuracy_rf_test_fa\n",
    "            best_auc_fa = auc_rf_test_fa\n",
    "            best_pred_rf_fa = pred_rf_fa\n",
    "            best_proba_rf_fa = proba_rf_fa\n"
   ]
  },
  {
   "cell_type": "code",
   "execution_count": 205,
   "id": "fb45e631",
   "metadata": {},
   "outputs": [
    {
     "name": "stdout",
     "output_type": "stream",
     "text": [
      "Best Model: Criterion = entropy, n_estimators = 98\n",
      "Best Accuracy: 0.6820, Best AUC: 0.8387\n",
      "\n",
      "Classification Report for Best Model:\n",
      "              precision    recall  f1-score   support\n",
      "\n",
      "   High-Risk       0.69      0.64      0.66        72\n",
      "    Low-Risk       0.75      0.73      0.74        82\n",
      " Medium-Risk       0.63      0.67      0.65       107\n",
      "\n",
      "    accuracy                           0.68       261\n",
      "   macro avg       0.69      0.68      0.68       261\n",
      "weighted avg       0.68      0.68      0.68       261\n",
      "\n"
     ]
    }
   ],
   "source": [
    "# Print the results of the best model\n",
    "print(f\"Best Model: Criterion = {best_criterion_fa}, n_estimators = {best_n_estimators_fa}\")\n",
    "print(f\"Best Accuracy: {best_accuracy_fa:.4f}, Best AUC: {best_auc_fa:.4f}\")\n",
    "\n",
    "# Print classification report for the best model\n",
    "print(\"\\nClassification Report for Best Model:\")\n",
    "print(classification_report(y_test_fa, best_pred_rf_fa))"
   ]
  },
  {
   "cell_type": "markdown",
   "id": "b779337a",
   "metadata": {},
   "source": [
    "#### Food Access Model Improvements- GridSearch and CV"
   ]
  },
  {
   "cell_type": "code",
   "execution_count": 206,
   "id": "818bbc13",
   "metadata": {},
   "outputs": [
    {
     "name": "stdout",
     "output_type": "stream",
     "text": [
      "\n",
      "Performing GridSearch and Cross-Validation...\n",
      "Fitting 5 folds for each of 945 candidates, totalling 4725 fits\n",
      "\n",
      "Best Parameters from GridSearch:\n",
      "{'criterion': 'entropy', 'max_depth': 5, 'min_samples_leaf': 1, 'min_samples_split': 2, 'n_estimators': 102}\n",
      "\n",
      "Cross-Validation Scores for Best Model:\n",
      "[0.64754098 0.61157025 0.66115702 0.61983471 0.6446281 ]\n",
      "Mean CV Accuracy: 0.6369\n",
      "\n",
      "Classification Report for Best Model from GridSearch:\n",
      "              precision    recall  f1-score   support\n",
      "\n",
      "   High-Risk       0.66      0.60      0.63        72\n",
      "    Low-Risk       0.70      0.68      0.69        82\n",
      " Medium-Risk       0.59      0.64      0.61       107\n",
      "\n",
      "    accuracy                           0.64       261\n",
      "   macro avg       0.65      0.64      0.64       261\n",
      "weighted avg       0.64      0.64      0.64       261\n",
      "\n"
     ]
    }
   ],
   "source": [
    "# --- GridSearchCV and Cross-Validation Implementation ---\n",
    "print(\"\\nPerforming GridSearch and Cross-Validation...\")\n",
    "\n",
    "# Define the parameter grid\n",
    "param_grid_fa = {\n",
    "    'n_estimators': range(max(1, best_n_estimators_fa - 10), best_n_estimators_fa + 11),  # Narrow range around best_n_estimators\n",
    "    'criterion': [best_criterion_fa],  # Use only the best criterion\n",
    "    'max_depth': [None, 5, 10, 15, 20],  # Test different tree depths\n",
    "    'min_samples_split': [2, 5, 10],  # Test varying minimum samples to split\n",
    "    'min_samples_leaf': [1, 2, 4]  # Test varying minimum samples per leaf\n",
    "}\n",
    "\n",
    "# Instantiate the model with the best criterion\n",
    "rf_fa = RandomForestClassifier(random_state=42)\n",
    "\n",
    "# Set up GridSearchCV\n",
    "grid_search_fa = GridSearchCV(\n",
    "    estimator=rf_fa,\n",
    "    param_grid=param_grid_fa,\n",
    "    scoring='accuracy',  # You can also use 'roc_auc' or 'f1_weighted' based on your metric\n",
    "    cv=5,  # 5-fold cross-validation\n",
    "    verbose=1,\n",
    "    n_jobs=-1\n",
    ")\n",
    "\n",
    "# Perform GridSearch\n",
    "grid_search_fa.fit(X_train_fa, y_train_fa)\n",
    "\n",
    "# Get the best model from GridSearchCV\n",
    "best_model_fa = grid_search_fa.best_estimator_\n",
    "\n",
    "# Cross-validation score for the best model\n",
    "cv_scores_fa = cross_val_score(best_model_fa, X_train_fa, y_train_fa, cv=5, scoring='accuracy')\n",
    "\n",
    "# Print the results\n",
    "print(\"\\nBest Parameters from GridSearch:\")\n",
    "print(grid_search_fa.best_params_)\n",
    "\n",
    "print(\"\\nCross-Validation Scores for Best Model:\")\n",
    "print(cv_scores_fa)\n",
    "print(f\"Mean CV Accuracy: {np.mean(cv_scores_fa):.4f}\")\n",
    "\n",
    "# Evaluate the best model on the test set\n",
    "best_model_pred_fa = best_model_fa.predict(X_test_fa)\n",
    "print(\"\\nClassification Report for Best Model from GridSearch:\")\n",
    "print(classification_report(y_test_fa, best_model_pred_fa))"
   ]
  },
  {
   "cell_type": "markdown",
   "id": "12f4fa7a",
   "metadata": {},
   "source": [
    "#### ROC Curve"
   ]
  },
  {
   "cell_type": "code",
   "execution_count": 207,
   "id": "012e4c61",
   "metadata": {},
   "outputs": [
    {
     "data": {
      "image/png": "[encoded data removed]",
      "text/plain": [
       "<Figure size 800x600 with 1 Axes>"
      ]
     },
     "metadata": {},
     "output_type": "display_data"
    }
   ],
   "source": [
    "from sklearn.metrics import roc_curve, auc\n",
    "\n",
    "# Plot ROC curves for multiclass\n",
    "if len(y_test_fa.unique()) > 2:\n",
    "    plt.figure(figsize=(8, 6))\n",
    "\n",
    "    # Reference the best trained model\n",
    "    for i, class_label in enumerate(best_model_fa.classes_):\n",
    "        fpr, tpr, _ = roc_curve(y_test_fa == class_label, best_model_fa.predict_proba(X_test_fa)[:, i])\n",
    "        plt.plot(fpr, tpr, label=f\"Class {class_label} (AUC = {auc(fpr, tpr):.4f})\")\n",
    "\n",
    "    plt.title(\"ROC Curve (Multiclass)\")\n",
    "\n",
    "else:\n",
    "    # Plot ROC curve for binary classification\n",
    "    fpr, tpr, thresholds = roc_curve(y_test_fa, best_model_fa.predict_proba(X_test_fa)[:, 1])\n",
    "    plt.figure(figsize=(8, 6))\n",
    "    plt.plot(fpr, tpr, color='green', label=f\"ROC Curve (AUC = {best_auc_fa:.4f})\")\n",
    "    plt.plot([0, 1], [0, 1], color='red', linestyle='--')\n",
    "\n",
    "plt.xlabel(\"False Positive Rate\")\n",
    "plt.ylabel(\"True Positive Rate\")\n",
    "plt.legend(loc=\"lower right\")\n",
    "plt.grid(True)\n",
    "plt.show()"
   ]
  },
  {
   "cell_type": "markdown",
   "id": "21b19cb5",
   "metadata": {},
   "source": [
    "#### Confusion Matrix"
   ]
  },
  {
   "cell_type": "code",
   "execution_count": 208,
   "id": "c0eb6865",
   "metadata": {},
   "outputs": [
    {
     "data": {
      "image/png": "[encoded data removed]",
      "text/plain": [
       "<Figure size 640x480 with 2 Axes>"
      ]
     },
     "metadata": {},
     "output_type": "display_data"
    }
   ],
   "source": [
    "from sklearn.metrics import confusion_matrix, ConfusionMatrixDisplay\n",
    "# Generate confusion matrix for the best predictions\n",
    "conf_matrix_fa = confusion_matrix(y_test_fa, best_pred_rf_fa)\n",
    "\n",
    "# Display the confusion matrix\n",
    "disp_fa = ConfusionMatrixDisplay(confusion_matrix=conf_matrix_fa, display_labels=best_model_fa.classes_)\n",
    "disp_fa.plot(cmap=plt.cm.Greens)\n",
    "plt.title(\"Confusion Matrix for Best Random Forest Model\")\n",
    "plt.show()"
   ]
  },
  {
   "cell_type": "markdown",
   "id": "19acd1fd",
   "metadata": {},
   "source": [
    "## Model 5- Gradient Boosting Classifier"
   ]
  },
  {
   "cell_type": "code",
   "execution_count": 209,
   "id": "8f1af3eb",
   "metadata": {},
   "outputs": [],
   "source": [
    "from sklearn.model_selection import cross_val_score, KFold, GridSearchCV\n",
    "from sklearn.ensemble import GradientBoostingClassifier\n",
    "from sklearn.metrics import accuracy_score, classification_report, f1_score, roc_auc_score, roc_curve\n",
    "import numpy as np\n",
    "import matplotlib.pyplot as plt"
   ]
  },
  {
   "cell_type": "markdown",
   "id": "052681bc",
   "metadata": {},
   "source": [
    "### Control"
   ]
  },
  {
   "cell_type": "code",
   "execution_count": 210,
   "id": "e2f69945",
   "metadata": {},
   "outputs": [],
   "source": [
    "# Initialize the Gradient Boosting Classifier\n",
    "gb_model_df = GradientBoostingClassifier(n_estimators=100, learning_rate=0.1, max_depth=3, random_state=42)\n"
   ]
  },
  {
   "cell_type": "code",
   "execution_count": 211,
   "id": "1613f393",
   "metadata": {},
   "outputs": [
    {
     "data": {
      "text/html": [
       "<style>#sk-container-id-5 {color: black;}#sk-container-id-5 pre{padding: 0;}#sk-container-id-5 div.sk-toggleable {background-color: white;}#sk-container-id-5 label.sk-toggleable__label {cursor: pointer;display: block;width: 100%;margin-bottom: 0;padding: 0.3em;box-sizing: border-box;text-align: center;}#sk-container-id-5 label.sk-toggleable__label-arrow:before {content: \"▸\";float: left;margin-right: 0.25em;color: #696969;}#sk-container-id-5 label.sk-toggleable__label-arrow:hover:before {color: black;}#sk-container-id-5 div.sk-estimator:hover label.sk-toggleable__label-arrow:before {color: black;}#sk-container-id-5 div.sk-toggleable__content {max-height: 0;max-width: 0;overflow: hidden;text-align: left;background-color: #f0f8ff;}#sk-container-id-5 div.sk-toggleable__content pre {margin: 0.2em;color: black;border-radius: 0.25em;background-color: #f0f8ff;}#sk-container-id-5 input.sk-toggleable__control:checked~div.sk-toggleable__content {max-height: 200px;max-width: 100%;overflow: auto;}#sk-container-id-5 input.sk-toggleable__control:checked~label.sk-toggleable__label-arrow:before {content: \"▾\";}#sk-container-id-5 div.sk-estimator input.sk-toggleable__control:checked~label.sk-toggleable__label {background-color: #d4ebff;}#sk-container-id-5 div.sk-label input.sk-toggleable__control:checked~label.sk-toggleable__label {background-color: #d4ebff;}#sk-container-id-5 input.sk-hidden--visually {border: 0;clip: rect(1px 1px 1px 1px);clip: rect(1px, 1px, 1px, 1px);height: 1px;margin: -1px;overflow: hidden;padding: 0;position: absolute;width: 1px;}#sk-container-id-5 div.sk-estimator {font-family: monospace;background-color: #f0f8ff;border: 1px dotted black;border-radius: 0.25em;box-sizing: border-box;margin-bottom: 0.5em;}#sk-container-id-5 div.sk-estimator:hover {background-color: #d4ebff;}#sk-container-id-5 div.sk-parallel-item::after {content: \"\";width: 100%;border-bottom: 1px solid gray;flex-grow: 1;}#sk-container-id-5 div.sk-label:hover label.sk-toggleable__label {background-color: #d4ebff;}#sk-container-id-5 div.sk-serial::before {content: \"\";position: absolute;border-left: 1px solid gray;box-sizing: border-box;top: 0;bottom: 0;left: 50%;z-index: 0;}#sk-container-id-5 div.sk-serial {display: flex;flex-direction: column;align-items: center;background-color: white;padding-right: 0.2em;padding-left: 0.2em;position: relative;}#sk-container-id-5 div.sk-item {position: relative;z-index: 1;}#sk-container-id-5 div.sk-parallel {display: flex;align-items: stretch;justify-content: center;background-color: white;position: relative;}#sk-container-id-5 div.sk-item::before, #sk-container-id-5 div.sk-parallel-item::before {content: \"\";position: absolute;border-left: 1px solid gray;box-sizing: border-box;top: 0;bottom: 0;left: 50%;z-index: -1;}#sk-container-id-5 div.sk-parallel-item {display: flex;flex-direction: column;z-index: 1;position: relative;background-color: white;}#sk-container-id-5 div.sk-parallel-item:first-child::after {align-self: flex-end;width: 50%;}#sk-container-id-5 div.sk-parallel-item:last-child::after {align-self: flex-start;width: 50%;}#sk-container-id-5 div.sk-parallel-item:only-child::after {width: 0;}#sk-container-id-5 div.sk-dashed-wrapped {border: 1px dashed gray;margin: 0 0.4em 0.5em 0.4em;box-sizing: border-box;padding-bottom: 0.4em;background-color: white;}#sk-container-id-5 div.sk-label label {font-family: monospace;font-weight: bold;display: inline-block;line-height: 1.2em;}#sk-container-id-5 div.sk-label-container {text-align: center;}#sk-container-id-5 div.sk-container {/* jupyter's `normalize.less` sets `[hidden] { display: none; }` but bootstrap.min.css set `[hidden] { display: none !important; }` so we also need the `!important` here to be able to override the default hidden behavior on the sphinx rendered scikit-learn.org. See: https://github.com/scikit-learn/scikit-learn/issues/21755 */display: inline-block !important;position: relative;}#sk-container-id-5 div.sk-text-repr-fallback {display: none;}</style><div id=\"sk-container-id-5\" class=\"sk-top-container\"><div class=\"sk-text-repr-fallback\"><pre>GradientBoostingClassifier(random_state=42)</pre><b>In a Jupyter environment, please rerun this cell to show the HTML representation or trust the notebook. <br />On GitHub, the HTML representation is unable to render, please try loading this page with nbviewer.org.</b></div><div class=\"sk-container\" hidden><div class=\"sk-item\"><div class=\"sk-estimator sk-toggleable\"><input class=\"sk-toggleable__control sk-hidden--visually\" id=\"sk-estimator-id-5\" type=\"checkbox\" checked><label for=\"sk-estimator-id-5\" class=\"sk-toggleable__label sk-toggleable__label-arrow\">GradientBoostingClassifier</label><div class=\"sk-toggleable__content\"><pre>GradientBoostingClassifier(random_state=42)</pre></div></div></div></div></div>"
      ],
      "text/plain": [
       "GradientBoostingClassifier(random_state=42)"
      ]
     },
     "execution_count": 211,
     "metadata": {},
     "output_type": "execute_result"
    }
   ],
   "source": [
    "# Train the model\n",
    "gb_model_df.fit(X_train_df, y_train_df)"
   ]
  },
  {
   "cell_type": "code",
   "execution_count": 212,
   "id": "7325c422",
   "metadata": {},
   "outputs": [],
   "source": [
    "# Make predictions\n",
    "y_pred_df = gb_model_df.predict(X_test_df)"
   ]
  },
  {
   "cell_type": "code",
   "execution_count": 213,
   "id": "fbf45a04",
   "metadata": {},
   "outputs": [],
   "source": [
    "# If the target has more than two classes, we use the 'ovr' (one-vs-rest) approach for ROC-AUC\n",
    "if len(np.unique(y_df)) > 2:\n",
    "    y_pred_prob_df = gb_model_df.predict_proba(X_test_df)\n",
    "    roc_auc_df = roc_auc_score(y_test_df, y_pred_prob_df, multi_class='ovr')\n",
    "else:\n",
    "    y_pred_prob_df = gb_model_df.predict_proba(X_test_df)[:, 1]\n",
    "    roc_auc_df = roc_auc_score(y_test_df, y_pred_prob_df)"
   ]
  },
  {
   "cell_type": "code",
   "execution_count": 214,
   "id": "12bada72",
   "metadata": {},
   "outputs": [
    {
     "name": "stdout",
     "output_type": "stream",
     "text": [
      "Accuracy: 0.65\n",
      "Classification Report:\n",
      "              precision    recall  f1-score   support\n",
      "\n",
      "   High-Risk       0.62      0.72      0.67        72\n",
      "    Low-Risk       0.74      0.70      0.72        82\n",
      " Medium-Risk       0.60      0.56      0.58       107\n",
      "\n",
      "    accuracy                           0.65       261\n",
      "   macro avg       0.65      0.66      0.65       261\n",
      "weighted avg       0.65      0.65      0.65       261\n",
      "\n",
      "F1 Score (weighted): 0.65\n",
      "ROC-AUC Score: 0.82\n"
     ]
    }
   ],
   "source": [
    "# Evaluate model performance\n",
    "# Calculate accuracy\n",
    "accuracy_df = accuracy_score(y_test_df, y_pred_df)\n",
    "print(f\"Accuracy: {accuracy_df:.2f}\")\n",
    "\n",
    "# Generate a classification report\n",
    "print(\"Classification Report:\")\n",
    "print(classification_report(y_test_df, y_pred_df))\n",
    "\n",
    "# Calculate F1 Score\n",
    "f1_df = f1_score(y_test_df, y_pred_df, average='weighted')\n",
    "print(f\"F1 Score (weighted): {f1_df:.2f}\")\n",
    "\n",
    "# Calculate and print ROC-AUC Score\n",
    "print(f\"ROC-AUC Score: {roc_auc_df:.2f}\")"
   ]
  },
  {
   "cell_type": "markdown",
   "id": "69df10ee",
   "metadata": {},
   "source": [
    "#### Control Improvement- GridSearch and CV"
   ]
  },
  {
   "cell_type": "code",
   "execution_count": 216,
   "id": "b436eb79",
   "metadata": {},
   "outputs": [
    {
     "name": "stdout",
     "output_type": "stream",
     "text": [
      "\n",
      "Performing GridSearch and K-Fold Cross-Validation...\n",
      "Fitting 5 folds for each of 432 candidates, totalling 2160 fits\n",
      "\n",
      "Best Parameters from GridSearch:\n",
      "{'learning_rate': 0.2, 'max_depth': 5, 'min_samples_leaf': 1, 'min_samples_split': 10, 'n_estimators': 50}\n",
      "\n",
      "Evaluation Metrics for Best Model:\n",
      "Accuracy: 0.63\n",
      "F1 Score (weighted): 0.63\n",
      "ROC-AUC Score: 0.80\n",
      "Classification Report for Best Model:\n",
      "              precision    recall  f1-score   support\n",
      "\n",
      "   High-Risk       0.58      0.67      0.62        72\n",
      "    Low-Risk       0.74      0.68      0.71        82\n",
      " Medium-Risk       0.60      0.57      0.58       107\n",
      "\n",
      "    accuracy                           0.63       261\n",
      "   macro avg       0.64      0.64      0.64       261\n",
      "weighted avg       0.64      0.63      0.63       261\n",
      "\n"
     ]
    }
   ],
   "source": [
    "# --- GridSearchCV with K-Fold Cross-Validation ---\n",
    "print(\"\\nPerforming GridSearch and K-Fold Cross-Validation...\")\n",
    "\n",
    "# Define the parameter grid for GradientBoostingClassifier\n",
    "param_grid_df = {\n",
    "    'n_estimators': [50, 100, 150],\n",
    "    'learning_rate': [0.01, 0.05, 0.1, 0.2],\n",
    "    'max_depth': [2, 3, 4, 5],\n",
    "    'min_samples_split': [2, 5, 10],\n",
    "    'min_samples_leaf': [1, 2, 4],\n",
    "}\n",
    "\n",
    "# Set up K-Fold Cross-Validation\n",
    "k = 5  # 10-fold cross-validation\n",
    "kf_df = KFold(n_splits=k, shuffle=True, random_state=42)\n",
    "\n",
    "# Initialize GridSearchCV\n",
    "grid_search_df = GridSearchCV(\n",
    "    estimator=GradientBoostingClassifier(random_state=42),\n",
    "    param_grid=param_grid_df,\n",
    "    scoring='accuracy',  # Adjust scoring metric if necessary\n",
    "    cv=kf_df,\n",
    "    verbose=1,\n",
    "    n_jobs=-1\n",
    ")\n",
    "\n",
    "# Perform GridSearchCV\n",
    "grid_search_df.fit(X_train_df, y_train_df)\n",
    "\n",
    "# Get the best model from GridSearchCV\n",
    "best_gb_model_df = grid_search_df.best_estimator_\n",
    "\n",
    "# Evaluate the best model on the test set\n",
    "best_y_pred_df = best_gb_model_df.predict(X_test_df)\n",
    "\n",
    "# If the target has more than two classes, calculate ROC-AUC for multiclass\n",
    "if len(np.unique(y_df)) > 2:\n",
    "    best_y_pred_prob_df = best_gb_model_df.predict_proba(X_test_df)\n",
    "    best_roc_auc_df = roc_auc_score(y_test_df, best_y_pred_prob_df, multi_class='ovr')\n",
    "else:\n",
    "    best_y_pred_prob_df = best_gb_model_df.predict_proba(X_test_df)[:, 1]\n",
    "    best_roc_auc_df = roc_auc_score(y_test_df, best_y_pred_prob_df)\n",
    "\n",
    "# Print best parameters and scores from GridSearch\n",
    "print(\"\\nBest Parameters from GridSearch:\")\n",
    "print(grid_search_df.best_params_)\n",
    "\n",
    "print(\"\\nEvaluation Metrics for Best Model:\")\n",
    "best_accuracy_df = accuracy_score(y_test_df, best_y_pred_df)\n",
    "best_f1_df = f1_score(y_test_df, best_y_pred_df, average='weighted')\n",
    "print(f\"Accuracy: {best_accuracy_df:.2f}\")\n",
    "print(f\"F1 Score (weighted): {best_f1_df:.2f}\")\n",
    "print(f\"ROC-AUC Score: {best_roc_auc_df:.2f}\")\n",
    "\n",
    "# Print classification report for the best model\n",
    "print(\"Classification Report for Best Model:\")\n",
    "print(classification_report(y_test_df, best_y_pred_df))"
   ]
  },
  {
   "cell_type": "markdown",
   "id": "6f441d49",
   "metadata": {},
   "source": [
    "### Food Access"
   ]
  },
  {
   "cell_type": "code",
   "execution_count": 280,
   "id": "6d99d54e",
   "metadata": {},
   "outputs": [],
   "source": [
    "# Initialize the Gradient Boosting Classifier\n",
    "gb_model_fa = GradientBoostingClassifier(n_estimators=100, learning_rate=0.1, max_depth=3, random_state=42)\n"
   ]
  },
  {
   "cell_type": "code",
   "execution_count": 281,
   "id": "40fd5047",
   "metadata": {},
   "outputs": [
    {
     "data": {
      "text/html": [
       "<style>#sk-container-id-21 {color: black;}#sk-container-id-21 pre{padding: 0;}#sk-container-id-21 div.sk-toggleable {background-color: white;}#sk-container-id-21 label.sk-toggleable__label {cursor: pointer;display: block;width: 100%;margin-bottom: 0;padding: 0.3em;box-sizing: border-box;text-align: center;}#sk-container-id-21 label.sk-toggleable__label-arrow:before {content: \"▸\";float: left;margin-right: 0.25em;color: #696969;}#sk-container-id-21 label.sk-toggleable__label-arrow:hover:before {color: black;}#sk-container-id-21 div.sk-estimator:hover label.sk-toggleable__label-arrow:before {color: black;}#sk-container-id-21 div.sk-toggleable__content {max-height: 0;max-width: 0;overflow: hidden;text-align: left;background-color: #f0f8ff;}#sk-container-id-21 div.sk-toggleable__content pre {margin: 0.2em;color: black;border-radius: 0.25em;background-color: #f0f8ff;}#sk-container-id-21 input.sk-toggleable__control:checked~div.sk-toggleable__content {max-height: 200px;max-width: 100%;overflow: auto;}#sk-container-id-21 input.sk-toggleable__control:checked~label.sk-toggleable__label-arrow:before {content: \"▾\";}#sk-container-id-21 div.sk-estimator input.sk-toggleable__control:checked~label.sk-toggleable__label {background-color: #d4ebff;}#sk-container-id-21 div.sk-label input.sk-toggleable__control:checked~label.sk-toggleable__label {background-color: #d4ebff;}#sk-container-id-21 input.sk-hidden--visually {border: 0;clip: rect(1px 1px 1px 1px);clip: rect(1px, 1px, 1px, 1px);height: 1px;margin: -1px;overflow: hidden;padding: 0;position: absolute;width: 1px;}#sk-container-id-21 div.sk-estimator {font-family: monospace;background-color: #f0f8ff;border: 1px dotted black;border-radius: 0.25em;box-sizing: border-box;margin-bottom: 0.5em;}#sk-container-id-21 div.sk-estimator:hover {background-color: #d4ebff;}#sk-container-id-21 div.sk-parallel-item::after {content: \"\";width: 100%;border-bottom: 1px solid gray;flex-grow: 1;}#sk-container-id-21 div.sk-label:hover label.sk-toggleable__label {background-color: #d4ebff;}#sk-container-id-21 div.sk-serial::before {content: \"\";position: absolute;border-left: 1px solid gray;box-sizing: border-box;top: 0;bottom: 0;left: 50%;z-index: 0;}#sk-container-id-21 div.sk-serial {display: flex;flex-direction: column;align-items: center;background-color: white;padding-right: 0.2em;padding-left: 0.2em;position: relative;}#sk-container-id-21 div.sk-item {position: relative;z-index: 1;}#sk-container-id-21 div.sk-parallel {display: flex;align-items: stretch;justify-content: center;background-color: white;position: relative;}#sk-container-id-21 div.sk-item::before, #sk-container-id-21 div.sk-parallel-item::before {content: \"\";position: absolute;border-left: 1px solid gray;box-sizing: border-box;top: 0;bottom: 0;left: 50%;z-index: -1;}#sk-container-id-21 div.sk-parallel-item {display: flex;flex-direction: column;z-index: 1;position: relative;background-color: white;}#sk-container-id-21 div.sk-parallel-item:first-child::after {align-self: flex-end;width: 50%;}#sk-container-id-21 div.sk-parallel-item:last-child::after {align-self: flex-start;width: 50%;}#sk-container-id-21 div.sk-parallel-item:only-child::after {width: 0;}#sk-container-id-21 div.sk-dashed-wrapped {border: 1px dashed gray;margin: 0 0.4em 0.5em 0.4em;box-sizing: border-box;padding-bottom: 0.4em;background-color: white;}#sk-container-id-21 div.sk-label label {font-family: monospace;font-weight: bold;display: inline-block;line-height: 1.2em;}#sk-container-id-21 div.sk-label-container {text-align: center;}#sk-container-id-21 div.sk-container {/* jupyter's `normalize.less` sets `[hidden] { display: none; }` but bootstrap.min.css set `[hidden] { display: none !important; }` so we also need the `!important` here to be able to override the default hidden behavior on the sphinx rendered scikit-learn.org. See: https://github.com/scikit-learn/scikit-learn/issues/21755 */display: inline-block !important;position: relative;}#sk-container-id-21 div.sk-text-repr-fallback {display: none;}</style><div id=\"sk-container-id-21\" class=\"sk-top-container\"><div class=\"sk-text-repr-fallback\"><pre>GradientBoostingClassifier(random_state=42)</pre><b>In a Jupyter environment, please rerun this cell to show the HTML representation or trust the notebook. <br />On GitHub, the HTML representation is unable to render, please try loading this page with nbviewer.org.</b></div><div class=\"sk-container\" hidden><div class=\"sk-item\"><div class=\"sk-estimator sk-toggleable\"><input class=\"sk-toggleable__control sk-hidden--visually\" id=\"sk-estimator-id-33\" type=\"checkbox\" checked><label for=\"sk-estimator-id-33\" class=\"sk-toggleable__label sk-toggleable__label-arrow\">GradientBoostingClassifier</label><div class=\"sk-toggleable__content\"><pre>GradientBoostingClassifier(random_state=42)</pre></div></div></div></div></div>"
      ],
      "text/plain": [
       "GradientBoostingClassifier(random_state=42)"
      ]
     },
     "execution_count": 281,
     "metadata": {},
     "output_type": "execute_result"
    }
   ],
   "source": [
    "# Train the model\n",
    "gb_model_fa.fit(X_train_fa, y_train_fa)"
   ]
  },
  {
   "cell_type": "code",
   "execution_count": 282,
   "id": "fd4aeec7",
   "metadata": {},
   "outputs": [],
   "source": [
    "# Make predictions\n",
    "y_pred_fa = gb_model_fa.predict(X_test_fa)"
   ]
  },
  {
   "cell_type": "code",
   "execution_count": 283,
   "id": "882eee71",
   "metadata": {},
   "outputs": [],
   "source": [
    "# If the target has more than two classes, we use the 'ovr' (one-vs-rest) approach for ROC-AUC\n",
    "if len(np.unique(y_fa)) > 2:\n",
    "    y_pred_prob_fa = gb_model_fa.predict_proba(X_test_fa)\n",
    "    roc_auc_fa = roc_auc_score(y_test_fa, y_pred_prob_fa, multi_class='ovr')\n",
    "else:\n",
    "    y_pred_prob_fa = gb_model_fa.predict_proba(X_test_fa)[:, 1]\n",
    "    roc_auc_fa = roc_auc_score(y_test_fa, y_pred_prob_fa)"
   ]
  },
  {
   "cell_type": "code",
   "execution_count": 284,
   "id": "88b12424",
   "metadata": {},
   "outputs": [
    {
     "name": "stdout",
     "output_type": "stream",
     "text": [
      "Accuracy: 0.65\n",
      "Classification Report:\n",
      "              precision    recall  f1-score   support\n",
      "\n",
      "   High-Risk       0.63      0.72      0.67        72\n",
      "    Low-Risk       0.73      0.71      0.72        82\n",
      " Medium-Risk       0.61      0.56      0.58       107\n",
      "\n",
      "    accuracy                           0.65       261\n",
      "   macro avg       0.66      0.66      0.66       261\n",
      "weighted avg       0.65      0.65      0.65       261\n",
      "\n",
      "F1 Score (weighted): 0.65\n",
      "ROC-AUC Score: 0.82\n"
     ]
    }
   ],
   "source": [
    "# Evaluate model performance\n",
    "# Calculate accuracy\n",
    "accuracy_fa = accuracy_score(y_test_fa, y_pred_fa)\n",
    "print(f\"Accuracy: {accuracy_fa:.2f}\")\n",
    "\n",
    "# Generate a classification report\n",
    "print(\"Classification Report:\")\n",
    "print(classification_report(y_test_fa, y_pred_fa))\n",
    "\n",
    "# Calculate F1 Score\n",
    "f1_fa = f1_score(y_test_fa, y_pred_fa, average='weighted')\n",
    "print(f\"F1 Score (weighted): {f1_fa:.2f}\")\n",
    "\n",
    "# Calculate and print ROC-AUC Score\n",
    "print(f\"ROC-AUC Score: {roc_auc_fa:.2f}\")"
   ]
  },
  {
   "cell_type": "markdown",
   "id": "6ba5cfcc",
   "metadata": {},
   "source": [
    "#### Food Access Improvment- GridSearch and CV"
   ]
  },
  {
   "cell_type": "code",
   "execution_count": 285,
   "id": "3640cd1c",
   "metadata": {},
   "outputs": [
    {
     "name": "stdout",
     "output_type": "stream",
     "text": [
      "\n",
      "Performing GridSearch and K-Fold Cross-Validation...\n",
      "Fitting 5 folds for each of 432 candidates, totalling 2160 fits\n",
      "\n",
      "Best Parameters from GridSearch:\n",
      "{'learning_rate': 0.1, 'max_depth': 2, 'min_samples_leaf': 1, 'min_samples_split': 2, 'n_estimators': 50}\n",
      "\n",
      "Evaluation Metrics for Best Model:\n",
      "Accuracy: 0.62\n",
      "F1 Score (weighted): 0.62\n",
      "ROC-AUC Score: 0.82\n",
      "Classification Report for Best Model:\n",
      "              precision    recall  f1-score   support\n",
      "\n",
      "   High-Risk       0.62      0.65      0.64        72\n",
      "    Low-Risk       0.68      0.66      0.67        82\n",
      " Medium-Risk       0.58      0.57      0.57       107\n",
      "\n",
      "    accuracy                           0.62       261\n",
      "   macro avg       0.63      0.63      0.63       261\n",
      "weighted avg       0.62      0.62      0.62       261\n",
      "\n"
     ]
    }
   ],
   "source": [
    "# --- GridSearchCV with K-Fold Cross-Validation ---\n",
    "print(\"\\nPerforming GridSearch and K-Fold Cross-Validation...\")\n",
    "\n",
    "# Define the parameter grid for GradientBoostingClassifier\n",
    "param_grid_fa = {\n",
    "    'n_estimators': [50, 100, 150],\n",
    "    'learning_rate': [0.01, 0.05, 0.1, 0.2],\n",
    "    'max_depth': [2, 3, 4, 5],\n",
    "    'min_samples_split': [2, 5, 10],\n",
    "    'min_samples_leaf': [1, 2, 4],\n",
    "}\n",
    "\n",
    "# Set up K-Fold Cross-Validation\n",
    "k = 5  # 5-fold cross-validation\n",
    "kf_fa = KFold(n_splits=k, shuffle=True, random_state=42)\n",
    "\n",
    "# Initialize GridSearchCV\n",
    "grid_search_fa = GridSearchCV(\n",
    "    estimator=GradientBoostingClassifier(random_state=42),\n",
    "    param_grid=param_grid_fa,\n",
    "    scoring='accuracy',  # Adjust scoring metric if necessary\n",
    "    cv=kf_fa,\n",
    "    verbose=1,\n",
    "    n_jobs=-1\n",
    ")\n",
    "\n",
    "# Perform GridSearchCV\n",
    "grid_search_fa.fit(X_train_fa, y_train_fa)\n",
    "\n",
    "# Get the best model from GridSearchCV\n",
    "best_gb_model_fa = grid_search_fa.best_estimator_\n",
    "\n",
    "# Evaluate the best model on the test set\n",
    "best_y_pred_fa = best_gb_model_fa.predict(X_test_fa)\n",
    "\n",
    "# If the target has more than two classes, calculate ROC-AUC for multiclass\n",
    "if len(np.unique(y_fa)) > 2:\n",
    "    best_y_pred_prob_fa = best_gb_model_fa.predict_proba(X_test_fa)\n",
    "    best_roc_auc_fa = roc_auc_score(y_test_fa, best_y_pred_prob_fa, multi_class='ovr')\n",
    "else:\n",
    "    best_y_pred_prob_fa = best_gb_model_fa.predict_proba(X_test_fa)[:, 1]\n",
    "    best_roc_auc_fa = roc_auc_score(y_test_fa, best_y_pred_prob_fa)\n",
    "\n",
    "# Print best parameters and scores from GridSearch\n",
    "print(\"\\nBest Parameters from GridSearch:\")\n",
    "print(grid_search_fa.best_params_)\n",
    "\n",
    "print(\"\\nEvaluation Metrics for Best Model:\")\n",
    "best_accuracy_fa = accuracy_score(y_test_fa, best_y_pred_fa)\n",
    "best_f1_fa = f1_score(y_test_fa, best_y_pred_fa, average='weighted')\n",
    "print(f\"Accuracy: {best_accuracy_fa:.2f}\")\n",
    "print(f\"F1 Score (weighted): {best_f1_fa:.2f}\")\n",
    "print(f\"ROC-AUC Score: {best_roc_auc_fa:.2f}\")\n",
    "\n",
    "# Print classification report for the best model\n",
    "print(\"Classification Report for Best Model:\")\n",
    "print(classification_report(y_test_fa, best_y_pred_fa))"
   ]
  },
  {
   "cell_type": "markdown",
   "id": "230f9d3b",
   "metadata": {},
   "source": [
    "## Model 6- Logistic Regression"
   ]
  },
  {
   "cell_type": "code",
   "execution_count": 222,
   "id": "9db9d522",
   "metadata": {},
   "outputs": [],
   "source": [
    "from sklearn.linear_model import LogisticRegression\n",
    "from sklearn.metrics import accuracy_score, confusion_matrix, classification_report\n",
    "from sklearn.preprocessing import LabelEncoder, StandardScaler"
   ]
  },
  {
   "cell_type": "markdown",
   "id": "a86eaa5b",
   "metadata": {},
   "source": [
    "### Control"
   ]
  },
  {
   "cell_type": "code",
   "execution_count": 223,
   "id": "f3c85bb0",
   "metadata": {},
   "outputs": [],
   "source": [
    "# transform y using LabelEncoder\n",
    "le_df = LabelEncoder()\n",
    "y_train_encoded_df = le_df.fit_transform(y_train_df)\n",
    "y_test_encoded_df = le_df.transform(y_test_df)"
   ]
  },
  {
   "cell_type": "code",
   "execution_count": 224,
   "id": "8d90f937",
   "metadata": {},
   "outputs": [],
   "source": [
    "# scale X using StandardScaler\n",
    "scaler_df = StandardScaler()\n",
    "X_train_scaled_df = scaler_df.fit_transform(X_train_df)\n",
    "X_test_scaled_df = scaler_df.transform(X_test_df)"
   ]
  },
  {
   "cell_type": "code",
   "execution_count": 225,
   "id": "7f6d699f",
   "metadata": {},
   "outputs": [
    {
     "data": {
      "text/html": [
       "<style>#sk-container-id-7 {color: black;}#sk-container-id-7 pre{padding: 0;}#sk-container-id-7 div.sk-toggleable {background-color: white;}#sk-container-id-7 label.sk-toggleable__label {cursor: pointer;display: block;width: 100%;margin-bottom: 0;padding: 0.3em;box-sizing: border-box;text-align: center;}#sk-container-id-7 label.sk-toggleable__label-arrow:before {content: \"▸\";float: left;margin-right: 0.25em;color: #696969;}#sk-container-id-7 label.sk-toggleable__label-arrow:hover:before {color: black;}#sk-container-id-7 div.sk-estimator:hover label.sk-toggleable__label-arrow:before {color: black;}#sk-container-id-7 div.sk-toggleable__content {max-height: 0;max-width: 0;overflow: hidden;text-align: left;background-color: #f0f8ff;}#sk-container-id-7 div.sk-toggleable__content pre {margin: 0.2em;color: black;border-radius: 0.25em;background-color: #f0f8ff;}#sk-container-id-7 input.sk-toggleable__control:checked~div.sk-toggleable__content {max-height: 200px;max-width: 100%;overflow: auto;}#sk-container-id-7 input.sk-toggleable__control:checked~label.sk-toggleable__label-arrow:before {content: \"▾\";}#sk-container-id-7 div.sk-estimator input.sk-toggleable__control:checked~label.sk-toggleable__label {background-color: #d4ebff;}#sk-container-id-7 div.sk-label input.sk-toggleable__control:checked~label.sk-toggleable__label {background-color: #d4ebff;}#sk-container-id-7 input.sk-hidden--visually {border: 0;clip: rect(1px 1px 1px 1px);clip: rect(1px, 1px, 1px, 1px);height: 1px;margin: -1px;overflow: hidden;padding: 0;position: absolute;width: 1px;}#sk-container-id-7 div.sk-estimator {font-family: monospace;background-color: #f0f8ff;border: 1px dotted black;border-radius: 0.25em;box-sizing: border-box;margin-bottom: 0.5em;}#sk-container-id-7 div.sk-estimator:hover {background-color: #d4ebff;}#sk-container-id-7 div.sk-parallel-item::after {content: \"\";width: 100%;border-bottom: 1px solid gray;flex-grow: 1;}#sk-container-id-7 div.sk-label:hover label.sk-toggleable__label {background-color: #d4ebff;}#sk-container-id-7 div.sk-serial::before {content: \"\";position: absolute;border-left: 1px solid gray;box-sizing: border-box;top: 0;bottom: 0;left: 50%;z-index: 0;}#sk-container-id-7 div.sk-serial {display: flex;flex-direction: column;align-items: center;background-color: white;padding-right: 0.2em;padding-left: 0.2em;position: relative;}#sk-container-id-7 div.sk-item {position: relative;z-index: 1;}#sk-container-id-7 div.sk-parallel {display: flex;align-items: stretch;justify-content: center;background-color: white;position: relative;}#sk-container-id-7 div.sk-item::before, #sk-container-id-7 div.sk-parallel-item::before {content: \"\";position: absolute;border-left: 1px solid gray;box-sizing: border-box;top: 0;bottom: 0;left: 50%;z-index: -1;}#sk-container-id-7 div.sk-parallel-item {display: flex;flex-direction: column;z-index: 1;position: relative;background-color: white;}#sk-container-id-7 div.sk-parallel-item:first-child::after {align-self: flex-end;width: 50%;}#sk-container-id-7 div.sk-parallel-item:last-child::after {align-self: flex-start;width: 50%;}#sk-container-id-7 div.sk-parallel-item:only-child::after {width: 0;}#sk-container-id-7 div.sk-dashed-wrapped {border: 1px dashed gray;margin: 0 0.4em 0.5em 0.4em;box-sizing: border-box;padding-bottom: 0.4em;background-color: white;}#sk-container-id-7 div.sk-label label {font-family: monospace;font-weight: bold;display: inline-block;line-height: 1.2em;}#sk-container-id-7 div.sk-label-container {text-align: center;}#sk-container-id-7 div.sk-container {/* jupyter's `normalize.less` sets `[hidden] { display: none; }` but bootstrap.min.css set `[hidden] { display: none !important; }` so we also need the `!important` here to be able to override the default hidden behavior on the sphinx rendered scikit-learn.org. See: https://github.com/scikit-learn/scikit-learn/issues/21755 */display: inline-block !important;position: relative;}#sk-container-id-7 div.sk-text-repr-fallback {display: none;}</style><div id=\"sk-container-id-7\" class=\"sk-top-container\"><div class=\"sk-text-repr-fallback\"><pre>LogisticRegression()</pre><b>In a Jupyter environment, please rerun this cell to show the HTML representation or trust the notebook. <br />On GitHub, the HTML representation is unable to render, please try loading this page with nbviewer.org.</b></div><div class=\"sk-container\" hidden><div class=\"sk-item\"><div class=\"sk-estimator sk-toggleable\"><input class=\"sk-toggleable__control sk-hidden--visually\" id=\"sk-estimator-id-7\" type=\"checkbox\" checked><label for=\"sk-estimator-id-7\" class=\"sk-toggleable__label sk-toggleable__label-arrow\">LogisticRegression</label><div class=\"sk-toggleable__content\"><pre>LogisticRegression()</pre></div></div></div></div></div>"
      ],
      "text/plain": [
       "LogisticRegression()"
      ]
     },
     "execution_count": 225,
     "metadata": {},
     "output_type": "execute_result"
    }
   ],
   "source": [
    "# instantiate and train Logistic Regression model\n",
    "log_reg_df = LogisticRegression()\n",
    "log_reg_df.fit(X_train_scaled_df, y_train_encoded_df) # fit model to data"
   ]
  },
  {
   "cell_type": "code",
   "execution_count": 226,
   "id": "b5ad3909",
   "metadata": {},
   "outputs": [],
   "source": [
    "# predict and evaluate on the test set\n",
    "pred_logr_df = log_reg_df.predict(X_test_scaled_df)"
   ]
  },
  {
   "cell_type": "code",
   "execution_count": 227,
   "id": "a96a6593",
   "metadata": {},
   "outputs": [],
   "source": [
    "# evaluate model\n",
    "accuracy_df = accuracy_score(y_test_encoded_df, pred_logr_df)\n",
    "conf_matrix_df = confusion_matrix(y_test_encoded_df, pred_logr_df)\n",
    "class_report_df = classification_report(y_test_encoded_df, pred_logr_df)"
   ]
  },
  {
   "cell_type": "code",
   "execution_count": 228,
   "id": "35c1e152",
   "metadata": {},
   "outputs": [
    {
     "name": "stdout",
     "output_type": "stream",
     "text": [
      "Accuracy: 0.6398\n",
      "Confusion Matrix:\n",
      "[[45  5 22]\n",
      " [ 2 55 25]\n",
      " [26 14 67]]\n",
      "Classification Report:\n",
      "              precision    recall  f1-score   support\n",
      "\n",
      "           0       0.62      0.62      0.62        72\n",
      "           1       0.74      0.67      0.71        82\n",
      "           2       0.59      0.63      0.61       107\n",
      "\n",
      "    accuracy                           0.64       261\n",
      "   macro avg       0.65      0.64      0.64       261\n",
      "weighted avg       0.64      0.64      0.64       261\n",
      "\n"
     ]
    }
   ],
   "source": [
    "# Print the results\n",
    "print(f\"Accuracy: {accuracy_df:.4f}\")\n",
    "print(\"Confusion Matrix:\")\n",
    "print(conf_matrix_df)\n",
    "print(\"Classification Report:\")\n",
    "print(class_report_df)"
   ]
  },
  {
   "cell_type": "markdown",
   "id": "08ae0fb3",
   "metadata": {},
   "source": [
    "#### Control Improvement- GridSearchCV, L2 and L1 Regularization"
   ]
  },
  {
   "cell_type": "code",
   "execution_count": 229,
   "id": "4f20787e",
   "metadata": {},
   "outputs": [],
   "source": [
    "from sklearn.model_selection import GridSearchCV"
   ]
  },
  {
   "cell_type": "markdown",
   "id": "ab01fa25",
   "metadata": {},
   "source": [
    "#### Lasso (L1) Regularization"
   ]
  },
  {
   "cell_type": "code",
   "execution_count": 230,
   "id": "d190d5d3",
   "metadata": {},
   "outputs": [
    {
     "data": {
      "text/html": [
       "<style>#sk-container-id-8 {color: black;}#sk-container-id-8 pre{padding: 0;}#sk-container-id-8 div.sk-toggleable {background-color: white;}#sk-container-id-8 label.sk-toggleable__label {cursor: pointer;display: block;width: 100%;margin-bottom: 0;padding: 0.3em;box-sizing: border-box;text-align: center;}#sk-container-id-8 label.sk-toggleable__label-arrow:before {content: \"▸\";float: left;margin-right: 0.25em;color: #696969;}#sk-container-id-8 label.sk-toggleable__label-arrow:hover:before {color: black;}#sk-container-id-8 div.sk-estimator:hover label.sk-toggleable__label-arrow:before {color: black;}#sk-container-id-8 div.sk-toggleable__content {max-height: 0;max-width: 0;overflow: hidden;text-align: left;background-color: #f0f8ff;}#sk-container-id-8 div.sk-toggleable__content pre {margin: 0.2em;color: black;border-radius: 0.25em;background-color: #f0f8ff;}#sk-container-id-8 input.sk-toggleable__control:checked~div.sk-toggleable__content {max-height: 200px;max-width: 100%;overflow: auto;}#sk-container-id-8 input.sk-toggleable__control:checked~label.sk-toggleable__label-arrow:before {content: \"▾\";}#sk-container-id-8 div.sk-estimator input.sk-toggleable__control:checked~label.sk-toggleable__label {background-color: #d4ebff;}#sk-container-id-8 div.sk-label input.sk-toggleable__control:checked~label.sk-toggleable__label {background-color: #d4ebff;}#sk-container-id-8 input.sk-hidden--visually {border: 0;clip: rect(1px 1px 1px 1px);clip: rect(1px, 1px, 1px, 1px);height: 1px;margin: -1px;overflow: hidden;padding: 0;position: absolute;width: 1px;}#sk-container-id-8 div.sk-estimator {font-family: monospace;background-color: #f0f8ff;border: 1px dotted black;border-radius: 0.25em;box-sizing: border-box;margin-bottom: 0.5em;}#sk-container-id-8 div.sk-estimator:hover {background-color: #d4ebff;}#sk-container-id-8 div.sk-parallel-item::after {content: \"\";width: 100%;border-bottom: 1px solid gray;flex-grow: 1;}#sk-container-id-8 div.sk-label:hover label.sk-toggleable__label {background-color: #d4ebff;}#sk-container-id-8 div.sk-serial::before {content: \"\";position: absolute;border-left: 1px solid gray;box-sizing: border-box;top: 0;bottom: 0;left: 50%;z-index: 0;}#sk-container-id-8 div.sk-serial {display: flex;flex-direction: column;align-items: center;background-color: white;padding-right: 0.2em;padding-left: 0.2em;position: relative;}#sk-container-id-8 div.sk-item {position: relative;z-index: 1;}#sk-container-id-8 div.sk-parallel {display: flex;align-items: stretch;justify-content: center;background-color: white;position: relative;}#sk-container-id-8 div.sk-item::before, #sk-container-id-8 div.sk-parallel-item::before {content: \"\";position: absolute;border-left: 1px solid gray;box-sizing: border-box;top: 0;bottom: 0;left: 50%;z-index: -1;}#sk-container-id-8 div.sk-parallel-item {display: flex;flex-direction: column;z-index: 1;position: relative;background-color: white;}#sk-container-id-8 div.sk-parallel-item:first-child::after {align-self: flex-end;width: 50%;}#sk-container-id-8 div.sk-parallel-item:last-child::after {align-self: flex-start;width: 50%;}#sk-container-id-8 div.sk-parallel-item:only-child::after {width: 0;}#sk-container-id-8 div.sk-dashed-wrapped {border: 1px dashed gray;margin: 0 0.4em 0.5em 0.4em;box-sizing: border-box;padding-bottom: 0.4em;background-color: white;}#sk-container-id-8 div.sk-label label {font-family: monospace;font-weight: bold;display: inline-block;line-height: 1.2em;}#sk-container-id-8 div.sk-label-container {text-align: center;}#sk-container-id-8 div.sk-container {/* jupyter's `normalize.less` sets `[hidden] { display: none; }` but bootstrap.min.css set `[hidden] { display: none !important; }` so we also need the `!important` here to be able to override the default hidden behavior on the sphinx rendered scikit-learn.org. See: https://github.com/scikit-learn/scikit-learn/issues/21755 */display: inline-block !important;position: relative;}#sk-container-id-8 div.sk-text-repr-fallback {display: none;}</style><div id=\"sk-container-id-8\" class=\"sk-top-container\"><div class=\"sk-text-repr-fallback\"><pre>GridSearchCV(cv=5,\n",
       "             estimator=LogisticRegression(max_iter=1000, penalty=&#x27;l1&#x27;,\n",
       "                                          solver=&#x27;liblinear&#x27;),\n",
       "             param_grid={&#x27;C&#x27;: [0.01, 0.1, 1, 10, 100]})</pre><b>In a Jupyter environment, please rerun this cell to show the HTML representation or trust the notebook. <br />On GitHub, the HTML representation is unable to render, please try loading this page with nbviewer.org.</b></div><div class=\"sk-container\" hidden><div class=\"sk-item sk-dashed-wrapped\"><div class=\"sk-label-container\"><div class=\"sk-label sk-toggleable\"><input class=\"sk-toggleable__control sk-hidden--visually\" id=\"sk-estimator-id-8\" type=\"checkbox\" ><label for=\"sk-estimator-id-8\" class=\"sk-toggleable__label sk-toggleable__label-arrow\">GridSearchCV</label><div class=\"sk-toggleable__content\"><pre>GridSearchCV(cv=5,\n",
       "             estimator=LogisticRegression(max_iter=1000, penalty=&#x27;l1&#x27;,\n",
       "                                          solver=&#x27;liblinear&#x27;),\n",
       "             param_grid={&#x27;C&#x27;: [0.01, 0.1, 1, 10, 100]})</pre></div></div></div><div class=\"sk-parallel\"><div class=\"sk-parallel-item\"><div class=\"sk-item\"><div class=\"sk-label-container\"><div class=\"sk-label sk-toggleable\"><input class=\"sk-toggleable__control sk-hidden--visually\" id=\"sk-estimator-id-9\" type=\"checkbox\" ><label for=\"sk-estimator-id-9\" class=\"sk-toggleable__label sk-toggleable__label-arrow\">estimator: LogisticRegression</label><div class=\"sk-toggleable__content\"><pre>LogisticRegression(max_iter=1000, penalty=&#x27;l1&#x27;, solver=&#x27;liblinear&#x27;)</pre></div></div></div><div class=\"sk-serial\"><div class=\"sk-item\"><div class=\"sk-estimator sk-toggleable\"><input class=\"sk-toggleable__control sk-hidden--visually\" id=\"sk-estimator-id-10\" type=\"checkbox\" ><label for=\"sk-estimator-id-10\" class=\"sk-toggleable__label sk-toggleable__label-arrow\">LogisticRegression</label><div class=\"sk-toggleable__content\"><pre>LogisticRegression(max_iter=1000, penalty=&#x27;l1&#x27;, solver=&#x27;liblinear&#x27;)</pre></div></div></div></div></div></div></div></div></div></div>"
      ],
      "text/plain": [
       "GridSearchCV(cv=5,\n",
       "             estimator=LogisticRegression(max_iter=1000, penalty='l1',\n",
       "                                          solver='liblinear'),\n",
       "             param_grid={'C': [0.01, 0.1, 1, 10, 100]})"
      ]
     },
     "execution_count": 230,
     "metadata": {},
     "output_type": "execute_result"
    }
   ],
   "source": [
    "# Lasso (L1) Regularization Tuning\n",
    "lasso_param_grid_df = {'C': [0.01, 0.1, 1, 10, 100]}\n",
    "lasso_model_df = GridSearchCV(LogisticRegression(penalty='l1', solver='liblinear', max_iter=1000), lasso_param_grid_df, cv=5)\n",
    "lasso_model_df.fit(X_train_scaled_df, y_train_encoded_df)"
   ]
  },
  {
   "cell_type": "code",
   "execution_count": 231,
   "id": "a44132a4",
   "metadata": {},
   "outputs": [
    {
     "name": "stdout",
     "output_type": "stream",
     "text": [
      "Best Lasso Regularization Parameter (C): 1\n",
      "Lasso Test Accuracy: 0.6092\n"
     ]
    }
   ],
   "source": [
    "# Evaluate Lasso\n",
    "print(\"Best Lasso Regularization Parameter (C):\", lasso_model_df.best_params_['C'])\n",
    "lasso_accuracy_df = lasso_model_df.best_estimator_.score(X_test_scaled_df, y_test_encoded_df)\n",
    "print(f\"Lasso Test Accuracy: {lasso_accuracy_df:.4f}\")"
   ]
  },
  {
   "cell_type": "markdown",
   "id": "b36e6f91",
   "metadata": {},
   "source": [
    "#### Ridge (L2) Regularization"
   ]
  },
  {
   "cell_type": "code",
   "execution_count": 232,
   "id": "055033a3",
   "metadata": {},
   "outputs": [
    {
     "data": {
      "text/html": [
       "<style>#sk-container-id-9 {color: black;}#sk-container-id-9 pre{padding: 0;}#sk-container-id-9 div.sk-toggleable {background-color: white;}#sk-container-id-9 label.sk-toggleable__label {cursor: pointer;display: block;width: 100%;margin-bottom: 0;padding: 0.3em;box-sizing: border-box;text-align: center;}#sk-container-id-9 label.sk-toggleable__label-arrow:before {content: \"▸\";float: left;margin-right: 0.25em;color: #696969;}#sk-container-id-9 label.sk-toggleable__label-arrow:hover:before {color: black;}#sk-container-id-9 div.sk-estimator:hover label.sk-toggleable__label-arrow:before {color: black;}#sk-container-id-9 div.sk-toggleable__content {max-height: 0;max-width: 0;overflow: hidden;text-align: left;background-color: #f0f8ff;}#sk-container-id-9 div.sk-toggleable__content pre {margin: 0.2em;color: black;border-radius: 0.25em;background-color: #f0f8ff;}#sk-container-id-9 input.sk-toggleable__control:checked~div.sk-toggleable__content {max-height: 200px;max-width: 100%;overflow: auto;}#sk-container-id-9 input.sk-toggleable__control:checked~label.sk-toggleable__label-arrow:before {content: \"▾\";}#sk-container-id-9 div.sk-estimator input.sk-toggleable__control:checked~label.sk-toggleable__label {background-color: #d4ebff;}#sk-container-id-9 div.sk-label input.sk-toggleable__control:checked~label.sk-toggleable__label {background-color: #d4ebff;}#sk-container-id-9 input.sk-hidden--visually {border: 0;clip: rect(1px 1px 1px 1px);clip: rect(1px, 1px, 1px, 1px);height: 1px;margin: -1px;overflow: hidden;padding: 0;position: absolute;width: 1px;}#sk-container-id-9 div.sk-estimator {font-family: monospace;background-color: #f0f8ff;border: 1px dotted black;border-radius: 0.25em;box-sizing: border-box;margin-bottom: 0.5em;}#sk-container-id-9 div.sk-estimator:hover {background-color: #d4ebff;}#sk-container-id-9 div.sk-parallel-item::after {content: \"\";width: 100%;border-bottom: 1px solid gray;flex-grow: 1;}#sk-container-id-9 div.sk-label:hover label.sk-toggleable__label {background-color: #d4ebff;}#sk-container-id-9 div.sk-serial::before {content: \"\";position: absolute;border-left: 1px solid gray;box-sizing: border-box;top: 0;bottom: 0;left: 50%;z-index: 0;}#sk-container-id-9 div.sk-serial {display: flex;flex-direction: column;align-items: center;background-color: white;padding-right: 0.2em;padding-left: 0.2em;position: relative;}#sk-container-id-9 div.sk-item {position: relative;z-index: 1;}#sk-container-id-9 div.sk-parallel {display: flex;align-items: stretch;justify-content: center;background-color: white;position: relative;}#sk-container-id-9 div.sk-item::before, #sk-container-id-9 div.sk-parallel-item::before {content: \"\";position: absolute;border-left: 1px solid gray;box-sizing: border-box;top: 0;bottom: 0;left: 50%;z-index: -1;}#sk-container-id-9 div.sk-parallel-item {display: flex;flex-direction: column;z-index: 1;position: relative;background-color: white;}#sk-container-id-9 div.sk-parallel-item:first-child::after {align-self: flex-end;width: 50%;}#sk-container-id-9 div.sk-parallel-item:last-child::after {align-self: flex-start;width: 50%;}#sk-container-id-9 div.sk-parallel-item:only-child::after {width: 0;}#sk-container-id-9 div.sk-dashed-wrapped {border: 1px dashed gray;margin: 0 0.4em 0.5em 0.4em;box-sizing: border-box;padding-bottom: 0.4em;background-color: white;}#sk-container-id-9 div.sk-label label {font-family: monospace;font-weight: bold;display: inline-block;line-height: 1.2em;}#sk-container-id-9 div.sk-label-container {text-align: center;}#sk-container-id-9 div.sk-container {/* jupyter's `normalize.less` sets `[hidden] { display: none; }` but bootstrap.min.css set `[hidden] { display: none !important; }` so we also need the `!important` here to be able to override the default hidden behavior on the sphinx rendered scikit-learn.org. See: https://github.com/scikit-learn/scikit-learn/issues/21755 */display: inline-block !important;position: relative;}#sk-container-id-9 div.sk-text-repr-fallback {display: none;}</style><div id=\"sk-container-id-9\" class=\"sk-top-container\"><div class=\"sk-text-repr-fallback\"><pre>GridSearchCV(cv=5, estimator=LogisticRegression(max_iter=1000),\n",
       "             param_grid={&#x27;C&#x27;: [0.01, 0.1, 1, 10, 100]})</pre><b>In a Jupyter environment, please rerun this cell to show the HTML representation or trust the notebook. <br />On GitHub, the HTML representation is unable to render, please try loading this page with nbviewer.org.</b></div><div class=\"sk-container\" hidden><div class=\"sk-item sk-dashed-wrapped\"><div class=\"sk-label-container\"><div class=\"sk-label sk-toggleable\"><input class=\"sk-toggleable__control sk-hidden--visually\" id=\"sk-estimator-id-11\" type=\"checkbox\" ><label for=\"sk-estimator-id-11\" class=\"sk-toggleable__label sk-toggleable__label-arrow\">GridSearchCV</label><div class=\"sk-toggleable__content\"><pre>GridSearchCV(cv=5, estimator=LogisticRegression(max_iter=1000),\n",
       "             param_grid={&#x27;C&#x27;: [0.01, 0.1, 1, 10, 100]})</pre></div></div></div><div class=\"sk-parallel\"><div class=\"sk-parallel-item\"><div class=\"sk-item\"><div class=\"sk-label-container\"><div class=\"sk-label sk-toggleable\"><input class=\"sk-toggleable__control sk-hidden--visually\" id=\"sk-estimator-id-12\" type=\"checkbox\" ><label for=\"sk-estimator-id-12\" class=\"sk-toggleable__label sk-toggleable__label-arrow\">estimator: LogisticRegression</label><div class=\"sk-toggleable__content\"><pre>LogisticRegression(max_iter=1000)</pre></div></div></div><div class=\"sk-serial\"><div class=\"sk-item\"><div class=\"sk-estimator sk-toggleable\"><input class=\"sk-toggleable__control sk-hidden--visually\" id=\"sk-estimator-id-13\" type=\"checkbox\" ><label for=\"sk-estimator-id-13\" class=\"sk-toggleable__label sk-toggleable__label-arrow\">LogisticRegression</label><div class=\"sk-toggleable__content\"><pre>LogisticRegression(max_iter=1000)</pre></div></div></div></div></div></div></div></div></div></div>"
      ],
      "text/plain": [
       "GridSearchCV(cv=5, estimator=LogisticRegression(max_iter=1000),\n",
       "             param_grid={'C': [0.01, 0.1, 1, 10, 100]})"
      ]
     },
     "execution_count": 232,
     "metadata": {},
     "output_type": "execute_result"
    }
   ],
   "source": [
    "# Ridge (L2) Regularization Tuning\n",
    "ridge_param_grid_df = {'C': [0.01, 0.1, 1, 10, 100]}  # Regularization strengths\n",
    "ridge_model_df = GridSearchCV(LogisticRegression(penalty='l2', solver='lbfgs', max_iter=1000), ridge_param_grid_df, cv=5)\n",
    "ridge_model_df.fit(X_train_scaled_df, y_train_encoded_df)"
   ]
  },
  {
   "cell_type": "code",
   "execution_count": 233,
   "id": "bb020482",
   "metadata": {},
   "outputs": [
    {
     "name": "stdout",
     "output_type": "stream",
     "text": [
      "Best Ridge Regularization Parameter (C): 10\n",
      "Ridge Test Accuracy: 0.6475\n"
     ]
    }
   ],
   "source": [
    "# Evaluate Ridge\n",
    "print(\"Best Ridge Regularization Parameter (C):\", ridge_model_df.best_params_['C'])\n",
    "ridge_accuracy_df = ridge_model_df.best_estimator_.score(X_test_scaled_df, y_test_encoded_df)\n",
    "print(f\"Ridge Test Accuracy: {ridge_accuracy_df:.4f}\")"
   ]
  },
  {
   "cell_type": "markdown",
   "id": "ec0a13e1",
   "metadata": {},
   "source": [
    "### Food Access"
   ]
  },
  {
   "cell_type": "code",
   "execution_count": 235,
   "id": "e164b352",
   "metadata": {},
   "outputs": [],
   "source": [
    "# transform y using LabelEncoder\n",
    "le_fa = LabelEncoder()\n",
    "y_train_encoded_fa = le_fa.fit_transform(y_train_fa)\n",
    "y_test_encoded_fa = le_fa.transform(y_test_fa)"
   ]
  },
  {
   "cell_type": "code",
   "execution_count": 236,
   "id": "539425aa",
   "metadata": {},
   "outputs": [],
   "source": [
    "# scale X using StandardScaler\n",
    "scaler_fa = StandardScaler()\n",
    "X_train_scaled_fa = scaler_fa.fit_transform(X_train_fa)\n",
    "X_test_scaled_fa = scaler_fa.transform(X_test_fa)"
   ]
  },
  {
   "cell_type": "code",
   "execution_count": 237,
   "id": "2a81e7cb",
   "metadata": {},
   "outputs": [
    {
     "data": {
      "text/html": [
       "<style>#sk-container-id-10 {color: black;}#sk-container-id-10 pre{padding: 0;}#sk-container-id-10 div.sk-toggleable {background-color: white;}#sk-container-id-10 label.sk-toggleable__label {cursor: pointer;display: block;width: 100%;margin-bottom: 0;padding: 0.3em;box-sizing: border-box;text-align: center;}#sk-container-id-10 label.sk-toggleable__label-arrow:before {content: \"▸\";float: left;margin-right: 0.25em;color: #696969;}#sk-container-id-10 label.sk-toggleable__label-arrow:hover:before {color: black;}#sk-container-id-10 div.sk-estimator:hover label.sk-toggleable__label-arrow:before {color: black;}#sk-container-id-10 div.sk-toggleable__content {max-height: 0;max-width: 0;overflow: hidden;text-align: left;background-color: #f0f8ff;}#sk-container-id-10 div.sk-toggleable__content pre {margin: 0.2em;color: black;border-radius: 0.25em;background-color: #f0f8ff;}#sk-container-id-10 input.sk-toggleable__control:checked~div.sk-toggleable__content {max-height: 200px;max-width: 100%;overflow: auto;}#sk-container-id-10 input.sk-toggleable__control:checked~label.sk-toggleable__label-arrow:before {content: \"▾\";}#sk-container-id-10 div.sk-estimator input.sk-toggleable__control:checked~label.sk-toggleable__label {background-color: #d4ebff;}#sk-container-id-10 div.sk-label input.sk-toggleable__control:checked~label.sk-toggleable__label {background-color: #d4ebff;}#sk-container-id-10 input.sk-hidden--visually {border: 0;clip: rect(1px 1px 1px 1px);clip: rect(1px, 1px, 1px, 1px);height: 1px;margin: -1px;overflow: hidden;padding: 0;position: absolute;width: 1px;}#sk-container-id-10 div.sk-estimator {font-family: monospace;background-color: #f0f8ff;border: 1px dotted black;border-radius: 0.25em;box-sizing: border-box;margin-bottom: 0.5em;}#sk-container-id-10 div.sk-estimator:hover {background-color: #d4ebff;}#sk-container-id-10 div.sk-parallel-item::after {content: \"\";width: 100%;border-bottom: 1px solid gray;flex-grow: 1;}#sk-container-id-10 div.sk-label:hover label.sk-toggleable__label {background-color: #d4ebff;}#sk-container-id-10 div.sk-serial::before {content: \"\";position: absolute;border-left: 1px solid gray;box-sizing: border-box;top: 0;bottom: 0;left: 50%;z-index: 0;}#sk-container-id-10 div.sk-serial {display: flex;flex-direction: column;align-items: center;background-color: white;padding-right: 0.2em;padding-left: 0.2em;position: relative;}#sk-container-id-10 div.sk-item {position: relative;z-index: 1;}#sk-container-id-10 div.sk-parallel {display: flex;align-items: stretch;justify-content: center;background-color: white;position: relative;}#sk-container-id-10 div.sk-item::before, #sk-container-id-10 div.sk-parallel-item::before {content: \"\";position: absolute;border-left: 1px solid gray;box-sizing: border-box;top: 0;bottom: 0;left: 50%;z-index: -1;}#sk-container-id-10 div.sk-parallel-item {display: flex;flex-direction: column;z-index: 1;position: relative;background-color: white;}#sk-container-id-10 div.sk-parallel-item:first-child::after {align-self: flex-end;width: 50%;}#sk-container-id-10 div.sk-parallel-item:last-child::after {align-self: flex-start;width: 50%;}#sk-container-id-10 div.sk-parallel-item:only-child::after {width: 0;}#sk-container-id-10 div.sk-dashed-wrapped {border: 1px dashed gray;margin: 0 0.4em 0.5em 0.4em;box-sizing: border-box;padding-bottom: 0.4em;background-color: white;}#sk-container-id-10 div.sk-label label {font-family: monospace;font-weight: bold;display: inline-block;line-height: 1.2em;}#sk-container-id-10 div.sk-label-container {text-align: center;}#sk-container-id-10 div.sk-container {/* jupyter's `normalize.less` sets `[hidden] { display: none; }` but bootstrap.min.css set `[hidden] { display: none !important; }` so we also need the `!important` here to be able to override the default hidden behavior on the sphinx rendered scikit-learn.org. See: https://github.com/scikit-learn/scikit-learn/issues/21755 */display: inline-block !important;position: relative;}#sk-container-id-10 div.sk-text-repr-fallback {display: none;}</style><div id=\"sk-container-id-10\" class=\"sk-top-container\"><div class=\"sk-text-repr-fallback\"><pre>LogisticRegression()</pre><b>In a Jupyter environment, please rerun this cell to show the HTML representation or trust the notebook. <br />On GitHub, the HTML representation is unable to render, please try loading this page with nbviewer.org.</b></div><div class=\"sk-container\" hidden><div class=\"sk-item\"><div class=\"sk-estimator sk-toggleable\"><input class=\"sk-toggleable__control sk-hidden--visually\" id=\"sk-estimator-id-14\" type=\"checkbox\" checked><label for=\"sk-estimator-id-14\" class=\"sk-toggleable__label sk-toggleable__label-arrow\">LogisticRegression</label><div class=\"sk-toggleable__content\"><pre>LogisticRegression()</pre></div></div></div></div></div>"
      ],
      "text/plain": [
       "LogisticRegression()"
      ]
     },
     "execution_count": 237,
     "metadata": {},
     "output_type": "execute_result"
    }
   ],
   "source": [
    "# instantiate and train Logistic Regression model\n",
    "log_reg_fa = LogisticRegression()\n",
    "log_reg_fa.fit(X_train_scaled_fa, y_train_encoded_fa) # fit model to data"
   ]
  },
  {
   "cell_type": "code",
   "execution_count": 238,
   "id": "e3b7e7d5",
   "metadata": {},
   "outputs": [],
   "source": [
    "# predict and evaluate on the test set\n",
    "pred_logr_fa = log_reg_fa.predict(X_test_scaled_fa)"
   ]
  },
  {
   "cell_type": "code",
   "execution_count": 239,
   "id": "4e95b73b",
   "metadata": {},
   "outputs": [],
   "source": [
    "# evaluate model\n",
    "accuracy_fa = accuracy_score(y_test_encoded_fa, pred_logr_fa)\n",
    "conf_matrix_fa = confusion_matrix(y_test_encoded_fa, pred_logr_fa)\n",
    "class_report_fa = classification_report(y_test_encoded_fa, pred_logr_fa)"
   ]
  },
  {
   "cell_type": "code",
   "execution_count": 240,
   "id": "e8c9bd45",
   "metadata": {},
   "outputs": [
    {
     "name": "stdout",
     "output_type": "stream",
     "text": [
      "Accuracy: 0.6360\n",
      "Confusion Matrix:\n",
      "[[45  5 22]\n",
      " [ 2 54 26]\n",
      " [26 14 67]]\n",
      "Classification Report:\n",
      "              precision    recall  f1-score   support\n",
      "\n",
      "           0       0.62      0.62      0.62        72\n",
      "           1       0.74      0.66      0.70        82\n",
      "           2       0.58      0.63      0.60       107\n",
      "\n",
      "    accuracy                           0.64       261\n",
      "   macro avg       0.65      0.64      0.64       261\n",
      "weighted avg       0.64      0.64      0.64       261\n",
      "\n"
     ]
    }
   ],
   "source": [
    "# Print the results\n",
    "print(f\"Accuracy: {accuracy_fa:.4f}\")\n",
    "print(\"Confusion Matrix:\")\n",
    "print(conf_matrix_fa)\n",
    "print(\"Classification Report:\")\n",
    "print(class_report_fa)"
   ]
  },
  {
   "cell_type": "markdown",
   "id": "813784e1",
   "metadata": {},
   "source": [
    "#### Food Access Improvement- GridSearchCV, L2 and L1 Regularization"
   ]
  },
  {
   "cell_type": "code",
   "execution_count": 241,
   "id": "e2d09708",
   "metadata": {},
   "outputs": [],
   "source": [
    "from sklearn.model_selection import GridSearchCV"
   ]
  },
  {
   "cell_type": "markdown",
   "id": "9e9d37a9",
   "metadata": {},
   "source": [
    "#### Lasso (L1) regularization"
   ]
  },
  {
   "cell_type": "code",
   "execution_count": 242,
   "id": "202a78e8",
   "metadata": {},
   "outputs": [
    {
     "data": {
      "text/html": [
       "<style>#sk-container-id-11 {color: black;}#sk-container-id-11 pre{padding: 0;}#sk-container-id-11 div.sk-toggleable {background-color: white;}#sk-container-id-11 label.sk-toggleable__label {cursor: pointer;display: block;width: 100%;margin-bottom: 0;padding: 0.3em;box-sizing: border-box;text-align: center;}#sk-container-id-11 label.sk-toggleable__label-arrow:before {content: \"▸\";float: left;margin-right: 0.25em;color: #696969;}#sk-container-id-11 label.sk-toggleable__label-arrow:hover:before {color: black;}#sk-container-id-11 div.sk-estimator:hover label.sk-toggleable__label-arrow:before {color: black;}#sk-container-id-11 div.sk-toggleable__content {max-height: 0;max-width: 0;overflow: hidden;text-align: left;background-color: #f0f8ff;}#sk-container-id-11 div.sk-toggleable__content pre {margin: 0.2em;color: black;border-radius: 0.25em;background-color: #f0f8ff;}#sk-container-id-11 input.sk-toggleable__control:checked~div.sk-toggleable__content {max-height: 200px;max-width: 100%;overflow: auto;}#sk-container-id-11 input.sk-toggleable__control:checked~label.sk-toggleable__label-arrow:before {content: \"▾\";}#sk-container-id-11 div.sk-estimator input.sk-toggleable__control:checked~label.sk-toggleable__label {background-color: #d4ebff;}#sk-container-id-11 div.sk-label input.sk-toggleable__control:checked~label.sk-toggleable__label {background-color: #d4ebff;}#sk-container-id-11 input.sk-hidden--visually {border: 0;clip: rect(1px 1px 1px 1px);clip: rect(1px, 1px, 1px, 1px);height: 1px;margin: -1px;overflow: hidden;padding: 0;position: absolute;width: 1px;}#sk-container-id-11 div.sk-estimator {font-family: monospace;background-color: #f0f8ff;border: 1px dotted black;border-radius: 0.25em;box-sizing: border-box;margin-bottom: 0.5em;}#sk-container-id-11 div.sk-estimator:hover {background-color: #d4ebff;}#sk-container-id-11 div.sk-parallel-item::after {content: \"\";width: 100%;border-bottom: 1px solid gray;flex-grow: 1;}#sk-container-id-11 div.sk-label:hover label.sk-toggleable__label {background-color: #d4ebff;}#sk-container-id-11 div.sk-serial::before {content: \"\";position: absolute;border-left: 1px solid gray;box-sizing: border-box;top: 0;bottom: 0;left: 50%;z-index: 0;}#sk-container-id-11 div.sk-serial {display: flex;flex-direction: column;align-items: center;background-color: white;padding-right: 0.2em;padding-left: 0.2em;position: relative;}#sk-container-id-11 div.sk-item {position: relative;z-index: 1;}#sk-container-id-11 div.sk-parallel {display: flex;align-items: stretch;justify-content: center;background-color: white;position: relative;}#sk-container-id-11 div.sk-item::before, #sk-container-id-11 div.sk-parallel-item::before {content: \"\";position: absolute;border-left: 1px solid gray;box-sizing: border-box;top: 0;bottom: 0;left: 50%;z-index: -1;}#sk-container-id-11 div.sk-parallel-item {display: flex;flex-direction: column;z-index: 1;position: relative;background-color: white;}#sk-container-id-11 div.sk-parallel-item:first-child::after {align-self: flex-end;width: 50%;}#sk-container-id-11 div.sk-parallel-item:last-child::after {align-self: flex-start;width: 50%;}#sk-container-id-11 div.sk-parallel-item:only-child::after {width: 0;}#sk-container-id-11 div.sk-dashed-wrapped {border: 1px dashed gray;margin: 0 0.4em 0.5em 0.4em;box-sizing: border-box;padding-bottom: 0.4em;background-color: white;}#sk-container-id-11 div.sk-label label {font-family: monospace;font-weight: bold;display: inline-block;line-height: 1.2em;}#sk-container-id-11 div.sk-label-container {text-align: center;}#sk-container-id-11 div.sk-container {/* jupyter's `normalize.less` sets `[hidden] { display: none; }` but bootstrap.min.css set `[hidden] { display: none !important; }` so we also need the `!important` here to be able to override the default hidden behavior on the sphinx rendered scikit-learn.org. See: https://github.com/scikit-learn/scikit-learn/issues/21755 */display: inline-block !important;position: relative;}#sk-container-id-11 div.sk-text-repr-fallback {display: none;}</style><div id=\"sk-container-id-11\" class=\"sk-top-container\"><div class=\"sk-text-repr-fallback\"><pre>GridSearchCV(cv=5,\n",
       "             estimator=LogisticRegression(max_iter=1000, penalty=&#x27;l1&#x27;,\n",
       "                                          solver=&#x27;liblinear&#x27;),\n",
       "             param_grid={&#x27;C&#x27;: [0.01, 0.1, 1, 10, 100]})</pre><b>In a Jupyter environment, please rerun this cell to show the HTML representation or trust the notebook. <br />On GitHub, the HTML representation is unable to render, please try loading this page with nbviewer.org.</b></div><div class=\"sk-container\" hidden><div class=\"sk-item sk-dashed-wrapped\"><div class=\"sk-label-container\"><div class=\"sk-label sk-toggleable\"><input class=\"sk-toggleable__control sk-hidden--visually\" id=\"sk-estimator-id-15\" type=\"checkbox\" ><label for=\"sk-estimator-id-15\" class=\"sk-toggleable__label sk-toggleable__label-arrow\">GridSearchCV</label><div class=\"sk-toggleable__content\"><pre>GridSearchCV(cv=5,\n",
       "             estimator=LogisticRegression(max_iter=1000, penalty=&#x27;l1&#x27;,\n",
       "                                          solver=&#x27;liblinear&#x27;),\n",
       "             param_grid={&#x27;C&#x27;: [0.01, 0.1, 1, 10, 100]})</pre></div></div></div><div class=\"sk-parallel\"><div class=\"sk-parallel-item\"><div class=\"sk-item\"><div class=\"sk-label-container\"><div class=\"sk-label sk-toggleable\"><input class=\"sk-toggleable__control sk-hidden--visually\" id=\"sk-estimator-id-16\" type=\"checkbox\" ><label for=\"sk-estimator-id-16\" class=\"sk-toggleable__label sk-toggleable__label-arrow\">estimator: LogisticRegression</label><div class=\"sk-toggleable__content\"><pre>LogisticRegression(max_iter=1000, penalty=&#x27;l1&#x27;, solver=&#x27;liblinear&#x27;)</pre></div></div></div><div class=\"sk-serial\"><div class=\"sk-item\"><div class=\"sk-estimator sk-toggleable\"><input class=\"sk-toggleable__control sk-hidden--visually\" id=\"sk-estimator-id-17\" type=\"checkbox\" ><label for=\"sk-estimator-id-17\" class=\"sk-toggleable__label sk-toggleable__label-arrow\">LogisticRegression</label><div class=\"sk-toggleable__content\"><pre>LogisticRegression(max_iter=1000, penalty=&#x27;l1&#x27;, solver=&#x27;liblinear&#x27;)</pre></div></div></div></div></div></div></div></div></div></div>"
      ],
      "text/plain": [
       "GridSearchCV(cv=5,\n",
       "             estimator=LogisticRegression(max_iter=1000, penalty='l1',\n",
       "                                          solver='liblinear'),\n",
       "             param_grid={'C': [0.01, 0.1, 1, 10, 100]})"
      ]
     },
     "execution_count": 242,
     "metadata": {},
     "output_type": "execute_result"
    }
   ],
   "source": [
    "# Lasso (L1) Regularization Tuning\n",
    "lasso_param_grid_fa = {'C': [0.01, 0.1, 1, 10, 100]}\n",
    "lasso_model_fa = GridSearchCV(LogisticRegression(penalty='l1', solver='liblinear', max_iter=1000), lasso_param_grid_fa, cv=5)\n",
    "lasso_model_fa.fit(X_train_scaled_fa, y_train_encoded_fa)"
   ]
  },
  {
   "cell_type": "code",
   "execution_count": 243,
   "id": "add5f36f",
   "metadata": {},
   "outputs": [
    {
     "name": "stdout",
     "output_type": "stream",
     "text": [
      "Best Lasso Regularization Parameter (C): 1\n",
      "Lasso Test Accuracy: 0.6054\n"
     ]
    }
   ],
   "source": [
    "# Evaluate Lasso\n",
    "print(\"Best Lasso Regularization Parameter (C):\", lasso_model_fa.best_params_['C'])\n",
    "lasso_accuracy_fa = lasso_model_fa.best_estimator_.score(X_test_scaled_fa, y_test_encoded_fa)\n",
    "print(f\"Lasso Test Accuracy: {lasso_accuracy_fa:.4f}\")"
   ]
  },
  {
   "cell_type": "markdown",
   "id": "e6aa1e89",
   "metadata": {},
   "source": [
    "#### Ridge (L2) regularization"
   ]
  },
  {
   "cell_type": "code",
   "execution_count": 244,
   "id": "905978a6",
   "metadata": {},
   "outputs": [
    {
     "data": {
      "text/html": [
       "<style>#sk-container-id-12 {color: black;}#sk-container-id-12 pre{padding: 0;}#sk-container-id-12 div.sk-toggleable {background-color: white;}#sk-container-id-12 label.sk-toggleable__label {cursor: pointer;display: block;width: 100%;margin-bottom: 0;padding: 0.3em;box-sizing: border-box;text-align: center;}#sk-container-id-12 label.sk-toggleable__label-arrow:before {content: \"▸\";float: left;margin-right: 0.25em;color: #696969;}#sk-container-id-12 label.sk-toggleable__label-arrow:hover:before {color: black;}#sk-container-id-12 div.sk-estimator:hover label.sk-toggleable__label-arrow:before {color: black;}#sk-container-id-12 div.sk-toggleable__content {max-height: 0;max-width: 0;overflow: hidden;text-align: left;background-color: #f0f8ff;}#sk-container-id-12 div.sk-toggleable__content pre {margin: 0.2em;color: black;border-radius: 0.25em;background-color: #f0f8ff;}#sk-container-id-12 input.sk-toggleable__control:checked~div.sk-toggleable__content {max-height: 200px;max-width: 100%;overflow: auto;}#sk-container-id-12 input.sk-toggleable__control:checked~label.sk-toggleable__label-arrow:before {content: \"▾\";}#sk-container-id-12 div.sk-estimator input.sk-toggleable__control:checked~label.sk-toggleable__label {background-color: #d4ebff;}#sk-container-id-12 div.sk-label input.sk-toggleable__control:checked~label.sk-toggleable__label {background-color: #d4ebff;}#sk-container-id-12 input.sk-hidden--visually {border: 0;clip: rect(1px 1px 1px 1px);clip: rect(1px, 1px, 1px, 1px);height: 1px;margin: -1px;overflow: hidden;padding: 0;position: absolute;width: 1px;}#sk-container-id-12 div.sk-estimator {font-family: monospace;background-color: #f0f8ff;border: 1px dotted black;border-radius: 0.25em;box-sizing: border-box;margin-bottom: 0.5em;}#sk-container-id-12 div.sk-estimator:hover {background-color: #d4ebff;}#sk-container-id-12 div.sk-parallel-item::after {content: \"\";width: 100%;border-bottom: 1px solid gray;flex-grow: 1;}#sk-container-id-12 div.sk-label:hover label.sk-toggleable__label {background-color: #d4ebff;}#sk-container-id-12 div.sk-serial::before {content: \"\";position: absolute;border-left: 1px solid gray;box-sizing: border-box;top: 0;bottom: 0;left: 50%;z-index: 0;}#sk-container-id-12 div.sk-serial {display: flex;flex-direction: column;align-items: center;background-color: white;padding-right: 0.2em;padding-left: 0.2em;position: relative;}#sk-container-id-12 div.sk-item {position: relative;z-index: 1;}#sk-container-id-12 div.sk-parallel {display: flex;align-items: stretch;justify-content: center;background-color: white;position: relative;}#sk-container-id-12 div.sk-item::before, #sk-container-id-12 div.sk-parallel-item::before {content: \"\";position: absolute;border-left: 1px solid gray;box-sizing: border-box;top: 0;bottom: 0;left: 50%;z-index: -1;}#sk-container-id-12 div.sk-parallel-item {display: flex;flex-direction: column;z-index: 1;position: relative;background-color: white;}#sk-container-id-12 div.sk-parallel-item:first-child::after {align-self: flex-end;width: 50%;}#sk-container-id-12 div.sk-parallel-item:last-child::after {align-self: flex-start;width: 50%;}#sk-container-id-12 div.sk-parallel-item:only-child::after {width: 0;}#sk-container-id-12 div.sk-dashed-wrapped {border: 1px dashed gray;margin: 0 0.4em 0.5em 0.4em;box-sizing: border-box;padding-bottom: 0.4em;background-color: white;}#sk-container-id-12 div.sk-label label {font-family: monospace;font-weight: bold;display: inline-block;line-height: 1.2em;}#sk-container-id-12 div.sk-label-container {text-align: center;}#sk-container-id-12 div.sk-container {/* jupyter's `normalize.less` sets `[hidden] { display: none; }` but bootstrap.min.css set `[hidden] { display: none !important; }` so we also need the `!important` here to be able to override the default hidden behavior on the sphinx rendered scikit-learn.org. See: https://github.com/scikit-learn/scikit-learn/issues/21755 */display: inline-block !important;position: relative;}#sk-container-id-12 div.sk-text-repr-fallback {display: none;}</style><div id=\"sk-container-id-12\" class=\"sk-top-container\"><div class=\"sk-text-repr-fallback\"><pre>GridSearchCV(cv=5, estimator=LogisticRegression(max_iter=1000),\n",
       "             param_grid={&#x27;C&#x27;: [0.01, 0.1, 1, 10, 100]})</pre><b>In a Jupyter environment, please rerun this cell to show the HTML representation or trust the notebook. <br />On GitHub, the HTML representation is unable to render, please try loading this page with nbviewer.org.</b></div><div class=\"sk-container\" hidden><div class=\"sk-item sk-dashed-wrapped\"><div class=\"sk-label-container\"><div class=\"sk-label sk-toggleable\"><input class=\"sk-toggleable__control sk-hidden--visually\" id=\"sk-estimator-id-18\" type=\"checkbox\" ><label for=\"sk-estimator-id-18\" class=\"sk-toggleable__label sk-toggleable__label-arrow\">GridSearchCV</label><div class=\"sk-toggleable__content\"><pre>GridSearchCV(cv=5, estimator=LogisticRegression(max_iter=1000),\n",
       "             param_grid={&#x27;C&#x27;: [0.01, 0.1, 1, 10, 100]})</pre></div></div></div><div class=\"sk-parallel\"><div class=\"sk-parallel-item\"><div class=\"sk-item\"><div class=\"sk-label-container\"><div class=\"sk-label sk-toggleable\"><input class=\"sk-toggleable__control sk-hidden--visually\" id=\"sk-estimator-id-19\" type=\"checkbox\" ><label for=\"sk-estimator-id-19\" class=\"sk-toggleable__label sk-toggleable__label-arrow\">estimator: LogisticRegression</label><div class=\"sk-toggleable__content\"><pre>LogisticRegression(max_iter=1000)</pre></div></div></div><div class=\"sk-serial\"><div class=\"sk-item\"><div class=\"sk-estimator sk-toggleable\"><input class=\"sk-toggleable__control sk-hidden--visually\" id=\"sk-estimator-id-20\" type=\"checkbox\" ><label for=\"sk-estimator-id-20\" class=\"sk-toggleable__label sk-toggleable__label-arrow\">LogisticRegression</label><div class=\"sk-toggleable__content\"><pre>LogisticRegression(max_iter=1000)</pre></div></div></div></div></div></div></div></div></div></div>"
      ],
      "text/plain": [
       "GridSearchCV(cv=5, estimator=LogisticRegression(max_iter=1000),\n",
       "             param_grid={'C': [0.01, 0.1, 1, 10, 100]})"
      ]
     },
     "execution_count": 244,
     "metadata": {},
     "output_type": "execute_result"
    }
   ],
   "source": [
    "# Ridge (L2) Regularization Tuning\n",
    "ridge_param_grid_fa = {'C': [0.01, 0.1, 1, 10, 100]}  # Regularization strengths\n",
    "ridge_model_fa = GridSearchCV(LogisticRegression(penalty='l2', solver='lbfgs', max_iter=1000), ridge_param_grid_fa, cv=5)\n",
    "ridge_model_fa.fit(X_train_scaled_fa, y_train_encoded_fa)"
   ]
  },
  {
   "cell_type": "code",
   "execution_count": 245,
   "id": "ff999bd2",
   "metadata": {},
   "outputs": [
    {
     "name": "stdout",
     "output_type": "stream",
     "text": [
      "Best Ridge Regularization Parameter (C): 100\n",
      "Ridge Test Accuracy: 0.6475\n"
     ]
    }
   ],
   "source": [
    "# Evaluate Ridge\n",
    "print(\"Best Ridge Regularization Parameter (C):\", ridge_model_fa.best_params_['C'])\n",
    "ridge_accuracy_fa = ridge_model_fa.best_estimator_.score(X_test_scaled_fa, y_test_encoded_fa)\n",
    "print(f\"Ridge Test Accuracy: {ridge_accuracy_fa:.4f}\")"
   ]
  },
  {
   "cell_type": "markdown",
   "id": "7d27e629",
   "metadata": {},
   "source": [
    "## Model 7- KMeans Clustering"
   ]
  },
  {
   "cell_type": "code",
   "execution_count": 246,
   "id": "ddc18bae",
   "metadata": {},
   "outputs": [],
   "source": [
    "import os\n",
    "\n",
    "# Set the number of threads to 7 (or another suitable number)\n",
    "os.environ[\"OMP_NUM_THREADS\"] = '7'"
   ]
  },
  {
   "cell_type": "code",
   "execution_count": 247,
   "id": "a36a4d6b",
   "metadata": {},
   "outputs": [],
   "source": [
    "from sklearn.cluster import KMeans\n",
    "from sklearn.metrics import silhouette_score\n",
    "from sklearn.preprocessing import StandardScaler"
   ]
  },
  {
   "cell_type": "markdown",
   "id": "4da0e280",
   "metadata": {},
   "source": [
    "### Control"
   ]
  },
  {
   "cell_type": "code",
   "execution_count": 248,
   "id": "d08a28bf",
   "metadata": {},
   "outputs": [],
   "source": [
    "# scale X for KMeans (y is not needed)\n",
    "scaler_df = StandardScaler()\n",
    "X_train_scaled_df = scaler_df.fit_transform(X_train_df)\n",
    "X_test_scaled_df = scaler_df.transform(X_test_df)"
   ]
  },
  {
   "cell_type": "code",
   "execution_count": 249,
   "id": "3847e3e6",
   "metadata": {},
   "outputs": [
    {
     "name": "stderr",
     "output_type": "stream",
     "text": [
      "C:\\Users\\kreda\\anaconda3\\Lib\\site-packages\\sklearn\\cluster\\_kmeans.py:1436: UserWarning: KMeans is known to have a memory leak on Windows with MKL, when there are less chunks than available threads. You can avoid it by setting the environment variable OMP_NUM_THREADS=3.\n",
      "  warnings.warn(\n"
     ]
    },
    {
     "data": {
      "text/html": [
       "<style>#sk-container-id-13 {color: black;}#sk-container-id-13 pre{padding: 0;}#sk-container-id-13 div.sk-toggleable {background-color: white;}#sk-container-id-13 label.sk-toggleable__label {cursor: pointer;display: block;width: 100%;margin-bottom: 0;padding: 0.3em;box-sizing: border-box;text-align: center;}#sk-container-id-13 label.sk-toggleable__label-arrow:before {content: \"▸\";float: left;margin-right: 0.25em;color: #696969;}#sk-container-id-13 label.sk-toggleable__label-arrow:hover:before {color: black;}#sk-container-id-13 div.sk-estimator:hover label.sk-toggleable__label-arrow:before {color: black;}#sk-container-id-13 div.sk-toggleable__content {max-height: 0;max-width: 0;overflow: hidden;text-align: left;background-color: #f0f8ff;}#sk-container-id-13 div.sk-toggleable__content pre {margin: 0.2em;color: black;border-radius: 0.25em;background-color: #f0f8ff;}#sk-container-id-13 input.sk-toggleable__control:checked~div.sk-toggleable__content {max-height: 200px;max-width: 100%;overflow: auto;}#sk-container-id-13 input.sk-toggleable__control:checked~label.sk-toggleable__label-arrow:before {content: \"▾\";}#sk-container-id-13 div.sk-estimator input.sk-toggleable__control:checked~label.sk-toggleable__label {background-color: #d4ebff;}#sk-container-id-13 div.sk-label input.sk-toggleable__control:checked~label.sk-toggleable__label {background-color: #d4ebff;}#sk-container-id-13 input.sk-hidden--visually {border: 0;clip: rect(1px 1px 1px 1px);clip: rect(1px, 1px, 1px, 1px);height: 1px;margin: -1px;overflow: hidden;padding: 0;position: absolute;width: 1px;}#sk-container-id-13 div.sk-estimator {font-family: monospace;background-color: #f0f8ff;border: 1px dotted black;border-radius: 0.25em;box-sizing: border-box;margin-bottom: 0.5em;}#sk-container-id-13 div.sk-estimator:hover {background-color: #d4ebff;}#sk-container-id-13 div.sk-parallel-item::after {content: \"\";width: 100%;border-bottom: 1px solid gray;flex-grow: 1;}#sk-container-id-13 div.sk-label:hover label.sk-toggleable__label {background-color: #d4ebff;}#sk-container-id-13 div.sk-serial::before {content: \"\";position: absolute;border-left: 1px solid gray;box-sizing: border-box;top: 0;bottom: 0;left: 50%;z-index: 0;}#sk-container-id-13 div.sk-serial {display: flex;flex-direction: column;align-items: center;background-color: white;padding-right: 0.2em;padding-left: 0.2em;position: relative;}#sk-container-id-13 div.sk-item {position: relative;z-index: 1;}#sk-container-id-13 div.sk-parallel {display: flex;align-items: stretch;justify-content: center;background-color: white;position: relative;}#sk-container-id-13 div.sk-item::before, #sk-container-id-13 div.sk-parallel-item::before {content: \"\";position: absolute;border-left: 1px solid gray;box-sizing: border-box;top: 0;bottom: 0;left: 50%;z-index: -1;}#sk-container-id-13 div.sk-parallel-item {display: flex;flex-direction: column;z-index: 1;position: relative;background-color: white;}#sk-container-id-13 div.sk-parallel-item:first-child::after {align-self: flex-end;width: 50%;}#sk-container-id-13 div.sk-parallel-item:last-child::after {align-self: flex-start;width: 50%;}#sk-container-id-13 div.sk-parallel-item:only-child::after {width: 0;}#sk-container-id-13 div.sk-dashed-wrapped {border: 1px dashed gray;margin: 0 0.4em 0.5em 0.4em;box-sizing: border-box;padding-bottom: 0.4em;background-color: white;}#sk-container-id-13 div.sk-label label {font-family: monospace;font-weight: bold;display: inline-block;line-height: 1.2em;}#sk-container-id-13 div.sk-label-container {text-align: center;}#sk-container-id-13 div.sk-container {/* jupyter's `normalize.less` sets `[hidden] { display: none; }` but bootstrap.min.css set `[hidden] { display: none !important; }` so we also need the `!important` here to be able to override the default hidden behavior on the sphinx rendered scikit-learn.org. See: https://github.com/scikit-learn/scikit-learn/issues/21755 */display: inline-block !important;position: relative;}#sk-container-id-13 div.sk-text-repr-fallback {display: none;}</style><div id=\"sk-container-id-13\" class=\"sk-top-container\"><div class=\"sk-text-repr-fallback\"><pre>KMeans(n_clusters=3, n_init=10, random_state=42)</pre><b>In a Jupyter environment, please rerun this cell to show the HTML representation or trust the notebook. <br />On GitHub, the HTML representation is unable to render, please try loading this page with nbviewer.org.</b></div><div class=\"sk-container\" hidden><div class=\"sk-item\"><div class=\"sk-estimator sk-toggleable\"><input class=\"sk-toggleable__control sk-hidden--visually\" id=\"sk-estimator-id-21\" type=\"checkbox\" checked><label for=\"sk-estimator-id-21\" class=\"sk-toggleable__label sk-toggleable__label-arrow\">KMeans</label><div class=\"sk-toggleable__content\"><pre>KMeans(n_clusters=3, n_init=10, random_state=42)</pre></div></div></div></div></div>"
      ],
      "text/plain": [
       "KMeans(n_clusters=3, n_init=10, random_state=42)"
      ]
     },
     "execution_count": 249,
     "metadata": {},
     "output_type": "execute_result"
    }
   ],
   "source": [
    "# KMeans with 3 clusters\n",
    "k_means_df = KMeans(n_clusters=3, n_init=10, random_state=42)\n",
    "k_means_df.fit(X_train_scaled_df)"
   ]
  },
  {
   "cell_type": "code",
   "execution_count": 250,
   "id": "4a62db7f",
   "metadata": {},
   "outputs": [
    {
     "name": "stdout",
     "output_type": "stream",
     "text": [
      "Training Inertia: 5600.773382422692\n",
      "Training Silhouette Score: 0.18225519843547297\n"
     ]
    }
   ],
   "source": [
    "# KMEans training metrics\n",
    "inertia_train_df = k_means_df.inertia_\n",
    "silhouette_train_df = silhouette_score(X_train_scaled_df, k_means_df.labels_)\n",
    "print(f\"Training Inertia: {inertia_train_df}\")\n",
    "print(f\"Training Silhouette Score: {silhouette_train_df}\")"
   ]
  },
  {
   "cell_type": "code",
   "execution_count": 251,
   "id": "cc79c96e",
   "metadata": {},
   "outputs": [
    {
     "name": "stdout",
     "output_type": "stream",
     "text": [
      "Testing Inertia: 1907.3126346975544\n",
      "Testing Silhouette Score: 0.20499586681116988\n"
     ]
    },
    {
     "name": "stderr",
     "output_type": "stream",
     "text": [
      "C:\\Users\\kreda\\anaconda3\\Lib\\site-packages\\sklearn\\cluster\\_kmeans.py:1436: UserWarning: KMeans is known to have a memory leak on Windows with MKL, when there are less chunks than available threads. You can avoid it by setting the environment variable OMP_NUM_THREADS=2.\n",
      "  warnings.warn(\n"
     ]
    }
   ],
   "source": [
    "# Kmeans testing metrics\n",
    "k_means_df.fit(X_test_scaled_df)\n",
    "inertia_test_df = k_means_df.inertia_\n",
    "silhouette_test_df = silhouette_score(X_test_scaled_df, k_means_df.labels_)\n",
    "print(f\"Testing Inertia: {inertia_test_df}\")\n",
    "print(f\"Testing Silhouette Score: {silhouette_test_df}\")"
   ]
  },
  {
   "cell_type": "markdown",
   "id": "3487b4e7",
   "metadata": {},
   "source": [
    "#### Control Improvemnt- Cluster Tuning"
   ]
  },
  {
   "cell_type": "code",
   "execution_count": 252,
   "id": "6eb9eecd",
   "metadata": {},
   "outputs": [],
   "source": [
    "import matplotlib.pyplot as plt"
   ]
  },
  {
   "cell_type": "code",
   "execution_count": 253,
   "id": "429355ee",
   "metadata": {},
   "outputs": [],
   "source": [
    "# Range of cluster numbers to test\n",
    "cluster_range = range(2, 11)  # Try clusters from 2 to 10\n",
    "inertia_scores_df = []\n",
    "silhouette_scores_df = []"
   ]
  },
  {
   "cell_type": "code",
   "execution_count": 254,
   "id": "745006e0",
   "metadata": {},
   "outputs": [
    {
     "name": "stderr",
     "output_type": "stream",
     "text": [
      "C:\\Users\\kreda\\anaconda3\\Lib\\site-packages\\sklearn\\cluster\\_kmeans.py:1436: UserWarning: KMeans is known to have a memory leak on Windows with MKL, when there are less chunks than available threads. You can avoid it by setting the environment variable OMP_NUM_THREADS=3.\n",
      "  warnings.warn(\n",
      "C:\\Users\\kreda\\anaconda3\\Lib\\site-packages\\sklearn\\cluster\\_kmeans.py:1436: UserWarning: KMeans is known to have a memory leak on Windows with MKL, when there are less chunks than available threads. You can avoid it by setting the environment variable OMP_NUM_THREADS=3.\n",
      "  warnings.warn(\n",
      "C:\\Users\\kreda\\anaconda3\\Lib\\site-packages\\sklearn\\cluster\\_kmeans.py:1436: UserWarning: KMeans is known to have a memory leak on Windows with MKL, when there are less chunks than available threads. You can avoid it by setting the environment variable OMP_NUM_THREADS=3.\n",
      "  warnings.warn(\n",
      "C:\\Users\\kreda\\anaconda3\\Lib\\site-packages\\sklearn\\cluster\\_kmeans.py:1436: UserWarning: KMeans is known to have a memory leak on Windows with MKL, when there are less chunks than available threads. You can avoid it by setting the environment variable OMP_NUM_THREADS=3.\n",
      "  warnings.warn(\n",
      "C:\\Users\\kreda\\anaconda3\\Lib\\site-packages\\sklearn\\cluster\\_kmeans.py:1436: UserWarning: KMeans is known to have a memory leak on Windows with MKL, when there are less chunks than available threads. You can avoid it by setting the environment variable OMP_NUM_THREADS=3.\n",
      "  warnings.warn(\n",
      "C:\\Users\\kreda\\anaconda3\\Lib\\site-packages\\sklearn\\cluster\\_kmeans.py:1436: UserWarning: KMeans is known to have a memory leak on Windows with MKL, when there are less chunks than available threads. You can avoid it by setting the environment variable OMP_NUM_THREADS=3.\n",
      "  warnings.warn(\n",
      "C:\\Users\\kreda\\anaconda3\\Lib\\site-packages\\sklearn\\cluster\\_kmeans.py:1436: UserWarning: KMeans is known to have a memory leak on Windows with MKL, when there are less chunks than available threads. You can avoid it by setting the environment variable OMP_NUM_THREADS=3.\n",
      "  warnings.warn(\n",
      "C:\\Users\\kreda\\anaconda3\\Lib\\site-packages\\sklearn\\cluster\\_kmeans.py:1436: UserWarning: KMeans is known to have a memory leak on Windows with MKL, when there are less chunks than available threads. You can avoid it by setting the environment variable OMP_NUM_THREADS=3.\n",
      "  warnings.warn(\n",
      "C:\\Users\\kreda\\anaconda3\\Lib\\site-packages\\sklearn\\cluster\\_kmeans.py:1436: UserWarning: KMeans is known to have a memory leak on Windows with MKL, when there are less chunks than available threads. You can avoid it by setting the environment variable OMP_NUM_THREADS=3.\n",
      "  warnings.warn(\n"
     ]
    }
   ],
   "source": [
    "for n_clusters in cluster_range:\n",
    "    kmeans_df = KMeans(n_clusters=n_clusters, n_init=10, random_state=42)\n",
    "    kmeans_df.fit(X_train_scaled_df)\n",
    "    \n",
    "    # Store metrics\n",
    "    inertia_scores_df.append(kmeans_df.inertia_)\n",
    "    silhouette_scores_df.append(silhouette_score(X_train_scaled_df, kmeans_df.labels_))"
   ]
  },
  {
   "cell_type": "code",
   "execution_count": 255,
   "id": "b2d020d9",
   "metadata": {},
   "outputs": [
    {
     "data": {
      "image/png": "[encoded data removed]",
      "text/plain": [
       "<Figure size 640x480 with 2 Axes>"
      ]
     },
     "metadata": {},
     "output_type": "display_data"
    }
   ],
   "source": [
    "# Inertia plot\n",
    "plt.subplot(1, 2, 1)\n",
    "plt.plot(cluster_range, inertia_scores_df, marker='o')\n",
    "plt.title('Inertia vs. # of Clusters')\n",
    "plt.xlabel('# of Clusters')\n",
    "plt.ylabel('Inertia')\n",
    "\n",
    "# Silhouette score plot\n",
    "plt.subplot(1, 2, 2)\n",
    "plt.plot(cluster_range, silhouette_scores_df, marker='o')\n",
    "plt.title('Silhouette Score vs. # of Clusters')\n",
    "plt.xlabel('# of Clusters')\n",
    "plt.ylabel('Silhouette Score')\n",
    "\n",
    "plt.tight_layout()\n",
    "plt.show()"
   ]
  },
  {
   "cell_type": "code",
   "execution_count": 256,
   "id": "c0a8eaba",
   "metadata": {},
   "outputs": [
    {
     "name": "stdout",
     "output_type": "stream",
     "text": [
      "Optimal Number of Clusters: 2\n"
     ]
    }
   ],
   "source": [
    "# Find the optimal number of clusters based on silhouette score\n",
    "optimal_clusters_df = cluster_range[silhouette_scores_df.index(max(silhouette_scores_df))]\n",
    "print(f\"Optimal Number of Clusters: {optimal_clusters_df}\")"
   ]
  },
  {
   "cell_type": "code",
   "execution_count": 257,
   "id": "e95b042f",
   "metadata": {},
   "outputs": [
    {
     "name": "stderr",
     "output_type": "stream",
     "text": [
      "C:\\Users\\kreda\\anaconda3\\Lib\\site-packages\\sklearn\\cluster\\_kmeans.py:1436: UserWarning: KMeans is known to have a memory leak on Windows with MKL, when there are less chunks than available threads. You can avoid it by setting the environment variable OMP_NUM_THREADS=3.\n",
      "  warnings.warn(\n"
     ]
    },
    {
     "data": {
      "text/html": [
       "<style>#sk-container-id-14 {color: black;}#sk-container-id-14 pre{padding: 0;}#sk-container-id-14 div.sk-toggleable {background-color: white;}#sk-container-id-14 label.sk-toggleable__label {cursor: pointer;display: block;width: 100%;margin-bottom: 0;padding: 0.3em;box-sizing: border-box;text-align: center;}#sk-container-id-14 label.sk-toggleable__label-arrow:before {content: \"▸\";float: left;margin-right: 0.25em;color: #696969;}#sk-container-id-14 label.sk-toggleable__label-arrow:hover:before {color: black;}#sk-container-id-14 div.sk-estimator:hover label.sk-toggleable__label-arrow:before {color: black;}#sk-container-id-14 div.sk-toggleable__content {max-height: 0;max-width: 0;overflow: hidden;text-align: left;background-color: #f0f8ff;}#sk-container-id-14 div.sk-toggleable__content pre {margin: 0.2em;color: black;border-radius: 0.25em;background-color: #f0f8ff;}#sk-container-id-14 input.sk-toggleable__control:checked~div.sk-toggleable__content {max-height: 200px;max-width: 100%;overflow: auto;}#sk-container-id-14 input.sk-toggleable__control:checked~label.sk-toggleable__label-arrow:before {content: \"▾\";}#sk-container-id-14 div.sk-estimator input.sk-toggleable__control:checked~label.sk-toggleable__label {background-color: #d4ebff;}#sk-container-id-14 div.sk-label input.sk-toggleable__control:checked~label.sk-toggleable__label {background-color: #d4ebff;}#sk-container-id-14 input.sk-hidden--visually {border: 0;clip: rect(1px 1px 1px 1px);clip: rect(1px, 1px, 1px, 1px);height: 1px;margin: -1px;overflow: hidden;padding: 0;position: absolute;width: 1px;}#sk-container-id-14 div.sk-estimator {font-family: monospace;background-color: #f0f8ff;border: 1px dotted black;border-radius: 0.25em;box-sizing: border-box;margin-bottom: 0.5em;}#sk-container-id-14 div.sk-estimator:hover {background-color: #d4ebff;}#sk-container-id-14 div.sk-parallel-item::after {content: \"\";width: 100%;border-bottom: 1px solid gray;flex-grow: 1;}#sk-container-id-14 div.sk-label:hover label.sk-toggleable__label {background-color: #d4ebff;}#sk-container-id-14 div.sk-serial::before {content: \"\";position: absolute;border-left: 1px solid gray;box-sizing: border-box;top: 0;bottom: 0;left: 50%;z-index: 0;}#sk-container-id-14 div.sk-serial {display: flex;flex-direction: column;align-items: center;background-color: white;padding-right: 0.2em;padding-left: 0.2em;position: relative;}#sk-container-id-14 div.sk-item {position: relative;z-index: 1;}#sk-container-id-14 div.sk-parallel {display: flex;align-items: stretch;justify-content: center;background-color: white;position: relative;}#sk-container-id-14 div.sk-item::before, #sk-container-id-14 div.sk-parallel-item::before {content: \"\";position: absolute;border-left: 1px solid gray;box-sizing: border-box;top: 0;bottom: 0;left: 50%;z-index: -1;}#sk-container-id-14 div.sk-parallel-item {display: flex;flex-direction: column;z-index: 1;position: relative;background-color: white;}#sk-container-id-14 div.sk-parallel-item:first-child::after {align-self: flex-end;width: 50%;}#sk-container-id-14 div.sk-parallel-item:last-child::after {align-self: flex-start;width: 50%;}#sk-container-id-14 div.sk-parallel-item:only-child::after {width: 0;}#sk-container-id-14 div.sk-dashed-wrapped {border: 1px dashed gray;margin: 0 0.4em 0.5em 0.4em;box-sizing: border-box;padding-bottom: 0.4em;background-color: white;}#sk-container-id-14 div.sk-label label {font-family: monospace;font-weight: bold;display: inline-block;line-height: 1.2em;}#sk-container-id-14 div.sk-label-container {text-align: center;}#sk-container-id-14 div.sk-container {/* jupyter's `normalize.less` sets `[hidden] { display: none; }` but bootstrap.min.css set `[hidden] { display: none !important; }` so we also need the `!important` here to be able to override the default hidden behavior on the sphinx rendered scikit-learn.org. See: https://github.com/scikit-learn/scikit-learn/issues/21755 */display: inline-block !important;position: relative;}#sk-container-id-14 div.sk-text-repr-fallback {display: none;}</style><div id=\"sk-container-id-14\" class=\"sk-top-container\"><div class=\"sk-text-repr-fallback\"><pre>KMeans(n_clusters=2, n_init=10, random_state=42)</pre><b>In a Jupyter environment, please rerun this cell to show the HTML representation or trust the notebook. <br />On GitHub, the HTML representation is unable to render, please try loading this page with nbviewer.org.</b></div><div class=\"sk-container\" hidden><div class=\"sk-item\"><div class=\"sk-estimator sk-toggleable\"><input class=\"sk-toggleable__control sk-hidden--visually\" id=\"sk-estimator-id-22\" type=\"checkbox\" checked><label for=\"sk-estimator-id-22\" class=\"sk-toggleable__label sk-toggleable__label-arrow\">KMeans</label><div class=\"sk-toggleable__content\"><pre>KMeans(n_clusters=2, n_init=10, random_state=42)</pre></div></div></div></div></div>"
      ],
      "text/plain": [
       "KMeans(n_clusters=2, n_init=10, random_state=42)"
      ]
     },
     "execution_count": 257,
     "metadata": {},
     "output_type": "execute_result"
    }
   ],
   "source": [
    "# Refit KMeans with optimal clusters and evaluate\n",
    "kmeans_optimal_df = KMeans(n_clusters=optimal_clusters_df, n_init=10, random_state=42)\n",
    "kmeans_optimal_df.fit(X_train_scaled_df)"
   ]
  },
  {
   "cell_type": "code",
   "execution_count": 258,
   "id": "0c1c1b69",
   "metadata": {},
   "outputs": [
    {
     "name": "stdout",
     "output_type": "stream",
     "text": [
      "Optimal Model Inertia: 6353.517708963614\n",
      "Optimal Model Silhouette Score: 0.24266394669013014\n"
     ]
    }
   ],
   "source": [
    "# Metrics for the optimal model\n",
    "inertia_optimal_df = kmeans_optimal_df.inertia_\n",
    "silhouette_optimal_df = silhouette_score(X_train_scaled_df, kmeans_optimal_df.labels_)\n",
    "print(f\"Optimal Model Inertia: {inertia_optimal_df}\")\n",
    "print(f\"Optimal Model Silhouette Score: {silhouette_optimal_df}\")"
   ]
  },
  {
   "cell_type": "markdown",
   "id": "d113b2f6",
   "metadata": {},
   "source": [
    "### Food Access"
   ]
  },
  {
   "cell_type": "code",
   "execution_count": 259,
   "id": "fdea36e9",
   "metadata": {},
   "outputs": [],
   "source": [
    "# scale X for KMeans (y is not needed)\n",
    "scaler_fa = StandardScaler()\n",
    "X_train_scaled_fa = scaler_fa.fit_transform(X_train_fa)\n",
    "X_test_scaled_fa = scaler_fa.transform(X_test_fa)"
   ]
  },
  {
   "cell_type": "code",
   "execution_count": 260,
   "id": "6273a229",
   "metadata": {},
   "outputs": [
    {
     "name": "stderr",
     "output_type": "stream",
     "text": [
      "C:\\Users\\kreda\\anaconda3\\Lib\\site-packages\\sklearn\\cluster\\_kmeans.py:1436: UserWarning: KMeans is known to have a memory leak on Windows with MKL, when there are less chunks than available threads. You can avoid it by setting the environment variable OMP_NUM_THREADS=3.\n",
      "  warnings.warn(\n"
     ]
    },
    {
     "data": {
      "text/html": [
       "<style>#sk-container-id-15 {color: black;}#sk-container-id-15 pre{padding: 0;}#sk-container-id-15 div.sk-toggleable {background-color: white;}#sk-container-id-15 label.sk-toggleable__label {cursor: pointer;display: block;width: 100%;margin-bottom: 0;padding: 0.3em;box-sizing: border-box;text-align: center;}#sk-container-id-15 label.sk-toggleable__label-arrow:before {content: \"▸\";float: left;margin-right: 0.25em;color: #696969;}#sk-container-id-15 label.sk-toggleable__label-arrow:hover:before {color: black;}#sk-container-id-15 div.sk-estimator:hover label.sk-toggleable__label-arrow:before {color: black;}#sk-container-id-15 div.sk-toggleable__content {max-height: 0;max-width: 0;overflow: hidden;text-align: left;background-color: #f0f8ff;}#sk-container-id-15 div.sk-toggleable__content pre {margin: 0.2em;color: black;border-radius: 0.25em;background-color: #f0f8ff;}#sk-container-id-15 input.sk-toggleable__control:checked~div.sk-toggleable__content {max-height: 200px;max-width: 100%;overflow: auto;}#sk-container-id-15 input.sk-toggleable__control:checked~label.sk-toggleable__label-arrow:before {content: \"▾\";}#sk-container-id-15 div.sk-estimator input.sk-toggleable__control:checked~label.sk-toggleable__label {background-color: #d4ebff;}#sk-container-id-15 div.sk-label input.sk-toggleable__control:checked~label.sk-toggleable__label {background-color: #d4ebff;}#sk-container-id-15 input.sk-hidden--visually {border: 0;clip: rect(1px 1px 1px 1px);clip: rect(1px, 1px, 1px, 1px);height: 1px;margin: -1px;overflow: hidden;padding: 0;position: absolute;width: 1px;}#sk-container-id-15 div.sk-estimator {font-family: monospace;background-color: #f0f8ff;border: 1px dotted black;border-radius: 0.25em;box-sizing: border-box;margin-bottom: 0.5em;}#sk-container-id-15 div.sk-estimator:hover {background-color: #d4ebff;}#sk-container-id-15 div.sk-parallel-item::after {content: \"\";width: 100%;border-bottom: 1px solid gray;flex-grow: 1;}#sk-container-id-15 div.sk-label:hover label.sk-toggleable__label {background-color: #d4ebff;}#sk-container-id-15 div.sk-serial::before {content: \"\";position: absolute;border-left: 1px solid gray;box-sizing: border-box;top: 0;bottom: 0;left: 50%;z-index: 0;}#sk-container-id-15 div.sk-serial {display: flex;flex-direction: column;align-items: center;background-color: white;padding-right: 0.2em;padding-left: 0.2em;position: relative;}#sk-container-id-15 div.sk-item {position: relative;z-index: 1;}#sk-container-id-15 div.sk-parallel {display: flex;align-items: stretch;justify-content: center;background-color: white;position: relative;}#sk-container-id-15 div.sk-item::before, #sk-container-id-15 div.sk-parallel-item::before {content: \"\";position: absolute;border-left: 1px solid gray;box-sizing: border-box;top: 0;bottom: 0;left: 50%;z-index: -1;}#sk-container-id-15 div.sk-parallel-item {display: flex;flex-direction: column;z-index: 1;position: relative;background-color: white;}#sk-container-id-15 div.sk-parallel-item:first-child::after {align-self: flex-end;width: 50%;}#sk-container-id-15 div.sk-parallel-item:last-child::after {align-self: flex-start;width: 50%;}#sk-container-id-15 div.sk-parallel-item:only-child::after {width: 0;}#sk-container-id-15 div.sk-dashed-wrapped {border: 1px dashed gray;margin: 0 0.4em 0.5em 0.4em;box-sizing: border-box;padding-bottom: 0.4em;background-color: white;}#sk-container-id-15 div.sk-label label {font-family: monospace;font-weight: bold;display: inline-block;line-height: 1.2em;}#sk-container-id-15 div.sk-label-container {text-align: center;}#sk-container-id-15 div.sk-container {/* jupyter's `normalize.less` sets `[hidden] { display: none; }` but bootstrap.min.css set `[hidden] { display: none !important; }` so we also need the `!important` here to be able to override the default hidden behavior on the sphinx rendered scikit-learn.org. See: https://github.com/scikit-learn/scikit-learn/issues/21755 */display: inline-block !important;position: relative;}#sk-container-id-15 div.sk-text-repr-fallback {display: none;}</style><div id=\"sk-container-id-15\" class=\"sk-top-container\"><div class=\"sk-text-repr-fallback\"><pre>KMeans(n_clusters=3, n_init=10, random_state=42)</pre><b>In a Jupyter environment, please rerun this cell to show the HTML representation or trust the notebook. <br />On GitHub, the HTML representation is unable to render, please try loading this page with nbviewer.org.</b></div><div class=\"sk-container\" hidden><div class=\"sk-item\"><div class=\"sk-estimator sk-toggleable\"><input class=\"sk-toggleable__control sk-hidden--visually\" id=\"sk-estimator-id-23\" type=\"checkbox\" checked><label for=\"sk-estimator-id-23\" class=\"sk-toggleable__label sk-toggleable__label-arrow\">KMeans</label><div class=\"sk-toggleable__content\"><pre>KMeans(n_clusters=3, n_init=10, random_state=42)</pre></div></div></div></div></div>"
      ],
      "text/plain": [
       "KMeans(n_clusters=3, n_init=10, random_state=42)"
      ]
     },
     "execution_count": 260,
     "metadata": {},
     "output_type": "execute_result"
    }
   ],
   "source": [
    "# KMeans with 3 clusters\n",
    "k_means_fa = KMeans(n_clusters=3, n_init=10, random_state=42)\n",
    "k_means_fa.fit(X_train_scaled_fa)"
   ]
  },
  {
   "cell_type": "code",
   "execution_count": 261,
   "id": "7dece28a",
   "metadata": {},
   "outputs": [
    {
     "name": "stdout",
     "output_type": "stream",
     "text": [
      "Training Inertia: 6178.612572559551\n",
      "Training Silhouette Score: 0.16795993981282495\n"
     ]
    }
   ],
   "source": [
    "# KMEans training metrics\n",
    "inertia_train_fa = k_means_fa.inertia_\n",
    "silhouette_train_fa = silhouette_score(X_train_scaled_fa, k_means_fa.labels_)\n",
    "print(f\"Training Inertia: {inertia_train_fa}\")\n",
    "print(f\"Training Silhouette Score: {silhouette_train_fa}\")"
   ]
  },
  {
   "cell_type": "code",
   "execution_count": 262,
   "id": "28d82f0d",
   "metadata": {},
   "outputs": [
    {
     "name": "stdout",
     "output_type": "stream",
     "text": [
      "Testing Inertia: 2141.222085194269\n",
      "Testing Silhouette Score: 0.1857282178367092\n"
     ]
    },
    {
     "name": "stderr",
     "output_type": "stream",
     "text": [
      "C:\\Users\\kreda\\anaconda3\\Lib\\site-packages\\sklearn\\cluster\\_kmeans.py:1436: UserWarning: KMeans is known to have a memory leak on Windows with MKL, when there are less chunks than available threads. You can avoid it by setting the environment variable OMP_NUM_THREADS=2.\n",
      "  warnings.warn(\n"
     ]
    }
   ],
   "source": [
    "# Kmeans testing metrics\n",
    "k_means_fa.fit(X_test_scaled_fa)\n",
    "inertia_test_fa = k_means_fa.inertia_\n",
    "silhouette_test_fa = silhouette_score(X_test_scaled_fa, k_means_fa.labels_)\n",
    "print(f\"Testing Inertia: {inertia_test_fa}\")\n",
    "print(f\"Testing Silhouette Score: {silhouette_test_fa}\")"
   ]
  },
  {
   "cell_type": "markdown",
   "id": "b92dfbc1",
   "metadata": {},
   "source": [
    "#### Food Access Improvement- Cluster Tuning"
   ]
  },
  {
   "cell_type": "code",
   "execution_count": 263,
   "id": "04b26d73",
   "metadata": {},
   "outputs": [],
   "source": [
    "# Range of cluster numbers to test\n",
    "cluster_range = range(2, 11)  # Try clusters from 2 to 10\n",
    "inertia_scores_fa = []\n",
    "silhouette_scores_fa = []"
   ]
  },
  {
   "cell_type": "code",
   "execution_count": 264,
   "id": "6d23a290",
   "metadata": {},
   "outputs": [
    {
     "name": "stderr",
     "output_type": "stream",
     "text": [
      "C:\\Users\\kreda\\anaconda3\\Lib\\site-packages\\sklearn\\cluster\\_kmeans.py:1436: UserWarning: KMeans is known to have a memory leak on Windows with MKL, when there are less chunks than available threads. You can avoid it by setting the environment variable OMP_NUM_THREADS=3.\n",
      "  warnings.warn(\n",
      "C:\\Users\\kreda\\anaconda3\\Lib\\site-packages\\sklearn\\cluster\\_kmeans.py:1436: UserWarning: KMeans is known to have a memory leak on Windows with MKL, when there are less chunks than available threads. You can avoid it by setting the environment variable OMP_NUM_THREADS=3.\n",
      "  warnings.warn(\n",
      "C:\\Users\\kreda\\anaconda3\\Lib\\site-packages\\sklearn\\cluster\\_kmeans.py:1436: UserWarning: KMeans is known to have a memory leak on Windows with MKL, when there are less chunks than available threads. You can avoid it by setting the environment variable OMP_NUM_THREADS=3.\n",
      "  warnings.warn(\n",
      "C:\\Users\\kreda\\anaconda3\\Lib\\site-packages\\sklearn\\cluster\\_kmeans.py:1436: UserWarning: KMeans is known to have a memory leak on Windows with MKL, when there are less chunks than available threads. You can avoid it by setting the environment variable OMP_NUM_THREADS=3.\n",
      "  warnings.warn(\n",
      "C:\\Users\\kreda\\anaconda3\\Lib\\site-packages\\sklearn\\cluster\\_kmeans.py:1436: UserWarning: KMeans is known to have a memory leak on Windows with MKL, when there are less chunks than available threads. You can avoid it by setting the environment variable OMP_NUM_THREADS=3.\n",
      "  warnings.warn(\n",
      "C:\\Users\\kreda\\anaconda3\\Lib\\site-packages\\sklearn\\cluster\\_kmeans.py:1436: UserWarning: KMeans is known to have a memory leak on Windows with MKL, when there are less chunks than available threads. You can avoid it by setting the environment variable OMP_NUM_THREADS=3.\n",
      "  warnings.warn(\n",
      "C:\\Users\\kreda\\anaconda3\\Lib\\site-packages\\sklearn\\cluster\\_kmeans.py:1436: UserWarning: KMeans is known to have a memory leak on Windows with MKL, when there are less chunks than available threads. You can avoid it by setting the environment variable OMP_NUM_THREADS=3.\n",
      "  warnings.warn(\n",
      "C:\\Users\\kreda\\anaconda3\\Lib\\site-packages\\sklearn\\cluster\\_kmeans.py:1436: UserWarning: KMeans is known to have a memory leak on Windows with MKL, when there are less chunks than available threads. You can avoid it by setting the environment variable OMP_NUM_THREADS=3.\n",
      "  warnings.warn(\n",
      "C:\\Users\\kreda\\anaconda3\\Lib\\site-packages\\sklearn\\cluster\\_kmeans.py:1436: UserWarning: KMeans is known to have a memory leak on Windows with MKL, when there are less chunks than available threads. You can avoid it by setting the environment variable OMP_NUM_THREADS=3.\n",
      "  warnings.warn(\n"
     ]
    }
   ],
   "source": [
    "for n_clusters in cluster_range:\n",
    "    kmeans_fa = KMeans(n_clusters=n_clusters, n_init=10, random_state=42)\n",
    "    kmeans_fa.fit(X_train_scaled_fa)\n",
    "    \n",
    "    # Store metrics\n",
    "    inertia_scores_fa.append(kmeans_fa.inertia_)\n",
    "    silhouette_scores_fa.append(silhouette_score(X_train_scaled_fa, kmeans_fa.labels_))"
   ]
  },
  {
   "cell_type": "code",
   "execution_count": 265,
   "id": "8a7362ac",
   "metadata": {},
   "outputs": [
    {
     "data": {
      "image/png": "[encoded data removed]",
      "text/plain": [
       "<Figure size 640x480 with 2 Axes>"
      ]
     },
     "metadata": {},
     "output_type": "display_data"
    }
   ],
   "source": [
    "# Inertia plot\n",
    "plt.subplot(1, 2, 1)\n",
    "plt.plot(cluster_range, inertia_scores_fa, marker='o')\n",
    "plt.title('Inertia vs. # of Clusters')\n",
    "plt.xlabel('# of Clusters')\n",
    "plt.ylabel('Inertia')\n",
    "\n",
    "# Silhouette score plot\n",
    "plt.subplot(1, 2, 2)\n",
    "plt.plot(cluster_range, silhouette_scores_fa, marker='o')\n",
    "plt.title('Silhouette Score vs. # of Clusters')\n",
    "plt.xlabel('# of Clusters')\n",
    "plt.ylabel('Silhouette Score')\n",
    "\n",
    "plt.tight_layout()\n",
    "plt.show()"
   ]
  },
  {
   "cell_type": "code",
   "execution_count": 266,
   "id": "14e26ccf",
   "metadata": {},
   "outputs": [
    {
     "name": "stdout",
     "output_type": "stream",
     "text": [
      "Optimal Number of Clusters: 2\n"
     ]
    }
   ],
   "source": [
    "# Find the optimal number of clusters based on silhouette score\n",
    "optimal_clusters_fa = cluster_range[silhouette_scores_fa.index(max(silhouette_scores_fa))]\n",
    "print(f\"Optimal Number of Clusters: {optimal_clusters_fa}\")"
   ]
  },
  {
   "cell_type": "code",
   "execution_count": 267,
   "id": "3369f757",
   "metadata": {},
   "outputs": [
    {
     "name": "stderr",
     "output_type": "stream",
     "text": [
      "C:\\Users\\kreda\\anaconda3\\Lib\\site-packages\\sklearn\\cluster\\_kmeans.py:1436: UserWarning: KMeans is known to have a memory leak on Windows with MKL, when there are less chunks than available threads. You can avoid it by setting the environment variable OMP_NUM_THREADS=3.\n",
      "  warnings.warn(\n"
     ]
    },
    {
     "data": {
      "text/html": [
       "<style>#sk-container-id-16 {color: black;}#sk-container-id-16 pre{padding: 0;}#sk-container-id-16 div.sk-toggleable {background-color: white;}#sk-container-id-16 label.sk-toggleable__label {cursor: pointer;display: block;width: 100%;margin-bottom: 0;padding: 0.3em;box-sizing: border-box;text-align: center;}#sk-container-id-16 label.sk-toggleable__label-arrow:before {content: \"▸\";float: left;margin-right: 0.25em;color: #696969;}#sk-container-id-16 label.sk-toggleable__label-arrow:hover:before {color: black;}#sk-container-id-16 div.sk-estimator:hover label.sk-toggleable__label-arrow:before {color: black;}#sk-container-id-16 div.sk-toggleable__content {max-height: 0;max-width: 0;overflow: hidden;text-align: left;background-color: #f0f8ff;}#sk-container-id-16 div.sk-toggleable__content pre {margin: 0.2em;color: black;border-radius: 0.25em;background-color: #f0f8ff;}#sk-container-id-16 input.sk-toggleable__control:checked~div.sk-toggleable__content {max-height: 200px;max-width: 100%;overflow: auto;}#sk-container-id-16 input.sk-toggleable__control:checked~label.sk-toggleable__label-arrow:before {content: \"▾\";}#sk-container-id-16 div.sk-estimator input.sk-toggleable__control:checked~label.sk-toggleable__label {background-color: #d4ebff;}#sk-container-id-16 div.sk-label input.sk-toggleable__control:checked~label.sk-toggleable__label {background-color: #d4ebff;}#sk-container-id-16 input.sk-hidden--visually {border: 0;clip: rect(1px 1px 1px 1px);clip: rect(1px, 1px, 1px, 1px);height: 1px;margin: -1px;overflow: hidden;padding: 0;position: absolute;width: 1px;}#sk-container-id-16 div.sk-estimator {font-family: monospace;background-color: #f0f8ff;border: 1px dotted black;border-radius: 0.25em;box-sizing: border-box;margin-bottom: 0.5em;}#sk-container-id-16 div.sk-estimator:hover {background-color: #d4ebff;}#sk-container-id-16 div.sk-parallel-item::after {content: \"\";width: 100%;border-bottom: 1px solid gray;flex-grow: 1;}#sk-container-id-16 div.sk-label:hover label.sk-toggleable__label {background-color: #d4ebff;}#sk-container-id-16 div.sk-serial::before {content: \"\";position: absolute;border-left: 1px solid gray;box-sizing: border-box;top: 0;bottom: 0;left: 50%;z-index: 0;}#sk-container-id-16 div.sk-serial {display: flex;flex-direction: column;align-items: center;background-color: white;padding-right: 0.2em;padding-left: 0.2em;position: relative;}#sk-container-id-16 div.sk-item {position: relative;z-index: 1;}#sk-container-id-16 div.sk-parallel {display: flex;align-items: stretch;justify-content: center;background-color: white;position: relative;}#sk-container-id-16 div.sk-item::before, #sk-container-id-16 div.sk-parallel-item::before {content: \"\";position: absolute;border-left: 1px solid gray;box-sizing: border-box;top: 0;bottom: 0;left: 50%;z-index: -1;}#sk-container-id-16 div.sk-parallel-item {display: flex;flex-direction: column;z-index: 1;position: relative;background-color: white;}#sk-container-id-16 div.sk-parallel-item:first-child::after {align-self: flex-end;width: 50%;}#sk-container-id-16 div.sk-parallel-item:last-child::after {align-self: flex-start;width: 50%;}#sk-container-id-16 div.sk-parallel-item:only-child::after {width: 0;}#sk-container-id-16 div.sk-dashed-wrapped {border: 1px dashed gray;margin: 0 0.4em 0.5em 0.4em;box-sizing: border-box;padding-bottom: 0.4em;background-color: white;}#sk-container-id-16 div.sk-label label {font-family: monospace;font-weight: bold;display: inline-block;line-height: 1.2em;}#sk-container-id-16 div.sk-label-container {text-align: center;}#sk-container-id-16 div.sk-container {/* jupyter's `normalize.less` sets `[hidden] { display: none; }` but bootstrap.min.css set `[hidden] { display: none !important; }` so we also need the `!important` here to be able to override the default hidden behavior on the sphinx rendered scikit-learn.org. See: https://github.com/scikit-learn/scikit-learn/issues/21755 */display: inline-block !important;position: relative;}#sk-container-id-16 div.sk-text-repr-fallback {display: none;}</style><div id=\"sk-container-id-16\" class=\"sk-top-container\"><div class=\"sk-text-repr-fallback\"><pre>KMeans(n_clusters=2, n_init=10, random_state=42)</pre><b>In a Jupyter environment, please rerun this cell to show the HTML representation or trust the notebook. <br />On GitHub, the HTML representation is unable to render, please try loading this page with nbviewer.org.</b></div><div class=\"sk-container\" hidden><div class=\"sk-item\"><div class=\"sk-estimator sk-toggleable\"><input class=\"sk-toggleable__control sk-hidden--visually\" id=\"sk-estimator-id-24\" type=\"checkbox\" checked><label for=\"sk-estimator-id-24\" class=\"sk-toggleable__label sk-toggleable__label-arrow\">KMeans</label><div class=\"sk-toggleable__content\"><pre>KMeans(n_clusters=2, n_init=10, random_state=42)</pre></div></div></div></div></div>"
      ],
      "text/plain": [
       "KMeans(n_clusters=2, n_init=10, random_state=42)"
      ]
     },
     "execution_count": 267,
     "metadata": {},
     "output_type": "execute_result"
    }
   ],
   "source": [
    "# Refit KMeans with optimal clusters and evaluate\n",
    "kmeans_optimal_fa = KMeans(n_clusters=optimal_clusters_fa, n_init=10, random_state=42)\n",
    "kmeans_optimal_fa.fit(X_train_scaled_fa)"
   ]
  },
  {
   "cell_type": "code",
   "execution_count": 268,
   "id": "5c673f80",
   "metadata": {},
   "outputs": [
    {
     "name": "stdout",
     "output_type": "stream",
     "text": [
      "Optimal Model Inertia: 6942.518513310098\n",
      "Optimal Model Silhouette Score: 0.22518803857910472\n"
     ]
    }
   ],
   "source": [
    "# Metrics for the optimal model\n",
    "inertia_optimal_fa = kmeans_optimal_fa.inertia_\n",
    "silhouette_optimal_fa = silhouette_score(X_train_scaled_fa, kmeans_optimal_fa.labels_)\n",
    "print(f\"Optimal Model Inertia: {inertia_optimal_fa}\")\n",
    "print(f\"Optimal Model Silhouette Score: {silhouette_optimal_fa}\")"
   ]
  },
  {
   "cell_type": "markdown",
   "id": "b05f5b45",
   "metadata": {},
   "source": [
    "## Model 8- Naive Bayes"
   ]
  },
  {
   "cell_type": "code",
   "execution_count": 269,
   "id": "fcbbbef5",
   "metadata": {},
   "outputs": [],
   "source": [
    "from sklearn.naive_bayes import MultinomialNB\n",
    "from sklearn.model_selection import GridSearchCV, cross_val_score, KFold\n",
    "from sklearn.preprocessing import LabelEncoder"
   ]
  },
  {
   "cell_type": "markdown",
   "id": "4b0fd3f5",
   "metadata": {},
   "source": [
    "### Control"
   ]
  },
  {
   "cell_type": "code",
   "execution_count": 270,
   "id": "a480af40",
   "metadata": {},
   "outputs": [],
   "source": [
    "# transform y using LabelEncoder\n",
    "le_df = LabelEncoder()\n",
    "y_train_encoded_df = le_df.fit_transform(y_train_df)\n",
    "y_test_encoded_df = le_df.transform(y_test_df)"
   ]
  },
  {
   "cell_type": "code",
   "execution_count": 271,
   "id": "dc004780",
   "metadata": {},
   "outputs": [
    {
     "data": {
      "text/html": [
       "<style>#sk-container-id-17 {color: black;}#sk-container-id-17 pre{padding: 0;}#sk-container-id-17 div.sk-toggleable {background-color: white;}#sk-container-id-17 label.sk-toggleable__label {cursor: pointer;display: block;width: 100%;margin-bottom: 0;padding: 0.3em;box-sizing: border-box;text-align: center;}#sk-container-id-17 label.sk-toggleable__label-arrow:before {content: \"▸\";float: left;margin-right: 0.25em;color: #696969;}#sk-container-id-17 label.sk-toggleable__label-arrow:hover:before {color: black;}#sk-container-id-17 div.sk-estimator:hover label.sk-toggleable__label-arrow:before {color: black;}#sk-container-id-17 div.sk-toggleable__content {max-height: 0;max-width: 0;overflow: hidden;text-align: left;background-color: #f0f8ff;}#sk-container-id-17 div.sk-toggleable__content pre {margin: 0.2em;color: black;border-radius: 0.25em;background-color: #f0f8ff;}#sk-container-id-17 input.sk-toggleable__control:checked~div.sk-toggleable__content {max-height: 200px;max-width: 100%;overflow: auto;}#sk-container-id-17 input.sk-toggleable__control:checked~label.sk-toggleable__label-arrow:before {content: \"▾\";}#sk-container-id-17 div.sk-estimator input.sk-toggleable__control:checked~label.sk-toggleable__label {background-color: #d4ebff;}#sk-container-id-17 div.sk-label input.sk-toggleable__control:checked~label.sk-toggleable__label {background-color: #d4ebff;}#sk-container-id-17 input.sk-hidden--visually {border: 0;clip: rect(1px 1px 1px 1px);clip: rect(1px, 1px, 1px, 1px);height: 1px;margin: -1px;overflow: hidden;padding: 0;position: absolute;width: 1px;}#sk-container-id-17 div.sk-estimator {font-family: monospace;background-color: #f0f8ff;border: 1px dotted black;border-radius: 0.25em;box-sizing: border-box;margin-bottom: 0.5em;}#sk-container-id-17 div.sk-estimator:hover {background-color: #d4ebff;}#sk-container-id-17 div.sk-parallel-item::after {content: \"\";width: 100%;border-bottom: 1px solid gray;flex-grow: 1;}#sk-container-id-17 div.sk-label:hover label.sk-toggleable__label {background-color: #d4ebff;}#sk-container-id-17 div.sk-serial::before {content: \"\";position: absolute;border-left: 1px solid gray;box-sizing: border-box;top: 0;bottom: 0;left: 50%;z-index: 0;}#sk-container-id-17 div.sk-serial {display: flex;flex-direction: column;align-items: center;background-color: white;padding-right: 0.2em;padding-left: 0.2em;position: relative;}#sk-container-id-17 div.sk-item {position: relative;z-index: 1;}#sk-container-id-17 div.sk-parallel {display: flex;align-items: stretch;justify-content: center;background-color: white;position: relative;}#sk-container-id-17 div.sk-item::before, #sk-container-id-17 div.sk-parallel-item::before {content: \"\";position: absolute;border-left: 1px solid gray;box-sizing: border-box;top: 0;bottom: 0;left: 50%;z-index: -1;}#sk-container-id-17 div.sk-parallel-item {display: flex;flex-direction: column;z-index: 1;position: relative;background-color: white;}#sk-container-id-17 div.sk-parallel-item:first-child::after {align-self: flex-end;width: 50%;}#sk-container-id-17 div.sk-parallel-item:last-child::after {align-self: flex-start;width: 50%;}#sk-container-id-17 div.sk-parallel-item:only-child::after {width: 0;}#sk-container-id-17 div.sk-dashed-wrapped {border: 1px dashed gray;margin: 0 0.4em 0.5em 0.4em;box-sizing: border-box;padding-bottom: 0.4em;background-color: white;}#sk-container-id-17 div.sk-label label {font-family: monospace;font-weight: bold;display: inline-block;line-height: 1.2em;}#sk-container-id-17 div.sk-label-container {text-align: center;}#sk-container-id-17 div.sk-container {/* jupyter's `normalize.less` sets `[hidden] { display: none; }` but bootstrap.min.css set `[hidden] { display: none !important; }` so we also need the `!important` here to be able to override the default hidden behavior on the sphinx rendered scikit-learn.org. See: https://github.com/scikit-learn/scikit-learn/issues/21755 */display: inline-block !important;position: relative;}#sk-container-id-17 div.sk-text-repr-fallback {display: none;}</style><div id=\"sk-container-id-17\" class=\"sk-top-container\"><div class=\"sk-text-repr-fallback\"><pre>MultinomialNB()</pre><b>In a Jupyter environment, please rerun this cell to show the HTML representation or trust the notebook. <br />On GitHub, the HTML representation is unable to render, please try loading this page with nbviewer.org.</b></div><div class=\"sk-container\" hidden><div class=\"sk-item\"><div class=\"sk-estimator sk-toggleable\"><input class=\"sk-toggleable__control sk-hidden--visually\" id=\"sk-estimator-id-25\" type=\"checkbox\" checked><label for=\"sk-estimator-id-25\" class=\"sk-toggleable__label sk-toggleable__label-arrow\">MultinomialNB</label><div class=\"sk-toggleable__content\"><pre>MultinomialNB()</pre></div></div></div></div></div>"
      ],
      "text/plain": [
       "MultinomialNB()"
      ]
     },
     "execution_count": 271,
     "metadata": {},
     "output_type": "execute_result"
    }
   ],
   "source": [
    "# instantiate and train Naive Bayes model\n",
    "nb_model_df = MultinomialNB()\n",
    "nb_model_df.fit(X_train_df, y_train_encoded_df)"
   ]
  },
  {
   "cell_type": "code",
   "execution_count": 272,
   "id": "7f6b7eae",
   "metadata": {},
   "outputs": [
    {
     "data": {
      "text/html": [
       "<style>#sk-container-id-18 {color: black;}#sk-container-id-18 pre{padding: 0;}#sk-container-id-18 div.sk-toggleable {background-color: white;}#sk-container-id-18 label.sk-toggleable__label {cursor: pointer;display: block;width: 100%;margin-bottom: 0;padding: 0.3em;box-sizing: border-box;text-align: center;}#sk-container-id-18 label.sk-toggleable__label-arrow:before {content: \"▸\";float: left;margin-right: 0.25em;color: #696969;}#sk-container-id-18 label.sk-toggleable__label-arrow:hover:before {color: black;}#sk-container-id-18 div.sk-estimator:hover label.sk-toggleable__label-arrow:before {color: black;}#sk-container-id-18 div.sk-toggleable__content {max-height: 0;max-width: 0;overflow: hidden;text-align: left;background-color: #f0f8ff;}#sk-container-id-18 div.sk-toggleable__content pre {margin: 0.2em;color: black;border-radius: 0.25em;background-color: #f0f8ff;}#sk-container-id-18 input.sk-toggleable__control:checked~div.sk-toggleable__content {max-height: 200px;max-width: 100%;overflow: auto;}#sk-container-id-18 input.sk-toggleable__control:checked~label.sk-toggleable__label-arrow:before {content: \"▾\";}#sk-container-id-18 div.sk-estimator input.sk-toggleable__control:checked~label.sk-toggleable__label {background-color: #d4ebff;}#sk-container-id-18 div.sk-label input.sk-toggleable__control:checked~label.sk-toggleable__label {background-color: #d4ebff;}#sk-container-id-18 input.sk-hidden--visually {border: 0;clip: rect(1px 1px 1px 1px);clip: rect(1px, 1px, 1px, 1px);height: 1px;margin: -1px;overflow: hidden;padding: 0;position: absolute;width: 1px;}#sk-container-id-18 div.sk-estimator {font-family: monospace;background-color: #f0f8ff;border: 1px dotted black;border-radius: 0.25em;box-sizing: border-box;margin-bottom: 0.5em;}#sk-container-id-18 div.sk-estimator:hover {background-color: #d4ebff;}#sk-container-id-18 div.sk-parallel-item::after {content: \"\";width: 100%;border-bottom: 1px solid gray;flex-grow: 1;}#sk-container-id-18 div.sk-label:hover label.sk-toggleable__label {background-color: #d4ebff;}#sk-container-id-18 div.sk-serial::before {content: \"\";position: absolute;border-left: 1px solid gray;box-sizing: border-box;top: 0;bottom: 0;left: 50%;z-index: 0;}#sk-container-id-18 div.sk-serial {display: flex;flex-direction: column;align-items: center;background-color: white;padding-right: 0.2em;padding-left: 0.2em;position: relative;}#sk-container-id-18 div.sk-item {position: relative;z-index: 1;}#sk-container-id-18 div.sk-parallel {display: flex;align-items: stretch;justify-content: center;background-color: white;position: relative;}#sk-container-id-18 div.sk-item::before, #sk-container-id-18 div.sk-parallel-item::before {content: \"\";position: absolute;border-left: 1px solid gray;box-sizing: border-box;top: 0;bottom: 0;left: 50%;z-index: -1;}#sk-container-id-18 div.sk-parallel-item {display: flex;flex-direction: column;z-index: 1;position: relative;background-color: white;}#sk-container-id-18 div.sk-parallel-item:first-child::after {align-self: flex-end;width: 50%;}#sk-container-id-18 div.sk-parallel-item:last-child::after {align-self: flex-start;width: 50%;}#sk-container-id-18 div.sk-parallel-item:only-child::after {width: 0;}#sk-container-id-18 div.sk-dashed-wrapped {border: 1px dashed gray;margin: 0 0.4em 0.5em 0.4em;box-sizing: border-box;padding-bottom: 0.4em;background-color: white;}#sk-container-id-18 div.sk-label label {font-family: monospace;font-weight: bold;display: inline-block;line-height: 1.2em;}#sk-container-id-18 div.sk-label-container {text-align: center;}#sk-container-id-18 div.sk-container {/* jupyter's `normalize.less` sets `[hidden] { display: none; }` but bootstrap.min.css set `[hidden] { display: none !important; }` so we also need the `!important` here to be able to override the default hidden behavior on the sphinx rendered scikit-learn.org. See: https://github.com/scikit-learn/scikit-learn/issues/21755 */display: inline-block !important;position: relative;}#sk-container-id-18 div.sk-text-repr-fallback {display: none;}</style><div id=\"sk-container-id-18\" class=\"sk-top-container\"><div class=\"sk-text-repr-fallback\"><pre>GridSearchCV(cv=10, estimator=MultinomialNB(),\n",
       "             param_grid={&#x27;alpha&#x27;: [0.01, 0.1, 0.5, 1.0, 10.0, 100.0]})</pre><b>In a Jupyter environment, please rerun this cell to show the HTML representation or trust the notebook. <br />On GitHub, the HTML representation is unable to render, please try loading this page with nbviewer.org.</b></div><div class=\"sk-container\" hidden><div class=\"sk-item sk-dashed-wrapped\"><div class=\"sk-label-container\"><div class=\"sk-label sk-toggleable\"><input class=\"sk-toggleable__control sk-hidden--visually\" id=\"sk-estimator-id-26\" type=\"checkbox\" ><label for=\"sk-estimator-id-26\" class=\"sk-toggleable__label sk-toggleable__label-arrow\">GridSearchCV</label><div class=\"sk-toggleable__content\"><pre>GridSearchCV(cv=10, estimator=MultinomialNB(),\n",
       "             param_grid={&#x27;alpha&#x27;: [0.01, 0.1, 0.5, 1.0, 10.0, 100.0]})</pre></div></div></div><div class=\"sk-parallel\"><div class=\"sk-parallel-item\"><div class=\"sk-item\"><div class=\"sk-label-container\"><div class=\"sk-label sk-toggleable\"><input class=\"sk-toggleable__control sk-hidden--visually\" id=\"sk-estimator-id-27\" type=\"checkbox\" ><label for=\"sk-estimator-id-27\" class=\"sk-toggleable__label sk-toggleable__label-arrow\">estimator: MultinomialNB</label><div class=\"sk-toggleable__content\"><pre>MultinomialNB()</pre></div></div></div><div class=\"sk-serial\"><div class=\"sk-item\"><div class=\"sk-estimator sk-toggleable\"><input class=\"sk-toggleable__control sk-hidden--visually\" id=\"sk-estimator-id-28\" type=\"checkbox\" ><label for=\"sk-estimator-id-28\" class=\"sk-toggleable__label sk-toggleable__label-arrow\">MultinomialNB</label><div class=\"sk-toggleable__content\"><pre>MultinomialNB()</pre></div></div></div></div></div></div></div></div></div></div>"
      ],
      "text/plain": [
       "GridSearchCV(cv=10, estimator=MultinomialNB(),\n",
       "             param_grid={'alpha': [0.01, 0.1, 0.5, 1.0, 10.0, 100.0]})"
      ]
     },
     "execution_count": 272,
     "metadata": {},
     "output_type": "execute_result"
    }
   ],
   "source": [
    "# perform Grid Search\n",
    "param = {\"alpha\": [0.01, 0.1, 0.5, 1.0, 10.0, 100.0]}\n",
    "nb_model_cv_df = GridSearchCV(MultinomialNB(), param, cv=10)\n",
    "nb_model_cv_df.fit(X_train_df, y_train_encoded_df)"
   ]
  },
  {
   "cell_type": "code",
   "execution_count": 273,
   "id": "a23453ec",
   "metadata": {},
   "outputs": [
    {
     "name": "stdout",
     "output_type": "stream",
     "text": [
      "Best Parameters: 0.01\n",
      "Test Accuracy: 0.5363984674329502\n",
      "Train Accuracy: 0.4900990099009901\n"
     ]
    }
   ],
   "source": [
    "# evaluate on test set\n",
    "test_accuracy_df = nb_model_cv_df.best_estimator_.score(X_test_df, y_test_encoded_df)\n",
    "train_accuracy_df = nb_model_cv_df.best_estimator_.score(X_train_df, y_train_encoded_df)\n",
    "print(f\"Best Parameters: {nb_model_cv_df.best_params_['alpha']}\")\n",
    "print(f\"Test Accuracy: {test_accuracy_df}\")\n",
    "print(f\"Train Accuracy: {train_accuracy_df}\")"
   ]
  },
  {
   "cell_type": "code",
   "execution_count": 274,
   "id": "a6a8e923",
   "metadata": {},
   "outputs": [
    {
     "name": "stdout",
     "output_type": "stream",
     "text": [
      "Naive Bayes Cross-Validation Scores: [0.42622951 0.49586777 0.47107438 0.47933884 0.52892562]\n",
      "Naive Bayes Average of All Folds: 0.48028722395339385\n"
     ]
    }
   ],
   "source": [
    "# Cross-Validation Scores wiht k=5\n",
    "k = 5\n",
    "cross_val_df = KFold(n_splits=k, shuffle=True, random_state=42)\n",
    "scores_df = cross_val_score(nb_model_df, X_train_df, y_train_encoded_df, cv=cross_val_df)\n",
    "print(\"Naive Bayes Cross-Validation Scores:\", scores_df)\n",
    "print(\"Naive Bayes Average of All Folds:\", scores_df.mean())"
   ]
  },
  {
   "cell_type": "markdown",
   "id": "332a0c0d",
   "metadata": {},
   "source": [
    "### Food Access"
   ]
  },
  {
   "cell_type": "code",
   "execution_count": 275,
   "id": "e7cc94d1",
   "metadata": {},
   "outputs": [],
   "source": [
    "# transform y using LabelEncoder\n",
    "le_fa = LabelEncoder()\n",
    "y_train_encoded_fa = le_fa.fit_transform(y_train_fa)\n",
    "y_test_encoded_fa = le_fa.transform(y_test_fa)"
   ]
  },
  {
   "cell_type": "code",
   "execution_count": 276,
   "id": "e615a2a0",
   "metadata": {},
   "outputs": [
    {
     "data": {
      "text/html": [
       "<style>#sk-container-id-19 {color: black;}#sk-container-id-19 pre{padding: 0;}#sk-container-id-19 div.sk-toggleable {background-color: white;}#sk-container-id-19 label.sk-toggleable__label {cursor: pointer;display: block;width: 100%;margin-bottom: 0;padding: 0.3em;box-sizing: border-box;text-align: center;}#sk-container-id-19 label.sk-toggleable__label-arrow:before {content: \"▸\";float: left;margin-right: 0.25em;color: #696969;}#sk-container-id-19 label.sk-toggleable__label-arrow:hover:before {color: black;}#sk-container-id-19 div.sk-estimator:hover label.sk-toggleable__label-arrow:before {color: black;}#sk-container-id-19 div.sk-toggleable__content {max-height: 0;max-width: 0;overflow: hidden;text-align: left;background-color: #f0f8ff;}#sk-container-id-19 div.sk-toggleable__content pre {margin: 0.2em;color: black;border-radius: 0.25em;background-color: #f0f8ff;}#sk-container-id-19 input.sk-toggleable__control:checked~div.sk-toggleable__content {max-height: 200px;max-width: 100%;overflow: auto;}#sk-container-id-19 input.sk-toggleable__control:checked~label.sk-toggleable__label-arrow:before {content: \"▾\";}#sk-container-id-19 div.sk-estimator input.sk-toggleable__control:checked~label.sk-toggleable__label {background-color: #d4ebff;}#sk-container-id-19 div.sk-label input.sk-toggleable__control:checked~label.sk-toggleable__label {background-color: #d4ebff;}#sk-container-id-19 input.sk-hidden--visually {border: 0;clip: rect(1px 1px 1px 1px);clip: rect(1px, 1px, 1px, 1px);height: 1px;margin: -1px;overflow: hidden;padding: 0;position: absolute;width: 1px;}#sk-container-id-19 div.sk-estimator {font-family: monospace;background-color: #f0f8ff;border: 1px dotted black;border-radius: 0.25em;box-sizing: border-box;margin-bottom: 0.5em;}#sk-container-id-19 div.sk-estimator:hover {background-color: #d4ebff;}#sk-container-id-19 div.sk-parallel-item::after {content: \"\";width: 100%;border-bottom: 1px solid gray;flex-grow: 1;}#sk-container-id-19 div.sk-label:hover label.sk-toggleable__label {background-color: #d4ebff;}#sk-container-id-19 div.sk-serial::before {content: \"\";position: absolute;border-left: 1px solid gray;box-sizing: border-box;top: 0;bottom: 0;left: 50%;z-index: 0;}#sk-container-id-19 div.sk-serial {display: flex;flex-direction: column;align-items: center;background-color: white;padding-right: 0.2em;padding-left: 0.2em;position: relative;}#sk-container-id-19 div.sk-item {position: relative;z-index: 1;}#sk-container-id-19 div.sk-parallel {display: flex;align-items: stretch;justify-content: center;background-color: white;position: relative;}#sk-container-id-19 div.sk-item::before, #sk-container-id-19 div.sk-parallel-item::before {content: \"\";position: absolute;border-left: 1px solid gray;box-sizing: border-box;top: 0;bottom: 0;left: 50%;z-index: -1;}#sk-container-id-19 div.sk-parallel-item {display: flex;flex-direction: column;z-index: 1;position: relative;background-color: white;}#sk-container-id-19 div.sk-parallel-item:first-child::after {align-self: flex-end;width: 50%;}#sk-container-id-19 div.sk-parallel-item:last-child::after {align-self: flex-start;width: 50%;}#sk-container-id-19 div.sk-parallel-item:only-child::after {width: 0;}#sk-container-id-19 div.sk-dashed-wrapped {border: 1px dashed gray;margin: 0 0.4em 0.5em 0.4em;box-sizing: border-box;padding-bottom: 0.4em;background-color: white;}#sk-container-id-19 div.sk-label label {font-family: monospace;font-weight: bold;display: inline-block;line-height: 1.2em;}#sk-container-id-19 div.sk-label-container {text-align: center;}#sk-container-id-19 div.sk-container {/* jupyter's `normalize.less` sets `[hidden] { display: none; }` but bootstrap.min.css set `[hidden] { display: none !important; }` so we also need the `!important` here to be able to override the default hidden behavior on the sphinx rendered scikit-learn.org. See: https://github.com/scikit-learn/scikit-learn/issues/21755 */display: inline-block !important;position: relative;}#sk-container-id-19 div.sk-text-repr-fallback {display: none;}</style><div id=\"sk-container-id-19\" class=\"sk-top-container\"><div class=\"sk-text-repr-fallback\"><pre>MultinomialNB()</pre><b>In a Jupyter environment, please rerun this cell to show the HTML representation or trust the notebook. <br />On GitHub, the HTML representation is unable to render, please try loading this page with nbviewer.org.</b></div><div class=\"sk-container\" hidden><div class=\"sk-item\"><div class=\"sk-estimator sk-toggleable\"><input class=\"sk-toggleable__control sk-hidden--visually\" id=\"sk-estimator-id-29\" type=\"checkbox\" checked><label for=\"sk-estimator-id-29\" class=\"sk-toggleable__label sk-toggleable__label-arrow\">MultinomialNB</label><div class=\"sk-toggleable__content\"><pre>MultinomialNB()</pre></div></div></div></div></div>"
      ],
      "text/plain": [
       "MultinomialNB()"
      ]
     },
     "execution_count": 276,
     "metadata": {},
     "output_type": "execute_result"
    }
   ],
   "source": [
    "# instantiate and train Naive Bayes model\n",
    "nb_model_fa = MultinomialNB()\n",
    "nb_model_fa.fit(X_train_fa, y_train_encoded_fa)"
   ]
  },
  {
   "cell_type": "code",
   "execution_count": 277,
   "id": "6364c072",
   "metadata": {},
   "outputs": [
    {
     "data": {
      "text/html": [
       "<style>#sk-container-id-20 {color: black;}#sk-container-id-20 pre{padding: 0;}#sk-container-id-20 div.sk-toggleable {background-color: white;}#sk-container-id-20 label.sk-toggleable__label {cursor: pointer;display: block;width: 100%;margin-bottom: 0;padding: 0.3em;box-sizing: border-box;text-align: center;}#sk-container-id-20 label.sk-toggleable__label-arrow:before {content: \"▸\";float: left;margin-right: 0.25em;color: #696969;}#sk-container-id-20 label.sk-toggleable__label-arrow:hover:before {color: black;}#sk-container-id-20 div.sk-estimator:hover label.sk-toggleable__label-arrow:before {color: black;}#sk-container-id-20 div.sk-toggleable__content {max-height: 0;max-width: 0;overflow: hidden;text-align: left;background-color: #f0f8ff;}#sk-container-id-20 div.sk-toggleable__content pre {margin: 0.2em;color: black;border-radius: 0.25em;background-color: #f0f8ff;}#sk-container-id-20 input.sk-toggleable__control:checked~div.sk-toggleable__content {max-height: 200px;max-width: 100%;overflow: auto;}#sk-container-id-20 input.sk-toggleable__control:checked~label.sk-toggleable__label-arrow:before {content: \"▾\";}#sk-container-id-20 div.sk-estimator input.sk-toggleable__control:checked~label.sk-toggleable__label {background-color: #d4ebff;}#sk-container-id-20 div.sk-label input.sk-toggleable__control:checked~label.sk-toggleable__label {background-color: #d4ebff;}#sk-container-id-20 input.sk-hidden--visually {border: 0;clip: rect(1px 1px 1px 1px);clip: rect(1px, 1px, 1px, 1px);height: 1px;margin: -1px;overflow: hidden;padding: 0;position: absolute;width: 1px;}#sk-container-id-20 div.sk-estimator {font-family: monospace;background-color: #f0f8ff;border: 1px dotted black;border-radius: 0.25em;box-sizing: border-box;margin-bottom: 0.5em;}#sk-container-id-20 div.sk-estimator:hover {background-color: #d4ebff;}#sk-container-id-20 div.sk-parallel-item::after {content: \"\";width: 100%;border-bottom: 1px solid gray;flex-grow: 1;}#sk-container-id-20 div.sk-label:hover label.sk-toggleable__label {background-color: #d4ebff;}#sk-container-id-20 div.sk-serial::before {content: \"\";position: absolute;border-left: 1px solid gray;box-sizing: border-box;top: 0;bottom: 0;left: 50%;z-index: 0;}#sk-container-id-20 div.sk-serial {display: flex;flex-direction: column;align-items: center;background-color: white;padding-right: 0.2em;padding-left: 0.2em;position: relative;}#sk-container-id-20 div.sk-item {position: relative;z-index: 1;}#sk-container-id-20 div.sk-parallel {display: flex;align-items: stretch;justify-content: center;background-color: white;position: relative;}#sk-container-id-20 div.sk-item::before, #sk-container-id-20 div.sk-parallel-item::before {content: \"\";position: absolute;border-left: 1px solid gray;box-sizing: border-box;top: 0;bottom: 0;left: 50%;z-index: -1;}#sk-container-id-20 div.sk-parallel-item {display: flex;flex-direction: column;z-index: 1;position: relative;background-color: white;}#sk-container-id-20 div.sk-parallel-item:first-child::after {align-self: flex-end;width: 50%;}#sk-container-id-20 div.sk-parallel-item:last-child::after {align-self: flex-start;width: 50%;}#sk-container-id-20 div.sk-parallel-item:only-child::after {width: 0;}#sk-container-id-20 div.sk-dashed-wrapped {border: 1px dashed gray;margin: 0 0.4em 0.5em 0.4em;box-sizing: border-box;padding-bottom: 0.4em;background-color: white;}#sk-container-id-20 div.sk-label label {font-family: monospace;font-weight: bold;display: inline-block;line-height: 1.2em;}#sk-container-id-20 div.sk-label-container {text-align: center;}#sk-container-id-20 div.sk-container {/* jupyter's `normalize.less` sets `[hidden] { display: none; }` but bootstrap.min.css set `[hidden] { display: none !important; }` so we also need the `!important` here to be able to override the default hidden behavior on the sphinx rendered scikit-learn.org. See: https://github.com/scikit-learn/scikit-learn/issues/21755 */display: inline-block !important;position: relative;}#sk-container-id-20 div.sk-text-repr-fallback {display: none;}</style><div id=\"sk-container-id-20\" class=\"sk-top-container\"><div class=\"sk-text-repr-fallback\"><pre>GridSearchCV(cv=10, estimator=MultinomialNB(),\n",
       "             param_grid={&#x27;alpha&#x27;: [0.01, 0.1, 0.5, 1.0, 10.0, 100.0]})</pre><b>In a Jupyter environment, please rerun this cell to show the HTML representation or trust the notebook. <br />On GitHub, the HTML representation is unable to render, please try loading this page with nbviewer.org.</b></div><div class=\"sk-container\" hidden><div class=\"sk-item sk-dashed-wrapped\"><div class=\"sk-label-container\"><div class=\"sk-label sk-toggleable\"><input class=\"sk-toggleable__control sk-hidden--visually\" id=\"sk-estimator-id-30\" type=\"checkbox\" ><label for=\"sk-estimator-id-30\" class=\"sk-toggleable__label sk-toggleable__label-arrow\">GridSearchCV</label><div class=\"sk-toggleable__content\"><pre>GridSearchCV(cv=10, estimator=MultinomialNB(),\n",
       "             param_grid={&#x27;alpha&#x27;: [0.01, 0.1, 0.5, 1.0, 10.0, 100.0]})</pre></div></div></div><div class=\"sk-parallel\"><div class=\"sk-parallel-item\"><div class=\"sk-item\"><div class=\"sk-label-container\"><div class=\"sk-label sk-toggleable\"><input class=\"sk-toggleable__control sk-hidden--visually\" id=\"sk-estimator-id-31\" type=\"checkbox\" ><label for=\"sk-estimator-id-31\" class=\"sk-toggleable__label sk-toggleable__label-arrow\">estimator: MultinomialNB</label><div class=\"sk-toggleable__content\"><pre>MultinomialNB()</pre></div></div></div><div class=\"sk-serial\"><div class=\"sk-item\"><div class=\"sk-estimator sk-toggleable\"><input class=\"sk-toggleable__control sk-hidden--visually\" id=\"sk-estimator-id-32\" type=\"checkbox\" ><label for=\"sk-estimator-id-32\" class=\"sk-toggleable__label sk-toggleable__label-arrow\">MultinomialNB</label><div class=\"sk-toggleable__content\"><pre>MultinomialNB()</pre></div></div></div></div></div></div></div></div></div></div>"
      ],
      "text/plain": [
       "GridSearchCV(cv=10, estimator=MultinomialNB(),\n",
       "             param_grid={'alpha': [0.01, 0.1, 0.5, 1.0, 10.0, 100.0]})"
      ]
     },
     "execution_count": 277,
     "metadata": {},
     "output_type": "execute_result"
    }
   ],
   "source": [
    "# perform Grid Search\n",
    "param = {\"alpha\": [0.01, 0.1, 0.5, 1.0, 10.0, 100.0]}\n",
    "nb_model_cv_fa = GridSearchCV(MultinomialNB(), param, cv=10)\n",
    "nb_model_cv_fa.fit(X_train_fa, y_train_encoded_fa)"
   ]
  },
  {
   "cell_type": "code",
   "execution_count": 278,
   "id": "b16ff9dc",
   "metadata": {},
   "outputs": [
    {
     "name": "stdout",
     "output_type": "stream",
     "text": [
      "Best Parameters: 100.0\n",
      "Test Accuracy: 0.5402298850574713\n",
      "Train Accuracy: 0.4801980198019802\n"
     ]
    }
   ],
   "source": [
    "# evaluate on test set\n",
    "test_accuracy_fa = nb_model_cv_fa.best_estimator_.score(X_test_fa, y_test_encoded_fa)\n",
    "train_accuracy_fa = nb_model_cv_fa.best_estimator_.score(X_train_fa, y_train_encoded_fa)\n",
    "print(f\"Best Parameters: {nb_model_cv_fa.best_params_['alpha']}\")\n",
    "print(f\"Test Accuracy: {test_accuracy_fa}\")\n",
    "print(f\"Train Accuracy: {train_accuracy_fa}\")"
   ]
  },
  {
   "cell_type": "code",
   "execution_count": 279,
   "id": "36554432",
   "metadata": {},
   "outputs": [
    {
     "name": "stdout",
     "output_type": "stream",
     "text": [
      "Naive Bayes Cross-Validation Scores: [0.45081967 0.50413223 0.44628099 0.48760331 0.51239669]\n",
      "Naive Bayes Average of All Folds: 0.48024657905432866\n"
     ]
    }
   ],
   "source": [
    "# Cross-Validation Scores wiht k=5\n",
    "k = 5\n",
    "cross_val_fa = KFold(n_splits=k, shuffle=True, random_state=42)\n",
    "scores_fa = cross_val_score(nb_model_fa, X_train_fa, y_train_encoded_fa, cv=cross_val_fa)\n",
    "print(\"Naive Bayes Cross-Validation Scores:\", scores_fa)\n",
    "print(\"Naive Bayes Average of All Folds:\", scores_fa.mean())"
   ]
  },
  {
   "cell_type": "code",
   "execution_count": null,
   "id": "c4c739d5",
   "metadata": {},
   "outputs": [],
   "source": []
  },
  {
   "cell_type": "code",
   "execution_count": null,
   "id": "902b13f6",
   "metadata": {},
   "outputs": [],
   "source": []
  },
  {
   "cell_type": "code",
   "execution_count": null,
   "id": "d2260252",
   "metadata": {},
   "outputs": [],
   "source": []
  },
  {
   "cell_type": "code",
   "execution_count": null,
   "id": "52ceab5a",
   "metadata": {},
   "outputs": [],
   "source": []
  },
  {
   "cell_type": "code",
   "execution_count": null,
   "id": "adf6b2b0",
   "metadata": {},
   "outputs": [],
   "source": []
  },
  {
   "cell_type": "code",
   "execution_count": null,
   "id": "bb672e1c",
   "metadata": {},
   "outputs": [],
   "source": []
  },
  {
   "cell_type": "code",
   "execution_count": null,
   "id": "61d34184",
   "metadata": {},
   "outputs": [],
   "source": []
  }
 ],
 "metadata": {
  "kernelspec": {
   "display_name": "Python 3 (ipykernel)",
   "language": "python",
   "name": "python3"
  },
  "language_info": {
   "codemirror_mode": {
    "name": "ipython",
    "version": 3
   },
   "file_extension": ".py",
   "mimetype": "text/x-python",
   "name": "python",
   "nbconvert_exporter": "python",
   "pygments_lexer": "ipython3",
   "version": "3.11.4"
  }
 },
 "nbformat": 4,
 "nbformat_minor": 5
}
