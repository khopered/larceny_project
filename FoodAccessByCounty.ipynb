{
 "cells": [
  {
   "cell_type": "code",
   "execution_count": 2,
   "id": "8967c51d",
   "metadata": {},
   "outputs": [],
   "source": [
    "import pandas as pd"
   ]
  },
  {
   "cell_type": "code",
   "execution_count": 3,
   "id": "ae047ac1",
   "metadata": {},
   "outputs": [],
   "source": [
    "food_data = pd.read_csv('foodDesertLocator2006.csv')"
   ]
  },
  {
   "cell_type": "code",
   "execution_count": 5,
   "id": "b7199b33",
   "metadata": {},
   "outputs": [],
   "source": [
    "# fix leading zeros in 'TRACT_FIPS' and ensure it's a string\n",
    "food_data['Tract_FIPS'] = food_data['Tract_FIPS'].astype(str).str.zfill(11)"
   ]
  },
  {
   "cell_type": "code",
   "execution_count": 6,
   "id": "921eecf7",
   "metadata": {},
   "outputs": [],
   "source": [
    "# extract the 5-digit County FIPS from the 11-digit Tract FIPS\n",
    "food_data['county_fips'] = food_data['Tract_FIPS'].str[:5]"
   ]
  },
  {
   "cell_type": "code",
   "execution_count": 12,
   "id": "42ac9fed",
   "metadata": {},
   "outputs": [],
   "source": [
    "# compute weighted averages for each county\n",
    "county_food_data = (\n",
    "    food_data\n",
    "    .groupby(['county_fips', 'CountyName', 'State'])  # groupby the extracted County FIPS\n",
    "    .apply(\n",
    "        lambda x: pd.Series({\n",
    "            'total_population': x['TOTALPOP'].sum(),\n",
    "            'weighted_low_access': (x['TOTALPOP'] * x['PERCENT_LOWA_Pop']).sum() / x['TOTALPOP'].sum(),\n",
    "            'weighted_low_income_access': (x['TOTALPOP'] * x['PERCENT_LOWI']).sum() / x['TOTALPOP'].sum()\n",
    "        })\n",
    "    )\n",
    "    .reset_index()  # reset index to make 'county_fips' a column again\n",
    ")"
   ]
  },
  {
   "cell_type": "code",
   "execution_count": 13,
   "id": "6e153c6e",
   "metadata": {},
   "outputs": [
    {
     "data": {
      "text/html": [
       "<div>\n",
       "<style scoped>\n",
       "    .dataframe tbody tr th:only-of-type {\n",
       "        vertical-align: middle;\n",
       "    }\n",
       "\n",
       "    .dataframe tbody tr th {\n",
       "        vertical-align: top;\n",
       "    }\n",
       "\n",
       "    .dataframe thead th {\n",
       "        text-align: right;\n",
       "    }\n",
       "</style>\n",
       "<table border=\"1\" class=\"dataframe\">\n",
       "  <thead>\n",
       "    <tr style=\"text-align: right;\">\n",
       "      <th></th>\n",
       "      <th>county_fips</th>\n",
       "      <th>CountyName</th>\n",
       "      <th>State</th>\n",
       "      <th>total_population</th>\n",
       "      <th>weighted_low_access</th>\n",
       "      <th>weighted_low_income_access</th>\n",
       "    </tr>\n",
       "  </thead>\n",
       "  <tbody>\n",
       "    <tr>\n",
       "      <th>0</th>\n",
       "      <td>01001</td>\n",
       "      <td>Autauga</td>\n",
       "      <td>AL</td>\n",
       "      <td>4874.0</td>\n",
       "      <td>53.260812</td>\n",
       "      <td>11.651908</td>\n",
       "    </tr>\n",
       "    <tr>\n",
       "      <th>1</th>\n",
       "      <td>01003</td>\n",
       "      <td>Baldwin</td>\n",
       "      <td>AL</td>\n",
       "      <td>3724.0</td>\n",
       "      <td>44.200000</td>\n",
       "      <td>10.300000</td>\n",
       "    </tr>\n",
       "    <tr>\n",
       "      <th>2</th>\n",
       "      <td>01005</td>\n",
       "      <td>Barbour</td>\n",
       "      <td>AL</td>\n",
       "      <td>12959.0</td>\n",
       "      <td>21.931206</td>\n",
       "      <td>6.238730</td>\n",
       "    </tr>\n",
       "    <tr>\n",
       "      <th>3</th>\n",
       "      <td>01011</td>\n",
       "      <td>Bullock</td>\n",
       "      <td>AL</td>\n",
       "      <td>3523.0</td>\n",
       "      <td>61.961993</td>\n",
       "      <td>20.863497</td>\n",
       "    </tr>\n",
       "    <tr>\n",
       "      <th>4</th>\n",
       "      <td>01013</td>\n",
       "      <td>Butler</td>\n",
       "      <td>AL</td>\n",
       "      <td>1693.0</td>\n",
       "      <td>42.700000</td>\n",
       "      <td>10.900000</td>\n",
       "    </tr>\n",
       "  </tbody>\n",
       "</table>\n",
       "</div>"
      ],
      "text/plain": [
       "  county_fips CountyName State  total_population  weighted_low_access  \\\n",
       "0       01001    Autauga    AL            4874.0            53.260812   \n",
       "1       01003    Baldwin    AL            3724.0            44.200000   \n",
       "2       01005    Barbour    AL           12959.0            21.931206   \n",
       "3       01011    Bullock    AL            3523.0            61.961993   \n",
       "4       01013     Butler    AL            1693.0            42.700000   \n",
       "\n",
       "   weighted_low_income_access  \n",
       "0                   11.651908  \n",
       "1                   10.300000  \n",
       "2                    6.238730  \n",
       "3                   20.863497  \n",
       "4                   10.900000  "
      ]
     },
     "execution_count": 13,
     "metadata": {},
     "output_type": "execute_result"
    }
   ],
   "source": [
    "county_food_data.head()"
   ]
  },
  {
   "cell_type": "code",
   "execution_count": 14,
   "id": "0775b66d",
   "metadata": {},
   "outputs": [],
   "source": [
    "# round the weighted averages to 2 decimal places\n",
    "county_food_data['weighted_low_access'] = county_food_data['weighted_low_access'].round(2)\n",
    "county_food_data['weighted_low_income_access'] = county_food_data['weighted_low_income_access'].round(2)"
   ]
  },
  {
   "cell_type": "code",
   "execution_count": 15,
   "id": "ad8fa167",
   "metadata": {},
   "outputs": [
    {
     "data": {
      "text/html": [
       "<div>\n",
       "<style scoped>\n",
       "    .dataframe tbody tr th:only-of-type {\n",
       "        vertical-align: middle;\n",
       "    }\n",
       "\n",
       "    .dataframe tbody tr th {\n",
       "        vertical-align: top;\n",
       "    }\n",
       "\n",
       "    .dataframe thead th {\n",
       "        text-align: right;\n",
       "    }\n",
       "</style>\n",
       "<table border=\"1\" class=\"dataframe\">\n",
       "  <thead>\n",
       "    <tr style=\"text-align: right;\">\n",
       "      <th></th>\n",
       "      <th>county_fips</th>\n",
       "      <th>CountyName</th>\n",
       "      <th>State</th>\n",
       "      <th>total_population</th>\n",
       "      <th>weighted_low_access</th>\n",
       "      <th>weighted_low_income_access</th>\n",
       "    </tr>\n",
       "  </thead>\n",
       "  <tbody>\n",
       "    <tr>\n",
       "      <th>0</th>\n",
       "      <td>01001</td>\n",
       "      <td>Autauga</td>\n",
       "      <td>AL</td>\n",
       "      <td>4874.0</td>\n",
       "      <td>53.26</td>\n",
       "      <td>11.65</td>\n",
       "    </tr>\n",
       "    <tr>\n",
       "      <th>1</th>\n",
       "      <td>01003</td>\n",
       "      <td>Baldwin</td>\n",
       "      <td>AL</td>\n",
       "      <td>3724.0</td>\n",
       "      <td>44.20</td>\n",
       "      <td>10.30</td>\n",
       "    </tr>\n",
       "    <tr>\n",
       "      <th>2</th>\n",
       "      <td>01005</td>\n",
       "      <td>Barbour</td>\n",
       "      <td>AL</td>\n",
       "      <td>12959.0</td>\n",
       "      <td>21.93</td>\n",
       "      <td>6.24</td>\n",
       "    </tr>\n",
       "    <tr>\n",
       "      <th>3</th>\n",
       "      <td>01011</td>\n",
       "      <td>Bullock</td>\n",
       "      <td>AL</td>\n",
       "      <td>3523.0</td>\n",
       "      <td>61.96</td>\n",
       "      <td>20.86</td>\n",
       "    </tr>\n",
       "    <tr>\n",
       "      <th>4</th>\n",
       "      <td>01013</td>\n",
       "      <td>Butler</td>\n",
       "      <td>AL</td>\n",
       "      <td>1693.0</td>\n",
       "      <td>42.70</td>\n",
       "      <td>10.90</td>\n",
       "    </tr>\n",
       "  </tbody>\n",
       "</table>\n",
       "</div>"
      ],
      "text/plain": [
       "  county_fips CountyName State  total_population  weighted_low_access  \\\n",
       "0       01001    Autauga    AL            4874.0                53.26   \n",
       "1       01003    Baldwin    AL            3724.0                44.20   \n",
       "2       01005    Barbour    AL           12959.0                21.93   \n",
       "3       01011    Bullock    AL            3523.0                61.96   \n",
       "4       01013     Butler    AL            1693.0                42.70   \n",
       "\n",
       "   weighted_low_income_access  \n",
       "0                       11.65  \n",
       "1                       10.30  \n",
       "2                        6.24  \n",
       "3                       20.86  \n",
       "4                       10.90  "
      ]
     },
     "execution_count": 15,
     "metadata": {},
     "output_type": "execute_result"
    }
   ],
   "source": [
    "county_food_data.head()"
   ]
  },
  {
   "cell_type": "code",
   "execution_count": 16,
   "id": "a8386f43",
   "metadata": {},
   "outputs": [
    {
     "data": {
      "text/plain": [
       "(1851, 6)"
      ]
     },
     "execution_count": 16,
     "metadata": {},
     "output_type": "execute_result"
    }
   ],
   "source": [
    "county_food_data.shape"
   ]
  },
  {
   "cell_type": "code",
   "execution_count": 17,
   "id": "a728926c",
   "metadata": {},
   "outputs": [],
   "source": [
    "# Save the processed county-level dataset for validation or merging\n",
    "county_food_data.to_csv('county_food_data.csv', index=False)"
   ]
  },
  {
   "cell_type": "code",
   "execution_count": null,
   "id": "6316d4d9",
   "metadata": {},
   "outputs": [],
   "source": []
  }
 ],
 "metadata": {
  "kernelspec": {
   "display_name": "Python 3 (ipykernel)",
   "language": "python",
   "name": "python3"
  },
  "language_info": {
   "codemirror_mode": {
    "name": "ipython",
    "version": 3
   },
   "file_extension": ".py",
   "mimetype": "text/x-python",
   "name": "python",
   "nbconvert_exporter": "python",
   "pygments_lexer": "ipython3",
   "version": "3.11.4"
  }
 },
 "nbformat": 4,
 "nbformat_minor": 5
}
